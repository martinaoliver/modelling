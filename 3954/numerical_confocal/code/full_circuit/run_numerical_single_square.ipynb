{
 "cells": [
  {
   "cell_type": "code",
   "execution_count": 1,
   "metadata": {},
   "outputs": [
    {
     "name": "stdout",
     "output_type": "stream",
     "text": [
      "{'ba': 0.01, 'bb': 0.01, 'bc': 0.01, 'bd': 0.01, 'be': 0.01, 'bf': 0.01, 'Va': 234.82043088667623, 'Vb': 458.6080757193134, 'Vc': 19.382421247197062, 'Vd': 22.946892435470495, 'Ve': 14.678734474845223, 'Vf': 354.93950361737353, 'kaa': 0.5175944708601402, 'kda': 0.44998838287145204, 'keb': 0.8778759694723844, 'kbd': 227.47446428966882, 'kce': 8.31637256648883, 'kfe': 0.14649491479470175, 'kee': 1.5736766774886048, 'mua': 0.04928906718711462, 'mulva': 0.09316032520780967, 'd_A': 2.0, 'd_B': 0.8, 'n': 2.0}\n"
     ]
    }
   ],
   "source": [
    "#############\n",
    "###paths#####\n",
    "#############\n",
    "import sys\n",
    "import os\n",
    "\n",
    "from importlib_metadata import distribution\n",
    "\n",
    "pwd = os.getcwd()\n",
    "modellingpath = pwd.rpartition(\"modelling\")[0] + pwd.rpartition(\"modelling\")[1] \n",
    "sys.path.append(modellingpath + '/lib')\n",
    "\n",
    "#############\n",
    "###Imports#####\n",
    "#############\n",
    "from numerical.adi_ca_function_openclosed_nodilution import adi_ca_openclosed_nodilution\n",
    "from numerical.plotting_numerical import *\n",
    "from numerical.adi_square_function_testRoozbeh import adi as adi\n",
    "from numerical.adi_square_function_testRoozbeh_numba import adi as adi_numba\n",
    "\n",
    "import numpy as np\n",
    "import pickle\n",
    "import matplotlib.pyplot as plt\n",
    "%matplotlib inline\n",
    "#############\n",
    "###execution parameters#####\n",
    "#############\n",
    "mechanism = 'fullcircuit'\n",
    "shape = 'ca'\n",
    "# parID = int(sys.argv[1])\n",
    "parID = 1\n",
    "\n",
    "circuit_n=2\n",
    "variant=9\n",
    "\n",
    "# folder = 'fullcircuit/1M_turingI'#'fullcircuit/1M'#'fullcircuit/1M_turingI'\n",
    "n_species = 2\n",
    "\n",
    "parametersets_n = 10 #1000000\n",
    "save_figure = False\n",
    "tqdm_disable = False #disable tqdm\n",
    "# boundarycoeff = float(sys.argv[6])\n",
    "boundarycoeff = 2\n",
    "seed=1;p_division=1#0.147#0.5\n",
    "\n",
    "# open parameter dictionaries\n",
    "lsa_df= pickle.load( open(modellingpath + '/3954/paper/input/parameterfiles/df_circuit%s_variant%s_%rparametersets.pkl'%(circuit_n,variant,parametersets_n), \"rb\" ) )\n",
    "par_dict = lsa_df.loc[parID].to_dict()\n",
    "# par_dict = general_df.iloc[parID].to_dict()\n",
    "\n",
    "d_A = par_dict['d_A']\n",
    "d_B = par_dict['d_B']\n",
    "\n",
    "D = np.zeros(n_species)\n",
    "D[0]=d_A\n",
    "D[1]=d_B\n",
    "print(par_dict)\n",
    "# par_dict['mulva'] = par_dict['mulva'] + np.log(2)*p_division\n",
    "\n",
    "\n",
    "#solver parameters\n",
    "# L_x=int(sys.argv[2]); x_gridpoints = int(sys.argv[3]); L=L_x; J = L*x_gridpoints;  L_y=L_x; I=J\n",
    "# T =int(sys.argv[4]); t_gridpoints = int(sys.argv[5]) ; N = T*t_gridpoints\n",
    "\n",
    "# L_x=1; x_gridpoints = 25; L=L_x; J = L*x_gridpoints;  L_y=L_x; I=J\n",
    "# T =120; t_gridpoints = 10 ; N = T*t_gridpoints\n",
    "\n",
    "L_x=1; x_gridpoints = 50; L=L_x; J = L*x_gridpoints;  L_y=L_x; I=J\n",
    "T =50; t_gridpoints =  int(1/0.09) ; N = T*t_gridpoints\n",
    "\n",
    "suggested_tgridpoints = x_gridpoints**2\n",
    "\n",
    "filename = 'circuit%r_variant%s_bc%s_%s_%sID%r_L%r_J%r_T%r_N%r'%(circuit_n,variant,boundarycoeff, shape,mechanism,parID,L,J,T,N)\n"
   ]
  },
  {
   "cell_type": "markdown",
   "metadata": {},
   "source": []
  },
  {
   "cell_type": "code",
   "execution_count": 2,
   "metadata": {},
   "outputs": [],
   "source": [
    "U_record,U_final = adi_numba(par_dict,L_x,L_y,J,I,T,N, circuit_n, n_species,D,tqdm_disable=False,stochasticity=0, steadystates=0)#,p_division=p_division,seed=seed)"
   ]
  },
  {
   "cell_type": "code",
   "execution_count": 3,
   "metadata": {},
   "outputs": [
    {
     "data": {
      "image/png": "[encoded data removed]",
      "text/plain": [
       "<Figure size 576x288 with 4 Axes>"
      ]
     },
     "metadata": {
      "needs_background": "light"
     },
     "output_type": "display_data"
    }
   ],
   "source": [
    "index = -1\n",
    "_ = plt.figure(figsize=(8,4))\n",
    "plt.subplot(121)\n",
    "plt.imshow(U_final[-1])\n",
    "plt.colorbar(shrink=.75)\n",
    "plt.subplot(122)\n",
    "plt.imshow(U_final[0])\n",
    "plt.colorbar(shrink=.75)\n",
    "plt.show()"
   ]
  },
  {
   "cell_type": "code",
   "execution_count": 4,
   "metadata": {},
   "outputs": [
    {
     "name": "stderr",
     "output_type": "stream",
     "text": [
      " 31%|███       | 170/550 [00:13<00:26, 14.08it/s]"
     ]
    }
   ],
   "source": [
    "# U_record,U_final = adi_numba(par_dict,L_x,L_y,J,I,T,N, circuit_n, n_species,D,tqdm_disable=False,stochasticity=0, steadystates=0)#,p_division=p_division,seed=seed)\n",
    "U_record,U_final = adi(par_dict,L_x,L_y,J,I,T,N, circuit_n, n_species,D,tqdm_disable=False,stochasticity=0, steadystates=0)#,p_division=p_division,seed=seed)\n",
    "# def adi(par_dict,L_x,L_y,J,I,T,N, circuit_n, n_species,D,tqdm_disable=False,stochasticity=0, steadystates=0):\n"
   ]
  },
  {
   "cell_type": "code",
   "execution_count": null,
   "metadata": {},
   "outputs": [],
   "source": [
    "index = -1\n",
    "_ = plt.figure(figsize=(8,4))\n",
    "plt.subplot(121)\n",
    "plt.imshow(U_final[-1])\n",
    "plt.colorbar(shrink=.75)\n",
    "plt.subplot(122)\n",
    "plt.imshow(U_final[0])\n",
    "plt.colorbar(shrink=.75)\n",
    "plt.show()"
   ]
  }
 ],
 "metadata": {
  "kernelspec": {
   "display_name": "Python 3.8.0 64-bit",
   "language": "python",
   "name": "python3"
  },
  "language_info": {
   "codemirror_mode": {
    "name": "ipython",
    "version": 3
   },
   "file_extension": ".py",
   "mimetype": "text/x-python",
   "name": "python",
   "nbconvert_exporter": "python",
   "pygments_lexer": "ipython3",
   "version": "3.8.0"
  },
  "orig_nbformat": 4,
  "vscode": {
   "interpreter": {
    "hash": "949777d72b0d2535278d3dc13498b2535136f6dfe0678499012e853ee9abcab1"
   }
  }
 },
 "nbformat": 4,
 "nbformat_minor": 2
}
