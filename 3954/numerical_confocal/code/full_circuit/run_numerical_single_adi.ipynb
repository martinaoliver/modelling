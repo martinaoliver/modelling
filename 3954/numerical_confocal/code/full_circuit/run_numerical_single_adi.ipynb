{
 "cells": [
  {
   "cell_type": "code",
   "execution_count": 9,
   "metadata": {},
   "outputs": [
    {
     "name": "stdout",
     "output_type": "stream",
     "text": [
      "{'DA': 1.0, 'DB': 0.007733991281019643, 'bA': 0.01, 'bB': 0.01, 'bC': 0.01, 'bD': 0.01, 'bE': 0.01, 'bF': 0.01, 'VA': 133.4111448153659, 'VB': 47.912664311071026, 'VC': 978.2661633126525, 'VD': 160.7404467982817, 'VE': 103.93236276316331, 'VF': 46.10000623683201, 'Kda': 970.9938562070984, 'Kab': 17.814372550727914, 'Keb': 440.812661888375, 'Kbd': 68.58360666119798, 'Kfe': 412.25574424797765, 'Kee': 264.8036584284209, 'Kce': 31.938330823697545, 'muLVA': 0.0010620170115946998, 'muASV': 1.163147615691071, 'nbd': 2.0, 'nab': 1.0, 'nda': 1.0, 'nfe': 4.0, 'nee': 4.0, 'neb': 4.0, 'nce': 1.0}\n"
     ]
    }
   ],
   "source": [
    "#############\n",
    "###paths#####\n",
    "#############\n",
    "import sys\n",
    "import os\n",
    "\n",
    "from importlib_metadata import distribution\n",
    "\n",
    "pwd = os.getcwd()\n",
    "modellingpath = pwd.rpartition(\"modelling\")[0] + pwd.rpartition(\"modelling\")[1] \n",
    "sys.path.append(modellingpath + '/lib')\n",
    "\n",
    "#############\n",
    "###Imports#####\n",
    "#############\n",
    "from numerical.adi_ca_function_openclosed_nodilution_preMask import adi_ca_openclosed_nodilution_preMask\n",
    "from numerical.adi_ca_function_openclosed_nodilution_preMask_numba import adi_ca_openclosed_nodilution_preMask as adi_ca_openclosed_nodilution_preMask_numba\n",
    "from numerical.plotting_numerical import *\n",
    "\n",
    "\n",
    "import numpy as np\n",
    "import pickle\n",
    "import matplotlib.pyplot as plt\n",
    "%matplotlib inline\n",
    "#############\n",
    "###execution parameters#####\n",
    "#############\n",
    "shape = 'ca'\n",
    "# parID = int(sys.argv[1])\n",
    "parID = 1\n",
    "circuit_n=2\n",
    "variant= 0\n",
    "n_species=6\n",
    "# folder = 'circuit2variant48257gaussian0.1nsr'\n",
    "\n",
    "\n",
    "nsamples =  2000\n",
    "save_figure = False\n",
    "tqdm_disable = False #disable tqdm\n",
    "# boundarycoeff = float(sys.argv[6])\n",
    "boundarycoeff = 1.7\n",
    "p_division=0.5;seed=1\n",
    "\n",
    "# open parameter dictionaries\n",
    "lsa_df= pickle.load( open(modellingpath + '/3954/paper/input/lhs_parameterfiles/df_circuit%s_variant%s_%rparametersets.pkl'%(circuit_n,variant,parametersets_n), \"rb\" ) )\n",
    "par_dict = lsa_df.loc[parID].to_dict()\n",
    "# par_dict = general_df.iloc[parID].to_dict()\n",
    "\n",
    "D = np.zeros(n_species)\n",
    "D[0]=d_A\n",
    "D[1]=d_B\n",
    "print(par_dict)\n",
    "# par_dict['mulva'] = par_dict['mulva'] + np.log(2)*p_division\n",
    "\n",
    "#solver parameters\n",
    "L=8; dx =0.05; J = int(L/dx)\n",
    "T =125; dt = 0.05; N = int(T/dt)\n",
    "p_division=0.5;seed=1\n",
    "\n",
    "cell_matrix_record = pickle.load( open(modellingpath + \"/3954/paper/out/numerical/masks/caMask_seed%s_pdivision%s_L%s_J%s_T%s_N%s.pkl\"%(seed,p_division,L,J,T,N), \"rb\" ) )\n",
    "daughterToMotherDictList = pickle.load( open(modellingpath + \"/3954/paper/out/numerical/masks/caMemory_seed%s_pdivision%s_L%s_J%s_T%s_N%s.pkl\"%(seed,p_division,L,J,T,N), \"rb\" ) )\n",
    "T =1; dt = 0.05; N = int(T/dt)\n",
    "filename= lambda parID: 'circuit%r_variant%s_bc%s_%s_ID%r_L%r_J%r_T%r_N%r'%(circuit_n,variant,boundarycoeff, shape,parID,L,J,T,N)\n",
    "D[:2] = [par_dict['DA'],par_dict['DB'] ]\n"
   ]
  },
  {
   "cell_type": "markdown",
   "metadata": {},
   "source": []
  },
  {
   "cell_type": "code",
   "execution_count": 10,
   "metadata": {},
   "outputs": [
    {
     "name": "stderr",
     "output_type": "stream",
     "text": [
      "100%|██████████| 20/20 [00:16<00:00,  1.20it/s]\n"
     ]
    }
   ],
   "source": [
    "U_record,U_final =  adi_ca_openclosed_nodilution_preMask(par_dict,L,dx,J,T,dt,N, circuit_n, n_species,D,cell_matrix_record, daughterToMotherDictList,tqdm_disable=False, p_division=0.5,stochasticity=0, seed=1,growth='Slow', boundarycoeff=boundarycoeff)\n"
   ]
  },
  {
   "cell_type": "code",
   "execution_count": 11,
   "metadata": {},
   "outputs": [
    {
     "data": {
      "image/png": "[encoded data removed]",
      "text/plain": [
       "<Figure size 576x288 with 4 Axes>"
      ]
     },
     "metadata": {
      "needs_background": "light"
     },
     "output_type": "display_data"
    }
   ],
   "source": [
    "index = -1\n",
    "_ = plt.figure(figsize=(8,4))\n",
    "plt.subplot(121)\n",
    "plt.imshow(U_final[-1])\n",
    "plt.colorbar(shrink=.75)\n",
    "plt.subplot(122)\n",
    "plt.imshow(U_final[0])\n",
    "plt.colorbar(shrink=.75)\n",
    "plt.show()"
   ]
  }
 ],
 "metadata": {
  "kernelspec": {
   "display_name": "Python 3.8.0 64-bit",
   "language": "python",
   "name": "python3"
  },
  "language_info": {
   "codemirror_mode": {
    "name": "ipython",
    "version": 3
   },
   "file_extension": ".py",
   "mimetype": "text/x-python",
   "name": "python",
   "nbconvert_exporter": "python",
   "pygments_lexer": "ipython3",
   "version": "3.8.0"
  },
  "orig_nbformat": 4,
  "vscode": {
   "interpreter": {
    "hash": "949777d72b0d2535278d3dc13498b2535136f6dfe0678499012e853ee9abcab1"
   }
  }
 },
 "nbformat": 4,
 "nbformat_minor": 2
}
