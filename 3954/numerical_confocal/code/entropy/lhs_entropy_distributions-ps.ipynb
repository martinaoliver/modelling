{
 "cells": [
  {
   "cell_type": "code",
   "execution_count": 13,
   "metadata": {},
   "outputs": [],
   "source": [
    "#############################\n",
    "#IMPORTS#\n",
    "#############################\n",
    "import sys\n",
    "import os\n",
    "pwd = os.getcwd()\n",
    "root = pwd.rpartition(\"mo2016\")[0] + pwd.rpartition(\"mo2016\")[1] #/Volumes/mo2016/ or '/Users/mo2016/' or '/rds/general/mo2016/'\n",
    "\n",
    "\n",
    "if root == '/Users/mo2016':\n",
    "    modelling_ephemeral = '/Volumes/mo2016/ephemeral/Documents/modelling'\n",
    "    modelling_home = '/Volumes/mo2016/home/Documents/modelling'\n",
    "    modelling_local = root + '/Documents/modelling'\n",
    "    import matplotlib as mpl\n",
    "    mpl.use('tkagg')\n",
    "\n",
    "if root == '/Volumes/mo2016' or root=='/rds/general': #'/rds/general' or root=='/Volumes':\n",
    "        modelling_ephemeral = root + '/ephemeral/Documents/modelling'\n",
    "        modelling_home = root  + '/home/Documents/modelling'\n",
    "        modelling_local = modelling_home\n",
    "modulepath = modelling_local + '/3954/modules/new_CN'\n",
    "sys.path.append(modulepath)\n",
    "import pickle\n",
    "import seaborn as sns\n",
    "import matplotlib.pyplot as plt\n",
    "from matplotlib import cm\n",
    "import numpy as np"
   ]
  },
  {
   "cell_type": "code",
   "execution_count": 20,
   "metadata": {},
   "outputs": [],
   "source": [
    "metric='psprenorm'\n",
    "circuit_n=2\n",
    "variant='5716gaussian'\n",
    "shape='square'\n",
    "mechanism = 'fullcircuit'\n",
    "L=5; x_gridpoints =10; J = L*x_gridpoints\n",
    "T =2000; t_gridpoints = 10; N = T*t_gridpoints"
   ]
  },
  {
   "cell_type": "code",
   "execution_count": 21,
   "metadata": {},
   "outputs": [
    {
     "data": {
      "text/plain": [
       "Text(0.5, 0, 'Entropy')"
      ]
     },
     "execution_count": 21,
     "metadata": {},
     "output_type": "execute_result"
    },
    {
     "data": {
      "image/png": "[encoded data removed]",
      "text/plain": [
       "<Figure size 432x288 with 1 Axes>"
      ]
     },
     "metadata": {
      "needs_background": "light"
     },
     "output_type": "display_data"
    }
   ],
   "source": [
    "%matplotlib inline\n",
    "var_list = [0.001, 0.01,0.02,0.04,0.06,0.08,0.1,0.23]\n",
    "color1=cm.coolwarm(np.linspace(0,1,len(var_list)))\n",
    "\n",
    "fig, ax = plt.subplots()\n",
    "\n",
    "for var,c in zip(var_list,color1):\n",
    "    filename = 'circuit%r_variant%svar%r_%s_%s_L%r_J%r_T%r_N%r'%(circuit_n,variant,var, shape,mechanism,L,J,T,N)\n",
    "    hks= pickle.load( open(modelling_home + '/3954/numerical_confocal/results/entropy/EntropyDicts/%s_dict_%s.pkl'%(metric,filename), 'rb' ) )\n",
    "    sns.kdeplot(data=list(hks.values()),color=c,label=var)\n",
    "ax.legend()\n",
    "# ax.legend(bbox_to_anchor=(1.02, 1.02), loc='upper left')\n",
    "\n",
    "\n",
    "# plt.tight_layout()\n",
    "# plt.xlim(11.1,11.4)\n",
    "plt.xlabel('Entropy')\n",
    "# plt.savefig('entropy_kde',  dpi=1200)\n"
   ]
  },
  {
   "cell_type": "code",
   "execution_count": 23,
   "metadata": {},
   "outputs": [
    {
     "name": "stdout",
     "output_type": "stream",
     "text": [
      "10.52421695152262 10.494337343672314\n",
      "10.54472511649892 10.461568398364843\n",
      "10.567167548868008 10.425332070425677\n",
      "10.609561963709417 3.3863355150691294\n",
      "10.812029941654586 1.0\n",
      "10.618272784608504 2.0541715425106415\n",
      "10.63795362152247 1.0\n",
      "10.679590271054696 1.0\n",
      "10.692112924212456 1.0126235672062402\n"
     ]
    },
    {
     "data": {
      "image/png": "[encoded data removed]",
      "text/plain": [
       "<Figure size 1008x144 with 9 Axes>"
      ]
     },
     "metadata": {
      "needs_background": "light"
     },
     "output_type": "display_data"
    }
   ],
   "source": [
    "var_list = [0.001, 0.01,0.02,0.04,0.06,0.08,0.1,0.23]\n",
    "\n",
    "variant='5716gaussian'\n",
    "binwidth=0.1\n",
    "\n",
    "count=0\n",
    "zoom_std = []\n",
    "zoom_diff = []\n",
    "fig, axes = plt.subplots(1,9, figsize=(14,2))\n",
    "color1=cm.coolwarm(np.linspace(0,1,len(var_list)+1))\n",
    "for var,c in zip(var_list,color1):\n",
    "    filename = 'circuit%r_variant%svar%r_%s_%s_L%r_J%r_T%r_N%r'%(circuit_n,variant,var, shape,mechanism,L,J,T,N)\n",
    "    hks= pickle.load( open(modelling_home + '/3954/numerical_confocal/results/entropy/EntropyDicts/%s_dict_%s.pkl'%(metric,filename), 'rb' ) )\n",
    "    # print(max(hks.values()), min(hks.values()) )\n",
    "    ar = np.array(list(hks.values()))\n",
    "    zoom_std.append(np.nanstd(ar))\n",
    "    print(max(hks.values()),min(hks.values()))\n",
    "    zoom_diff.append(max(hks.values())-min(hks.values()))\n",
    "#     bins=np.linspace(min(hks.values()), max(hks.values()) + binwidth, 300)\n",
    "    sns.histplot(data=list(hks.values()),  color=c, ax=axes[count], bins=50 )\n",
    "    axes[count].set_xlim(0,11)\n",
    "\n",
    "    axes[count].set_yscale('log')\n",
    "    axes[count].set_yticklabels([])\n",
    "    axes[count].set(ylabel='')\n",
    "    axes[count].set(title=var)\n",
    "    # axes[count].set_xticklabels([])\n",
    "    count+=1\n",
    "\n",
    "    \n",
    "    \n",
    "variant=0\n",
    "\n",
    "\n",
    "filename = 'circuit%r_variant%s_%s_%s_L%r_J%r_T%r_N%r'%(circuit_n,variant, shape,mechanism,L,J,T,N)\n",
    "hks= pickle.load( open(modelling_home + '/3954/numerical_confocal/results/entropy/EntropyDicts/%s_dict_%s.pkl'%(metric,filename), 'rb' ) )\n",
    "\n",
    "# print(max(hks.values()), min(hks.values()) )\n",
    "    \n",
    "    # np.amin(hks.values()), np.amax(hks.values()))\n",
    "# bins=np.linspace(min(hks.values()), max(hks.values()) + binwidth, 300)\n",
    "sns.histplot(data=list(hks.values()),  color=c, ax=axes[count], bins=50 )\n",
    "\n",
    "axes[count].set_xlim(0,11)\n",
    "axes[count].set_yscale('log')\n",
    "axes[count].set_yticklabels([])\n",
    "axes[count].set(ylabel='')\n",
    "axes[count].set(title='global')\n",
    "ar = np.array(list(hks.values()))\n",
    "zoom_std.append(np.nanstd(ar))\n",
    "zoom_diff.append(max(hks.values())-min(hks.values()))\n",
    "print(max(hks.values()),min(hks.values()))\n",
    "\n",
    "axes[count].set_yticklabels([])\n",
    "\n",
    "\n",
    "\n",
    "count+=1\n",
    "# plt.show()\n",
    "# sns.histplot(data=list(hks.values()))\n",
    "# plt.yscale('log')\n",
    "# axes[count].set_xlim(-28300,10000)\n",
    "#\n",
    "plt.savefig('entropy_histogram_%s'%metric, dpi=1200)"
   ]
  },
  {
   "cell_type": "code",
   "execution_count": 24,
   "metadata": {},
   "outputs": [
    {
     "data": {
      "text/plain": [
       "Text(0, 0.5, 'delta entropy')"
      ]
     },
     "execution_count": 24,
     "metadata": {},
     "output_type": "execute_result"
    },
    {
     "data": {
      "image/png": "[encoded data removed]",
      "text/plain": [
       "<Figure size 864x288 with 2 Axes>"
      ]
     },
     "metadata": {
      "needs_background": "light"
     },
     "output_type": "display_data"
    }
   ],
   "source": [
    "var_list = [0.001, 0.01,0.02,0.04,0.06,0.08,0.1,0.23,1]\n",
    "fig, ax = plt.subplots(figsize=[12,4])\n",
    "plt.subplot(121)\n",
    "plt.scatter(var_list,zoom_std,label='stedv', c='teal')\n",
    "plt.xlabel('Variability coefficient')\n",
    "plt.ylabel('stdev')\n",
    "\n",
    "plt.subplot(122)\n",
    "plt.scatter(var_list,zoom_diff,label='delta entropy',c='indianred')\n",
    "plt.xlabel('Variability coefficient')\n",
    "plt.ylabel('delta entropy')\n",
    "\n",
    "# ax.legend()\n",
    "# plt.savefig('stedv-diff_distribution_%s.png'%metric)"
   ]
  },
  {
   "cell_type": "code",
   "execution_count": null,
   "metadata": {},
   "outputs": [],
   "source": []
  }
 ],
 "metadata": {
  "interpreter": {
   "hash": "949777d72b0d2535278d3dc13498b2535136f6dfe0678499012e853ee9abcab1"
  },
  "kernelspec": {
   "display_name": "Python 3",
   "language": "python",
   "name": "python3"
  },
  "language_info": {
   "codemirror_mode": {
    "name": "ipython",
    "version": 3
   },
   "file_extension": ".py",
   "mimetype": "text/x-python",
   "name": "python",
   "nbconvert_exporter": "python",
   "pygments_lexer": "ipython3",
   "version": "3.8.0"
  }
 },
 "nbformat": 4,
 "nbformat_minor": 4
}
