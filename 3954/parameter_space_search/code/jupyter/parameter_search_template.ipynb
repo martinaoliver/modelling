{
 "cells": [
  {
   "cell_type": "code",
   "execution_count": 1,
   "metadata": {
    "code_folding": []
   },
   "outputs": [],
   "source": [
    "#import module folder containing general functions used frequently\n",
    "modulepath = '/Users/mo2016/Documents/modelling/6eq/modules'\n",
    "import sys\n",
    "sys.path.append(modulepath)\n",
    "\n",
    "#importing functions from that module folder\n",
    "from parametercombination_analysis import *\n",
    "from randomfunctions import wavelenght_from_dispersion, plot_highest_dispersion\n",
    "from class_circuit_eq import *\n",
    "from lhs import *\n",
    "from findsteadystates_functions import *\n",
    "from dispersionrelation_functions import *\n",
    "# from lsafunctions import jacobianlsa\n",
    "\n",
    "\n",
    "#other imports\n",
    "import time\n",
    "import datetime\n",
    "import scipy.io\n",
    "import numpy as np\n",
    "from numpy import linalg as LA\n",
    "import pickle\n",
    "import matplotlib.pyplot as plt\n",
    "import matplotlib.animation as animation\n",
    "import re\n",
    "#path of folder containing code, results, parameter files\n",
    "path = '/Users/mo2016/Documents/modelling/6eq/parameter_space_search'\n",
    "PCApath = '/Users/mo2016/Documents/modelling/6eq/PCA'\n",
    "\n",
    "from datetime import date, timedelta\n",
    "\n",
    "# date_yesterday = (date.today() - timedelta(2)).isoformat()\n",
    "# date_yesterday = str(date.today())"
   ]
  },
  {
   "cell_type": "markdown",
   "metadata": {},
   "source": [
    "# Functions for Data Analysis of parameter search output"
   ]
  },
  {
   "cell_type": "code",
   "execution_count": 2,
   "metadata": {},
   "outputs": [],
   "source": [
    "circuit_n=2"
   ]
  },
  {
   "cell_type": "markdown",
   "metadata": {},
   "source": [
    "This function obtains Turing IDs from all dataframes of that date and put them in a dictionary with their dataframe number.\n",
    "\n",
    "TI/TII and monostable/multistable systems can be filtered\n",
    "\n"
   ]
  },
  {
   "cell_type": "code",
   "execution_count": 3,
   "metadata": {
    "scrolled": true
   },
   "outputs": [],
   "source": [
    "# turing_type indicates if we want the dictionary to contain only TI or also TI and TII. \n",
    "# ss_n indicates if we want only monostable systems in our dictionary (ss_n=1) or multistable (ss_n =/ 1).\n",
    "\n",
    "def ID_df_location_search(date,turing_type,ss_n):\n",
    "    ID_df_location = {}\n",
    "    for df_n in range (64):\n",
    "        with open(path + '/results/output/output_%s/output.%r-1'%(date,df_n), 'r') as input:\n",
    "            input_ = input.read().split(\"\\n\\n\")   #\\n\\n denotes there is a blank line in between paragraphs.\n",
    "        for line in input_:\n",
    "                if turing_type == 'TI':\n",
    "                    if 'Turing I ' in line:\n",
    "                        ID = re.findall(r'\\d+\\.{0,1}\\d*', line)\n",
    "                        if ss_n==1: #to filter turing systems with only one steady state\n",
    "                            ss_n_line = line.count('[')\n",
    "                            if ss_n_line == 1:\n",
    "                                ID_df_location[ID[0]] = df_n\n",
    "                        else:\n",
    "                            ss_n_line = line.count('[')\n",
    "                            if ss_n_line > 1:\n",
    "                                ID_df_location[ID[0]] = df_n\n",
    "\n",
    "                if turing_type == 'TII':\n",
    "                    if 'Turing II ' in line:\n",
    "                        ID = re.findall(r'\\d+\\.{0,1}\\d*', line)\n",
    "                        if ss_n==1: #to filter turing systems with only one steady state\n",
    "                            ss_n_line = line.count('[')\n",
    "                            if ss_n_line == 1:\n",
    "                                ID_df_location[ID[0]] = df_n\n",
    "                        else:\n",
    "                            ss_n_line = line.count('[')\n",
    "                            if ss_n_line > 1:\n",
    "                                ID_df_location[ID[0]] = df_n\n",
    "\n",
    "\n",
    "\n",
    "                        \n",
    "                if turing_type == 'TI-II': #option activated if interested in TII as well\n",
    "                    if 'Turing I ' in line or 'Turing II ' in line:\n",
    "                        ID = re.findall(r'\\d+\\.{0,1}\\d*', line)\n",
    "                        if ss_n==1:\n",
    "                            ss_n_line = line.count('[')\n",
    "                            if ss_n_line == 1:\n",
    "                                ID_df_location[ID[0]] = df_n\n",
    "                        else:\n",
    "                            ss_n_line = line.count('[')\n",
    "                            if ss_n_line > 1:\n",
    "                                ID_df_location[ID[0]] = df_n\n",
    "    \n",
    "\n",
    "    return ID_df_location\n",
    "\n"
   ]
  },
  {
   "cell_type": "markdown",
   "metadata": {},
   "source": [
    "This function takes the dictionary with IDs and dataframe number and creates a dataframe with all turing parameter sets of the search."
   ]
  },
  {
   "cell_type": "code",
   "execution_count": 4,
   "metadata": {
    "code_folding": [
     0
    ],
    "scrolled": true
   },
   "outputs": [],
   "source": [
    "def dictionary_to_parameter_df(ID_df_location):\n",
    "    turing_df = pd.DataFrame()\n",
    "    for ID, df_n in ID_df_location.items():\n",
    "        df_parameterfile_filename = 'df_parameterfile_%s_ID%r.pkl'%(date,df_n)\n",
    "        df_parameterfile= pickle.load( open(path +  '/parameterfiles/df_parameterfile_%s/%s'%(date,df_parameterfile_filename), \"rb\" ) )\n",
    "        turing_df = turing_df.append(df_parameterfile.iloc[int(ID)])\n",
    "    return turing_df"
   ]
  },
  {
   "cell_type": "markdown",
   "metadata": {},
   "source": [
    "# Code using functions for data analysis of parameter search"
   ]
  },
  {
   "cell_type": "code",
   "execution_count": 6,
   "metadata": {
    "code_folding": []
   },
   "outputs": [
    {
     "name": "stdout",
     "output_type": "stream",
     "text": [
      "39\n",
      "51\n",
      "105\n",
      "94\n"
     ]
    }
   ],
   "source": [
    "turing_df = pd.DataFrame()\n",
    "if circuit_n==1:\n",
    "    date_list = ['2020-10-05',  '2020-10-06', '2020-10-07', '2020-10-09', '2020-10-12', '2020-10-14',] #Circuit 1\n",
    "if circuit_n==2:\n",
    "    date_list = ['2020-11-25']\n",
    "\n",
    "modification = ''\n",
    "for date in date_list:\n",
    "    ID_df_location = ID_df_location_search(date, 'TI', 1)\n",
    "    turing_df = turing_df.append(dictionary_to_parameter_df(ID_df_location))\n",
    "    print(len(turing_df))\n",
    "turing_df.to_pickle(path + '/results/turing_dataframes/circuit%r%s_turingI_monostable_df.pkl'%(circuit_n,modification))\n",
    "\n",
    "turing_df = pd.DataFrame()\n",
    "for date in date_list:\n",
    "    ID_df_location = ID_df_location_search(date, 'TI', 2)\n",
    "    turing_df = turing_df.append(dictionary_to_parameter_df(ID_df_location))\n",
    "    print(len(turing_df))\n",
    "\n",
    "turing_df.to_pickle(path + '/results/turing_dataframes/circuit%r%s_turingI_multistable_df.pkl'%(circuit_n,modification))\n",
    "\n",
    "turing_df = pd.DataFrame()\n",
    "for date in date_list:\n",
    "    ID_df_location = ID_df_location_search(date, 'TII', 1)\n",
    "    turing_df = turing_df.append(dictionary_to_parameter_df(ID_df_location))\n",
    "    print(len(turing_df))\n",
    "\n",
    "turing_df.to_pickle(path + '/results/turing_dataframes/circuit%r%s_turingII_monostable_df.pkl'%(circuit_n,modification))\n",
    "\n",
    "turing_df = pd.DataFrame()\n",
    "for date in date_list:\n",
    "    ID_df_location = ID_df_location_search(date, 'TII', 2)\n",
    "    turing_df = turing_df.append(dictionary_to_parameter_df(ID_df_location))\n",
    "    print(len(turing_df))\n",
    "#\n",
    "turing_df.to_pickle(path + '/results/turing_dataframes/circuit%r%s_turingII_multistable_df.pkl'%(circuit_n,modification))\n",
    "\n",
    "\n",
    "\n"
   ]
  },
  {
   "cell_type": "markdown",
   "metadata": {},
   "source": [
    "# Specific parameter set\n"
   ]
  },
  {
   "cell_type": "code",
   "execution_count": 8,
   "metadata": {},
   "outputs": [
    {
     "ename": "FileNotFoundError",
     "evalue": "[Errno 2] No such file or directory: '/Users/mo2016/Documents/modelling/6eq/parameter_space_search/parameterfiles/df_parameterfile_2020-11-25/df_parameterfile_2020-12-08_ID63.pkl'",
     "output_type": "error",
     "traceback": [
      "\u001b[0;31m---------------------------------------------------------------------------\u001b[0m",
      "\u001b[0;31mFileNotFoundError\u001b[0m                         Traceback (most recent call last)",
      "\u001b[0;32m<ipython-input-8-af1fb41d543c>\u001b[0m in \u001b[0;36m<module>\u001b[0;34m\u001b[0m\n\u001b[1;32m      1\u001b[0m \u001b[0;31m# df_parameterfile_filename = 'df_parameterfile_2020-12-08_ID63.pkl'\u001b[0m\u001b[0;34m\u001b[0m\u001b[0;34m\u001b[0m\u001b[0;34m\u001b[0m\u001b[0m\n\u001b[0;32m----> 2\u001b[0;31m \u001b[0mdf_parameterfile\u001b[0m\u001b[0;34m=\u001b[0m \u001b[0mpickle\u001b[0m\u001b[0;34m.\u001b[0m\u001b[0mload\u001b[0m\u001b[0;34m(\u001b[0m \u001b[0mopen\u001b[0m\u001b[0;34m(\u001b[0m\u001b[0mpath\u001b[0m \u001b[0;34m+\u001b[0m  \u001b[0;34m'/parameterfiles/df_parameterfile_%s/%s'\u001b[0m\u001b[0;34m%\u001b[0m\u001b[0;34m(\u001b[0m\u001b[0mdate\u001b[0m\u001b[0;34m,\u001b[0m\u001b[0mdf_parameterfile_filename\u001b[0m\u001b[0;34m)\u001b[0m\u001b[0;34m,\u001b[0m \u001b[0;34m\"rb\"\u001b[0m \u001b[0;34m)\u001b[0m \u001b[0;34m)\u001b[0m\u001b[0;34m\u001b[0m\u001b[0;34m\u001b[0m\u001b[0m\n\u001b[0m\u001b[1;32m      3\u001b[0m \u001b[0mpar_ID\u001b[0m \u001b[0;34m=\u001b[0m \u001b[0;36m10812\u001b[0m\u001b[0;34m\u001b[0m\u001b[0;34m\u001b[0m\u001b[0m\n\u001b[1;32m      4\u001b[0m \u001b[0mpar_dict\u001b[0m \u001b[0;34m=\u001b[0m \u001b[0mdf_parameterfile\u001b[0m\u001b[0;34m.\u001b[0m\u001b[0miloc\u001b[0m\u001b[0;34m[\u001b[0m\u001b[0mpar_ID\u001b[0m\u001b[0;34m]\u001b[0m\u001b[0;34m.\u001b[0m\u001b[0mto_dict\u001b[0m\u001b[0;34m(\u001b[0m\u001b[0;34m)\u001b[0m\u001b[0;34m\u001b[0m\u001b[0;34m\u001b[0m\u001b[0m\n\u001b[1;32m      5\u001b[0m \u001b[0mturing_output\u001b[0m\u001b[0;34m=\u001b[0m \u001b[0mdetailed_turing_analysis_dict\u001b[0m\u001b[0;34m(\u001b[0m\u001b[0mpar_dict\u001b[0m\u001b[0;34m,\u001b[0m\u001b[0mcircuit_n\u001b[0m\u001b[0;34m)\u001b[0m\u001b[0;34m\u001b[0m\u001b[0;34m\u001b[0m\u001b[0m\n",
      "\u001b[0;31mFileNotFoundError\u001b[0m: [Errno 2] No such file or directory: '/Users/mo2016/Documents/modelling/6eq/parameter_space_search/parameterfiles/df_parameterfile_2020-11-25/df_parameterfile_2020-12-08_ID63.pkl'"
     ]
    }
   ],
   "source": [
    "df_parameterfile_filename = 'df_parameterfile_2020-12-08_ID63.pkl'\n",
    "df_parameterfile= pickle.load( open(path +  '/parameterfiles/df_parameterfile_%s/%s'%(date,df_parameterfile_filename), \"rb\" ) )\n",
    "par_ID = 10812 \n",
    "par_dict = df_parameterfile.iloc[par_ID].to_dict()\n",
    "turing_output= detailed_turing_analysis_dict(par_dict,circuit_n)\n",
    "steadystates,eigenvalues =turing_output[0][0], turing_output[4][0]\n",
    "plot_highest_dispersion(eigenvalues)\n"
   ]
  },
  {
   "cell_type": "markdown",
   "metadata": {},
   "source": [
    "# Wavelenght distribution and relationship with dispersion"
   ]
  },
  {
   "cell_type": "code",
   "execution_count": 9,
   "metadata": {
    "scrolled": true
   },
   "outputs": [
    {
     "name": "stdout",
     "output_type": "stream",
     "text": [
      "[ 1.68743332  0.05251156  3.08575321  2.86167859 23.10830331  0.83654606]\n",
      "Turing I pattern\n",
      "[  0.2866827    3.76217414   1.32279533  27.63342565  76.78091376\n",
      " 109.82903187]\n",
      "Turing I pattern\n",
      "[ 1.27721264  0.0419542   1.16958903  1.23677268 17.12091357  5.26182675]\n",
      "Turing I pattern\n",
      "[1.89200694e-01 9.14187616e-03 1.01355165e+00 1.85317049e+01\n",
      " 1.79743877e+00 7.95965221e+00]\n",
      "Turing I pattern\n",
      "[  0.64435043   0.89990137   6.65301565  20.34841765   8.4459623\n",
      " 130.56171852]\n",
      "Turing I pattern\n",
      "[  0.68513972   0.66830863   0.23144372  10.10376021 168.44748936\n",
      "   4.43733682]\n",
      "Turing I pattern\n",
      "[ 1.12753971  0.17214063  8.47288596 22.18438487 72.26652871 48.58033833]\n",
      "Turing I pattern\n",
      "[  0.54093217   0.26966133   1.95309845  44.81296074 192.43719294\n",
      " 124.90164956]\n",
      "Turing I pattern\n",
      "[0.06883673 0.43343307 1.24234374 4.95966411 0.1256887  5.46492051]\n",
      "Turing I pattern\n",
      "[4.77684650e-01 4.33579252e+00 3.07264321e+00 2.74576417e+03\n",
      " 6.92556185e+01 2.39453498e+02]\n",
      "Turing I pattern\n",
      "[1.84325911e-01 5.95134551e+00 7.70329510e-02 1.40638785e+01\n",
      " 1.25275680e+02 3.60624378e+00]\n",
      "Turing I pattern\n",
      "[ 3.50196244  1.63745246  3.29516732 32.48659036 72.21534917  5.19811008]\n",
      "Turing I pattern\n",
      "[2.49715915e-01 2.20162457e+01 2.74015922e-02 1.87171952e+01\n",
      " 8.91091580e+01 1.40976491e+02]\n",
      "Turing I pattern\n",
      "[ 0.07264602  0.05845165  1.26233582 25.73791964  4.72034451  0.95670298]\n",
      "Turing I pattern\n",
      "[  0.44318995   0.31608579  15.5582935   30.22386889 101.17071364\n",
      "  32.85194245]\n",
      "Turing I pattern\n",
      "[  0.97371357   1.18975759   1.2149086    3.61521445 287.04557922\n",
      "   0.32619182]\n",
      "Turing I pattern\n",
      "[2.42996686e-01 2.40546055e-01 1.79523317e+00 6.45928317e+02\n",
      " 1.47408271e+01 1.71790413e+01]\n",
      "Turing I pattern\n",
      "[ 1.75277262  0.07469021 28.26227018  2.12062817 25.99970802  1.14315986]\n",
      "Turing I pattern\n",
      "[  1.16325499   0.12573413   7.06831307 124.43004351  12.84076874\n",
      "   3.55451571]\n",
      "Turing I pattern\n",
      "[ 0.07060116  0.12907793  1.52546686 39.98367131  8.09371375 63.8549142 ]\n",
      "Turing I pattern\n",
      "[2.99498726e-01 4.86543430e+00 1.08564744e+00 1.37043159e+03\n",
      " 9.81171176e+00 6.28416366e+01]\n",
      "Turing I pattern\n",
      "[  0.92424617  11.20594318   0.83740739   5.83474416 135.89603864\n",
      "  21.83788357]\n",
      "Turing I pattern\n",
      "[1.29198849e-02 2.95231350e-02 1.06408849e+00 2.61341181e+00\n",
      " 1.51646936e+02 1.91635184e+00]\n",
      "Turing I pattern\n",
      "[1.60102387e-01 8.22879847e-02 1.48044859e-01 2.29396269e+01\n",
      " 2.81294530e+02 1.60076305e+01]\n",
      "Turing I pattern\n",
      "[ 0.41783565  0.03385358  1.61919725 21.47868636  5.16164296 13.69198226]\n",
      "Turing I pattern\n",
      "[ 1.13686546  0.44107363 22.52813946  0.76906339  0.53601951  1.23991948]\n",
      "Turing I pattern\n",
      "[1.00506826e-01 1.04793465e-01 2.13766389e+01 1.37526338e+02\n",
      " 3.08314845e+01 1.61781356e+02]\n",
      "Turing I pattern\n",
      "[6.71224747e-02 2.09617478e-02 5.54291539e+00 1.03745469e+02\n",
      " 6.38214853e+01 1.60985522e+02]\n",
      "Turing I pattern\n",
      "[ 0.0720852   0.11497117  0.319284   37.66845268 17.48747054 62.24635355]\n",
      "Turing I pattern\n",
      "[  0.19497359   0.14700461   7.54686701  26.91204281 106.9768756\n",
      "   7.80704434]\n",
      "Turing I pattern\n",
      "[1.52482405e+00 5.88163709e-02 1.44087080e+00 7.16253840e+00\n",
      " 8.34285378e+01 2.82323594e+02]\n",
      "Turing I pattern\n",
      "[ 4.75044403  0.24512826  4.65758654  1.09496235 13.69192174  0.58032002]\n",
      "Turing I pattern\n",
      "[  0.60144016   0.39558367  15.38880989  33.22788108   3.94644932\n",
      " 284.65007309]\n",
      "Turing I pattern\n",
      "[  1.69228873   4.88580655   7.06754886  73.45087091 312.59812316\n",
      " 376.86735773]\n",
      "Turing I pattern\n",
      "[8.78945474e-02 9.53316722e-02 9.33261972e+00 1.73097757e+01\n",
      " 2.88583104e+02 9.65985331e+00]\n",
      "Turing I pattern\n",
      "[ 3.81045993  1.12586701  0.38398587 51.17241852 87.47193896  2.62603642]\n",
      "Turing I pattern\n",
      "[4.68351232e-02 4.50059195e+00 1.63136255e+00 3.79778692e+01\n",
      " 1.12192285e+02 3.04778030e+02]\n",
      "Turing I pattern\n",
      "[ 3.81335064  2.71509188  0.41477142  6.62456747 25.87886797 41.92452473]\n",
      "Turing I pattern\n",
      "[ 1.33252155  0.25488747  0.85266803  7.80201941 68.54080235  3.75829015]\n",
      "Turing I pattern\n"
     ]
    },
    {
     "ename": "IndexError",
     "evalue": "single positional indexer is out-of-bounds",
     "output_type": "error",
     "traceback": [
      "\u001b[0;31m---------------------------------------------------------------------------\u001b[0m",
      "\u001b[0;31mIndexError\u001b[0m                                Traceback (most recent call last)",
      "\u001b[0;32m<ipython-input-9-57c084c75cfc>\u001b[0m in \u001b[0;36m<module>\u001b[0;34m\u001b[0m\n\u001b[1;32m      5\u001b[0m \u001b[0mmaxeig_list\u001b[0m \u001b[0;34m=\u001b[0m \u001b[0;34m[\u001b[0m\u001b[0;34m]\u001b[0m\u001b[0;34m\u001b[0m\u001b[0;34m\u001b[0m\u001b[0m\n\u001b[1;32m      6\u001b[0m \u001b[0;32mfor\u001b[0m \u001b[0mn\u001b[0m \u001b[0;32min\u001b[0m \u001b[0mrange\u001b[0m\u001b[0;34m(\u001b[0m\u001b[0;36m0\u001b[0m\u001b[0;34m,\u001b[0m\u001b[0;36m201\u001b[0m\u001b[0;34m)\u001b[0m\u001b[0;34m:\u001b[0m\u001b[0;34m\u001b[0m\u001b[0;34m\u001b[0m\u001b[0m\n\u001b[0;32m----> 7\u001b[0;31m     \u001b[0mpar_dict\u001b[0m \u001b[0;34m=\u001b[0m \u001b[0mturing_df\u001b[0m\u001b[0;34m.\u001b[0m\u001b[0miloc\u001b[0m\u001b[0;34m[\u001b[0m\u001b[0mn\u001b[0m\u001b[0;34m]\u001b[0m\u001b[0;34m.\u001b[0m\u001b[0mto_dict\u001b[0m\u001b[0;34m(\u001b[0m\u001b[0;34m)\u001b[0m\u001b[0;34m\u001b[0m\u001b[0;34m\u001b[0m\u001b[0m\n\u001b[0m\u001b[1;32m      8\u001b[0m     \u001b[0mturing_output\u001b[0m\u001b[0;34m=\u001b[0m \u001b[0mdetailed_turing_analysis_dict\u001b[0m\u001b[0;34m(\u001b[0m\u001b[0mpar_dict\u001b[0m\u001b[0;34m,\u001b[0m\u001b[0mcircuit_n\u001b[0m\u001b[0;34m)\u001b[0m\u001b[0;34m\u001b[0m\u001b[0;34m\u001b[0m\u001b[0m\n\u001b[1;32m      9\u001b[0m     \u001b[0msteadystates\u001b[0m\u001b[0;34m,\u001b[0m\u001b[0meigenvalues\u001b[0m \u001b[0;34m=\u001b[0m\u001b[0mturing_output\u001b[0m\u001b[0;34m[\u001b[0m\u001b[0;36m0\u001b[0m\u001b[0;34m]\u001b[0m\u001b[0;34m[\u001b[0m\u001b[0;36m0\u001b[0m\u001b[0;34m]\u001b[0m\u001b[0;34m,\u001b[0m \u001b[0mturing_output\u001b[0m\u001b[0;34m[\u001b[0m\u001b[0;36m4\u001b[0m\u001b[0;34m]\u001b[0m\u001b[0;34m[\u001b[0m\u001b[0;36m0\u001b[0m\u001b[0;34m]\u001b[0m\u001b[0;34m\u001b[0m\u001b[0;34m\u001b[0m\u001b[0m\n",
      "\u001b[0;32m~/Documents/modelling/venv/lib/python3.7/site-packages/pandas/core/indexing.py\u001b[0m in \u001b[0;36m__getitem__\u001b[0;34m(self, key)\u001b[0m\n\u001b[1;32m   1766\u001b[0m \u001b[0;34m\u001b[0m\u001b[0m\n\u001b[1;32m   1767\u001b[0m             \u001b[0mmaybe_callable\u001b[0m \u001b[0;34m=\u001b[0m \u001b[0mcom\u001b[0m\u001b[0;34m.\u001b[0m\u001b[0mapply_if_callable\u001b[0m\u001b[0;34m(\u001b[0m\u001b[0mkey\u001b[0m\u001b[0;34m,\u001b[0m \u001b[0mself\u001b[0m\u001b[0;34m.\u001b[0m\u001b[0mobj\u001b[0m\u001b[0;34m)\u001b[0m\u001b[0;34m\u001b[0m\u001b[0;34m\u001b[0m\u001b[0m\n\u001b[0;32m-> 1768\u001b[0;31m             \u001b[0;32mreturn\u001b[0m \u001b[0mself\u001b[0m\u001b[0;34m.\u001b[0m\u001b[0m_getitem_axis\u001b[0m\u001b[0;34m(\u001b[0m\u001b[0mmaybe_callable\u001b[0m\u001b[0;34m,\u001b[0m \u001b[0maxis\u001b[0m\u001b[0;34m=\u001b[0m\u001b[0maxis\u001b[0m\u001b[0;34m)\u001b[0m\u001b[0;34m\u001b[0m\u001b[0;34m\u001b[0m\u001b[0m\n\u001b[0m\u001b[1;32m   1769\u001b[0m \u001b[0;34m\u001b[0m\u001b[0m\n\u001b[1;32m   1770\u001b[0m     \u001b[0;32mdef\u001b[0m \u001b[0m_is_scalar_access\u001b[0m\u001b[0;34m(\u001b[0m\u001b[0mself\u001b[0m\u001b[0;34m,\u001b[0m \u001b[0mkey\u001b[0m\u001b[0;34m:\u001b[0m \u001b[0mTuple\u001b[0m\u001b[0;34m)\u001b[0m\u001b[0;34m:\u001b[0m\u001b[0;34m\u001b[0m\u001b[0;34m\u001b[0m\u001b[0m\n",
      "\u001b[0;32m~/Documents/modelling/venv/lib/python3.7/site-packages/pandas/core/indexing.py\u001b[0m in \u001b[0;36m_getitem_axis\u001b[0;34m(self, key, axis)\u001b[0m\n\u001b[1;32m   2136\u001b[0m \u001b[0;34m\u001b[0m\u001b[0m\n\u001b[1;32m   2137\u001b[0m             \u001b[0;31m# validate the location\u001b[0m\u001b[0;34m\u001b[0m\u001b[0;34m\u001b[0m\u001b[0;34m\u001b[0m\u001b[0m\n\u001b[0;32m-> 2138\u001b[0;31m             \u001b[0mself\u001b[0m\u001b[0;34m.\u001b[0m\u001b[0m_validate_integer\u001b[0m\u001b[0;34m(\u001b[0m\u001b[0mkey\u001b[0m\u001b[0;34m,\u001b[0m \u001b[0maxis\u001b[0m\u001b[0;34m)\u001b[0m\u001b[0;34m\u001b[0m\u001b[0;34m\u001b[0m\u001b[0m\n\u001b[0m\u001b[1;32m   2139\u001b[0m \u001b[0;34m\u001b[0m\u001b[0m\n\u001b[1;32m   2140\u001b[0m             \u001b[0;32mreturn\u001b[0m \u001b[0mself\u001b[0m\u001b[0;34m.\u001b[0m\u001b[0m_get_loc\u001b[0m\u001b[0;34m(\u001b[0m\u001b[0mkey\u001b[0m\u001b[0;34m,\u001b[0m \u001b[0maxis\u001b[0m\u001b[0;34m=\u001b[0m\u001b[0maxis\u001b[0m\u001b[0;34m)\u001b[0m\u001b[0;34m\u001b[0m\u001b[0;34m\u001b[0m\u001b[0m\n",
      "\u001b[0;32m~/Documents/modelling/venv/lib/python3.7/site-packages/pandas/core/indexing.py\u001b[0m in \u001b[0;36m_validate_integer\u001b[0;34m(self, key, axis)\u001b[0m\n\u001b[1;32m   2061\u001b[0m         \u001b[0mlen_axis\u001b[0m \u001b[0;34m=\u001b[0m \u001b[0mlen\u001b[0m\u001b[0;34m(\u001b[0m\u001b[0mself\u001b[0m\u001b[0;34m.\u001b[0m\u001b[0mobj\u001b[0m\u001b[0;34m.\u001b[0m\u001b[0m_get_axis\u001b[0m\u001b[0;34m(\u001b[0m\u001b[0maxis\u001b[0m\u001b[0;34m)\u001b[0m\u001b[0;34m)\u001b[0m\u001b[0;34m\u001b[0m\u001b[0;34m\u001b[0m\u001b[0m\n\u001b[1;32m   2062\u001b[0m         \u001b[0;32mif\u001b[0m \u001b[0mkey\u001b[0m \u001b[0;34m>=\u001b[0m \u001b[0mlen_axis\u001b[0m \u001b[0;32mor\u001b[0m \u001b[0mkey\u001b[0m \u001b[0;34m<\u001b[0m \u001b[0;34m-\u001b[0m\u001b[0mlen_axis\u001b[0m\u001b[0;34m:\u001b[0m\u001b[0;34m\u001b[0m\u001b[0;34m\u001b[0m\u001b[0m\n\u001b[0;32m-> 2063\u001b[0;31m             \u001b[0;32mraise\u001b[0m \u001b[0mIndexError\u001b[0m\u001b[0;34m(\u001b[0m\u001b[0;34m\"single positional indexer is out-of-bounds\"\u001b[0m\u001b[0;34m)\u001b[0m\u001b[0;34m\u001b[0m\u001b[0;34m\u001b[0m\u001b[0m\n\u001b[0m\u001b[1;32m   2064\u001b[0m \u001b[0;34m\u001b[0m\u001b[0m\n\u001b[1;32m   2065\u001b[0m     \u001b[0;32mdef\u001b[0m \u001b[0m_getitem_tuple\u001b[0m\u001b[0;34m(\u001b[0m\u001b[0mself\u001b[0m\u001b[0;34m,\u001b[0m \u001b[0mtup\u001b[0m\u001b[0;34m:\u001b[0m \u001b[0mTuple\u001b[0m\u001b[0;34m)\u001b[0m\u001b[0;34m:\u001b[0m\u001b[0;34m\u001b[0m\u001b[0;34m\u001b[0m\u001b[0m\n",
      "\u001b[0;31mIndexError\u001b[0m: single positional indexer is out-of-bounds"
     ]
    }
   ],
   "source": [
    "#calculating wavelenght of all parameter sets \n",
    "turing_df= pickle.load(open(path + '/results/turing_dataframes/circuit%r%s_turingI_monostable_df.pkl'%(circuit_n,modification),'rb'))\n",
    "\n",
    "wavelenght_list = []\n",
    "maxeig_list = []\n",
    "for n in range(0,201):\n",
    "    par_dict = turing_df.iloc[n].to_dict()\n",
    "    turing_output= detailed_turing_analysis_dict(par_dict,circuit_n)\n",
    "    steadystates,eigenvalues =turing_output[0][0], turing_output[4][0]\n",
    "    wavelenght_list.append(wavelenght_from_dispersion(eigenvalues))\n",
    "    maxeig_list.append(np.real(turing_output[2][0]))\n"
   ]
  },
  {
   "cell_type": "code",
   "execution_count": 14,
   "metadata": {},
   "outputs": [
    {
     "name": "stdout",
     "output_type": "stream",
     "text": [
      "0:0.08518514304558195\n",
      "1:0.0049030675662846785\n",
      "2:0.023443486669962696\n",
      "3:0.04863266290518515\n",
      "4:0.004453781265538947\n",
      "5:0.276068984603014\n",
      "6:0.005302599566800426\n",
      "7:0.021347102503966934\n",
      "8:0.02031414551535008\n",
      "9:0.006277950532264659\n",
      "10:0.004359817052391915\n",
      "11:0.009674699031952548\n",
      "12:0.013571782478862877\n",
      "13:0.06150124368163087\n",
      "14:0.0020013587185170535\n",
      "15:0.10450091699233047\n",
      "16:0.003224342912636596\n",
      "17:0.011504429237854752\n",
      "18:0.004063815816545972\n",
      "19:0.04417488791669399\n",
      "20:0.004202468149739576\n",
      "21:0.022667502271355416\n",
      "22:0.4288845344927745\n",
      "23:0.0677701261147069\n",
      "24:0.07721954779313593\n",
      "25:0.2471219121294698\n",
      "26:0.01379604777890589\n",
      "27:0.0025477124735798933\n",
      "28:0.09359833268478708\n",
      "29:0.005165594560157295\n",
      "30:0.02070704846669605\n",
      "31:0.6283386298338625\n",
      "32:0.039030841343845324\n",
      "33:0.014862278454575162\n",
      "34:0.0012291741066544227\n",
      "35:0.12054044193547879\n",
      "36:0.003736276260326936\n",
      "37:0.4351282618176165\n",
      "38:0.006589283708392512\n"
     ]
    }
   ],
   "source": [
    "for n,wvl in enumerate(maxeig_list):\n",
    "    print (str(n) +':'+ str(wvl))"
   ]
  },
  {
   "cell_type": "code",
   "execution_count": null,
   "metadata": {},
   "outputs": [],
   "source": []
  },
  {
   "cell_type": "code",
   "execution_count": 10,
   "metadata": {},
   "outputs": [
    {
     "name": "stdout",
     "output_type": "stream",
     "text": [
      "Wavelenght mean = 1.4047364739745904\n"
     ]
    },
    {
     "data": {
      "text/plain": [
       "(0.11855364552459989, 10.526315789473685)"
      ]
     },
     "execution_count": 10,
     "metadata": {},
     "output_type": "execute_result"
    },
    {
     "data": {
      "image/png": "[encoded data removed]",
      "text/plain": [
       "<Figure size 432x288 with 1 Axes>"
      ]
     },
     "metadata": {
      "needs_background": "light"
     },
     "output_type": "display_data"
    }
   ],
   "source": [
    "print('Wavelenght mean = ' +  str(np.mean(wavelenght_list)))\n",
    "_=plt.hist(wavelenght_list,bins = 30, alpha = 0.5, histtype='bar', ec='black')\n",
    "plt.xlabel('Wavelength (mm)')\n",
    "plt.ylabel('Frequency')\n",
    "np.amin(wavelenght_list), np.amax(wavelenght_list)"
   ]
  },
  {
   "cell_type": "code",
   "execution_count": 11,
   "metadata": {},
   "outputs": [
    {
     "data": {
      "text/plain": [
       "Text(0, 0.5, 'Dispersion height')"
      ]
     },
     "execution_count": 11,
     "metadata": {},
     "output_type": "execute_result"
    },
    {
     "data": {
      "image/png": "[encoded data removed]",
      "text/plain": [
       "<Figure size 432x288 with 1 Axes>"
      ]
     },
     "metadata": {
      "needs_background": "light"
     },
     "output_type": "display_data"
    }
   ],
   "source": [
    "plt.scatter(wavelenght_list,maxeig_list)\n",
    "plt.xlabel('Wavelength (mm)')\n",
    "plt.ylabel('Dispersion height')"
   ]
  },
  {
   "cell_type": "markdown",
   "metadata": {},
   "source": [
    "# Diffusion versus wavelength"
   ]
  },
  {
   "cell_type": "code",
   "execution_count": 12,
   "metadata": {},
   "outputs": [
    {
     "data": {
      "text/plain": [
       "0.001"
      ]
     },
     "execution_count": 12,
     "metadata": {},
     "output_type": "execute_result"
    }
   ],
   "source": [
    "d_B = turing_df['d_B'].tolist()\n",
    "# len(wavelenght_list)\n",
    "d_B[8]"
   ]
  },
  {
   "cell_type": "code",
   "execution_count": 15,
   "metadata": {},
   "outputs": [
    {
     "data": {
      "text/plain": [
       "Text(0, 0.5, 'd_B')"
      ]
     },
     "execution_count": 15,
     "metadata": {},
     "output_type": "execute_result"
    },
    {
     "data": {
      "image/png": "[encoded data removed]",
      "text/plain": [
       "<Figure size 432x288 with 1 Axes>"
      ]
     },
     "metadata": {
      "needs_background": "light"
     },
     "output_type": "display_data"
    }
   ],
   "source": [
    "plt.scatter(wavelenght_list, d_B[:201])\n",
    "plt.xscale('log')\n",
    "plt.xlabel('Wavelength (mm) log')\n",
    "plt.ylabel('d_B')\n",
    "\n"
   ]
  },
  {
   "cell_type": "code",
   "execution_count": null,
   "metadata": {},
   "outputs": [],
   "source": []
  }
 ],
 "metadata": {
  "kernelspec": {
   "display_name": "Python 3",
   "language": "python",
   "name": "python3"
  },
  "language_info": {
   "codemirror_mode": {
    "name": "ipython",
    "version": 3
   },
   "file_extension": ".py",
   "mimetype": "text/x-python",
   "name": "python",
   "nbconvert_exporter": "python",
   "pygments_lexer": "ipython3",
   "version": "3.8.0"
  }
 },
 "nbformat": 4,
 "nbformat_minor": 4
}
