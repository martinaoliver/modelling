{
 "cells": [
  {
   "cell_type": "code",
   "execution_count": 1,
   "metadata": {
    "code_folding": []
   },
   "outputs": [],
   "source": [
    "#import module folder containing general functions used frequently\n",
    "modulepath = '/Users/mo2016/Documents/modelling/6eq/modules'\n",
    "import sys\n",
    "sys.path.append(modulepath)\n",
    "\n",
    "#importing functions from that module folder\n",
    "from parametercombination_analysis import *\n",
    "from randomfunctions import wavelenght_from_dispersion, plot_highest_dispersion\n",
    "from class_circuit_eq import *\n",
    "from lhs import *\n",
    "from findsteadystates_functions import *\n",
    "from dispersionrelation_functions import *\n",
    "# from lsafunctions import jacobianlsa\n",
    "\n",
    "\n",
    "#other imports\n",
    "import time\n",
    "import datetime\n",
    "import scipy.io\n",
    "import numpy as np\n",
    "from numpy import linalg as LA\n",
    "import pickle\n",
    "import matplotlib.pyplot as plt\n",
    "import matplotlib.animation as animation\n",
    "import re\n",
    "#path of folder containing code, results, parameter files\n",
    "path = '/Users/mo2016/Documents/modelling/6eq/parameter_space_search'\n",
    "PCApath = '/Users/mo2016/Documents/modelling/6eq/PCA'\n",
    "\n",
    "from datetime import date, timedelta\n",
    "\n",
    "# date_yesterday = (date.today() - timedelta(2)).isoformat()\n",
    "# date_yesterday = str(date.today())"
   ]
  },
  {
   "cell_type": "markdown",
   "metadata": {},
   "source": [
    "# Functions for Data Analysis of parameter search output"
   ]
  },
  {
   "cell_type": "code",
   "execution_count": 2,
   "metadata": {},
   "outputs": [],
   "source": [
    "# date = '2020-11-26'\n",
    "circuit_n=2"
   ]
  },
  {
   "cell_type": "markdown",
   "metadata": {},
   "source": [
    "This function obtains Turing IDs from all dataframes of that date and put them in a dictionary with their dataframe number.\n",
    "\n",
    "TI/TII and monostable/multistable systems can be filtered\n",
    "\n"
   ]
  },
  {
   "cell_type": "code",
   "execution_count": 3,
   "metadata": {
    "scrolled": true
   },
   "outputs": [],
   "source": [
    "# turing_type indicates if we want the dictionary to contain only TI or also TI and TII. \n",
    "# ss_n indicates if we want only monostable systems in our dictionary (ss_n=1) or multistable (ss_n =/ 1).\n",
    "\n",
    "def ID_df_location_search(date,turing_type,ss_n):\n",
    "    ID_df_location = {}\n",
    "    for df_n in range (64):\n",
    "        with open(path + '/results/output/output_%s/output.%r-1'%(date,df_n), 'r') as input:\n",
    "            input_ = input.read().split(\"\\n\\n\")   #\\n\\n denotes there is a blank line in between paragraphs.\n",
    "        for line in input_:\n",
    "                if turing_type == 'TI':\n",
    "                    if 'Turing I ' in line:\n",
    "                        ID = re.findall(r'\\d+\\.{0,1}\\d*', line)\n",
    "                        if ss_n==1: #to filter turing systems with only one steady state\n",
    "                            ss_n_line = line.count('[')\n",
    "                            if ss_n_line == 1:\n",
    "                                ID_df_location[ID[0]] = df_n\n",
    "                        else:\n",
    "                            ss_n_line = line.count('[')\n",
    "                            if ss_n_line > 1:\n",
    "                                ID_df_location[ID[0]] = df_n\n",
    "\n",
    "                if turing_type == 'TII':\n",
    "                    if 'Turing II ' in line:\n",
    "                        ID = re.findall(r'\\d+\\.{0,1}\\d*', line)\n",
    "                        if ss_n==1: #to filter turing systems with only one steady state\n",
    "                            ss_n_line = line.count('[')\n",
    "                            if ss_n_line == 1:\n",
    "                                ID_df_location[ID[0]] = df_n\n",
    "                        else:\n",
    "                            ss_n_line = line.count('[')\n",
    "                            if ss_n_line > 1:\n",
    "                                ID_df_location[ID[0]] = df_n\n",
    "\n",
    "\n",
    "\n",
    "                        \n",
    "                if turing_type == 'TI-II': #option activated if interested in TII as well\n",
    "                    if 'Turing I ' in line or 'Turing II ' in line:\n",
    "                        ID = re.findall(r'\\d+\\.{0,1}\\d*', line)\n",
    "                        if ss_n==1:\n",
    "                            ss_n_line = line.count('[')\n",
    "                            if ss_n_line == 1:\n",
    "                                ID_df_location[ID[0]] = df_n\n",
    "                        else:\n",
    "                            ss_n_line = line.count('[')\n",
    "                            if ss_n_line > 1:\n",
    "                                ID_df_location[ID[0]] = df_n\n",
    "    \n",
    "\n",
    "    return ID_df_location\n",
    "\n"
   ]
  },
  {
   "cell_type": "markdown",
   "metadata": {},
   "source": [
    "This function takes the dictionary with IDs and dataframe number and creates a dataframe with all turing parameter sets of the search."
   ]
  },
  {
   "cell_type": "code",
   "execution_count": 4,
   "metadata": {
    "code_folding": [
     0
    ],
    "scrolled": true
   },
   "outputs": [],
   "source": [
    "def dictionary_to_parameter_df(ID_df_location):\n",
    "    turing_df = pd.DataFrame()\n",
    "    for ID, df_n in ID_df_location.items():\n",
    "        df_parameterfile_filename = 'df_parameterfile_%s_ID%r.pkl'%(date,df_n)\n",
    "        df_parameterfile= pickle.load( open(path +  '/parameterfiles/df_parameterfile_%s/%s'%(date,df_parameterfile_filename), \"rb\" ) )\n",
    "        turing_df = turing_df.append(df_parameterfile.iloc[int(ID)])\n",
    "    return turing_df"
   ]
  },
  {
   "cell_type": "code",
   "execution_count": 25,
   "metadata": {
    "code_folding": [
     0
    ],
    "scrolled": true
   },
   "outputs": [
    {
     "data": {
      "text/html": [
       "<div>\n",
       "<style scoped>\n",
       "    .dataframe tbody tr th:only-of-type {\n",
       "        vertical-align: middle;\n",
       "    }\n",
       "\n",
       "    .dataframe tbody tr th {\n",
       "        vertical-align: top;\n",
       "    }\n",
       "\n",
       "    .dataframe thead th {\n",
       "        text-align: right;\n",
       "    }\n",
       "</style>\n",
       "<table border=\"1\" class=\"dataframe\">\n",
       "  <thead>\n",
       "    <tr style=\"text-align: right;\">\n",
       "      <th></th>\n",
       "      <th>Va</th>\n",
       "      <th>Vb</th>\n",
       "      <th>Vc</th>\n",
       "      <th>Vd</th>\n",
       "      <th>Ve</th>\n",
       "      <th>Vf</th>\n",
       "      <th>ba</th>\n",
       "      <th>bb</th>\n",
       "      <th>bc</th>\n",
       "      <th>bd</th>\n",
       "      <th>...</th>\n",
       "      <th>kaa</th>\n",
       "      <th>kbd</th>\n",
       "      <th>kce</th>\n",
       "      <th>kda</th>\n",
       "      <th>keb</th>\n",
       "      <th>kee</th>\n",
       "      <th>kfe</th>\n",
       "      <th>mua</th>\n",
       "      <th>mulva</th>\n",
       "      <th>n</th>\n",
       "    </tr>\n",
       "  </thead>\n",
       "  <tbody>\n",
       "    <tr>\n",
       "      <th>34336</th>\n",
       "      <td>389.830670</td>\n",
       "      <td>767.148734</td>\n",
       "      <td>10.645868</td>\n",
       "      <td>47.249654</td>\n",
       "      <td>480.476659</td>\n",
       "      <td>752.428179</td>\n",
       "      <td>0.022673</td>\n",
       "      <td>0.174976</td>\n",
       "      <td>0.013282</td>\n",
       "      <td>0.027499</td>\n",
       "      <td>...</td>\n",
       "      <td>0.898574</td>\n",
       "      <td>0.102841</td>\n",
       "      <td>0.1</td>\n",
       "      <td>0.130455</td>\n",
       "      <td>1.209547</td>\n",
       "      <td>0.251319</td>\n",
       "      <td>4.151470</td>\n",
       "      <td>9.499403</td>\n",
       "      <td>0.498138</td>\n",
       "      <td>2.0</td>\n",
       "    </tr>\n",
       "    <tr>\n",
       "      <th>44164</th>\n",
       "      <td>47.143959</td>\n",
       "      <td>47.162974</td>\n",
       "      <td>15.970387</td>\n",
       "      <td>185.263909</td>\n",
       "      <td>625.208634</td>\n",
       "      <td>93.288002</td>\n",
       "      <td>0.111583</td>\n",
       "      <td>0.029547</td>\n",
       "      <td>0.080406</td>\n",
       "      <td>0.898194</td>\n",
       "      <td>...</td>\n",
       "      <td>9.117097</td>\n",
       "      <td>10.848812</td>\n",
       "      <td>0.1</td>\n",
       "      <td>11.583859</td>\n",
       "      <td>15.845527</td>\n",
       "      <td>2.869895</td>\n",
       "      <td>243.759800</td>\n",
       "      <td>0.098163</td>\n",
       "      <td>0.049330</td>\n",
       "      <td>2.0</td>\n",
       "    </tr>\n",
       "    <tr>\n",
       "      <th>13138</th>\n",
       "      <td>42.056787</td>\n",
       "      <td>453.349594</td>\n",
       "      <td>21.323489</td>\n",
       "      <td>113.062552</td>\n",
       "      <td>367.439924</td>\n",
       "      <td>34.294264</td>\n",
       "      <td>0.039063</td>\n",
       "      <td>0.071115</td>\n",
       "      <td>0.227921</td>\n",
       "      <td>0.554200</td>\n",
       "      <td>...</td>\n",
       "      <td>0.370126</td>\n",
       "      <td>22.571450</td>\n",
       "      <td>0.5</td>\n",
       "      <td>0.408499</td>\n",
       "      <td>1.376394</td>\n",
       "      <td>0.199541</td>\n",
       "      <td>0.191634</td>\n",
       "      <td>1.472939</td>\n",
       "      <td>1.073045</td>\n",
       "      <td>2.0</td>\n",
       "    </tr>\n",
       "    <tr>\n",
       "      <th>24010</th>\n",
       "      <td>650.725536</td>\n",
       "      <td>194.242433</td>\n",
       "      <td>34.461388</td>\n",
       "      <td>34.518959</td>\n",
       "      <td>21.968120</td>\n",
       "      <td>31.799045</td>\n",
       "      <td>0.220897</td>\n",
       "      <td>0.022901</td>\n",
       "      <td>0.013959</td>\n",
       "      <td>0.101054</td>\n",
       "      <td>...</td>\n",
       "      <td>0.124936</td>\n",
       "      <td>0.854978</td>\n",
       "      <td>0.5</td>\n",
       "      <td>0.651374</td>\n",
       "      <td>11.758644</td>\n",
       "      <td>3.240613</td>\n",
       "      <td>14.112251</td>\n",
       "      <td>18.204924</td>\n",
       "      <td>0.531360</td>\n",
       "      <td>2.0</td>\n",
       "    </tr>\n",
       "    <tr>\n",
       "      <th>1441</th>\n",
       "      <td>346.409512</td>\n",
       "      <td>284.101657</td>\n",
       "      <td>28.237888</td>\n",
       "      <td>956.719957</td>\n",
       "      <td>14.440079</td>\n",
       "      <td>53.380670</td>\n",
       "      <td>0.499820</td>\n",
       "      <td>0.024989</td>\n",
       "      <td>0.509650</td>\n",
       "      <td>0.197571</td>\n",
       "      <td>...</td>\n",
       "      <td>0.213406</td>\n",
       "      <td>20.475719</td>\n",
       "      <td>0.5</td>\n",
       "      <td>3.508848</td>\n",
       "      <td>2.241972</td>\n",
       "      <td>1.561831</td>\n",
       "      <td>5.231167</td>\n",
       "      <td>10.106561</td>\n",
       "      <td>0.417408</td>\n",
       "      <td>2.0</td>\n",
       "    </tr>\n",
       "  </tbody>\n",
       "</table>\n",
       "<p>5 rows × 24 columns</p>\n",
       "</div>"
      ],
      "text/plain": [
       "               Va          Vb         Vc          Vd          Ve          Vf  \\\n",
       "34336  389.830670  767.148734  10.645868   47.249654  480.476659  752.428179   \n",
       "44164   47.143959   47.162974  15.970387  185.263909  625.208634   93.288002   \n",
       "13138   42.056787  453.349594  21.323489  113.062552  367.439924   34.294264   \n",
       "24010  650.725536  194.242433  34.461388   34.518959   21.968120   31.799045   \n",
       "1441   346.409512  284.101657  28.237888  956.719957   14.440079   53.380670   \n",
       "\n",
       "             ba        bb        bc        bd  ...       kaa        kbd  kce  \\\n",
       "34336  0.022673  0.174976  0.013282  0.027499  ...  0.898574   0.102841  0.1   \n",
       "44164  0.111583  0.029547  0.080406  0.898194  ...  9.117097  10.848812  0.1   \n",
       "13138  0.039063  0.071115  0.227921  0.554200  ...  0.370126  22.571450  0.5   \n",
       "24010  0.220897  0.022901  0.013959  0.101054  ...  0.124936   0.854978  0.5   \n",
       "1441   0.499820  0.024989  0.509650  0.197571  ...  0.213406  20.475719  0.5   \n",
       "\n",
       "             kda        keb       kee         kfe        mua     mulva    n  \n",
       "34336   0.130455   1.209547  0.251319    4.151470   9.499403  0.498138  2.0  \n",
       "44164  11.583859  15.845527  2.869895  243.759800   0.098163  0.049330  2.0  \n",
       "13138   0.408499   1.376394  0.199541    0.191634   1.472939  1.073045  2.0  \n",
       "24010   0.651374  11.758644  3.240613   14.112251  18.204924  0.531360  2.0  \n",
       "1441    3.508848   2.241972  1.561831    5.231167  10.106561  0.417408  2.0  \n",
       "\n",
       "[5 rows x 24 columns]"
      ]
     },
     "execution_count": 25,
     "metadata": {},
     "output_type": "execute_result"
    }
   ],
   "source": [
    "def chunks(lst, n):\n",
    "    \"\"\"Yield successive n-sized chunks from lst.\"\"\"\n",
    "    for i in range(0, len(lst), n):\n",
    "        yield lst[i:i + n]\n",
    "        \n",
    "\n",
    "def dictionary_to_parameter_df(ID_df_location, chunked_list):\n",
    "    turing_df_list = []\n",
    "    for ID, df_n in ID_df_location.items():\n",
    "        if df_n in chunked_list[0]:\n",
    "            turing_df = pd.DataFrame()\n",
    "            df_parameterfile_filename = 'df_parameterfile_%s_ID%r.pkl'%(date,df_n)\n",
    "            df_parameterfile= pickle.load( open(path +  '/parameterfiles/df_parameterfile_%s/%s'%(date,df_parameterfile_filename), \"rb\" ) )\n",
    "            turing_df = turing_df.append(df_parameterfile.iloc[int(ID)])\n",
    "            turing_df_list.append(turing_df)\n",
    "        if df_n in chunked_list[1]:\n",
    "            turing_df = pd.DataFrame()\n",
    "            df_parameterfile_filename = 'df_parameterfile_%s_ID%r.pkl'%(date,df_n)\n",
    "            df_parameterfile= pickle.load( open(path +  '/parameterfiles/df_parameterfile_%s/%s'%(date,df_parameterfile_filename), \"rb\" ) )\n",
    "            turing_df = turing_df.append(df_parameterfile.iloc[int(ID)])\n",
    "            turing_df_list.append(turing_df)\n",
    "        if df_n in chunked_list[2]:\n",
    "            turing_df = pd.DataFrame()\n",
    "            df_parameterfile_filename = 'df_parameterfile_%s_ID%r.pkl'%(date,df_n)\n",
    "            df_parameterfile= pickle.load( open(path +  '/parameterfiles/df_parameterfile_%s/%s'%(date,df_parameterfile_filename), \"rb\" ) )\n",
    "            turing_df = turing_df.append(df_parameterfile.iloc[int(ID)])\n",
    "            turing_df_list.append(turing_df)\n",
    "        if df_n in chunked_list[3]:\n",
    "            turing_df = pd.DataFrame()\n",
    "            df_parameterfile_filename = 'df_parameterfile_%s_ID%r.pkl'%(date,df_n)\n",
    "            df_parameterfile= pickle.load( open(path +  '/parameterfiles/df_parameterfile_%s/%s'%(date,df_parameterfile_filename), \"rb\" ) )\n",
    "            turing_df = turing_df.append(df_parameterfile.iloc[int(ID)])\n",
    "            turing_df_list.append(turing_df)\n",
    "        \n",
    "    return turing_df_list\n",
    "\n",
    "n_conditions = 8\n",
    "chunked_list = list(chunks(list(range(0,64)),n_conditions))\n",
    "\n",
    "date = '2020-11-27'\n",
    "\n",
    "ID_df_location = ID_df_location_search(date, 'TI', 1)\n",
    "turing_df_list = dictionary_to_parameter_df(ID_df_location, chunked_list)\n",
    "\n",
    "\n",
    "turing_df_list[4]"
   ]
  },
  {
   "cell_type": "code",
   "execution_count": 14,
   "metadata": {},
   "outputs": [],
   "source": [
    "\n"
   ]
  },
  {
   "cell_type": "markdown",
   "metadata": {},
   "source": [
    "# Code using functions for data analysis of parameter search"
   ]
  },
  {
   "cell_type": "code",
   "execution_count": 5,
   "metadata": {
    "code_folding": []
   },
   "outputs": [
    {
     "name": "stdout",
     "output_type": "stream",
     "text": [
      "1586\n",
      "1443\n",
      "51\n",
      "72\n"
     ]
    }
   ],
   "source": [
    "turing_df = pd.DataFrame()\n",
    "if circuit_n==1:\n",
    "    date_list = ['2020-10-05',  '2020-10-06', '2020-10-07', '2020-10-09', '2020-10-12', '2020-10-14',] #Circuit 1\n",
    "if circuit_n==2:\n",
    "    date_list = ['2020-11-27']\n",
    "\n",
    "modification = 'robustness1'\n",
    "for date in date_list:\n",
    "    ID_df_location = ID_df_location_search(date, 'TI', 1)\n",
    "    turing_df = turing_df.append(dictionary_to_parameter_df(ID_df_location))\n",
    "    print(len(turing_df))\n",
    "# turing_df.to_pickle(path + '/results/turing_dataframes/circuit%r%s_turingI_monostable_df.pkl'%(circuit_n,modification))\n",
    "\n",
    "turing_df = pd.DataFrame()\n",
    "for date in date_list:\n",
    "    ID_df_location = ID_df_location_search(date, 'TI', 2)\n",
    "    turing_df = turing_df.append(dictionary_to_parameter_df(ID_df_location))\n",
    "    print(len(turing_df))\n",
    "\n",
    "# turing_df.to_pickle(path + '/results/turing_dataframes/circuit%r%s_turingI_multistable_df.pkl'%(circuit_n,modification))\n",
    "\n",
    "turing_df = pd.DataFrame()\n",
    "for date in date_list:\n",
    "    ID_df_location = ID_df_location_search(date, 'TII', 1)\n",
    "    turing_df = turing_df.append(dictionary_to_parameter_df(ID_df_location))\n",
    "    print(len(turing_df))\n",
    "\n",
    "# turing_df.to_pickle(path + '/results/turing_dataframes/circuit%r%s_turingII_monostable_df.pkl'%(circuit_n,modification))\n",
    "\n",
    "turing_df = pd.DataFrame()\n",
    "for date in date_list:\n",
    "    ID_df_location = ID_df_location_search(date, 'TII', 2)\n",
    "    turing_df = turing_df.append(dictionary_to_parameter_df(ID_df_location))\n",
    "    print(len(turing_df))\n",
    "\n",
    "# turing_df.to_pickle(path + '/results/turing_dataframes/circuit%r%s_turingII_multistable_df.pkl'%(circuit_n,modification))\n",
    "\n",
    "\n",
    "\n",
    "\n"
   ]
  },
  {
   "cell_type": "markdown",
   "metadata": {},
   "source": [
    "# Wavelenght distribution and relationship with dispersion"
   ]
  },
  {
   "cell_type": "code",
   "execution_count": 14,
   "metadata": {
    "scrolled": true
   },
   "outputs": [
    {
     "name": "stdout",
     "output_type": "stream",
     "text": [
      "[ 0.06319376  0.31499138 30.51409552 24.62009209 29.9034853  13.58838009]\n",
      "Turing I pattern\n",
      "[   3.6818063    13.34795986   73.7143684  1899.74983675   86.79906368\n",
      " 1455.54107301]\n",
      "Turing I pattern\n",
      "[ 0.22830311  0.66448951  0.22023023  9.4663312   2.70878465 29.14047666]\n",
      "Turing I pattern\n",
      "[8.79874195e-02 2.85012942e-02 1.37847311e+01 4.72315912e+01\n",
      " 1.83907284e+01 2.80907795e+00]\n",
      "Turing I pattern\n",
      "[ 0.06406769  0.2174572  16.55199258  4.72857604  6.70149812  1.27024703]\n",
      "Turing I pattern\n"
     ]
    },
    {
     "ename": "KeyboardInterrupt",
     "evalue": "",
     "output_type": "error",
     "traceback": [
      "\u001b[0;31m---------------------------------------------------------------------------\u001b[0m",
      "\u001b[0;31mKeyboardInterrupt\u001b[0m                         Traceback (most recent call last)",
      "\u001b[0;32m<ipython-input-14-85e1e65cea1d>\u001b[0m in \u001b[0;36m<module>\u001b[0;34m\u001b[0m\n\u001b[1;32m      6\u001b[0m \u001b[0;32mfor\u001b[0m \u001b[0mn\u001b[0m \u001b[0;32min\u001b[0m \u001b[0mrange\u001b[0m\u001b[0;34m(\u001b[0m\u001b[0mlen\u001b[0m\u001b[0;34m(\u001b[0m\u001b[0mturing_df\u001b[0m\u001b[0;34m)\u001b[0m\u001b[0;34m)\u001b[0m\u001b[0;34m:\u001b[0m\u001b[0;34m\u001b[0m\u001b[0;34m\u001b[0m\u001b[0m\n\u001b[1;32m      7\u001b[0m     \u001b[0mpar_dict\u001b[0m \u001b[0;34m=\u001b[0m \u001b[0mturing_df\u001b[0m\u001b[0;34m.\u001b[0m\u001b[0miloc\u001b[0m\u001b[0;34m[\u001b[0m\u001b[0mn\u001b[0m\u001b[0;34m]\u001b[0m\u001b[0;34m.\u001b[0m\u001b[0mto_dict\u001b[0m\u001b[0;34m(\u001b[0m\u001b[0;34m)\u001b[0m\u001b[0;34m\u001b[0m\u001b[0;34m\u001b[0m\u001b[0m\n\u001b[0;32m----> 8\u001b[0;31m     \u001b[0mturing_output\u001b[0m\u001b[0;34m=\u001b[0m \u001b[0mdetailed_turing_analysis_dict\u001b[0m\u001b[0;34m(\u001b[0m\u001b[0mpar_dict\u001b[0m\u001b[0;34m,\u001b[0m\u001b[0mcircuit_n\u001b[0m\u001b[0;34m)\u001b[0m\u001b[0;34m\u001b[0m\u001b[0;34m\u001b[0m\u001b[0m\n\u001b[0m\u001b[1;32m      9\u001b[0m     \u001b[0msteadystates\u001b[0m\u001b[0;34m,\u001b[0m\u001b[0meigenvalues\u001b[0m \u001b[0;34m=\u001b[0m\u001b[0mturing_output\u001b[0m\u001b[0;34m[\u001b[0m\u001b[0;36m0\u001b[0m\u001b[0;34m]\u001b[0m\u001b[0;34m[\u001b[0m\u001b[0;36m0\u001b[0m\u001b[0;34m]\u001b[0m\u001b[0;34m,\u001b[0m \u001b[0mturing_output\u001b[0m\u001b[0;34m[\u001b[0m\u001b[0;36m4\u001b[0m\u001b[0;34m]\u001b[0m\u001b[0;34m[\u001b[0m\u001b[0;36m0\u001b[0m\u001b[0;34m]\u001b[0m\u001b[0;34m\u001b[0m\u001b[0;34m\u001b[0m\u001b[0m\n\u001b[1;32m     10\u001b[0m     \u001b[0mwavelenght_list\u001b[0m\u001b[0;34m.\u001b[0m\u001b[0mappend\u001b[0m\u001b[0;34m(\u001b[0m\u001b[0mwavelenght_from_dispersion\u001b[0m\u001b[0;34m(\u001b[0m\u001b[0meigenvalues\u001b[0m\u001b[0;34m)\u001b[0m\u001b[0;34m)\u001b[0m\u001b[0;34m\u001b[0m\u001b[0;34m\u001b[0m\u001b[0m\n",
      "\u001b[0;32m~/Documents/modelling/6eq/modules/parametercombination_analysis.py\u001b[0m in \u001b[0;36mdetailed_turing_analysis_dict\u001b[0;34m(par_dict, circuit_n)\u001b[0m\n\u001b[1;32m    116\u001b[0m \u001b[0;32mdef\u001b[0m \u001b[0mdetailed_turing_analysis_dict\u001b[0m\u001b[0;34m(\u001b[0m\u001b[0mpar_dict\u001b[0m\u001b[0;34m,\u001b[0m \u001b[0mcircuit_n\u001b[0m\u001b[0;34m)\u001b[0m\u001b[0;34m:\u001b[0m\u001b[0;34m\u001b[0m\u001b[0;34m\u001b[0m\u001b[0m\n\u001b[1;32m    117\u001b[0m \u001b[0;34m\u001b[0m\u001b[0m\n\u001b[0;32m--> 118\u001b[0;31m     \u001b[0msteadystatelist\u001b[0m\u001b[0;34m,\u001b[0m \u001b[0mnumbersteadystates\u001b[0m \u001b[0;34m=\u001b[0m \u001b[0mfindsteadystates\u001b[0m\u001b[0;34m(\u001b[0m\u001b[0mpar_dict\u001b[0m\u001b[0;34m,\u001b[0m \u001b[0mcircuit_n\u001b[0m\u001b[0;34m)\u001b[0m \u001b[0;31m#input a dictionary with the parameters and returns (1) a list with the steady states and (2) the number of steady states.\u001b[0m\u001b[0;34m\u001b[0m\u001b[0;34m\u001b[0m\u001b[0m\n\u001b[0m\u001b[1;32m    119\u001b[0m \u001b[0;34m\u001b[0m\u001b[0m\n\u001b[1;32m    120\u001b[0m     \u001b[0mmaxeig_list\u001b[0m \u001b[0;34m=\u001b[0m \u001b[0;34m[\u001b[0m\u001b[0;34m]\u001b[0m\u001b[0;34m\u001b[0m\u001b[0;34m\u001b[0m\u001b[0m\n",
      "\u001b[0;32m~/Documents/modelling/6eq/modules/findsteadystates_functions.py\u001b[0m in \u001b[0;36mfindsteadystates\u001b[0;34m(par_dict, circuit_n, n_initial_conditions)\u001b[0m\n\u001b[1;32m     99\u001b[0m \u001b[0;34m\u001b[0m\u001b[0m\n\u001b[1;32m    100\u001b[0m     \u001b[0;31m#define initial conditions that will be tested to find all possible steady states (higher n_initial_conditions, higher chance of finding all)\u001b[0m\u001b[0;34m\u001b[0m\u001b[0;34m\u001b[0m\u001b[0;34m\u001b[0m\u001b[0m\n\u001b[0;32m--> 101\u001b[0;31m     \u001b[0minitial_conditions\u001b[0m \u001b[0;34m=\u001b[0m \u001b[0mlhs_initial_conditions\u001b[0m\u001b[0;34m(\u001b[0m\u001b[0mn_initial_conditions\u001b[0m\u001b[0;34m)\u001b[0m\u001b[0;34m\u001b[0m\u001b[0;34m\u001b[0m\u001b[0m\n\u001b[0m\u001b[1;32m    102\u001b[0m \u001b[0;34m\u001b[0m\u001b[0m\n\u001b[1;32m    103\u001b[0m     \u001b[0mclusteredsteadystates\u001b[0m \u001b[0;34m=\u001b[0m \u001b[0mnp\u001b[0m\u001b[0;34m.\u001b[0m\u001b[0mzeros\u001b[0m\u001b[0;34m(\u001b[0m\u001b[0;34m(\u001b[0m\u001b[0mlen\u001b[0m\u001b[0;34m(\u001b[0m\u001b[0minitial_conditions\u001b[0m\u001b[0;34m)\u001b[0m\u001b[0;34m,\u001b[0m \u001b[0;36m6\u001b[0m\u001b[0;34m)\u001b[0m\u001b[0;34m)\u001b[0m\u001b[0;34m\u001b[0m\u001b[0;34m\u001b[0m\u001b[0m\n",
      "\u001b[0;32m~/Documents/modelling/6eq/modules/lhs.py\u001b[0m in \u001b[0;36mlhs_initial_conditions\u001b[0;34m(nsample, n_species)\u001b[0m\n\u001b[1;32m     25\u001b[0m \u001b[0;34m\u001b[0m\u001b[0m\n\u001b[1;32m     26\u001b[0m \u001b[0;32mdef\u001b[0m \u001b[0mlhs_initial_conditions\u001b[0m\u001b[0;34m(\u001b[0m\u001b[0mnsample\u001b[0m\u001b[0;34m,\u001b[0m\u001b[0mn_species\u001b[0m\u001b[0;34m=\u001b[0m\u001b[0;36m6\u001b[0m\u001b[0;34m)\u001b[0m\u001b[0;34m:\u001b[0m\u001b[0;34m\u001b[0m\u001b[0;34m\u001b[0m\u001b[0m\n\u001b[0;32m---> 27\u001b[0;31m     \u001b[0mdata\u001b[0m \u001b[0;34m=\u001b[0m \u001b[0mnp\u001b[0m\u001b[0;34m.\u001b[0m\u001b[0mcolumn_stack\u001b[0m\u001b[0;34m(\u001b[0m\u001b[0;34m(\u001b[0m\u001b[0;34m[\u001b[0m\u001b[0mloguniform\u001b[0m\u001b[0;34m(\u001b[0m\u001b[0msize\u001b[0m\u001b[0;34m=\u001b[0m\u001b[0;36m100000\u001b[0m\u001b[0;34m)\u001b[0m\u001b[0;34m]\u001b[0m\u001b[0;34m*\u001b[0m\u001b[0;36m6\u001b[0m\u001b[0;34m)\u001b[0m\u001b[0;34m)\u001b[0m\u001b[0;34m\u001b[0m\u001b[0;34m\u001b[0m\u001b[0m\n\u001b[0m\u001b[1;32m     28\u001b[0m     \u001b[0minitial_conditions\u001b[0m \u001b[0;34m=\u001b[0m \u001b[0mlhs_list\u001b[0m\u001b[0;34m(\u001b[0m\u001b[0mdata\u001b[0m\u001b[0;34m,\u001b[0m\u001b[0mnsample\u001b[0m\u001b[0;34m)\u001b[0m\u001b[0;34m\u001b[0m\u001b[0;34m\u001b[0m\u001b[0m\n\u001b[1;32m     29\u001b[0m     \u001b[0;32mreturn\u001b[0m \u001b[0minitial_conditions\u001b[0m\u001b[0;34m\u001b[0m\u001b[0;34m\u001b[0m\u001b[0m\n",
      "\u001b[0;32m~/Documents/modelling/6eq/modules/lhs.py\u001b[0m in \u001b[0;36mloguniform\u001b[0;34m(low, high, size)\u001b[0m\n\u001b[1;32m      2\u001b[0m \u001b[0;34m\u001b[0m\u001b[0m\n\u001b[1;32m      3\u001b[0m \u001b[0;32mdef\u001b[0m \u001b[0mloguniform\u001b[0m\u001b[0;34m(\u001b[0m\u001b[0mlow\u001b[0m\u001b[0;34m=\u001b[0m\u001b[0;34m-\u001b[0m\u001b[0;36m3\u001b[0m\u001b[0;34m,\u001b[0m \u001b[0mhigh\u001b[0m\u001b[0;34m=\u001b[0m\u001b[0;36m3\u001b[0m\u001b[0;34m,\u001b[0m \u001b[0msize\u001b[0m\u001b[0;34m=\u001b[0m\u001b[0;32mNone\u001b[0m\u001b[0;34m)\u001b[0m\u001b[0;34m:\u001b[0m\u001b[0;34m\u001b[0m\u001b[0;34m\u001b[0m\u001b[0m\n\u001b[0;32m----> 4\u001b[0;31m     \u001b[0;32mreturn\u001b[0m \u001b[0;34m(\u001b[0m\u001b[0;36m10\u001b[0m\u001b[0;34m)\u001b[0m\u001b[0;34m**\u001b[0m\u001b[0;34m(\u001b[0m\u001b[0mnp\u001b[0m\u001b[0;34m.\u001b[0m\u001b[0mrandom\u001b[0m\u001b[0;34m.\u001b[0m\u001b[0muniform\u001b[0m\u001b[0;34m(\u001b[0m\u001b[0mlow\u001b[0m\u001b[0;34m,\u001b[0m \u001b[0mhigh\u001b[0m\u001b[0;34m,\u001b[0m \u001b[0msize\u001b[0m\u001b[0;34m)\u001b[0m\u001b[0;34m)\u001b[0m\u001b[0;34m\u001b[0m\u001b[0;34m\u001b[0m\u001b[0m\n\u001b[0m\u001b[1;32m      5\u001b[0m \u001b[0;34m\u001b[0m\u001b[0m\n\u001b[1;32m      6\u001b[0m \u001b[0;31m# def lhs(data,nsample):\u001b[0m\u001b[0;34m\u001b[0m\u001b[0;34m\u001b[0m\u001b[0;34m\u001b[0m\u001b[0m\n",
      "\u001b[0;31mKeyboardInterrupt\u001b[0m: "
     ]
    }
   ],
   "source": [
    "#calculating wavelenght of all parameter sets \n",
    "turing_df= pickle.load(open(path + '/results/turing_dataframes/circuit%r_turingI_monostable_df.pkl'%circuit_n,'rb'))\n",
    "\n",
    "wavelenght_list = []\n",
    "maxeig_list = []\n",
    "for n in range(len(turing_df)):\n",
    "    par_dict = turing_df.iloc[n].to_dict()\n",
    "    turing_output= detailed_turing_analysis_dict(par_dict,circuit_n)\n",
    "    steadystates,eigenvalues =turing_output[0][0], turing_output[4][0]\n",
    "    wavelenght_list.append(wavelenght_from_dispersion(eigenvalues))\n",
    "    maxeig_list.append(np.real(turing_output[2][0]))\n"
   ]
  },
  {
   "cell_type": "code",
   "execution_count": 33,
   "metadata": {},
   "outputs": [
    {
     "name": "stdout",
     "output_type": "stream",
     "text": [
      "0:3.773584905660377\n",
      "1:6.249999999999999\n",
      "2:2.298850574712644\n",
      "3:1.1363636363636365\n",
      "4:12.499999999999998\n",
      "5:2.9411764705882346\n",
      "6:2.8985507246376807\n",
      "7:3.076923076923077\n",
      "8:0.7380073800738007\n",
      "9:9.090909090909092\n",
      "10:3.4482758620689653\n",
      "11:10.0\n",
      "12:14.285714285714285\n",
      "13:3.1249999999999996\n",
      "14:3.7037037037037037\n",
      "15:1.4705882352941173\n",
      "16:1.2121212121212124\n",
      "17:3.333333333333334\n",
      "18:1.4814814814814814\n",
      "19:1.30718954248366\n",
      "20:7.142857142857142\n",
      "21:6.451612903225807\n",
      "22:0.6944444444444444\n",
      "23:0.8695652173913042\n",
      "24:1.5384615384615385\n",
      "25:0.5420054200542005\n",
      "26:1.8691588785046729\n",
      "27:2.5\n",
      "28:3.03030303030303\n",
      "29:0.6006006006006006\n",
      "30:3.2258064516129035\n",
      "31:1.8181818181818181\n",
      "32:7.692307692307692\n",
      "33:5.405405405405405\n",
      "34:0.5494505494505495\n",
      "35:6.666666666666668\n",
      "36:1.8518518518518519\n",
      "37:1.4285714285714286\n",
      "38:7.142857142857142\n"
     ]
    }
   ],
   "source": [
    "for n,wvl in enumerate(wavelenght_list):\n",
    "    print (str(n) +':'+ str(wvl))"
   ]
  },
  {
   "cell_type": "code",
   "execution_count": 34,
   "metadata": {},
   "outputs": [
    {
     "name": "stdout",
     "output_type": "stream",
     "text": [
      "Wavelenght mean = 3.8228687615081403\n"
     ]
    },
    {
     "data": {
      "text/plain": [
       "(0.5420054200542005, 14.285714285714285)"
      ]
     },
     "execution_count": 34,
     "metadata": {},
     "output_type": "execute_result"
    },
    {
     "data": {
      "image/png": "[encoded data removed]",
      "text/plain": [
       "<Figure size 432x288 with 1 Axes>"
      ]
     },
     "metadata": {
      "needs_background": "light"
     },
     "output_type": "display_data"
    }
   ],
   "source": [
    "print('Wavelenght mean = ' +  str(np.mean(wavelenght_list)))\n",
    "_=plt.hist(wavelenght_list,bins = 30, alpha = 0.5, histtype='bar', ec='black')\n",
    "plt.xlabel('Wavelength (mm)')\n",
    "plt.ylabel('Frequency')\n",
    "np.amin(wavelenght_list), np.amax(wavelenght_list)"
   ]
  },
  {
   "cell_type": "code",
   "execution_count": 35,
   "metadata": {},
   "outputs": [
    {
     "data": {
      "text/plain": [
       "Text(0, 0.5, 'Dispersion height')"
      ]
     },
     "execution_count": 35,
     "metadata": {},
     "output_type": "execute_result"
    },
    {
     "data": {
      "image/png": "[encoded data removed]",
      "text/plain": [
       "<Figure size 432x288 with 1 Axes>"
      ]
     },
     "metadata": {
      "needs_background": "light"
     },
     "output_type": "display_data"
    }
   ],
   "source": [
    "plt.scatter(wavelenght_list,maxeig_list)\n",
    "plt.xlabel('Wavelength (mm)')\n",
    "plt.ylabel('Dispersion height')"
   ]
  },
  {
   "cell_type": "markdown",
   "metadata": {},
   "source": [
    "# Diffusion versus wavelength"
   ]
  },
  {
   "cell_type": "code",
   "execution_count": 36,
   "metadata": {},
   "outputs": [
    {
     "data": {
      "text/plain": [
       "[3.773584905660377,\n",
       " 6.249999999999999,\n",
       " 2.298850574712644,\n",
       " 1.1363636363636365,\n",
       " 12.499999999999998,\n",
       " 2.9411764705882346,\n",
       " 2.8985507246376807,\n",
       " 3.076923076923077,\n",
       " 0.7380073800738007,\n",
       " 9.090909090909092,\n",
       " 3.4482758620689653,\n",
       " 10.0,\n",
       " 14.285714285714285,\n",
       " 3.1249999999999996,\n",
       " 3.7037037037037037,\n",
       " 1.4705882352941173,\n",
       " 1.2121212121212124,\n",
       " 3.333333333333334,\n",
       " 1.4814814814814814,\n",
       " 1.30718954248366,\n",
       " 7.142857142857142,\n",
       " 6.451612903225807,\n",
       " 0.6944444444444444,\n",
       " 0.8695652173913042,\n",
       " 1.5384615384615385,\n",
       " 0.5420054200542005,\n",
       " 1.8691588785046729,\n",
       " 2.5,\n",
       " 3.03030303030303,\n",
       " 0.6006006006006006,\n",
       " 3.2258064516129035,\n",
       " 1.8181818181818181,\n",
       " 7.692307692307692,\n",
       " 5.405405405405405,\n",
       " 0.5494505494505495,\n",
       " 6.666666666666668,\n",
       " 1.8518518518518519,\n",
       " 1.4285714285714286,\n",
       " 7.142857142857142]"
      ]
     },
     "execution_count": 36,
     "metadata": {},
     "output_type": "execute_result"
    }
   ],
   "source": [
    "d_B = turing_df['d_B'].tolist()\n",
    "len(d_B)\n",
    "len(wavelenght_list)\n",
    "wavelenght_list"
   ]
  },
  {
   "cell_type": "code",
   "execution_count": 40,
   "metadata": {},
   "outputs": [
    {
     "data": {
      "text/plain": [
       "Text(0, 0.5, 'd_B')"
      ]
     },
     "execution_count": 40,
     "metadata": {},
     "output_type": "execute_result"
    },
    {
     "data": {
      "image/png": "[encoded data removed]",
      "text/plain": [
       "<Figure size 432x288 with 1 Axes>"
      ]
     },
     "metadata": {
      "needs_background": "light"
     },
     "output_type": "display_data"
    }
   ],
   "source": [
    "plt.scatter(wavelenght_list, d_B)\n",
    "plt.xscale('log')\n",
    "plt.xlabel('Wavelength (mm) log')\n",
    "plt.ylabel('d_B')\n",
    "\n"
   ]
  },
  {
   "cell_type": "code",
   "execution_count": null,
   "metadata": {},
   "outputs": [],
   "source": []
  }
 ],
 "metadata": {
  "kernelspec": {
   "display_name": "Python 3",
   "language": "python",
   "name": "python3"
  },
  "language_info": {
   "codemirror_mode": {
    "name": "ipython",
    "version": 3
   },
   "file_extension": ".py",
   "mimetype": "text/x-python",
   "name": "python",
   "nbconvert_exporter": "python",
   "pygments_lexer": "ipython3",
   "version": "3.7.6"
  }
 },
 "nbformat": 4,
 "nbformat_minor": 4
}
