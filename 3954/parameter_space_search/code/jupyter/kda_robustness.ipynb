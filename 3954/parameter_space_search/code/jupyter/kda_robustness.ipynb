{
 "cells": [
  {
   "cell_type": "code",
   "execution_count": 1,
   "metadata": {
    "code_folding": []
   },
   "outputs": [],
   "source": [
    "#import module folder containing general functions used frequently\n",
    "# modulepath = '/Users/mo2016/Documents/modelling/6eq/modules'\n",
    "# import sys\n",
    "# sys.path.append(modulepath)\n",
    "\n",
    "import os.path\n",
    "import sys\n",
    "modulepath = os.path.expanduser('~/Documents/modelling/6eq/modules')  # os.path.expanduser(path) : return the argument with an initial component of ~ or ~user replaced by that user’s home directory.\n",
    "sys.path.append(modulepath)\n",
    "\n",
    "\n",
    "#importing functions from that module folder\n",
    "from parametercombination_analysis import *\n",
    "from randomfunctions import wavelenght_from_dispersion, plot_highest_dispersion\n",
    "from class_circuit_eq import *\n",
    "from lhs import *\n",
    "from findsteadystates_functions import *\n",
    "from dispersionrelation_functions import *\n",
    "# from lsafunctions import jacobianlsa\n",
    "\n",
    "\n",
    "#other imports\n",
    "import time\n",
    "import datetime\n",
    "import scipy.io\n",
    "import numpy as np\n",
    "from numpy import linalg as LA\n",
    "import pickle\n",
    "import matplotlib.pyplot as plt\n",
    "import matplotlib.animation as animation\n",
    "import re\n",
    "#path of folder containing code, results, parameter files\n",
    "path = '/Users/mo2016/Documents/modelling/6eq/parameter_space_search'\n",
    "PCApath = '/Users/mo2016/Documents/modelling/6eq/PCA'\n",
    "\n",
    "from datetime import date, timedelta\n"
   ]
  },
  {
   "cell_type": "markdown",
   "metadata": {},
   "source": [
    "# Functions for Data Analysis of parameter search output"
   ]
  },
  {
   "cell_type": "code",
   "execution_count": 2,
   "metadata": {},
   "outputs": [],
   "source": [
    "circuit_n=2"
   ]
  },
  {
   "cell_type": "markdown",
   "metadata": {},
   "source": [
    "This function obtains Turing IDs from all dataframes of that date and put them in a dictionary with their dataframe number.\n",
    "\n",
    "TI/TII and monostable/multistable systems can be filtered\n",
    "\n"
   ]
  },
  {
   "cell_type": "code",
   "execution_count": 3,
   "metadata": {
    "scrolled": true
   },
   "outputs": [],
   "source": [
    "# turing_type indicates if we want the dictionary to contain only TI or also TI and TII. \n",
    "# ss_n indicates if we want only monostable systems in our dictionary (ss_n=1) or multistable (ss_n =/ 1).\n",
    "\n",
    "def ID_df_location_search(date,turing_type,ss_n):\n",
    "    ID_df_location = {}\n",
    "    for df_n in range (64):\n",
    "        with open(path + '/results/output/output_%s/output.%r-1'%(date,df_n), 'r') as input:\n",
    "            input_ = input.read().split(\"\\n\\n\")   #\\n\\n denotes there is a blank line in between paragraphs.\n",
    "        for line in input_:\n",
    "                if turing_type == 'TI':\n",
    "                    if 'Turing I ' in line:\n",
    "                        ID = re.findall(r'\\d+\\.{0,1}\\d*', line)\n",
    "                        if ss_n==1: #to filter turing systems with only one steady state\n",
    "                            ss_n_line = line.count('[')\n",
    "                            if ss_n_line == 1:\n",
    "                                ID_df_location[ID[0]] = df_n\n",
    "                        else:\n",
    "                            ss_n_line = line.count('[')\n",
    "                            if ss_n_line > 1:\n",
    "                                ID_df_location[ID[0]] = df_n\n",
    "\n",
    "                if turing_type == 'TII':\n",
    "                    if 'Turing II ' in line:\n",
    "                        ID = re.findall(r'\\d+\\.{0,1}\\d*', line)\n",
    "                        if ss_n==1: #to filter turing systems with only one steady state\n",
    "                            ss_n_line = line.count('[')\n",
    "                            if ss_n_line == 1:\n",
    "                                ID_df_location[ID[0]] = df_n\n",
    "                        else:\n",
    "                            ss_n_line = line.count('[')\n",
    "                            if ss_n_line > 1:\n",
    "                                ID_df_location[ID[0]] = df_n\n",
    "\n",
    "\n",
    "\n",
    "                        \n",
    "                if turing_type == 'TI-II': #option activated if interested in TII as well\n",
    "                    if 'Turing I ' in line or 'Turing II ' in line:\n",
    "                        ID = re.findall(r'\\d+\\.{0,1}\\d*', line)\n",
    "                        if ss_n==1:\n",
    "                            ss_n_line = line.count('[')\n",
    "                            if ss_n_line == 1:\n",
    "                                ID_df_location[ID[0]] = df_n\n",
    "                        else:\n",
    "                            ss_n_line = line.count('[')\n",
    "                            if ss_n_line > 1:\n",
    "                                ID_df_location[ID[0]] = df_n\n",
    "    \n",
    "\n",
    "    return ID_df_location\n",
    "\n"
   ]
  },
  {
   "cell_type": "markdown",
   "metadata": {},
   "source": [
    "This function takes the dictionary with IDs and dataframe number and creates a dataframe with all turing parameter sets of the search."
   ]
  },
  {
   "cell_type": "code",
   "execution_count": 4,
   "metadata": {
    "code_folding": [
     0
    ],
    "scrolled": true
   },
   "outputs": [],
   "source": [
    "def dictionary_to_parameter_df(ID_df_location):\n",
    "    turing_df = pd.DataFrame()\n",
    "    for ID, df_n in ID_df_location.items():\n",
    "        df_parameterfile_filename = 'df_parameterfile_%s_ID%r.pkl'%(date,df_n)\n",
    "        df_parameterfile= pickle.load( open(path +  '/parameterfiles/df_parameterfile_%s/%s'%(date,df_parameterfile_filename), \"rb\" ) )\n",
    "        turing_df = turing_df.append(df_parameterfile.iloc[int(ID)])\n",
    "    return turing_df\n",
    "\n"
   ]
  },
  {
   "cell_type": "code",
   "execution_count": 7,
   "metadata": {
    "code_folding": [
     0
    ],
    "scrolled": true
   },
   "outputs": [],
   "source": [
    "def chunks(lst, n):\n",
    "    \"\"\"Yield successive n-sized chunks from lst.\"\"\"\n",
    "    for i in range(0, len(lst), n):\n",
    "        yield lst[i:i + n]\n",
    "        \n",
    "\n",
    "def dictionary_to_parameter_df(ID_df_location, n_conditions, chunked_list):\n",
    "    turing_df_list = [pd.DataFrame() for i in range(n_conditions)]\n",
    "    for ID, df_n in ID_df_location.items():\n",
    "        df_parameterfile_filename = 'df_parameterfile_%s_ID%r.pkl'%(date,df_n)\n",
    "        df_parameterfile= pickle.load( open(path +  '/parameterfiles/df_parameterfile_%s/%s'%(date,df_parameterfile_filename), \"rb\" ) )\n",
    "#         print(df_parameterfile)\n",
    "\n",
    "\n",
    "        \n",
    "        if df_n in chunked_list[0]:\n",
    "            turing_df_list[0] = turing_df_list[0].append(df_parameterfile.iloc[int(ID)])\n",
    "       \n",
    "        if df_n in chunked_list[1]:\n",
    "            turing_df_list[1] = turing_df_list[1].append(df_parameterfile.iloc[int(ID)])\n",
    "        \n",
    "        if df_n in chunked_list[2]:\n",
    "            turing_df_list[2] = turing_df_list[2].append(df_parameterfile.iloc[int(ID)])\n",
    "\n",
    "        if df_n in chunked_list[3]:\n",
    "            turing_df_list[3] = turing_df_list[3].append(df_parameterfile.iloc[int(ID)])\n",
    "\n",
    "        if df_n in chunked_list[4]:\n",
    "            turing_df_list[4] = turing_df_list[4].append(df_parameterfile.iloc[int(ID)])\n",
    "\n",
    "        if df_n in chunked_list[5]:\n",
    "            turing_df_list[5] = turing_df_list[5].append(df_parameterfile.iloc[int(ID)])\n",
    "\n",
    "        if df_n in chunked_list[6]:\n",
    "            turing_df_list[6] = turing_df_list[6].append(df_parameterfile.iloc[int(ID)])\n",
    "\n",
    "        if df_n in chunked_list[7]:\n",
    "            turing_df_list[7] = turing_df_list[7].append(df_parameterfile.iloc[int(ID)])\n",
    "\n",
    "\n",
    "    return turing_df_list\n",
    "\n",
    "\n"
   ]
  },
  {
   "cell_type": "markdown",
   "metadata": {},
   "source": [
    "# Hsl robustness "
   ]
  },
  {
   "cell_type": "code",
   "execution_count": 8,
   "metadata": {},
   "outputs": [],
   "source": [
    "n_conditions = 8\n",
    "chunked_list = list(chunks(list(range(0,64)),int(64/n_conditions)))\n",
    "\n",
    "date = '2020-12-04'\n",
    "\n",
    "ID_df_location = ID_df_location_search(date, 'TI', 1)\n",
    "turing_df_list1 = dictionary_to_parameter_df(ID_df_location, 8, chunked_list)\n"
   ]
  },
  {
   "cell_type": "code",
   "execution_count": 17,
   "metadata": {},
   "outputs": [
    {
     "data": {
      "text/plain": [
       "[0, 31, 201, 583, 727, 550, 433, 109]"
      ]
     },
     "execution_count": 17,
     "metadata": {},
     "output_type": "execute_result"
    },
    {
     "data": {
      "image/png": "[encoded data removed]",
      "text/plain": [
       "<Figure size 432x288 with 1 Axes>"
      ]
     },
     "metadata": {
      "needs_background": "light"
     },
     "output_type": "display_data"
    }
   ],
   "source": [
    "kda_list = [0.001,0.01,0.1,1,10,50,100,1000]\n",
    "plt.scatter(kda_list,list(100*len(i)/500000 for i in turing_df_list1),c='k')\n",
    "# plt.scatter(kce_list1,list(len(i) for i in turing_df_list1),c='k')\n",
    "plt.xlim(0.0001,2000)\n",
    "plt.xscale('log')\n",
    "plt.xlabel('[IPTG] (Kda parameter) logscale')\n",
    "plt.ylabel('Turing probability % (Robustness)')\n",
    "# plt.ylim(-0.01)\n",
    "plt.savefig(path + '/results/figures/parameter_distribution/kda_robustness.png')\n",
    "list(len(i) for i in turing_df_list1)"
   ]
  },
  {
   "cell_type": "markdown",
   "metadata": {},
   "source": [
    "# Kce robustness 10^5 -10^11"
   ]
  },
  {
   "cell_type": "code",
   "execution_count": 43,
   "metadata": {
    "code_folding": [
     0
    ],
    "scrolled": true
   },
   "outputs": [],
   "source": [
    "def chunks(lst, n):\n",
    "    \"\"\"Yield successive n-sized chunks from lst.\"\"\"\n",
    "    for i in range(0, len(lst), n):\n",
    "        yield lst[i:i + n]\n",
    "        \n",
    "\n",
    "def dictionary_to_parameter_df(ID_df_location, n_conditions, chunked_list):\n",
    "    turing_df_list = [pd.DataFrame() for i in range(n_conditions)]\n",
    "    for ID, df_n in ID_df_location.items():\n",
    "        df_parameterfile_filename = 'df_parameterfile_%s_ID%r.pkl'%(date,df_n)\n",
    "        df_parameterfile= pickle.load( open(path +  '/parameterfiles/df_parameterfile_%s/%s'%(date,df_parameterfile_filename), \"rb\" ) )\n",
    "        \n",
    "        if df_n in chunked_list[0]:\n",
    "            turing_df_list[0] = turing_df_list[0].append(df_parameterfile.iloc[int(ID)])\n",
    "       \n",
    "        if df_n in chunked_list[1]:\n",
    "            turing_df_list[1] = turing_df_list[1].append(df_parameterfile.iloc[int(ID)])\n",
    "        \n",
    "        if df_n in chunked_list[2]:\n",
    "            turing_df_list[2] = turing_df_list[2].append(df_parameterfile.iloc[int(ID)])\n",
    "\n",
    "        if df_n in chunked_list[3]:\n",
    "            turing_df_list[3] = turing_df_list[3].append(df_parameterfile.iloc[int(ID)])\n",
    "\n",
    "#         if df_n in chunked_list[4]:\n",
    "#             turing_df_list[4] = turing_df_list[4].append(df_parameterfile.iloc[int(ID)])\n",
    "\n",
    "#         if df_n in chunked_list[5]:\n",
    "#             turing_df_list[5] = turing_df_list[5].append(df_parameterfile.iloc[int(ID)])\n",
    "\n",
    "#         if df_n in chunked_list[6]:\n",
    "#             turing_df_list[6] = turing_df_list[6].append(df_parameterfile.iloc[int(ID)])\n",
    "\n",
    "#         if df_n in chunked_list[7]:\n",
    "#             turing_df_list[7] = turing_df_list[7].append(df_parameterfile.iloc[int(ID)])\n",
    "\n",
    "\n",
    "    return turing_df_list\n",
    "\n",
    "\n"
   ]
  },
  {
   "cell_type": "code",
   "execution_count": 44,
   "metadata": {},
   "outputs": [],
   "source": [
    "n_conditions = 4\n",
    "chunked_list = list(chunks(list(range(0,64)),int(64/n_conditions)))\n",
    "\n",
    "date = '2020-11-30'\n",
    "\n",
    "ID_df_location = ID_df_location_search(date, 'TI', 1)\n",
    "turing_df_list2 = dictionary_to_parameter_df(ID_df_location, 4, chunked_list)\n"
   ]
  },
  {
   "cell_type": "code",
   "execution_count": 45,
   "metadata": {},
   "outputs": [
    {
     "data": {
      "image/png": "[encoded data removed]",
      "text/plain": [
       "<Figure size 432x288 with 1 Axes>"
      ]
     },
     "metadata": {
      "needs_background": "light"
     },
     "output_type": "display_data"
    }
   ],
   "source": [
    "kce_list2 = [10**5,10**7,10**9,10**11]\n",
    "plt.scatter(kce_list2,list(100*len(i)/500000 for i in turing_df_list2),c='k')\n",
    "plt.xscale('log')\n",
    "plt.xlabel('[ATC] (kce parameter) logscale')\n",
    "plt.ylabel('Turing probability % (Robustness)')\n",
    "plt.ylim(-0.01)\n",
    "plt.savefig(path + '/results/figures/parameter_distribution/kde_robustness.png')"
   ]
  },
  {
   "cell_type": "markdown",
   "metadata": {},
   "source": [
    "# All ATC conditions\n"
   ]
  },
  {
   "cell_type": "code",
   "execution_count": 46,
   "metadata": {},
   "outputs": [
    {
     "data": {
      "image/png": "[encoded data removed]",
      "text/plain": [
       "<Figure size 432x288 with 1 Axes>"
      ]
     },
     "metadata": {
      "needs_background": "light"
     },
     "output_type": "display_data"
    }
   ],
   "source": [
    "plt.scatter(kce_list1,list(100*len(i)/500000 for i in turing_df_list1),c='k')\n",
    "plt.scatter(kce_list2,list(100*len(i)/500000 for i in turing_df_list2),c='k')\n",
    "\n",
    "plt.xscale('log')\n",
    "plt.xlabel('[ATC] (kce parameter) logscale')\n",
    "plt.ylabel('Turing probability % (Robustness)')\n",
    "plt.ylim(-0.01)\n",
    "plt.savefig(path + '/results/figures/parameter_distribution/kde_robustness.png')"
   ]
  },
  {
   "cell_type": "code",
   "execution_count": 66,
   "metadata": {},
   "outputs": [],
   "source": [
    "wvn_list = np.array(list(range(0,10000+1,2)))*np.pi/100\n",
    "lis = np.linspace(1,1,10001)"
   ]
  },
  {
   "cell_type": "code",
   "execution_count": 61,
   "metadata": {},
   "outputs": [
    {
     "data": {
      "text/plain": [
       "<matplotlib.collections.PathCollection at 0x12f2d1150>"
      ]
     },
     "execution_count": 61,
     "metadata": {},
     "output_type": "execute_result"
    },
    {
     "data": {
      "image/png": "[encoded data removed]",
      "text/plain": [
       "<Figure size 432x288 with 1 Axes>"
      ]
     },
     "metadata": {
      "needs_background": "light"
     },
     "output_type": "display_data"
    }
   ],
   "source": [
    "plt.scatter(wvn_list,lis,c='k')\n",
    "\n"
   ]
  },
  {
   "cell_type": "code",
   "execution_count": 67,
   "metadata": {},
   "outputs": [
    {
     "data": {
      "text/plain": [
       "5001"
      ]
     },
     "execution_count": 67,
     "metadata": {},
     "output_type": "execute_result"
    }
   ],
   "source": [
    "len(wvn_list)"
   ]
  },
  {
   "cell_type": "code",
   "execution_count": null,
   "metadata": {},
   "outputs": [],
   "source": []
  }
 ],
 "metadata": {
  "kernelspec": {
   "display_name": "Python 3",
   "language": "python",
   "name": "python3"
  },
  "language_info": {
   "codemirror_mode": {
    "name": "ipython",
    "version": 3
   },
   "file_extension": ".py",
   "mimetype": "text/x-python",
   "name": "python",
   "nbconvert_exporter": "python",
   "pygments_lexer": "ipython3",
   "version": "3.7.6"
  }
 },
 "nbformat": 4,
 "nbformat_minor": 4
}
