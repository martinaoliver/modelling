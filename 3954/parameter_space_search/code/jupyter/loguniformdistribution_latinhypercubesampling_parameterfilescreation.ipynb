{
 "cells": [
  {
   "cell_type": "code",
   "execution_count": 1,
   "metadata": {},
   "outputs": [],
   "source": [
    "from pyDOE import *\n",
    "import matplotlib.pyplot as plt\n",
    "import numpy as np\n",
    "from mpl_toolkits.mplot3d import Axes3D\n",
    "import seaborn as sns\n",
    "import pickle\n",
    "import pandas as pd\n",
    "import os.path\n",
    "modulepath = os.path.expanduser('~/Documents/modelling/6eq/parameter_space_search')  # os.path.expanduser(path) : return the argument with an initial component of ~ or ~user replaced by that user’s home directory.\n"
   ]
  },
  {
   "cell_type": "code",
   "execution_count": 2,
   "metadata": {},
   "outputs": [],
   "source": [
    "def loguniform(low=-3, high=3, size=None):\n",
    "    return (10)**(np.random.uniform(low, high, size))\n",
    "def uniform(low=-3, high=3, size=None):\n",
    "    return np.random.uniform(low,high, size)"
   ]
  },
  {
   "cell_type": "markdown",
   "metadata": {},
   "source": [
    "# Random Sampling from loguniform distribution"
   ]
  },
  {
   "cell_type": "code",
   "execution_count": 3,
   "metadata": {
    "scrolled": false
   },
   "outputs": [],
   "source": [
    "\n",
    "# fig = plt.figure(figsize=(8, 6))\n",
    "# ax = fig.add_subplot(111, projection='3d')\n",
    "# ax.scatter(loguniform(size=1000),loguniform(size=1000),loguniform(size=1000))"
   ]
  },
  {
   "cell_type": "code",
   "execution_count": null,
   "metadata": {},
   "outputs": [],
   "source": []
  },
  {
   "cell_type": "code",
   "execution_count": 4,
   "metadata": {
    "scrolled": false
   },
   "outputs": [],
   "source": [
    "# plt.bar(loguniform(size=1000),1)"
   ]
  },
  {
   "cell_type": "markdown",
   "metadata": {},
   "source": [
    "# Latin hypercube sampling from loguniform distribution"
   ]
  },
  {
   "cell_type": "code",
   "execution_count": 5,
   "metadata": {},
   "outputs": [],
   "source": [
    "# data = np.column_stack((loguniform(size=100000),loguniform(size=100000),loguniform(size=100000)))\n",
    "\n",
    "\n",
    "def lhs(data,nsample):\n",
    "    m,nvar = data.shape\n",
    "    ran=np.random.uniform(size=(nsample,nvar))\n",
    "    s=np.zeros((nsample,nvar))\n",
    "    for j in range(0,nvar):\n",
    "        idx=np.random.permutation(nsample)+1\n",
    "        P=((idx-ran[:,j])/nsample)*100\n",
    "        s[:,j]= np.percentile(data[:,j],P)\n",
    "    return s\n",
    "        \n",
    "# points = lhs(data,1000)\n",
    "# print(points)\n"
   ]
  },
  {
   "cell_type": "code",
   "execution_count": 6,
   "metadata": {},
   "outputs": [],
   "source": [
    "# fig = plt.figure(figsize=(8, 6))\n",
    "# ax = fig.add_subplot(111, projection='3d')\n",
    "# ax.scatter(points[:,0], points[:,1], points[:,2])"
   ]
  },
  {
   "cell_type": "code",
   "execution_count": 7,
   "metadata": {},
   "outputs": [],
   "source": [
    "# plt.bar(points[:,0],1)\n"
   ]
  },
  {
   "cell_type": "markdown",
   "metadata": {},
   "source": [
    "#  Generating parameter distributions (Ranges)\n"
   ]
  },
  {
   "cell_type": "code",
   "execution_count": 8,
   "metadata": {
    "scrolled": true
   },
   "outputs": [],
   "source": [
    "loguniformdist = loguniform(size=1000000)\n"
   ]
  },
  {
   "cell_type": "markdown",
   "metadata": {},
   "source": [
    "Create distribution with ranges"
   ]
  },
  {
   "cell_type": "code",
   "execution_count": 9,
   "metadata": {},
   "outputs": [],
   "source": [
    "b_range = (0.01,1)\n",
    "Vm_range = (10,1000)\n",
    "km_range = (0.1,250)\n",
    "mu_range = (0.001,50)\n",
    "\n",
    "b_distribution = [x for x in loguniformdist if b_range[0] <= x <= b_range[1]]\n",
    "Vm_distribution = [x for x in loguniformdist if Vm_range[0] <= x <= Vm_range[1]]\n",
    "km_distribution = [x for x in loguniformdist if km_range[0] <= x <= km_range[1]]\n",
    "mu_distribution = [x for x in loguniformdist if mu_range[0] <= x <= mu_range[1]]\n",
    "\n",
    "\n",
    "\n",
    "lenghtsdistributions = (len(b_distribution), len(Vm_distribution), len(km_distribution), len(mu_distribution))\n",
    "minimumlenghtdistribution = np.amin(lenghtsdistributions)\n",
    "b_distribution=b_distribution[:minimumlenghtdistribution]\n",
    "Vm_distribution=Vm_distribution[:minimumlenghtdistribution]\n",
    "km_distribution=km_distribution[:minimumlenghtdistribution]\n",
    "mu_distribution=mu_distribution[:minimumlenghtdistribution]\n",
    "\n"
   ]
  },
  {
   "cell_type": "code",
   "execution_count": 10,
   "metadata": {},
   "outputs": [],
   "source": [
    "# sns.set(style=\"white\", palette=\"muted\", color_codes=True)\n",
    "\n",
    "\n",
    "# fig,ax=plt.subplots(2,2,figsize=(7,7))\n",
    "# sns.despine(left=True)\n",
    "\n",
    "# sns.distplot(b_distribution, color=\"c\", ax=ax[0, 0])\n",
    "# sns.distplot(Vm_distribution, color=\"m\", ax=ax[0, 1])\n",
    "# sns.distplot(km_distribution, color=\"g\", ax=ax[1, 0])\n",
    "# sns.distplot(mu_distribution, color=\"k\", ax=ax[1, 1])\n",
    "\n",
    "# parameterclasstitle = ('Basal production (nM/h)', 'Induced Maximum production rate(nM/h)', 'Michaelis-Menten Constant (nM)', 'Degradation rate (1/h)')\n",
    "# parameterclass = (b_range,Vm_range,km_range,mu_range)\n",
    "# count=0\n",
    "# for ax in ax.flat:\n",
    "#     ax.set_title(parameterclasstitle[count], fontweight='bold')\n",
    "#     ax.set( xlabel = 'parameter values', ylabel='frequency')\n",
    "#     ax.set_xlim(parameterclass[count][0],int(parameterclass[count][1]))\n",
    "\n",
    "#     count+=1\n",
    "    \n",
    "# fig.tight_layout()\n",
    "# # plt.savefig('thesisfigures/parameterdistributions')"
   ]
  },
  {
   "cell_type": "markdown",
   "metadata": {},
   "source": [
    "Carry out LHS with defined ranges"
   ]
  },
  {
   "cell_type": "code",
   "execution_count": 11,
   "metadata": {},
   "outputs": [],
   "source": [
    "# datadistributions = np.column_stack((b_distribution,Vm_distribution, km_distribution))\n",
    "\n",
    "# datadistributions.shape\n",
    "# data = np.column_stack((loguniform(size=100000),loguniform(size=100000),loguniform(size=100000)))\n",
    "\n",
    "# print(data.shape,datadistributions.shape)\n",
    "\n"
   ]
  },
  {
   "cell_type": "code",
   "execution_count": 12,
   "metadata": {},
   "outputs": [],
   "source": [
    "# points=lhs(datadistributions,10000)\n"
   ]
  },
  {
   "cell_type": "code",
   "execution_count": 13,
   "metadata": {},
   "outputs": [],
   "source": [
    "# fig = plt.figure(figsize=(8, 6))\n",
    "# ax = fig.add_subplot(111, projection='3d')\n",
    "# ax.scatter(points[:,0], points[:,1], points[:,2])"
   ]
  },
  {
   "cell_type": "markdown",
   "metadata": {},
   "source": [
    "# Generating parameter combinations"
   ]
  },
  {
   "cell_type": "code",
   "execution_count": 14,
   "metadata": {},
   "outputs": [],
   "source": [
    "#A general matrix is generated with the distributions for each parameter\n",
    "\n",
    "b_matrix = np.column_stack((b_distribution,b_distribution,b_distribution,b_distribution,b_distribution,b_distribution))\n",
    "Vm_matrix = np.column_stack((Vm_distribution,Vm_distribution,Vm_distribution,Vm_distribution,Vm_distribution,Vm_distribution))\n",
    "mu_matrix = np.column_stack((mu_distribution,mu_distribution,mu_distribution))\n",
    "km_matrix = np.column_stack((km_distribution,km_distribution,km_distribution,km_distribution,km_distribution,km_distribution,km_distribution))\n",
    "\n",
    "par_distribution_matrix =np.concatenate((b_matrix,Vm_matrix,mu_matrix,km_matrix),1)\n"
   ]
  },
  {
   "cell_type": "code",
   "execution_count": 15,
   "metadata": {},
   "outputs": [
    {
     "name": "stdout",
     "output_type": "stream",
     "text": [
      "[[1.57892806e-02 1.48498837e-01 8.31859158e-01 7.17755121e-01\n",
      "  6.41895106e-01 1.65110732e-02 1.25055008e+02 1.74297002e+01\n",
      "  1.96822525e+02 1.51685100e+02 5.35519130e+02 6.77061856e+01\n",
      "  4.47223808e+01 2.16995602e+01 1.28864435e-02 1.05586092e+01\n",
      "  7.44453381e+01 2.73472204e+01 7.60770725e+00 1.48557993e+02\n",
      "  2.26415932e+01 5.93306009e+00]\n",
      " [6.72433196e-01 3.91715043e-02 2.52924153e-02 4.07406637e-02\n",
      "  3.08017048e-01 1.12633204e-01 1.78468162e+01 2.60326265e+02\n",
      "  5.97679539e+01 6.24780551e+01 1.84458023e+02 3.09115589e+02\n",
      "  5.74497816e-02 2.02913802e-02 1.63723567e+00 1.10743777e+02\n",
      "  3.46215901e+01 7.89939953e-01 2.20223322e+01 1.98807676e-01\n",
      "  7.32595948e+01 2.01575333e+02]\n",
      " [3.27144921e-01 1.16420752e-02 1.35087821e-01 1.02405555e-02\n",
      "  2.17968798e-02 9.61605211e-01 2.44309740e+02 4.03833313e+01\n",
      "  7.09502420e+02 2.80791514e+02 2.01495508e+01 5.72435882e+02\n",
      "  2.77538216e-01 5.07034338e+00 6.15568483e-03 1.94202735e+00\n",
      "  6.94411639e+00 3.32588700e-01 1.53263109e+02 1.55361618e+01\n",
      "  4.18018742e+00 2.64668912e+01]\n",
      " [2.72304182e-02 3.63434571e-01 3.85400694e-01 3.75438714e-01\n",
      "  3.29983800e-02 5.29273805e-02 4.40197044e+02 1.18477149e+02\n",
      "  1.47699200e+02 1.95058023e+01 2.98928908e+01 1.61717537e+01\n",
      "  3.75819020e+00 5.66011304e-03 7.75212812e+00 3.76145941e-01\n",
      "  1.64157625e-01 8.06870500e+00 1.84162974e-01 4.87997881e-01\n",
      "  7.89922160e-01 1.14135518e-01]\n",
      " [1.34412002e-01 6.71253975e-01 1.47112379e-02 9.37944373e-02\n",
      "  1.47501913e-01 3.72864972e-01 3.64482738e+01 8.17344457e+02\n",
      "  2.25524877e+01 8.13858586e+02 1.54035242e+02 4.29891458e+01\n",
      "  2.39323245e-03 5.01670745e-01 6.08399068e-01 2.92145300e+01\n",
      "  1.05776858e+00 2.41698067e+02 1.67463665e+00 8.56334791e+00\n",
      "  1.23646914e-01 1.39416605e+00]]\n"
     ]
    }
   ],
   "source": [
    "numbercombinations = 5\n",
    "points=lhs(par_distribution_matrix,numbercombinations)\n",
    "points.shape\n",
    "print(points)"
   ]
  },
  {
   "cell_type": "code",
   "execution_count": 16,
   "metadata": {},
   "outputs": [
    {
     "name": "stdout",
     "output_type": "stream",
     "text": [
      "[[1.00000000e+00 1.57892806e-02 1.48498837e-01 8.31859158e-01\n",
      "  7.17755121e-01 6.41895106e-01 1.65110732e-02 1.25055008e+02\n",
      "  1.74297002e+01 1.96822525e+02 1.51685100e+02 5.35519130e+02\n",
      "  6.77061856e+01 4.47223808e+01 2.16995602e+01 1.28864435e-02\n",
      "  1.05586092e+01 7.44453381e+01 2.73472204e+01 7.60770725e+00\n",
      "  1.48557993e+02 2.26415932e+01 5.93306009e+00 2.16000000e+00\n",
      "  8.10000000e-01 2.00000000e+00]\n",
      " [2.00000000e+00 6.72433196e-01 3.91715043e-02 2.52924153e-02\n",
      "  4.07406637e-02 3.08017048e-01 1.12633204e-01 1.78468162e+01\n",
      "  2.60326265e+02 5.97679539e+01 6.24780551e+01 1.84458023e+02\n",
      "  3.09115589e+02 5.74497816e-02 2.02913802e-02 1.63723567e+00\n",
      "  1.10743777e+02 3.46215901e+01 7.89939953e-01 2.20223322e+01\n",
      "  1.98807676e-01 7.32595948e+01 2.01575333e+02 2.16000000e+00\n",
      "  8.10000000e-01 2.00000000e+00]\n",
      " [3.00000000e+00 3.27144921e-01 1.16420752e-02 1.35087821e-01\n",
      "  1.02405555e-02 2.17968798e-02 9.61605211e-01 2.44309740e+02\n",
      "  4.03833313e+01 7.09502420e+02 2.80791514e+02 2.01495508e+01\n",
      "  5.72435882e+02 2.77538216e-01 5.07034338e+00 6.15568483e-03\n",
      "  1.94202735e+00 6.94411639e+00 3.32588700e-01 1.53263109e+02\n",
      "  1.55361618e+01 4.18018742e+00 2.64668912e+01 2.16000000e+00\n",
      "  8.10000000e-01 2.00000000e+00]\n",
      " [4.00000000e+00 2.72304182e-02 3.63434571e-01 3.85400694e-01\n",
      "  3.75438714e-01 3.29983800e-02 5.29273805e-02 4.40197044e+02\n",
      "  1.18477149e+02 1.47699200e+02 1.95058023e+01 2.98928908e+01\n",
      "  1.61717537e+01 3.75819020e+00 5.66011304e-03 7.75212812e+00\n",
      "  3.76145941e-01 1.64157625e-01 8.06870500e+00 1.84162974e-01\n",
      "  4.87997881e-01 7.89922160e-01 1.14135518e-01 2.16000000e+00\n",
      "  8.10000000e-01 2.00000000e+00]\n",
      " [5.00000000e+00 1.34412002e-01 6.71253975e-01 1.47112379e-02\n",
      "  9.37944373e-02 1.47501913e-01 3.72864972e-01 3.64482738e+01\n",
      "  8.17344457e+02 2.25524877e+01 8.13858586e+02 1.54035242e+02\n",
      "  4.29891458e+01 2.39323245e-03 5.01670745e-01 6.08399068e-01\n",
      "  2.92145300e+01 1.05776858e+00 2.41698067e+02 1.67463665e+00\n",
      "  8.56334791e+00 1.23646914e-01 1.39416605e+00 2.16000000e+00\n",
      "  8.10000000e-01 2.00000000e+00]]\n"
     ]
    }
   ],
   "source": [
    "cooperativity = np.full((numbercombinations, 1), 2)\n",
    "\n",
    "######################################################################################################\n",
    "#OLD PARAMETER SET WITH OLD DIFFUSION CONSTANTS (USED IN MRES)\n",
    "# d_A = np.full((numbercombinations, 1), 0.789)\n",
    "# d_A.shape\n",
    "# d_B = np.full((numbercombinations, 1), 0.511)\n",
    "######################################################################################################\n",
    "\n",
    "d_A = np.full((numbercombinations, 1), 2.16)\n",
    "d_A.shape\n",
    "d_B = np.full((numbercombinations, 1), 0.81)\n",
    "parameterindex = np.arange(1,numbercombinations+1, dtype=np.int).reshape(numbercombinations,1)\n",
    "points = np.concatenate((parameterindex,points,d_A,d_B,cooperativity),1)\n",
    "\n",
    "print(points)"
   ]
  },
  {
   "cell_type": "code",
   "execution_count": 17,
   "metadata": {},
   "outputs": [
    {
     "data": {
      "text/html": [
       "<div>\n",
       "<style scoped>\n",
       "    .dataframe tbody tr th:only-of-type {\n",
       "        vertical-align: middle;\n",
       "    }\n",
       "\n",
       "    .dataframe tbody tr th {\n",
       "        vertical-align: top;\n",
       "    }\n",
       "\n",
       "    .dataframe thead th {\n",
       "        text-align: right;\n",
       "    }\n",
       "</style>\n",
       "<table border=\"1\" class=\"dataframe\">\n",
       "  <thead>\n",
       "    <tr style=\"text-align: right;\">\n",
       "      <th></th>\n",
       "      <th>ba</th>\n",
       "      <th>bb</th>\n",
       "      <th>bc</th>\n",
       "      <th>bd</th>\n",
       "      <th>be</th>\n",
       "      <th>bf</th>\n",
       "      <th>Va</th>\n",
       "      <th>Vb</th>\n",
       "      <th>Vc</th>\n",
       "      <th>Vd</th>\n",
       "      <th>...</th>\n",
       "      <th>kaa</th>\n",
       "      <th>kda</th>\n",
       "      <th>keb</th>\n",
       "      <th>kbd</th>\n",
       "      <th>kce</th>\n",
       "      <th>kfe</th>\n",
       "      <th>kee</th>\n",
       "      <th>d_A</th>\n",
       "      <th>d_B</th>\n",
       "      <th>n</th>\n",
       "    </tr>\n",
       "    <tr>\n",
       "      <th>index</th>\n",
       "      <th></th>\n",
       "      <th></th>\n",
       "      <th></th>\n",
       "      <th></th>\n",
       "      <th></th>\n",
       "      <th></th>\n",
       "      <th></th>\n",
       "      <th></th>\n",
       "      <th></th>\n",
       "      <th></th>\n",
       "      <th></th>\n",
       "      <th></th>\n",
       "      <th></th>\n",
       "      <th></th>\n",
       "      <th></th>\n",
       "      <th></th>\n",
       "      <th></th>\n",
       "      <th></th>\n",
       "      <th></th>\n",
       "      <th></th>\n",
       "      <th></th>\n",
       "    </tr>\n",
       "  </thead>\n",
       "  <tbody>\n",
       "    <tr>\n",
       "      <td>1</td>\n",
       "      <td>0.015789</td>\n",
       "      <td>0.148499</td>\n",
       "      <td>0.831859</td>\n",
       "      <td>0.717755</td>\n",
       "      <td>0.641895</td>\n",
       "      <td>0.016511</td>\n",
       "      <td>125.055008</td>\n",
       "      <td>17.429700</td>\n",
       "      <td>196.822525</td>\n",
       "      <td>151.685100</td>\n",
       "      <td>...</td>\n",
       "      <td>10.558609</td>\n",
       "      <td>74.445338</td>\n",
       "      <td>27.347220</td>\n",
       "      <td>7.607707</td>\n",
       "      <td>148.557993</td>\n",
       "      <td>22.641593</td>\n",
       "      <td>5.933060</td>\n",
       "      <td>2.16</td>\n",
       "      <td>0.81</td>\n",
       "      <td>2</td>\n",
       "    </tr>\n",
       "    <tr>\n",
       "      <td>2</td>\n",
       "      <td>0.672433</td>\n",
       "      <td>0.039172</td>\n",
       "      <td>0.025292</td>\n",
       "      <td>0.040741</td>\n",
       "      <td>0.308017</td>\n",
       "      <td>0.112633</td>\n",
       "      <td>17.846816</td>\n",
       "      <td>260.326265</td>\n",
       "      <td>59.767954</td>\n",
       "      <td>62.478055</td>\n",
       "      <td>...</td>\n",
       "      <td>110.743777</td>\n",
       "      <td>34.621590</td>\n",
       "      <td>0.789940</td>\n",
       "      <td>22.022332</td>\n",
       "      <td>0.198808</td>\n",
       "      <td>73.259595</td>\n",
       "      <td>201.575333</td>\n",
       "      <td>2.16</td>\n",
       "      <td>0.81</td>\n",
       "      <td>2</td>\n",
       "    </tr>\n",
       "    <tr>\n",
       "      <td>3</td>\n",
       "      <td>0.327145</td>\n",
       "      <td>0.011642</td>\n",
       "      <td>0.135088</td>\n",
       "      <td>0.010241</td>\n",
       "      <td>0.021797</td>\n",
       "      <td>0.961605</td>\n",
       "      <td>244.309740</td>\n",
       "      <td>40.383331</td>\n",
       "      <td>709.502420</td>\n",
       "      <td>280.791514</td>\n",
       "      <td>...</td>\n",
       "      <td>1.942027</td>\n",
       "      <td>6.944116</td>\n",
       "      <td>0.332589</td>\n",
       "      <td>153.263109</td>\n",
       "      <td>15.536162</td>\n",
       "      <td>4.180187</td>\n",
       "      <td>26.466891</td>\n",
       "      <td>2.16</td>\n",
       "      <td>0.81</td>\n",
       "      <td>2</td>\n",
       "    </tr>\n",
       "    <tr>\n",
       "      <td>4</td>\n",
       "      <td>0.027230</td>\n",
       "      <td>0.363435</td>\n",
       "      <td>0.385401</td>\n",
       "      <td>0.375439</td>\n",
       "      <td>0.032998</td>\n",
       "      <td>0.052927</td>\n",
       "      <td>440.197044</td>\n",
       "      <td>118.477149</td>\n",
       "      <td>147.699200</td>\n",
       "      <td>19.505802</td>\n",
       "      <td>...</td>\n",
       "      <td>0.376146</td>\n",
       "      <td>0.164158</td>\n",
       "      <td>8.068705</td>\n",
       "      <td>0.184163</td>\n",
       "      <td>0.487998</td>\n",
       "      <td>0.789922</td>\n",
       "      <td>0.114136</td>\n",
       "      <td>2.16</td>\n",
       "      <td>0.81</td>\n",
       "      <td>2</td>\n",
       "    </tr>\n",
       "    <tr>\n",
       "      <td>5</td>\n",
       "      <td>0.134412</td>\n",
       "      <td>0.671254</td>\n",
       "      <td>0.014711</td>\n",
       "      <td>0.093794</td>\n",
       "      <td>0.147502</td>\n",
       "      <td>0.372865</td>\n",
       "      <td>36.448274</td>\n",
       "      <td>817.344457</td>\n",
       "      <td>22.552488</td>\n",
       "      <td>813.858586</td>\n",
       "      <td>...</td>\n",
       "      <td>29.214530</td>\n",
       "      <td>1.057769</td>\n",
       "      <td>241.698067</td>\n",
       "      <td>1.674637</td>\n",
       "      <td>8.563348</td>\n",
       "      <td>0.123647</td>\n",
       "      <td>1.394166</td>\n",
       "      <td>2.16</td>\n",
       "      <td>0.81</td>\n",
       "      <td>2</td>\n",
       "    </tr>\n",
       "  </tbody>\n",
       "</table>\n",
       "<p>5 rows × 25 columns</p>\n",
       "</div>"
      ],
      "text/plain": [
       "             ba        bb        bc        bd        be        bf          Va  \\\n",
       "index                                                                           \n",
       "1      0.015789  0.148499  0.831859  0.717755  0.641895  0.016511  125.055008   \n",
       "2      0.672433  0.039172  0.025292  0.040741  0.308017  0.112633   17.846816   \n",
       "3      0.327145  0.011642  0.135088  0.010241  0.021797  0.961605  244.309740   \n",
       "4      0.027230  0.363435  0.385401  0.375439  0.032998  0.052927  440.197044   \n",
       "5      0.134412  0.671254  0.014711  0.093794  0.147502  0.372865   36.448274   \n",
       "\n",
       "               Vb          Vc          Vd  ...         kaa        kda  \\\n",
       "index                                      ...                          \n",
       "1       17.429700  196.822525  151.685100  ...   10.558609  74.445338   \n",
       "2      260.326265   59.767954   62.478055  ...  110.743777  34.621590   \n",
       "3       40.383331  709.502420  280.791514  ...    1.942027   6.944116   \n",
       "4      118.477149  147.699200   19.505802  ...    0.376146   0.164158   \n",
       "5      817.344457   22.552488  813.858586  ...   29.214530   1.057769   \n",
       "\n",
       "              keb         kbd         kce        kfe         kee   d_A   d_B  \\\n",
       "index                                                                          \n",
       "1       27.347220    7.607707  148.557993  22.641593    5.933060  2.16  0.81   \n",
       "2        0.789940   22.022332    0.198808  73.259595  201.575333  2.16  0.81   \n",
       "3        0.332589  153.263109   15.536162   4.180187   26.466891  2.16  0.81   \n",
       "4        8.068705    0.184163    0.487998   0.789922    0.114136  2.16  0.81   \n",
       "5      241.698067    1.674637    8.563348   0.123647    1.394166  2.16  0.81   \n",
       "\n",
       "       n  \n",
       "index     \n",
       "1      2  \n",
       "2      2  \n",
       "3      2  \n",
       "4      2  \n",
       "5      2  \n",
       "\n",
       "[5 rows x 25 columns]"
      ]
     },
     "execution_count": 17,
     "metadata": {},
     "output_type": "execute_result"
    }
   ],
   "source": [
    "parameternames = ('index','ba','bb','bc','bd','be','bf','Va','Vb','Vc','Vd','Ve','Vf','mua','mub','mulva','kaa','kda','keb','kbd','kce','kfe','kee','d_A','d_B','n')\n",
    "df = pd.DataFrame(data=points, columns = parameternames)\n",
    "df['index'] = df['index'].astype(int)\n",
    "df['n'] = df['n'].astype(int)\n",
    "df = df.set_index('index')\n",
    "df"
   ]
  },
  {
   "cell_type": "code",
   "execution_count": 93,
   "metadata": {},
   "outputs": [
    {
     "ename": "FileNotFoundError",
     "evalue": "[Errno 2] No such file or directory: 'parameterfiles/pandasparametertest253.pkl'",
     "output_type": "error",
     "traceback": [
      "\u001b[0;31m---------------------------------------------------------------------------\u001b[0m",
      "\u001b[0;31mFileNotFoundError\u001b[0m                         Traceback (most recent call last)",
      "\u001b[0;32m<ipython-input-93-e38b0dbd4de6>\u001b[0m in \u001b[0;36m<module>\u001b[0;34m\u001b[0m\n\u001b[0;32m----> 1\u001b[0;31m \u001b[0mdf\u001b[0m\u001b[0;34m.\u001b[0m\u001b[0mto_pickle\u001b[0m\u001b[0;34m(\u001b[0m\u001b[0;34m'parameterfiles/pandasparametertest253.pkl'\u001b[0m\u001b[0;34m)\u001b[0m\u001b[0;34m\u001b[0m\u001b[0;34m\u001b[0m\u001b[0m\n\u001b[0m",
      "\u001b[0;32m~/opt/anaconda3/lib/python3.7/site-packages/pandas/core/generic.py\u001b[0m in \u001b[0;36mto_pickle\u001b[0;34m(self, path, compression, protocol)\u001b[0m\n\u001b[1;32m   2769\u001b[0m         \u001b[0;32mfrom\u001b[0m \u001b[0mpandas\u001b[0m\u001b[0;34m.\u001b[0m\u001b[0mio\u001b[0m\u001b[0;34m.\u001b[0m\u001b[0mpickle\u001b[0m \u001b[0;32mimport\u001b[0m \u001b[0mto_pickle\u001b[0m\u001b[0;34m\u001b[0m\u001b[0;34m\u001b[0m\u001b[0m\n\u001b[1;32m   2770\u001b[0m \u001b[0;34m\u001b[0m\u001b[0m\n\u001b[0;32m-> 2771\u001b[0;31m         \u001b[0mto_pickle\u001b[0m\u001b[0;34m(\u001b[0m\u001b[0mself\u001b[0m\u001b[0;34m,\u001b[0m \u001b[0mpath\u001b[0m\u001b[0;34m,\u001b[0m \u001b[0mcompression\u001b[0m\u001b[0;34m=\u001b[0m\u001b[0mcompression\u001b[0m\u001b[0;34m,\u001b[0m \u001b[0mprotocol\u001b[0m\u001b[0;34m=\u001b[0m\u001b[0mprotocol\u001b[0m\u001b[0;34m)\u001b[0m\u001b[0;34m\u001b[0m\u001b[0;34m\u001b[0m\u001b[0m\n\u001b[0m\u001b[1;32m   2772\u001b[0m \u001b[0;34m\u001b[0m\u001b[0m\n\u001b[1;32m   2773\u001b[0m     \u001b[0;32mdef\u001b[0m \u001b[0mto_clipboard\u001b[0m\u001b[0;34m(\u001b[0m\u001b[0mself\u001b[0m\u001b[0;34m,\u001b[0m \u001b[0mexcel\u001b[0m\u001b[0;34m=\u001b[0m\u001b[0;32mTrue\u001b[0m\u001b[0;34m,\u001b[0m \u001b[0msep\u001b[0m\u001b[0;34m=\u001b[0m\u001b[0;32mNone\u001b[0m\u001b[0;34m,\u001b[0m \u001b[0;34m**\u001b[0m\u001b[0mkwargs\u001b[0m\u001b[0;34m)\u001b[0m\u001b[0;34m:\u001b[0m\u001b[0;34m\u001b[0m\u001b[0;34m\u001b[0m\u001b[0m\n",
      "\u001b[0;32m~/opt/anaconda3/lib/python3.7/site-packages/pandas/io/pickle.py\u001b[0m in \u001b[0;36mto_pickle\u001b[0;34m(obj, path, compression, protocol)\u001b[0m\n\u001b[1;32m     70\u001b[0m     \"\"\"\n\u001b[1;32m     71\u001b[0m     \u001b[0mpath\u001b[0m \u001b[0;34m=\u001b[0m \u001b[0m_stringify_path\u001b[0m\u001b[0;34m(\u001b[0m\u001b[0mpath\u001b[0m\u001b[0;34m)\u001b[0m\u001b[0;34m\u001b[0m\u001b[0;34m\u001b[0m\u001b[0m\n\u001b[0;32m---> 72\u001b[0;31m     \u001b[0mf\u001b[0m\u001b[0;34m,\u001b[0m \u001b[0mfh\u001b[0m \u001b[0;34m=\u001b[0m \u001b[0m_get_handle\u001b[0m\u001b[0;34m(\u001b[0m\u001b[0mpath\u001b[0m\u001b[0;34m,\u001b[0m \u001b[0;34m\"wb\"\u001b[0m\u001b[0;34m,\u001b[0m \u001b[0mcompression\u001b[0m\u001b[0;34m=\u001b[0m\u001b[0mcompression\u001b[0m\u001b[0;34m,\u001b[0m \u001b[0mis_text\u001b[0m\u001b[0;34m=\u001b[0m\u001b[0;32mFalse\u001b[0m\u001b[0;34m)\u001b[0m\u001b[0;34m\u001b[0m\u001b[0;34m\u001b[0m\u001b[0m\n\u001b[0m\u001b[1;32m     73\u001b[0m     \u001b[0;32mif\u001b[0m \u001b[0mprotocol\u001b[0m \u001b[0;34m<\u001b[0m \u001b[0;36m0\u001b[0m\u001b[0;34m:\u001b[0m\u001b[0;34m\u001b[0m\u001b[0;34m\u001b[0m\u001b[0m\n\u001b[1;32m     74\u001b[0m         \u001b[0mprotocol\u001b[0m \u001b[0;34m=\u001b[0m \u001b[0mpickle\u001b[0m\u001b[0;34m.\u001b[0m\u001b[0mHIGHEST_PROTOCOL\u001b[0m\u001b[0;34m\u001b[0m\u001b[0;34m\u001b[0m\u001b[0m\n",
      "\u001b[0;32m~/opt/anaconda3/lib/python3.7/site-packages/pandas/io/common.py\u001b[0m in \u001b[0;36m_get_handle\u001b[0;34m(path_or_buf, mode, encoding, compression, memory_map, is_text)\u001b[0m\n\u001b[1;32m    403\u001b[0m         \u001b[0;32melse\u001b[0m\u001b[0;34m:\u001b[0m\u001b[0;34m\u001b[0m\u001b[0;34m\u001b[0m\u001b[0m\n\u001b[1;32m    404\u001b[0m             \u001b[0;31m# Binary mode\u001b[0m\u001b[0;34m\u001b[0m\u001b[0;34m\u001b[0m\u001b[0;34m\u001b[0m\u001b[0m\n\u001b[0;32m--> 405\u001b[0;31m             \u001b[0mf\u001b[0m \u001b[0;34m=\u001b[0m \u001b[0mopen\u001b[0m\u001b[0;34m(\u001b[0m\u001b[0mpath_or_buf\u001b[0m\u001b[0;34m,\u001b[0m \u001b[0mmode\u001b[0m\u001b[0;34m)\u001b[0m\u001b[0;34m\u001b[0m\u001b[0;34m\u001b[0m\u001b[0m\n\u001b[0m\u001b[1;32m    406\u001b[0m         \u001b[0mhandles\u001b[0m\u001b[0;34m.\u001b[0m\u001b[0mappend\u001b[0m\u001b[0;34m(\u001b[0m\u001b[0mf\u001b[0m\u001b[0;34m)\u001b[0m\u001b[0;34m\u001b[0m\u001b[0;34m\u001b[0m\u001b[0m\n\u001b[1;32m    407\u001b[0m \u001b[0;34m\u001b[0m\u001b[0m\n",
      "\u001b[0;31mFileNotFoundError\u001b[0m: [Errno 2] No such file or directory: 'parameterfiles/pandasparametertest253.pkl'"
     ]
    }
   ],
   "source": [
    "df.to_pickle('parameterfiles/pandasparametertest253.pkl')"
   ]
  },
  {
   "cell_type": "markdown",
   "metadata": {},
   "source": [
    "# Different sampling techniques"
   ]
  },
  {
   "cell_type": "code",
   "execution_count": 80,
   "metadata": {},
   "outputs": [
    {
     "data": {
      "image/png": "[encoded data removed]",
      "text/plain": [
       "<Figure size 324x288 with 1 Axes>"
      ]
     },
     "metadata": {},
     "output_type": "display_data"
    }
   ],
   "source": [
    "fig, axs = plt.subplots(figsize=(4.5,4))\n",
    "\n",
    "xvalues = np.array([0, 1, 2, 3]);\n",
    "yvalues = np.array([0, 1, 2, 3]);\n",
    "xx, yy = np.meshgrid(xvalues, yvalues)\n",
    "\n",
    "plt.plot(xx, yy, marker='.', color='k', linestyle='none')\n",
    "plt.xticks([])\n",
    "plt.yticks([])\n",
    "plt.xlabel('Parameter A',fontsize = 12)\n",
    "plt.ylabel('Parameter B', fontsize = 12)\n",
    "\n",
    "plt.savefig('thesisfigures/gridsampling.png')\n"
   ]
  },
  {
   "cell_type": "code",
   "execution_count": 81,
   "metadata": {},
   "outputs": [
    {
     "data": {
      "image/png": "[encoded data removed]",
      "text/plain": [
       "<Figure size 324x288 with 1 Axes>"
      ]
     },
     "metadata": {},
     "output_type": "display_data"
    }
   ],
   "source": [
    "fig, axs = plt.subplots(figsize=(4.5,4))\n",
    "\n",
    "n_points = 16\n",
    "plt.plot(uniform(size=n_points),uniform(size=n_points),marker='.', color='k', linestyle='none')\n",
    "plt.xticks([])\n",
    "plt.yticks([])\n",
    "plt.xlabel('Parameter A',fontsize = 12)\n",
    "plt.ylabel('Parameter B', fontsize = 12)\n",
    "plt.savefig('thesisfigures/randomsampling.png')\n",
    "\n"
   ]
  },
  {
   "cell_type": "code",
   "execution_count": 83,
   "metadata": {},
   "outputs": [
    {
     "data": {
      "image/png": "[encoded data removed]",
      "text/plain": [
       "<Figure size 324x288 with 1 Axes>"
      ]
     },
     "metadata": {},
     "output_type": "display_data"
    }
   ],
   "source": [
    "fig, axs = plt.subplots(figsize=(4.5,4))\n",
    "\n",
    "data = np.column_stack((uniform(size=100000),uniform(size=100000)))\n",
    "points = lhs(data,n_points)\n",
    "\n",
    "plt.plot(points[:,0], points[:,1], marker='.', color='k', linestyle='none')\n",
    "plt.xticks([])\n",
    "plt.yticks([])\n",
    "plt.xlabel('Parameter A',fontsize = 12)\n",
    "plt.ylabel('Parameter B', fontsize = 12)\n",
    "plt.savefig('thesisfigures/lhssampling.png')\n",
    "\n"
   ]
  },
  {
   "cell_type": "code",
   "execution_count": null,
   "metadata": {},
   "outputs": [],
   "source": []
  },
  {
   "cell_type": "code",
   "execution_count": null,
   "metadata": {},
   "outputs": [],
   "source": []
  },
  {
   "cell_type": "code",
   "execution_count": null,
   "metadata": {},
   "outputs": [],
   "source": []
  }
 ],
 "metadata": {
  "kernelspec": {
   "display_name": "Python 3",
   "language": "python",
   "name": "python3"
  },
  "language_info": {
   "codemirror_mode": {
    "name": "ipython",
    "version": 3
   },
   "file_extension": ".py",
   "mimetype": "text/x-python",
   "name": "python",
   "nbconvert_exporter": "python",
   "pygments_lexer": "ipython3",
   "version": "3.8.0"
  }
 },
 "nbformat": 4,
 "nbformat_minor": 2
}
