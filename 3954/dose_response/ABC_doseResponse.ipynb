{
 "cells": [
  {
   "cell_type": "code",
   "execution_count": null,
   "metadata": {},
   "outputs": [],
   "source": [
    "U_ss = []\n",
    "A = [1,2,3,4]\n",
    "for A in A_list:\n",
    "    par_dict['kce']=km\n",
    "    T=300\n",
    "    t = np.linspace(0, T, T*1000)\n",
    "    initial_conditions = [0]\n",
    "    subcircuit = subcircuitAC_1(par_dict)\n",
    "    sol = odeint(subcircuit.ddt, initial_conditions, t)\n",
    "\n",
    "    Ustar_ODE=sol[-1]\n",
    "    U_ss.append(sol[-1,0])"
   ]
  }
 ],
 "metadata": {
  "kernelspec": {
   "display_name": "env1",
   "language": "python",
   "name": "python3"
  },
  "language_info": {
   "codemirror_mode": {
    "name": "ipython",
    "version": 3
   },
   "file_extension": ".py",
   "mimetype": "text/x-python",
   "name": "python",
   "nbconvert_exporter": "python",
   "pygments_lexer": "ipython3",
   "version": "3.8.5 (v3.8.5:580fbb018f, Jul 20 2020, 12:11:27) \n[Clang 6.0 (clang-600.0.57)]"
  },
  "orig_nbformat": 4,
  "vscode": {
   "interpreter": {
    "hash": "d35418776e92b8f88bb63c52115ca892af42f3e151db9c12328e54626c84f340"
   }
  }
 },
 "nbformat": 4,
 "nbformat_minor": 2
}
