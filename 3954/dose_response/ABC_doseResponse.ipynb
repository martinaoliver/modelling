{
 "cells": [
  {
   "cell_type": "code",
   "execution_count": 6,
   "metadata": {},
   "outputs": [],
   "source": [
    "import numpy as np\n",
    "\n",
    "# True parameter values (alpha, beta)\n",
    "alpha = 1.0\n",
    "beta = 0.1\n",
    "\n",
    "# Initial population of rabbits and foxes\n",
    "X0 = [10.0, 5.0]\n",
    "size = 100 # Size of data\n",
    "time = 15 # Time lapse\n",
    "t = np.linspace(0, time, size)\n",
    "\n",
    "# Lotka-Volterra equations\n",
    "def dX_dt(X, t, a = alpha, b = beta):\n",
    "    'Return the growth rate of fox and rabbit populations.'\n",
    "    return np.array([\n",
    "        a * X[0] - b * X[0] * X[1],\n",
    "        -1.5 * X[1] + 0.75 * b * X[0] * X[1]\n",
    "    ])"
   ]
  },
  {
   "attachments": {},
   "cell_type": "markdown",
   "metadata": {},
   "source": [
    "The solution to this system of ODEs might be written:\n",
    "\n"
   ]
  },
  {
   "cell_type": "code",
   "execution_count": 7,
   "metadata": {},
   "outputs": [],
   "source": [
    "from scipy.integrate import odeint\n",
    "\n",
    "def competition_model(params, x = None):\n",
    "    a, b, _ = params\n",
    "    'Simulator function (an ordinary differential equation to be integrated)'\n",
    "    return odeint(dX_dt, y0 = X0, t = t, rtol = 0.01, args = (a, b))"
   ]
  },
  {
   "attachments": {},
   "cell_type": "markdown",
   "metadata": {},
   "source": [
    "We generate some synthetic, \"observed\" data as:\n",
    "\n"
   ]
  },
  {
   "cell_type": "code",
   "execution_count": 13,
   "metadata": {},
   "outputs": [
    {
     "data": {
      "text/plain": [
       "[<matplotlib.lines.Line2D at 0x7ff268602310>]"
      ]
     },
     "execution_count": 13,
     "metadata": {},
     "output_type": "execute_result"
    },
    {
     "data": {
      "image/png": "[encoded data removed]",
      "text/plain": [
       "<Figure size 432x288 with 1 Axes>"
      ]
     },
     "metadata": {
      "needs_background": "light"
     },
     "output_type": "display_data"
    }
   ],
   "source": [
    "import matplotlib.pyplot as plt\n",
    "a = alpha\n",
    "b=beta\n",
    "# Observed data (with added random noise)\n",
    "data = competition_model(\n",
    "    params = (a, b, None)) + np.random.normal(size = (size, 2))\n",
    "plt.plot(t, data[:, 0], 'r-', label = 'Rabbits')\n",
    "plt.plot(t, data[:, 1], 'b-', label = 'Foxes')"
   ]
  },
  {
   "cell_type": "code",
   "execution_count": 14,
   "metadata": {},
   "outputs": [
    {
     "ename": "ModuleNotFoundError",
     "evalue": "No module named 'theano'",
     "output_type": "error",
     "traceback": [
      "\u001b[0;31m---------------------------------------------------------------------------\u001b[0m",
      "\u001b[0;31mModuleNotFoundError\u001b[0m                       Traceback (most recent call last)",
      "\u001b[0;32m<ipython-input-14-88a04320b346>\u001b[0m in \u001b[0;36m<module>\u001b[0;34m\u001b[0m\n\u001b[0;32m----> 1\u001b[0;31m \u001b[0;32mimport\u001b[0m \u001b[0mtheano\u001b[0m\u001b[0;34m.\u001b[0m\u001b[0mtensor\u001b[0m \u001b[0;32mas\u001b[0m \u001b[0mtt\u001b[0m\u001b[0;34m\u001b[0m\u001b[0;34m\u001b[0m\u001b[0m\n\u001b[0m\u001b[1;32m      2\u001b[0m \u001b[0;34m\u001b[0m\u001b[0m\n\u001b[1;32m      3\u001b[0m \u001b[0;32mclass\u001b[0m \u001b[0mBlackBoxLikelihood\u001b[0m\u001b[0;34m(\u001b[0m\u001b[0mtt\u001b[0m\u001b[0;34m.\u001b[0m\u001b[0mOp\u001b[0m\u001b[0;34m)\u001b[0m\u001b[0;34m:\u001b[0m\u001b[0;34m\u001b[0m\u001b[0;34m\u001b[0m\u001b[0m\n\u001b[1;32m      4\u001b[0m     \u001b[0mitypes\u001b[0m \u001b[0;34m=\u001b[0m \u001b[0;34m[\u001b[0m\u001b[0mtt\u001b[0m\u001b[0;34m.\u001b[0m\u001b[0mdvector\u001b[0m\u001b[0;34m]\u001b[0m \u001b[0;31m# Expects a vector of parameter values when called\u001b[0m\u001b[0;34m\u001b[0m\u001b[0;34m\u001b[0m\u001b[0m\n\u001b[1;32m      5\u001b[0m     \u001b[0motypes\u001b[0m \u001b[0;34m=\u001b[0m \u001b[0;34m[\u001b[0m\u001b[0mtt\u001b[0m\u001b[0;34m.\u001b[0m\u001b[0mdscalar\u001b[0m\u001b[0;34m]\u001b[0m \u001b[0;31m# Outputs a single scalar value (the log likelihood)\u001b[0m\u001b[0;34m\u001b[0m\u001b[0;34m\u001b[0m\u001b[0m\n",
      "\u001b[0;31mModuleNotFoundError\u001b[0m: No module named 'theano'"
     ]
    }
   ],
   "source": [
    "import theano.tensor as tt\n",
    "\n",
    "class BlackBoxLikelihood(tt.Op):\n",
    "    itypes = [tt.dvector] # Expects a vector of parameter values when called\n",
    "    otypes = [tt.dscalar] # Outputs a single scalar value (the log likelihood)\n",
    "\n",
    "    def __init__(self, model, observed, x):\n",
    "        '''\n",
    "        Parameters\n",
    "        ----------\n",
    "        model : Callable\n",
    "            An arbitrary \"black box\" function that takes two arguments: the\n",
    "            model parameters (\"params\") and the forcing data (\"x\")\n",
    "        observed : numpy.ndarray\n",
    "            The \"observed\" data that our log-likelihood function takes in\n",
    "        x:\n",
    "            The forcing data (input drivers) that our model requires\n",
    "        '''\n",
    "        self.model = model\n",
    "        self.observed = observed\n",
    "        self.x = x\n",
    "\n",
    "    def loglik(self, params, x, observed):\n",
    "        # The root-mean squared error (RMSE)\n",
    "        predicted = self.model(params, x)\n",
    "        return -np.sqrt(np.nanmean((predicted - observed) ** 2))\n",
    "\n",
    "    def perform(self, node, inputs, outputs):\n",
    "        # The method that is used when calling the Op\n",
    "        (params,) = inputs\n",
    "        logl = self.loglik(params, self.x, self.observed)\n",
    "        outputs[0][0] = np.array(logl) # Output the log-likelihood"
   ]
  },
  {
   "cell_type": "code",
   "execution_count": null,
   "metadata": {},
   "outputs": [],
   "source": []
  }
 ],
 "metadata": {
  "kernelspec": {
   "display_name": "env1",
   "language": "python",
   "name": "python3"
  },
  "language_info": {
   "codemirror_mode": {
    "name": "ipython",
    "version": 3
   },
   "file_extension": ".py",
   "mimetype": "text/x-python",
   "name": "python",
   "nbconvert_exporter": "python",
   "pygments_lexer": "ipython3",
   "version": "3.8.5"
  },
  "orig_nbformat": 4,
  "vscode": {
   "interpreter": {
    "hash": "d35418776e92b8f88bb63c52115ca892af42f3e151db9c12328e54626c84f340"
   }
  }
 },
 "nbformat": 4,
 "nbformat_minor": 2
}
