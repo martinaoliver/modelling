{
 "cells": [
  {
   "cell_type": "code",
   "execution_count": 14,
   "metadata": {},
   "outputs": [],
   "source": [
    "#############\n",
    "###paths#####\n",
    "#############\n",
    "import sys\n",
    "import os\n",
    "\n",
    "from importlib_metadata import distribution\n",
    "pwd = os.getcwd()\n",
    "modellingpath = pwd.rpartition(\"modelling\")[0] + pwd.rpartition(\"modelling\")[1] \n",
    "sys.path.append(modellingpath + '/lib')\n",
    "#############\n",
    "import pickle as pkl\n",
    "import numpy as np\n",
    "from scipy.integrate import odeint"
   ]
  },
  {
   "cell_type": "code",
   "execution_count": 21,
   "metadata": {},
   "outputs": [],
   "source": [
    "\n",
    "class hill_functions():\n",
    "\n",
    "    def __init__(self, par_dict):\n",
    "        for key, value in par_dict.items():\n",
    "            setattr(self, key, value)\n",
    "\n",
    "    def noncompetitiveact(self, X, km,n):\n",
    "        act = ((X / km) ** (n)) / (1 + (X / km) ** (n))\n",
    "        act = (1 / (1 + (km / (X+1e-08)) ** (n)))\n",
    "        return act\n",
    "\n",
    "    def noncompetitiveinh(self, X, km,n):\n",
    "        inh = 1 / (1 + (X / (km+1e-08)) ** (n))\n",
    "        return inh\n",
    "\n",
    "\n",
    "    def noncompetitivediffact(self, X, km,n, kdiff,mudiff):\n",
    "        act = (1 / (1 + ((mudiff*km) / (kdiff*X)) ** (n)))\n",
    "        return act\n",
    "\n",
    "class subcircuitAB_circuit14(hill_functions):\n",
    "#from circuit14\n",
    "\n",
    "    def __init__(self,par_dict,A,stochasticity=0):\n",
    "        for key,value in par_dict.items():\n",
    "            setattr(self,key,value)\n",
    "        setattr(self, 'stochasticity', stochasticity)\n",
    "\n",
    "\n",
    "\n",
    "    def ddt(self,species_list, A,wvn=0):\n",
    "        B,D = species_list\n",
    "        dbdt= self.muLVA*(1 + self.VB*self.noncompetitiveact(A,self.Kab, self.nab) - B ) -  B*self.Dr*wvn**2\n",
    "        dddt= self.muLVA*(1 + self.VD*self.noncompetitiveact(B,self.Kbd,self.nbd) - D ) \n",
    "\n",
    "        return dbdt,dddt"
   ]
  },
  {
   "cell_type": "code",
   "execution_count": 12,
   "metadata": {},
   "outputs": [
    {
     "name": "stdout",
     "output_type": "stream",
     "text": [
      "Circuit:circuit14, Variant:0nd\n"
     ]
    }
   ],
   "source": [
    "# Specify name of circuit and variant investigated\n",
    "circuit_n='circuit14'\n",
    "variant='0nd'\n",
    "# Specifiy number of parameter sets in parameterset file to be loaded\n",
    "n_param_sets = 10\n",
    "\n",
    "print(f'Circuit:{circuit_n}, Variant:{variant}')\n",
    "\n",
    "df= pkl.load( open(modellingpath + \"/3954/paper/input/lhs_parameterfiles/df_%s_variant%s_%rparametersets.pkl\"%(circuit_n,variant,n_param_sets), \"rb\"))\n",
    "par_dict = df.iloc[0].to_dict()\n",
    "\n"
   ]
  },
  {
   "cell_type": "code",
   "execution_count": 22,
   "metadata": {},
   "outputs": [],
   "source": [
    "U_ss = []\n",
    "A = [1,2,3,4]\n",
    "A_list = np.linspace(1, 4, 10)\n",
    "for A in A_list:\n",
    "    T=300\n",
    "    t = np.linspace(0, T, T*1000)\n",
    "    initial_conditions = [10,10]\n",
    "    A=1\n",
    "    subcircuit = subcircuitAB_circuit14(par_dict,A)\n",
    "    sol = odeint(subcircuit.ddt, initial_conditions, t)\n",
    "\n",
    "    Ustar_ODE=sol[-1]\n",
    "    U_ss.append(sol[-1,0])"
   ]
  },
  {
   "cell_type": "code",
   "execution_count": null,
   "metadata": {},
   "outputs": [],
   "source": []
  }
 ],
 "metadata": {
  "kernelspec": {
   "display_name": "env1",
   "language": "python",
   "name": "python3"
  },
  "language_info": {
   "codemirror_mode": {
    "name": "ipython",
    "version": 3
   },
   "file_extension": ".py",
   "mimetype": "text/x-python",
   "name": "python",
   "nbconvert_exporter": "python",
   "pygments_lexer": "ipython3",
   "version": "3.8.5"
  },
  "orig_nbformat": 4,
  "vscode": {
   "interpreter": {
    "hash": "d35418776e92b8f88bb63c52115ca892af42f3e151db9c12328e54626c84f340"
   }
  }
 },
 "nbformat": 4,
 "nbformat_minor": 2
}
