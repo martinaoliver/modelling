{
 "cells": [
  {
   "cell_type": "code",
   "execution_count": 4,
   "metadata": {},
   "outputs": [
    {
     "name": "stdout",
     "output_type": "stream",
     "text": [
      "/Users/mo2016\n",
      "/Volumes/mo2016/home/Documents/modelling\n"
     ]
    }
   ],
   "source": [
    "#############################\n",
    "#IMPORTS#\n",
    "#############################\n",
    "import sys\n",
    "import os\n",
    "pwd = os.getcwd()\n",
    "root = pwd.rpartition(\"mo2016\")[0] + pwd.rpartition(\"mo2016\")[1] #/Volumes/mo2016/ or '/Users/mo2016/' or '/rds/general/mo2016/'\n",
    "\n",
    "print(root)\n",
    "if root == '/Users/mo2016':\n",
    "    modelling_ephemeral = '/Volumes/mo2016/ephemeral/Documents/modelling'\n",
    "    modelling_home = '/Volumes/mo2016/home/Documents/modelling'\n",
    "    modelling_local = root + '/Documents/modelling'\n",
    "    import matplotlib as mpl\n",
    "    mpl.use('tkagg')\n",
    "\n",
    "if root == '/Volumes/mo2016' or  root=='/rds/general': #'/rds/general' or root=='/Volumes':\n",
    "        modelling_ephemeral = root + '/ephemeral/Documents/modelling'\n",
    "        modelling_home = root  + '/home/Documents/modelling'\n",
    "        modelling_local = modelling_home\n",
    "\n",
    "modulepath = modelling_local + '/3954/modules'\n",
    "sys.path.append(modulepath)\n",
    "\n",
    "import sys\n",
    "import time\n",
    "import pickle\n",
    "print(modelling_home)\n",
    "\n",
    "from linear_stability_analysis import *"
   ]
  },
  {
   "cell_type": "code",
   "execution_count": null,
   "metadata": {},
   "outputs": [],
   "source": [
    "#######################\n",
    "#########CODE##########\n",
    "#######################\n",
    "\n",
    "\n",
    "circuit_n = 2 #ID of circuit we want to analyse\n",
    "#(parameter sets provided correspond to circuit2 which is the one currently being implemented experimentally)\n",
    "parID = 0 #takes the first parameter set of the dataframe... can choose any\n",
    "n_species=6 #number of molecular species in circuit_n (#Circuit2 has 6 molecular species)\n",
    "variant=0\n",
    "n_param_sets=1000000\n",
    "#obtain a dictionary with some parameters to use in our analysis\n",
    "# df= pickle.load( open(modelling_home + '/3954/parameter_space_search/results/output_dataframes/lsa_df_circuit%r_variant%r_%rparametersets.pkl'%(circuit_n,variant,n_param_sets), \"rb\" ) )\n",
    "df= pickle.load( open(modelling_home + '/3954/parameter_space_search/parameterfiles/df_circuit%r_variant%r_%rparametersets.pkl'%(circuit_n,variant,n_param_sets), \"rb\" ) )\n",
    "\n"
   ]
  },
  {
   "cell_type": "code",
   "execution_count": null,
   "metadata": {},
   "outputs": [],
   "source": [
    "df.loc[df['system_class'] == 'turing I']"
   ]
  },
  {
   "cell_type": "code",
   "execution_count": 1,
   "metadata": {},
   "outputs": [
    {
     "ename": "NameError",
     "evalue": "name 'df' is not defined",
     "output_type": "error",
     "traceback": [
      "\u001b[0;31m---------------------------------------------------------------------------\u001b[0m",
      "\u001b[0;31mNameError\u001b[0m                                 Traceback (most recent call last)",
      "\u001b[0;32m<ipython-input-1-2a75c9df6654>\u001b[0m in \u001b[0;36m<module>\u001b[0;34m\u001b[0m\n\u001b[0;32m----> 1\u001b[0;31m \u001b[0mpar_dict\u001b[0m \u001b[0;34m=\u001b[0m \u001b[0mdf\u001b[0m\u001b[0;34m.\u001b[0m\u001b[0mloc\u001b[0m\u001b[0;34m[\u001b[0m\u001b[0;36m504\u001b[0m\u001b[0;34m]\u001b[0m\u001b[0;34m.\u001b[0m\u001b[0mto_dict\u001b[0m\u001b[0;34m(\u001b[0m\u001b[0;34m)\u001b[0m\u001b[0;34m\u001b[0m\u001b[0;34m\u001b[0m\u001b[0m\n\u001b[0m",
      "\u001b[0;31mNameError\u001b[0m: name 'df' is not defined"
     ]
    }
   ],
   "source": [
    "par_dict = df.loc[504].to_dict()"
   ]
  },
  {
   "cell_type": "code",
   "execution_count": 2,
   "metadata": {},
   "outputs": [
    {
     "ename": "NameError",
     "evalue": "name 'detailed_turing_analysis_dict' is not defined",
     "output_type": "error",
     "traceback": [
      "\u001b[0;31m---------------------------------------------------------------------------\u001b[0m",
      "\u001b[0;31mNameError\u001b[0m                                 Traceback (most recent call last)",
      "\u001b[0;32m<ipython-input-2-3757a97c66a6>\u001b[0m in \u001b[0;36m<module>\u001b[0;34m\u001b[0m\n\u001b[1;32m      1\u001b[0m \u001b[0;31m#Run analysis on 1M parameter sets\u001b[0m\u001b[0;34m\u001b[0m\u001b[0;34m\u001b[0m\u001b[0;34m\u001b[0m\u001b[0m\n\u001b[0;32m----> 2\u001b[0;31m \u001b[0moutput_df\u001b[0m \u001b[0;34m=\u001b[0m \u001b[0mdetailed_turing_analysis_dict\u001b[0m\u001b[0;34m(\u001b[0m\u001b[0mpar_dict\u001b[0m\u001b[0;34m,\u001b[0m \u001b[0mcircuit_n\u001b[0m\u001b[0;34m,\u001b[0m\u001b[0mn_species\u001b[0m\u001b[0;34m,\u001b[0m\u001b[0mtop_dispersion\u001b[0m\u001b[0;34m=\u001b[0m\u001b[0;36m5000\u001b[0m\u001b[0;34m,\u001b[0m\u001b[0mcalculate_unstable\u001b[0m\u001b[0;34m=\u001b[0m\u001b[0;32mFalse\u001b[0m\u001b[0;34m)\u001b[0m\u001b[0;34m\u001b[0m\u001b[0;34m\u001b[0m\u001b[0m\n\u001b[0m",
      "\u001b[0;31mNameError\u001b[0m: name 'detailed_turing_analysis_dict' is not defined"
     ]
    }
   ],
   "source": [
    " #Run analysis on 1M parameter sets\n",
    "output_df = detailed_turing_analysis_dict(par_dict, circuit_n,n_species,top_dispersion=5000,calculate_unstable=False)\n"
   ]
  },
  {
   "cell_type": "code",
   "execution_count": null,
   "metadata": {},
   "outputs": [],
   "source": []
  },
  {
   "cell_type": "code",
   "execution_count": null,
   "metadata": {},
   "outputs": [],
   "source": []
  },
  {
   "cell_type": "code",
   "execution_count": null,
   "metadata": {},
   "outputs": [],
   "source": []
  }
 ],
 "metadata": {
  "kernelspec": {
   "display_name": "Python 3",
   "language": "python",
   "name": "python3"
  },
  "language_info": {
   "codemirror_mode": {
    "name": "ipython",
    "version": 3
   },
   "file_extension": ".py",
   "mimetype": "text/x-python",
   "name": "python",
   "nbconvert_exporter": "python",
   "pygments_lexer": "ipython3",
   "version": "3.8.0"
  }
 },
 "nbformat": 4,
 "nbformat_minor": 4
}
