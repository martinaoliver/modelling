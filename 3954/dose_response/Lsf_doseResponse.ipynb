{
 "cells": [
  {
   "cell_type": "code",
   "execution_count": 2,
   "metadata": {},
   "outputs": [],
   "source": [
    "#############\n",
    "###paths#####\n",
    "#############\n",
    "import sys\n",
    "import os\n",
    "\n",
    "pwd = os.getcwd()\n",
    "modellingpath = pwd.rpartition(\"modelling\")[0] + pwd.rpartition(\"modelling\")[1] \n",
    "sys.path.append(modellingpath + '/lib')\n",
    "#############\n",
    "import pickle as pkl\n",
    "import numpy as np\n",
    "from scipy.integrate import odeint\n",
    "import matplotlib.pyplot as plt\n",
    "from equations.class_subcircuit_eq import *\n",
    "from sklearn.metrics import mean_squared_error\n"
   ]
  },
  {
   "cell_type": "code",
   "execution_count": 3,
   "metadata": {},
   "outputs": [],
   "source": [
    "def plotDoseResponse2(inducer,doseResponseRed, doseResponseGreen,semRed, semGreen, pad=0.01, inducerName = '[OC14]'):\n",
    "    fig,ax = plt.subplots()\n",
    "\n",
    "    ax.plot(inducer,doseResponseRed,label='RFP', c='red')\n",
    "    ax.errorbar(inducer,doseResponseRed,yerr=semRed,c='red',fmt='o')\n",
    "    ax.legend(loc='center left') #upper right\n",
    "    # ax.ticklabel_format(useOffset=False)\n",
    "    ax.set_xscale('log')\n",
    "    ax.set_xlabel(inducerName)\n",
    "    ax.set_ylim(0,np.amax(doseResponseRed)*1.1)\n",
    "    ax.set_ylabel('RFP / ($A_{600}$ $RFP_{basal})$')\n",
    "    ax2=ax.twinx()\n",
    "    ax2.plot(inducer,doseResponseGreen,label='GFP', c='green')\n",
    "    ax2.errorbar(inducer,doseResponseGreen,yerr=semGreen,c='green',fmt='o')\n",
    "    ax2.legend(loc='center right') #upper left\n",
    "    # ax2.ticklabel_format(useOffset=False)\n",
    "    ax.set_xscale('log')\n",
    "    ax2.set_xlabel(inducerName)\n",
    "    ax2.set_ylim(0,np.amax(doseResponseGreen)*1.1)\n",
    "    ax2.set_ylabel('GFP / ($A_{600}$ $GFP_{basal})$')\n",
    "\n",
    "    plt.show()\n",
    "    \n",
    "def plotDoseResponsevsData(inducer,inducer_continuous, rfpExp_list, gfpExp_list, semRed, semGreen, doseResponseRed,doseResponseGreen,pad=0.01):\n",
    "    fig,ax = plt.subplots()\n",
    "\n",
    "    ax.plot(inducer_continuous,doseResponseRed,label='RFP', c='red')\n",
    "    ax.scatter(inducer,rfpExp_list, c='red')\n",
    "    ax.errorbar(inducer,rfpExp_list,yerr=semRed,c='red',fmt='o')\n",
    "    ax.legend(loc='center left') #upper right\n",
    "    ax.set_ylabel('RFP / ($A_{600}$ $RFP_{basal})$')\n",
    "    ax.set_xscale('log')\n",
    "\n",
    "\n",
    "    ax2=ax.twinx()\n",
    "    ax2.plot(inducer_continuous,doseResponseGreen,label='GFP', c='green')\n",
    "    ax2.scatter(inducer,gfpExp_list, c='green')\n",
    "    ax2.errorbar(inducer,gfpExp_list,yerr=semGreen,c='green',fmt='o')\n",
    "    ax2.legend(loc='center right') #upper left\n",
    "    ax2.set_ylabel('GFP / ($A_{600}$ $GFP_{basal})$')\n",
    "    ax.set_xscale('log')\n",
    "\n",
    "\n",
    "    plt.show()\n",
    "\n",
    "def plotDoseResponse(inducer_list, U_ss, color='k'):\n",
    "    plt.plot(inducer_list,U_ss, c=color)\n",
    "    plt.xlabel('[inducer]')\n",
    "    plt.ylabel('Fluorescence')\n",
    "    plt.xscale('log')\n",
    "    plt.show()\n",
    "\n",
    "def doseResponse(subcircuit, inducer_list, initial_conditions=[10,10]):\n",
    "    U_ss = []\n",
    "    T=1000\n",
    "    t = np.linspace(0, T, T*50)\n",
    "    for inducer in inducer_list:\n",
    "        sol = odeint(subcircuit.ddt, initial_conditions, t, args=(inducer,inducer))\n",
    "        Ustar_ODE=sol[-1]\n",
    "        U_ss.append(sol[-1])\n",
    "    return np.array(U_ss)"
   ]
  },
  {
   "attachments": {},
   "cell_type": "markdown",
   "metadata": {},
   "source": [
    "## Subcircuit 3"
   ]
  },
  {
   "cell_type": "code",
   "execution_count": 4,
   "metadata": {},
   "outputs": [
    {
     "data": {
      "image/png": "[encoded data removed]",
      "text/plain": [
       "<Figure size 432x288 with 2 Axes>"
      ]
     },
     "metadata": {
      "needs_background": "light"
     },
     "output_type": "display_data"
    }
   ],
   "source": [
    "doseResponseExp = pkl.load(open('input/subcircuit3_circuit14_doseResponse.pkl','rb'))\n",
    "OC14_list = doseResponseExp['OC14_list']; gfpExp_list = doseResponseExp['doseResponse_gfp']; rfpExp_list = doseResponseExp['doseResponse_rfp']\n",
    "semRed = doseResponseExp['doseResponse_rfp_sem']; semGreen = doseResponseExp['doseResponse_gfp_sem']\n",
    "\n",
    "\n",
    "plotDoseResponse2(OC14_list, rfpExp_list, gfpExp_list, semRed, semGreen)\n"
   ]
  },
  {
   "cell_type": "code",
   "execution_count": 5,
   "metadata": {},
   "outputs": [
    {
     "name": "stdout",
     "output_type": "stream",
     "text": [
      "Circuit:circuit14, Variant:1nd\n"
     ]
    },
    {
     "data": {
      "text/html": [
       "<div>\n",
       "<style scoped>\n",
       "    .dataframe tbody tr th:only-of-type {\n",
       "        vertical-align: middle;\n",
       "    }\n",
       "\n",
       "    .dataframe tbody tr th {\n",
       "        vertical-align: top;\n",
       "    }\n",
       "\n",
       "    .dataframe thead th {\n",
       "        text-align: right;\n",
       "    }\n",
       "</style>\n",
       "<table border=\"1\" class=\"dataframe\">\n",
       "  <thead>\n",
       "    <tr style=\"text-align: right;\">\n",
       "      <th></th>\n",
       "      <th>VC</th>\n",
       "      <th>VD</th>\n",
       "      <th>VE</th>\n",
       "      <th>muLVA</th>\n",
       "      <th>Kda</th>\n",
       "      <th>Kbd</th>\n",
       "      <th>Kce</th>\n",
       "      <th>Kee</th>\n",
       "      <th>nda</th>\n",
       "      <th>nbd</th>\n",
       "      <th>nce</th>\n",
       "      <th>nee</th>\n",
       "    </tr>\n",
       "  </thead>\n",
       "  <tbody>\n",
       "    <tr>\n",
       "      <th>0</th>\n",
       "      <td>19.177823</td>\n",
       "      <td>47.425968</td>\n",
       "      <td>98.603756</td>\n",
       "      <td>3.394454</td>\n",
       "      <td>30.246197</td>\n",
       "      <td>3.950182</td>\n",
       "      <td>4.278198</td>\n",
       "      <td>0.01</td>\n",
       "      <td>1.0</td>\n",
       "      <td>2.0</td>\n",
       "      <td>1.0</td>\n",
       "      <td>4.0</td>\n",
       "    </tr>\n",
       "    <tr>\n",
       "      <th>1</th>\n",
       "      <td>304.345002</td>\n",
       "      <td>135.452353</td>\n",
       "      <td>155.554552</td>\n",
       "      <td>3.414466</td>\n",
       "      <td>48.591258</td>\n",
       "      <td>16.006643</td>\n",
       "      <td>3.569417</td>\n",
       "      <td>0.01</td>\n",
       "      <td>1.0</td>\n",
       "      <td>2.0</td>\n",
       "      <td>1.0</td>\n",
       "      <td>4.0</td>\n",
       "    </tr>\n",
       "    <tr>\n",
       "      <th>2</th>\n",
       "      <td>348.703942</td>\n",
       "      <td>475.522215</td>\n",
       "      <td>41.532850</td>\n",
       "      <td>3.938688</td>\n",
       "      <td>6.484979</td>\n",
       "      <td>4.455242</td>\n",
       "      <td>1.720599</td>\n",
       "      <td>0.01</td>\n",
       "      <td>1.0</td>\n",
       "      <td>2.0</td>\n",
       "      <td>1.0</td>\n",
       "      <td>4.0</td>\n",
       "    </tr>\n",
       "    <tr>\n",
       "      <th>3</th>\n",
       "      <td>154.001815</td>\n",
       "      <td>63.448029</td>\n",
       "      <td>267.681731</td>\n",
       "      <td>3.228803</td>\n",
       "      <td>34.344444</td>\n",
       "      <td>3.996837</td>\n",
       "      <td>1.626064</td>\n",
       "      <td>0.01</td>\n",
       "      <td>1.0</td>\n",
       "      <td>2.0</td>\n",
       "      <td>1.0</td>\n",
       "      <td>4.0</td>\n",
       "    </tr>\n",
       "    <tr>\n",
       "      <th>4</th>\n",
       "      <td>694.379864</td>\n",
       "      <td>350.477990</td>\n",
       "      <td>87.049174</td>\n",
       "      <td>3.310359</td>\n",
       "      <td>44.820783</td>\n",
       "      <td>9.380993</td>\n",
       "      <td>1.328727</td>\n",
       "      <td>0.01</td>\n",
       "      <td>1.0</td>\n",
       "      <td>2.0</td>\n",
       "      <td>1.0</td>\n",
       "      <td>4.0</td>\n",
       "    </tr>\n",
       "    <tr>\n",
       "      <th>...</th>\n",
       "      <td>...</td>\n",
       "      <td>...</td>\n",
       "      <td>...</td>\n",
       "      <td>...</td>\n",
       "      <td>...</td>\n",
       "      <td>...</td>\n",
       "      <td>...</td>\n",
       "      <td>...</td>\n",
       "      <td>...</td>\n",
       "      <td>...</td>\n",
       "      <td>...</td>\n",
       "      <td>...</td>\n",
       "    </tr>\n",
       "    <tr>\n",
       "      <th>999995</th>\n",
       "      <td>743.197069</td>\n",
       "      <td>182.621554</td>\n",
       "      <td>959.542199</td>\n",
       "      <td>3.878041</td>\n",
       "      <td>2.685110</td>\n",
       "      <td>230.128112</td>\n",
       "      <td>16.207506</td>\n",
       "      <td>0.01</td>\n",
       "      <td>1.0</td>\n",
       "      <td>2.0</td>\n",
       "      <td>1.0</td>\n",
       "      <td>4.0</td>\n",
       "    </tr>\n",
       "    <tr>\n",
       "      <th>999996</th>\n",
       "      <td>758.420601</td>\n",
       "      <td>332.519335</td>\n",
       "      <td>388.291530</td>\n",
       "      <td>4.300639</td>\n",
       "      <td>80.385326</td>\n",
       "      <td>93.888140</td>\n",
       "      <td>18.624748</td>\n",
       "      <td>0.01</td>\n",
       "      <td>1.0</td>\n",
       "      <td>2.0</td>\n",
       "      <td>1.0</td>\n",
       "      <td>4.0</td>\n",
       "    </tr>\n",
       "    <tr>\n",
       "      <th>999997</th>\n",
       "      <td>77.261856</td>\n",
       "      <td>22.972700</td>\n",
       "      <td>33.243426</td>\n",
       "      <td>3.529508</td>\n",
       "      <td>8.978784</td>\n",
       "      <td>35.031485</td>\n",
       "      <td>18.022831</td>\n",
       "      <td>0.01</td>\n",
       "      <td>1.0</td>\n",
       "      <td>2.0</td>\n",
       "      <td>1.0</td>\n",
       "      <td>4.0</td>\n",
       "    </tr>\n",
       "    <tr>\n",
       "      <th>999998</th>\n",
       "      <td>369.248901</td>\n",
       "      <td>45.690058</td>\n",
       "      <td>289.991435</td>\n",
       "      <td>4.223485</td>\n",
       "      <td>27.775923</td>\n",
       "      <td>2.607937</td>\n",
       "      <td>26.584930</td>\n",
       "      <td>0.01</td>\n",
       "      <td>1.0</td>\n",
       "      <td>2.0</td>\n",
       "      <td>1.0</td>\n",
       "      <td>4.0</td>\n",
       "    </tr>\n",
       "    <tr>\n",
       "      <th>999999</th>\n",
       "      <td>474.403621</td>\n",
       "      <td>618.785881</td>\n",
       "      <td>811.490545</td>\n",
       "      <td>4.178511</td>\n",
       "      <td>433.836593</td>\n",
       "      <td>6.447749</td>\n",
       "      <td>166.009815</td>\n",
       "      <td>0.01</td>\n",
       "      <td>1.0</td>\n",
       "      <td>2.0</td>\n",
       "      <td>1.0</td>\n",
       "      <td>4.0</td>\n",
       "    </tr>\n",
       "  </tbody>\n",
       "</table>\n",
       "<p>1000000 rows × 12 columns</p>\n",
       "</div>"
      ],
      "text/plain": [
       "                VC          VD          VE     muLVA         Kda         Kbd  \\\n",
       "0        19.177823   47.425968   98.603756  3.394454   30.246197    3.950182   \n",
       "1       304.345002  135.452353  155.554552  3.414466   48.591258   16.006643   \n",
       "2       348.703942  475.522215   41.532850  3.938688    6.484979    4.455242   \n",
       "3       154.001815   63.448029  267.681731  3.228803   34.344444    3.996837   \n",
       "4       694.379864  350.477990   87.049174  3.310359   44.820783    9.380993   \n",
       "...            ...         ...         ...       ...         ...         ...   \n",
       "999995  743.197069  182.621554  959.542199  3.878041    2.685110  230.128112   \n",
       "999996  758.420601  332.519335  388.291530  4.300639   80.385326   93.888140   \n",
       "999997   77.261856   22.972700   33.243426  3.529508    8.978784   35.031485   \n",
       "999998  369.248901   45.690058  289.991435  4.223485   27.775923    2.607937   \n",
       "999999  474.403621  618.785881  811.490545  4.178511  433.836593    6.447749   \n",
       "\n",
       "               Kce   Kee  nda  nbd  nce  nee  \n",
       "0         4.278198  0.01  1.0  2.0  1.0  4.0  \n",
       "1         3.569417  0.01  1.0  2.0  1.0  4.0  \n",
       "2         1.720599  0.01  1.0  2.0  1.0  4.0  \n",
       "3         1.626064  0.01  1.0  2.0  1.0  4.0  \n",
       "4         1.328727  0.01  1.0  2.0  1.0  4.0  \n",
       "...            ...   ...  ...  ...  ...  ...  \n",
       "999995   16.207506  0.01  1.0  2.0  1.0  4.0  \n",
       "999996   18.624748  0.01  1.0  2.0  1.0  4.0  \n",
       "999997   18.022831  0.01  1.0  2.0  1.0  4.0  \n",
       "999998   26.584930  0.01  1.0  2.0  1.0  4.0  \n",
       "999999  166.009815  0.01  1.0  2.0  1.0  4.0  \n",
       "\n",
       "[1000000 rows x 12 columns]"
      ]
     },
     "execution_count": 5,
     "metadata": {},
     "output_type": "execute_result"
    }
   ],
   "source": [
    "\n",
    "# Specify name of circuit and variant investigated\n",
    "circuit_n='circuit14'\n",
    "variant='1nd'\n",
    "# Specifiy number of parameter sets in parameterset file to be loaded\n",
    "n_param_sets = 1000000\n",
    "\n",
    "print(f'Circuit:{circuit_n}, Variant:{variant}')\n",
    "\n",
    "df_full= pkl.load( open(modellingpath + \"/3954/paper/input/balanced_parameterfiles/df_%s_variant%s_%rparametersets_balanced.pkl\"%(circuit_n,variant,n_param_sets), \"rb\"))\n",
    "df = df_full[['VC','VD','VE','muLVA','Kda','Kbd','Kce','Kee', 'nda','nbd','nce','nee']]\n",
    "df_balanced = df_full[df_full['balance'] == 'Balanced']\n",
    "df_balanced = df_balanced[['VC','VD','VE','muLVA','Kda','Kbd','Kce','Kee', 'nda','nbd','nce','nee',]]\n",
    "\n",
    "df_balanced"
   ]
  },
  {
   "cell_type": "code",
   "execution_count": 6,
   "metadata": {},
   "outputs": [],
   "source": [
    "subcircuit = lambda x: subcircuit3_circuit14(x)\n"
   ]
  },
  {
   "cell_type": "code",
   "execution_count": 8,
   "metadata": {},
   "outputs": [
    {
     "data": {
      "image/png": "[encoded data removed]",
      "text/plain": [
       "<Figure size 432x288 with 2 Axes>"
      ]
     },
     "metadata": {
      "needs_background": "light"
     },
     "output_type": "display_data"
    },
    {
     "name": "stdout",
     "output_type": "stream",
     "text": [
      "pardict1 {'VC': 15.594204396816703, 'VD': 19.755150149643036, 'VE': 5.0, 'muLVA': 3.7138908126126493, 'Kda': 34.56890386091548, 'Kbd': 1.1191357058674585, 'Kce': 11.590250386884874, 'Kee': 0.009999999999999998, 'nda': 1.0, 'nbd': 1.354193850760738, 'nce': 1.0, 'nee': 4.0}\n",
      "The maximum number of function evaluations is exceeded.\n",
      "Function evaluations 10, initial cost 3.3377e-01, final cost 4.1602e-02, first-order optimality 2.92e-02.\n",
      "pardict1 {'VC': 15.594204396816703, 'VD': 19.755150149643036, 'VE': 5.0, 'muLVA': 3.7138908126126493, 'Kda': 34.56890386091548, 'Kbd': 1.1191357058674585, 'Kce': 11.590250386884874, 'Kee': 0.009999999999999998, 'nda': 1.0, 'nbd': 1.354193850760738, 'nce': 1.0, 'nee': 4.0}\n",
      "\n",
      "\n",
      "pardict_final {'VC': 15.616585668355336, 'VD': 19.895231961863697, 'VE': 5.448445709024805, 'muLVA': 3.7138907197567197, 'Kda': 34.48367752411421, 'Kbd': 0.8923048257282783, 'Kce': 11.590498984165144, 'Kee': 0.010000396539774397, 'nda': 0.7496365474133908, 'nbd': 2.090256106347254, 'nce': 4.154924834735656, 'nee': 4.000000019446493}\n",
      "\n"
     ]
    },
    {
     "data": {
      "image/png": "[encoded data removed]",
      "text/plain": [
       "<Figure size 432x288 with 2 Axes>"
      ]
     },
     "metadata": {
      "needs_background": "light"
     },
     "output_type": "display_data"
    }
   ],
   "source": [
    "from scipy.optimize import least_squares\n",
    "def residualDoseResponse(pars, n_species=3):\n",
    "    par_dict2_data = df_balanced.iloc[0].to_dict()\n",
    "    par_dict1 = {}\n",
    "    for count,key in enumerate(par_dict2_data.keys()):\n",
    "        par_dict1[key] = pars[count]\n",
    "\n",
    "    U_ss1= doseResponse(subcircuit(par_dict1), OC14_list, initial_conditions=[10]*n_species)[:,:2]#ONLY TAKE RED AND GREEN FOR FITTING\n",
    "\n",
    "    data = np.array([rfpExp_list, gfpExp_list]).T\n",
    "    mean_list = [np.mean(data[:,x]) for x in range(2)]\n",
    "\n",
    "    relError = [np.sum(np.square(data - U_ss1)[:,x])/np.sum(np.square(data[:,x] - mean_list[x])) for x in range(2)]\n",
    "\n",
    "    return relError\n",
    "\n",
    "n_species=3\n",
    "OC14_list_continuous = np.logspace(2,-2, 100)\n",
    "\n",
    "par_dict = df_balanced.iloc[7].to_dict()\n",
    "\n",
    "\n",
    "par_dict['VE'] = 5\n",
    "par_dict['VD'] = 20\n",
    "par_dict =  {'VC': 15.594204396816703, 'VD': 19.755150149643036, 'VE': 5.0, 'muLVA': 3.7138908126126493, 'Kda': 34.56890386091548, 'Kbd': 1.1191357058674585, 'Kce': 11.590250386884874, 'Kee': 0.009999999999999998, 'nda': 1.0, 'nbd': 1.354193850760738, 'nce': 1.0, 'nee': 4.0}\n",
    "U_ss= doseResponse(subcircuit(par_dict), OC14_list_continuous, initial_conditions=[10]*n_species)\n",
    "plotDoseResponsevsData(OC14_list,OC14_list_continuous,rfpExp_list,gfpExp_list,semRed, semGreen,  U_ss[:,0] ,U_ss[:,1] )\n",
    "\n",
    "print('pardict1', par_dict)\n",
    "pars = [x for x in par_dict.values()]\n",
    "r = least_squares(residualDoseResponse,pars, max_nfev=10 , verbose=1)\n",
    "x = r['x']\n",
    "new_par_dict = {}\n",
    "for count,key in enumerate(par_dict.keys()):\n",
    "    new_par_dict[key] = x[count]\n",
    "print('pardict1', par_dict)\n",
    "print('')\n",
    "print('')\n",
    "\n",
    "print('pardict_final', new_par_dict)\n",
    "print('')\n",
    "\n",
    "U_ss= doseResponse(subcircuit(new_par_dict), OC14_list_continuous, initial_conditions=[10]*3)\n",
    "# plotDoseResponsevsData(OC14_list,OC14_list_continuous,gfpExp_list,gfpExp_list,semGreen, semGreen,  U_ss[:,1] ,U_ss[:,1] )\n",
    "plotDoseResponsevsData(OC14_list,OC14_list_continuous,rfpExp_list,gfpExp_list,semRed, semGreen,  U_ss[:,0] ,U_ss[:,1] )\n",
    "# plotDoseResponsevsData(AHL_list,A_list,gfpExp_list,gfpExp_list,semGreen, semGreen,  U_ss[:,1] ,U_ss[:,1] )\n"
   ]
  },
  {
   "cell_type": "code",
   "execution_count": null,
   "metadata": {},
   "outputs": [
    {
     "data": {
      "image/png": "[encoded data removed]",
      "text/plain": [
       "<Figure size 432x288 with 2 Axes>"
      ]
     },
     "metadata": {
      "needs_background": "light"
     },
     "output_type": "display_data"
    }
   ],
   "source": [
    "plotDoseResponsevsData(OC14_list,OC14_list_continuous,rfpExp_list,gfpExp_list,semRed, semGreen,  U_ss[:,0] ,U_ss[:,1] )\n"
   ]
  },
  {
   "cell_type": "markdown",
   "metadata": {},
   "source": [
    "## Subcircuit 1"
   ]
  },
  {
   "cell_type": "code",
   "execution_count": 9,
   "metadata": {},
   "outputs": [
    {
     "data": {
      "image/png": "[encoded data removed]",
      "text/plain": [
       "<Figure size 432x288 with 2 Axes>"
      ]
     },
     "metadata": {
      "needs_background": "light"
     },
     "output_type": "display_data"
    },
    {
     "data": {
      "text/plain": [
       "array([1.e+01, 1.e+00, 1.e-01, 1.e-02, 1.e-03])"
      ]
     },
     "execution_count": 9,
     "metadata": {},
     "output_type": "execute_result"
    }
   ],
   "source": [
    "doseResponseExp = pkl.load(open('input/subcircuit1_circuit14_doseResponse_maxATC.pkl','rb'))\n",
    "AHL_list = doseResponseExp['AHL_list']; gfpExp_list = doseResponseExp['maxATC_doseResponse_gfp']; rfpExp_list = doseResponseExp['maxATC_doseResponse_rfp']\n",
    "semRed = doseResponseExp['maxATC_doseResponse_rfp_sem']; semGreen = doseResponseExp['maxATC_doseResponse_gfp_sem']\n",
    "\n",
    "\n",
    "plotDoseResponse2(AHL_list, rfpExp_list, gfpExp_list, semRed, semGreen)\n",
    "AHL_list"
   ]
  },
  {
   "attachments": {},
   "cell_type": "markdown",
   "metadata": {},
   "source": [
    "Step 1: load parameter distributions (prior)\n"
   ]
  },
  {
   "cell_type": "code",
   "execution_count": 10,
   "metadata": {},
   "outputs": [
    {
     "name": "stdout",
     "output_type": "stream",
     "text": [
      "Circuit:circuit14, Variant:1nd\n"
     ]
    },
    {
     "data": {
      "text/html": [
       "<div>\n",
       "<style scoped>\n",
       "    .dataframe tbody tr th:only-of-type {\n",
       "        vertical-align: middle;\n",
       "    }\n",
       "\n",
       "    .dataframe tbody tr th {\n",
       "        vertical-align: top;\n",
       "    }\n",
       "\n",
       "    .dataframe thead th {\n",
       "        text-align: right;\n",
       "    }\n",
       "</style>\n",
       "<table border=\"1\" class=\"dataframe\">\n",
       "  <thead>\n",
       "    <tr style=\"text-align: right;\">\n",
       "      <th></th>\n",
       "      <th>VE</th>\n",
       "      <th>VF</th>\n",
       "      <th>muLVA</th>\n",
       "      <th>Kbd</th>\n",
       "      <th>Kfe</th>\n",
       "      <th>Kee</th>\n",
       "      <th>nbd</th>\n",
       "      <th>nfe</th>\n",
       "      <th>nee</th>\n",
       "      <th>Kee</th>\n",
       "    </tr>\n",
       "  </thead>\n",
       "  <tbody>\n",
       "    <tr>\n",
       "      <th>0</th>\n",
       "      <td>98.603756</td>\n",
       "      <td>702.461106</td>\n",
       "      <td>3.394454</td>\n",
       "      <td>3.950182</td>\n",
       "      <td>163.978807</td>\n",
       "      <td>0.01</td>\n",
       "      <td>2.0</td>\n",
       "      <td>4.0</td>\n",
       "      <td>4.0</td>\n",
       "      <td>0.01</td>\n",
       "    </tr>\n",
       "    <tr>\n",
       "      <th>1</th>\n",
       "      <td>155.554552</td>\n",
       "      <td>999.253725</td>\n",
       "      <td>3.414466</td>\n",
       "      <td>16.006643</td>\n",
       "      <td>5.421244</td>\n",
       "      <td>0.01</td>\n",
       "      <td>2.0</td>\n",
       "      <td>4.0</td>\n",
       "      <td>4.0</td>\n",
       "      <td>0.01</td>\n",
       "    </tr>\n",
       "    <tr>\n",
       "      <th>2</th>\n",
       "      <td>41.532850</td>\n",
       "      <td>301.720176</td>\n",
       "      <td>3.938688</td>\n",
       "      <td>4.455242</td>\n",
       "      <td>177.921211</td>\n",
       "      <td>0.01</td>\n",
       "      <td>2.0</td>\n",
       "      <td>4.0</td>\n",
       "      <td>4.0</td>\n",
       "      <td>0.01</td>\n",
       "    </tr>\n",
       "    <tr>\n",
       "      <th>3</th>\n",
       "      <td>267.681731</td>\n",
       "      <td>281.612052</td>\n",
       "      <td>3.228803</td>\n",
       "      <td>3.996837</td>\n",
       "      <td>160.291891</td>\n",
       "      <td>0.01</td>\n",
       "      <td>2.0</td>\n",
       "      <td>4.0</td>\n",
       "      <td>4.0</td>\n",
       "      <td>0.01</td>\n",
       "    </tr>\n",
       "    <tr>\n",
       "      <th>4</th>\n",
       "      <td>87.049174</td>\n",
       "      <td>444.717315</td>\n",
       "      <td>3.310359</td>\n",
       "      <td>9.380993</td>\n",
       "      <td>3.794104</td>\n",
       "      <td>0.01</td>\n",
       "      <td>2.0</td>\n",
       "      <td>4.0</td>\n",
       "      <td>4.0</td>\n",
       "      <td>0.01</td>\n",
       "    </tr>\n",
       "    <tr>\n",
       "      <th>...</th>\n",
       "      <td>...</td>\n",
       "      <td>...</td>\n",
       "      <td>...</td>\n",
       "      <td>...</td>\n",
       "      <td>...</td>\n",
       "      <td>...</td>\n",
       "      <td>...</td>\n",
       "      <td>...</td>\n",
       "      <td>...</td>\n",
       "      <td>...</td>\n",
       "    </tr>\n",
       "    <tr>\n",
       "      <th>999995</th>\n",
       "      <td>959.542199</td>\n",
       "      <td>327.439791</td>\n",
       "      <td>3.878041</td>\n",
       "      <td>230.128112</td>\n",
       "      <td>318.746343</td>\n",
       "      <td>0.01</td>\n",
       "      <td>2.0</td>\n",
       "      <td>4.0</td>\n",
       "      <td>4.0</td>\n",
       "      <td>0.01</td>\n",
       "    </tr>\n",
       "    <tr>\n",
       "      <th>999996</th>\n",
       "      <td>388.291530</td>\n",
       "      <td>321.379872</td>\n",
       "      <td>4.300639</td>\n",
       "      <td>93.888140</td>\n",
       "      <td>8.147470</td>\n",
       "      <td>0.01</td>\n",
       "      <td>2.0</td>\n",
       "      <td>4.0</td>\n",
       "      <td>4.0</td>\n",
       "      <td>0.01</td>\n",
       "    </tr>\n",
       "    <tr>\n",
       "      <th>999997</th>\n",
       "      <td>33.243426</td>\n",
       "      <td>22.027648</td>\n",
       "      <td>3.529508</td>\n",
       "      <td>35.031485</td>\n",
       "      <td>4.000563</td>\n",
       "      <td>0.01</td>\n",
       "      <td>2.0</td>\n",
       "      <td>4.0</td>\n",
       "      <td>4.0</td>\n",
       "      <td>0.01</td>\n",
       "    </tr>\n",
       "    <tr>\n",
       "      <th>999998</th>\n",
       "      <td>289.991435</td>\n",
       "      <td>52.842083</td>\n",
       "      <td>4.223485</td>\n",
       "      <td>2.607937</td>\n",
       "      <td>3.752162</td>\n",
       "      <td>0.01</td>\n",
       "      <td>2.0</td>\n",
       "      <td>4.0</td>\n",
       "      <td>4.0</td>\n",
       "      <td>0.01</td>\n",
       "    </tr>\n",
       "    <tr>\n",
       "      <th>999999</th>\n",
       "      <td>811.490545</td>\n",
       "      <td>162.744522</td>\n",
       "      <td>4.178511</td>\n",
       "      <td>6.447749</td>\n",
       "      <td>1.260144</td>\n",
       "      <td>0.01</td>\n",
       "      <td>2.0</td>\n",
       "      <td>4.0</td>\n",
       "      <td>4.0</td>\n",
       "      <td>0.01</td>\n",
       "    </tr>\n",
       "  </tbody>\n",
       "</table>\n",
       "<p>1000000 rows × 10 columns</p>\n",
       "</div>"
      ],
      "text/plain": [
       "                VE          VF     muLVA         Kbd         Kfe   Kee  nbd  \\\n",
       "0        98.603756  702.461106  3.394454    3.950182  163.978807  0.01  2.0   \n",
       "1       155.554552  999.253725  3.414466   16.006643    5.421244  0.01  2.0   \n",
       "2        41.532850  301.720176  3.938688    4.455242  177.921211  0.01  2.0   \n",
       "3       267.681731  281.612052  3.228803    3.996837  160.291891  0.01  2.0   \n",
       "4        87.049174  444.717315  3.310359    9.380993    3.794104  0.01  2.0   \n",
       "...            ...         ...       ...         ...         ...   ...  ...   \n",
       "999995  959.542199  327.439791  3.878041  230.128112  318.746343  0.01  2.0   \n",
       "999996  388.291530  321.379872  4.300639   93.888140    8.147470  0.01  2.0   \n",
       "999997   33.243426   22.027648  3.529508   35.031485    4.000563  0.01  2.0   \n",
       "999998  289.991435   52.842083  4.223485    2.607937    3.752162  0.01  2.0   \n",
       "999999  811.490545  162.744522  4.178511    6.447749    1.260144  0.01  2.0   \n",
       "\n",
       "        nfe  nee   Kee  \n",
       "0       4.0  4.0  0.01  \n",
       "1       4.0  4.0  0.01  \n",
       "2       4.0  4.0  0.01  \n",
       "3       4.0  4.0  0.01  \n",
       "4       4.0  4.0  0.01  \n",
       "...     ...  ...   ...  \n",
       "999995  4.0  4.0  0.01  \n",
       "999996  4.0  4.0  0.01  \n",
       "999997  4.0  4.0  0.01  \n",
       "999998  4.0  4.0  0.01  \n",
       "999999  4.0  4.0  0.01  \n",
       "\n",
       "[1000000 rows x 10 columns]"
      ]
     },
     "execution_count": 10,
     "metadata": {},
     "output_type": "execute_result"
    }
   ],
   "source": [
    "\n",
    "# Specify name of circuit and variant investigated\n",
    "circuit_n='circuit14'\n",
    "variant='1nd'\n",
    "# Specifiy number of parameter sets in parameterset file to be loaded\n",
    "n_param_sets = 1000000\n",
    "\n",
    "print(f'Circuit:{circuit_n}, Variant:{variant}')\n",
    "\n",
    "df_full= pkl.load( open(modellingpath + \"/3954/paper/input/balanced_parameterfiles/df_%s_variant%s_%rparametersets_balanced.pkl\"%(circuit_n,variant,n_param_sets), \"rb\"))\n",
    "df = df_full[['VE','VF','muLVA','Kbd','Kfe','Kee','nbd','nfe','nee','Kee']]\n",
    "df_balanced = df_full[df_full['balance'] == 'Balanced']\n",
    "df_balanced = df_balanced[['VE','VF','muLVA','Kbd','Kfe','Kee','nbd','nfe','nee','Kee']]\n",
    "\n",
    "df_balanced"
   ]
  },
  {
   "cell_type": "code",
   "execution_count": 11,
   "metadata": {},
   "outputs": [],
   "source": [
    "subcircuit = lambda x: subcircuit1_circuit14(x)\n",
    "\n",
    "# par_dict['VE'] = pars[0]"
   ]
  },
  {
   "attachments": {},
   "cell_type": "markdown",
   "metadata": {},
   "source": [
    "Step 2: Sample from prior\n"
   ]
  },
  {
   "cell_type": "code",
   "execution_count": 12,
   "metadata": {},
   "outputs": [
    {
     "data": {
      "image/png": "[encoded data removed]",
      "text/plain": [
       "<Figure size 432x288 with 2 Axes>"
      ]
     },
     "metadata": {
      "needs_background": "light"
     },
     "output_type": "display_data"
    },
    {
     "name": "stdout",
     "output_type": "stream",
     "text": [
      "The maximum number of function evaluations is exceeded.\n",
      "Function evaluations 10, initial cost 1.0964e+05, final cost 3.8154e+04, first-order optimality 1.49e+04.\n",
      "pardict1 {'VE': 68.22476437572783, 'VF': 123.92968368157253, 'muLVA': 3.7138908126126493, 'Kbd': 4.912576206836341, 'Kfe': 7.408820665516073, 'Kee': 0.009999999999999998, 'nbd': 2.0, 'nfe': 4.0, 'nee': 4.0}\n",
      "\n",
      "\n",
      "pardict_final {'VE': 68.2247654590626, 'VF': 123.8129798555196, 'muLVA': 3.7138908126126315, 'Kbd': 5.943951471526379, 'Kfe': 7.40882182078922, 'Kee': 0.009999999999933768, 'nbd': 0.5985218167894542, 'nfe': 4.000000286272399, 'nee': 4.0}\n",
      "\n"
     ]
    },
    {
     "data": {
      "image/png": "[encoded data removed]",
      "text/plain": [
       "<Figure size 432x288 with 2 Axes>"
      ]
     },
     "metadata": {
      "needs_background": "light"
     },
     "output_type": "display_data"
    }
   ],
   "source": [
    "from scipy.optimize import least_squares\n",
    "\n",
    "samples = np.zeros((10000,2))\n",
    "params_samples = np.zeros((10000,9))\n",
    "index_arr = np.zeros(1)\n",
    "def residualDoseResponse(pars, samples, params_samples, index_arr):\n",
    "    par_dict2_data = df_balanced.iloc[0].to_dict()\n",
    "    par_dict1 = {}\n",
    "    for count,key in enumerate(par_dict2_data.keys()):\n",
    "        par_dict1[key] = pars[count]\n",
    "\n",
    "    U_ss1= doseResponse(subcircuit(par_dict1), AHL_list)\n",
    "    data = np.array([rfpExp_list, gfpExp_list]).T\n",
    "    sem = np.array([semRed, semGreen])\n",
    "    mean_list = [np.mean(data[:,x]) for x in range(2)]\n",
    "\n",
    "    relError = [np.sum(np.square(data - U_ss1)[:,x])/np.sum(np.square(data[:,x] - mean_list[x])) for x in range(2)]\n",
    "    index = int(index_arr[0])\n",
    "    samples[index,:] = relError\n",
    "    params_samples[index, :] = pars\n",
    "    index_arr[0] += 1\n",
    "    return relError\n",
    "\n",
    "\n",
    "OC14_list = np.logspace(-3,1, 100)\n",
    "\n",
    "par_dict = df_balanced.iloc[7].to_dict()\n",
    "\n",
    "\n",
    "U_ss= doseResponse(subcircuit(par_dict), OC14_list)\n",
    "plotDoseResponsevsData(AHL_list,OC14_list,rfpExp_list,gfpExp_list,semRed, semGreen,  U_ss[:,0] ,U_ss[:,1] )\n",
    "# plotDoseResponsevsData(AHL_list,A_list,gfpExp_list,gfpExp_list,semGreen, semGreen,  U_ss[:,1] ,U_ss[:,1] )\n",
    "\n",
    "\n",
    "pars = [x for x in par_dict.values()]\n",
    "r = least_squares(residualDoseResponse,pars, max_nfev=10 , verbose=1, args=(samples, params_samples, index_arr))\n",
    "x = r['x']\n",
    "new_par_dict = {}\n",
    "for count,key in enumerate(par_dict.keys()):\n",
    "    new_par_dict[key] = x[count]\n",
    "print('pardict1', par_dict)\n",
    "print('')\n",
    "print('')\n",
    "\n",
    "print('pardict_final', new_par_dict)\n",
    "print('')\n",
    "\n",
    "U_ss= doseResponse(subcircuit(new_par_dict), OC14_list)\n",
    "plotDoseResponsevsData(AHL_list,OC14_list,rfpExp_list,gfpExp_list,semRed, semGreen,  U_ss[:,0] ,U_ss[:,1] )\n",
    "# plotDoseResponsevsData(AHL_list,A_list,gfpExp_list,gfpExp_list,semGreen, semGreen,  U_ss[:,1] ,U_ss[:,1] )\n"
   ]
  },
  {
   "cell_type": "markdown",
   "metadata": {},
   "source": []
  },
  {
   "cell_type": "markdown",
   "metadata": {},
   "source": []
  },
  {
   "cell_type": "code",
   "execution_count": 22,
   "metadata": {},
   "outputs": [
    {
     "ename": "NameError",
     "evalue": "name 'diff' is not defined",
     "output_type": "error",
     "traceback": [
      "\u001b[0;31m---------------------------------------------------------------------------\u001b[0m",
      "\u001b[0;31mNameError\u001b[0m                                 Traceback (most recent call last)",
      "\u001b[0;32m<ipython-input-22-9bc7a5080e85>\u001b[0m in \u001b[0;36m<module>\u001b[0;34m\u001b[0m\n\u001b[1;32m      4\u001b[0m \u001b[0mp2\u001b[0m \u001b[0;34m=\u001b[0m  \u001b[0mparams_samples\u001b[0m\u001b[0;34m[\u001b[0m\u001b[0;34m:\u001b[0m\u001b[0mint\u001b[0m\u001b[0;34m(\u001b[0m\u001b[0mindex_arr\u001b[0m\u001b[0;34m[\u001b[0m\u001b[0;36m0\u001b[0m\u001b[0;34m]\u001b[0m\u001b[0;34m)\u001b[0m\u001b[0;34m,\u001b[0m\u001b[0;36m2\u001b[0m\u001b[0;34m]\u001b[0m\u001b[0;34m\u001b[0m\u001b[0;34m\u001b[0m\u001b[0m\n\u001b[1;32m      5\u001b[0m \u001b[0ml\u001b[0m \u001b[0;34m=\u001b[0m \u001b[0msamples\u001b[0m\u001b[0;34m[\u001b[0m\u001b[0;34m:\u001b[0m\u001b[0mint\u001b[0m\u001b[0;34m(\u001b[0m\u001b[0mindex_arr\u001b[0m\u001b[0;34m[\u001b[0m\u001b[0;36m0\u001b[0m\u001b[0;34m]\u001b[0m\u001b[0;34m)\u001b[0m\u001b[0;34m,\u001b[0m\u001b[0;36m0\u001b[0m\u001b[0;34m]\u001b[0m\u001b[0;34m\u001b[0m\u001b[0;34m\u001b[0m\u001b[0m\n\u001b[0;32m----> 6\u001b[0;31m \u001b[0mdy\u001b[0m \u001b[0;34m=\u001b[0m \u001b[0mdiff\u001b[0m\u001b[0;34m(\u001b[0m\u001b[0ml\u001b[0m\u001b[0;34m)\u001b[0m\u001b[0;34m/\u001b[0m\u001b[0mp1\u001b[0m\u001b[0;34m\u001b[0m\u001b[0;34m\u001b[0m\u001b[0m\n\u001b[0m\u001b[1;32m      7\u001b[0m \u001b[0;34m\u001b[0m\u001b[0m\n\u001b[1;32m      8\u001b[0m \u001b[0;31m# plt.scatter(params_samples[:int(index_arr[0]),1], samples[:int(index_arr[0]),0])\u001b[0m\u001b[0;34m\u001b[0m\u001b[0;34m\u001b[0m\u001b[0;34m\u001b[0m\u001b[0m\n",
      "\u001b[0;31mNameError\u001b[0m: name 'diff' is not defined"
     ]
    }
   ],
   "source": [
    "from numpy import diff# plt.scatter(params_samples[:int(index_arr[0]),0],samples[:int(index_arr[0]),0])\n",
    "p1 =  params_samples[:int(index_arr[0]),0]\n",
    "p2 =  params_samples[:int(index_arr[0]),2]\n",
    "l = samples[:int(index_arr[0]),0]\n",
    "dy = diff(l)/diff(p1)\n",
    "\n",
    "# plt.scatter(params_samples[:int(index_arr[0]),1], samples[:int(index_arr[0]),0])\n",
    "\n",
    "# plt.yscale('log')"
   ]
  },
  {
   "cell_type": "code",
   "execution_count": null,
   "metadata": {},
   "outputs": [],
   "source": [
    "import pandas as pd\n",
    "r_df = pd.read_csv('r.csv')\n",
    "plt.plot(r_df['Iteration'],r_df['Cost'] , c = 'darkslategrey', label='Cost')\n",
    "plt.plot(r_df['Iteration'],r_df['Cost Reduction'],  c = 'lightseagreen',label='Cost Reduction')\n",
    "plt.yscale('log')\n",
    "plt.legend()\n"
   ]
  },
  {
   "attachments": {},
   "cell_type": "markdown",
   "metadata": {},
   "source": []
  }
 ],
 "metadata": {
  "kernelspec": {
   "display_name": "env1",
   "language": "python",
   "name": "python3"
  },
  "language_info": {
   "codemirror_mode": {
    "name": "ipython",
    "version": 3
   },
   "file_extension": ".py",
   "mimetype": "text/x-python",
   "name": "python",
   "nbconvert_exporter": "python",
   "pygments_lexer": "ipython3",
   "version": "3.8.5"
  },
  "orig_nbformat": 4,
  "vscode": {
   "interpreter": {
    "hash": "d35418776e92b8f88bb63c52115ca892af42f3e151db9c12328e54626c84f340"
   }
  }
 },
 "nbformat": 4,
 "nbformat_minor": 2
}
