{
 "cells": [
  {
   "cell_type": "code",
   "execution_count": 1,
   "metadata": {},
   "outputs": [],
   "source": [
    "#############\n",
    "###paths#####\n",
    "#############\n",
    "import sys\n",
    "import os\n",
    "\n",
    "pwd = os.getcwd()\n",
    "modellingpath = pwd.rpartition(\"modelling\")[0] + pwd.rpartition(\"modelling\")[1] \n",
    "sys.path.append(modellingpath + '/lib')\n",
    "#############\n",
    "import pickle as pkl\n",
    "import numpy as np\n",
    "from scipy.integrate import odeint\n",
    "import matplotlib.pyplot as plt\n",
    "from equations.class_subcircuit_eq import *\n",
    "from sklearn.metrics import mean_squared_error\n"
   ]
  },
  {
   "cell_type": "code",
   "execution_count": 74,
   "metadata": {},
   "outputs": [],
   "source": [
    "def plotDoseResponse2(inducer,doseResponseRed, doseResponseGreen,semRed, semGreen, pad=0.01):\n",
    "    fig,ax = plt.subplots()\n",
    "\n",
    "    ax.plot(inducer,doseResponseRed,label='RFP', c='red')\n",
    "    ax.errorbar(inducer,doseResponseRed,yerr=semRed,c='red',fmt='o')\n",
    "    ax.legend(loc='center left') #upper right\n",
    "    # ax.ticklabel_format(useOffset=False)\n",
    "    ax.set_xscale('log')\n",
    "\n",
    "\n",
    "    ax2=ax.twinx()\n",
    "    ax2.plot(inducer,doseResponseGreen,label='GFP', c='green')\n",
    "    ax2.errorbar(inducer,doseResponseGreen,yerr=semGreen,c='green',fmt='o')\n",
    "    ax2.legend(loc='center right') #upper left\n",
    "    # ax2.ticklabel_format(useOffset=False)\n",
    "    ax.set_xscale('log')\n",
    "\n",
    "\n",
    "    plt.show()\n",
    "def plotDoseResponsevsData(inducer,inducer_continuous, rfpExp_list, gfpExp_list, semRed, semGreen, doseResponseRed,doseResponseGreen,pad=0.01):\n",
    "    fig,ax = plt.subplots()\n",
    "\n",
    "    ax.plot(inducer_continuous,doseResponseRed,label='RFP', c='red')\n",
    "    ax.scatter(inducer,rfpExp_list, c='red')\n",
    "    ax.errorbar(inducer,rfpExp_list,yerr=semRed,c='red',fmt='o')\n",
    "    ax.legend(loc='center left') #upper right\n",
    "    # ax.ticklabel_format(useOffset=False)\n",
    "    ax.set_xscale('log')\n",
    "\n",
    "\n",
    "    ax2=ax.twinx()\n",
    "    ax2.plot(inducer_continuous,doseResponseGreen,label='GFP', c='green')\n",
    "    ax2.scatter(inducer,gfpExp_list, c='green')\n",
    "    ax2.errorbar(inducer,gfpExp_list,yerr=semGreen,c='green',fmt='o')\n",
    "    ax2.legend(loc='center right') #upper left\n",
    "    # ax2.ticklabel_format(useOffset=False)\n",
    "    ax.set_xscale('log')\n",
    "\n",
    "\n",
    "    plt.show()\n",
    "\n",
    "def plotDoseResponse(inducer_list, U_ss, color='k'):\n",
    "    plt.plot(inducer_list,U_ss, c=color)\n",
    "    plt.xlabel('[inducer]')\n",
    "    plt.ylabel('Fluorescence')\n",
    "    plt.xscale('log')\n",
    "    plt.show()\n",
    "\n",
    "def doseResponse(subcircuit, inducer_list, initial_conditions=[10,10]):\n",
    "    U_ss = []\n",
    "    T=1000\n",
    "    t = np.linspace(0, T, T*50)\n",
    "    for inducer in inducer_list:\n",
    "        sol = odeint(subcircuit.ddt, initial_conditions, t, args=(inducer,inducer))\n",
    "        Ustar_ODE=sol[-1]\n",
    "        U_ss.append(sol[-1])\n",
    "    return np.array(U_ss)"
   ]
  },
  {
   "cell_type": "code",
   "execution_count": 34,
   "metadata": {},
   "outputs": [
    {
     "data": {
      "image/png": "[encoded data removed]",
      "text/plain": [
       "<Figure size 432x288 with 2 Axes>"
      ]
     },
     "metadata": {
      "needs_background": "light"
     },
     "output_type": "display_data"
    },
    {
     "data": {
      "text/plain": [
       "array([1.e+01, 1.e+00, 1.e-01, 1.e-02, 1.e-03])"
      ]
     },
     "execution_count": 34,
     "metadata": {},
     "output_type": "execute_result"
    }
   ],
   "source": [
    "doseResponseExp = pkl.load(open('input/subcircuit1_circuit14_doseResponse_maxATC.pkl','rb'))\n",
    "AHL_list = doseResponseExp['AHL_list']; gfpExp_list = doseResponseExp['maxATC_doseResponse_gfp']; rfpExp_list = doseResponseExp['maxATC_doseResponse_rfp']\n",
    "semRed = doseResponseExp['maxATC_doseResponse_rfp_sem']; semGreen = doseResponseExp['maxATC_doseResponse_gfp_sem']\n",
    "\n",
    "\n",
    "plotDoseResponse2(AHL_list, rfpExp_list, gfpExp_list, semRed, semGreen)\n",
    "AHL_list"
   ]
  },
  {
   "attachments": {},
   "cell_type": "markdown",
   "metadata": {},
   "source": [
    "Step 1: load parameter distributions (prior)\n"
   ]
  },
  {
   "cell_type": "code",
   "execution_count": 26,
   "metadata": {},
   "outputs": [
    {
     "name": "stdout",
     "output_type": "stream",
     "text": [
      "Circuit:circuit14, Variant:0nd\n"
     ]
    },
    {
     "data": {
      "text/html": [
       "<div>\n",
       "<style scoped>\n",
       "    .dataframe tbody tr th:only-of-type {\n",
       "        vertical-align: middle;\n",
       "    }\n",
       "\n",
       "    .dataframe tbody tr th {\n",
       "        vertical-align: top;\n",
       "    }\n",
       "\n",
       "    .dataframe thead th {\n",
       "        text-align: right;\n",
       "    }\n",
       "</style>\n",
       "<table border=\"1\" class=\"dataframe\">\n",
       "  <thead>\n",
       "    <tr style=\"text-align: right;\">\n",
       "      <th></th>\n",
       "      <th>VE</th>\n",
       "      <th>VF</th>\n",
       "      <th>muLVA</th>\n",
       "      <th>Kbd</th>\n",
       "      <th>Kfe</th>\n",
       "      <th>Kee</th>\n",
       "      <th>nbd</th>\n",
       "      <th>nfe</th>\n",
       "      <th>nee</th>\n",
       "      <th>Kee</th>\n",
       "    </tr>\n",
       "  </thead>\n",
       "  <tbody>\n",
       "    <tr>\n",
       "      <th>39</th>\n",
       "      <td>135.071601</td>\n",
       "      <td>70.740091</td>\n",
       "      <td>4.234870</td>\n",
       "      <td>282.019659</td>\n",
       "      <td>29.688299</td>\n",
       "      <td>2.759599</td>\n",
       "      <td>2.0</td>\n",
       "      <td>4.0</td>\n",
       "      <td>4.0</td>\n",
       "      <td>2.759599</td>\n",
       "    </tr>\n",
       "    <tr>\n",
       "      <th>55</th>\n",
       "      <td>374.823369</td>\n",
       "      <td>12.668799</td>\n",
       "      <td>4.567963</td>\n",
       "      <td>24.354543</td>\n",
       "      <td>1.140196</td>\n",
       "      <td>13.466556</td>\n",
       "      <td>2.0</td>\n",
       "      <td>4.0</td>\n",
       "      <td>4.0</td>\n",
       "      <td>13.466556</td>\n",
       "    </tr>\n",
       "    <tr>\n",
       "      <th>110</th>\n",
       "      <td>497.823241</td>\n",
       "      <td>422.268051</td>\n",
       "      <td>3.210618</td>\n",
       "      <td>10.342381</td>\n",
       "      <td>2.402371</td>\n",
       "      <td>16.299446</td>\n",
       "      <td>2.0</td>\n",
       "      <td>4.0</td>\n",
       "      <td>4.0</td>\n",
       "      <td>16.299446</td>\n",
       "    </tr>\n",
       "    <tr>\n",
       "      <th>163</th>\n",
       "      <td>587.913234</td>\n",
       "      <td>137.350124</td>\n",
       "      <td>3.642415</td>\n",
       "      <td>18.163844</td>\n",
       "      <td>4.073152</td>\n",
       "      <td>179.649466</td>\n",
       "      <td>2.0</td>\n",
       "      <td>4.0</td>\n",
       "      <td>4.0</td>\n",
       "      <td>179.649466</td>\n",
       "    </tr>\n",
       "    <tr>\n",
       "      <th>219</th>\n",
       "      <td>320.867342</td>\n",
       "      <td>141.142323</td>\n",
       "      <td>3.507428</td>\n",
       "      <td>111.395903</td>\n",
       "      <td>32.306640</td>\n",
       "      <td>17.530428</td>\n",
       "      <td>2.0</td>\n",
       "      <td>4.0</td>\n",
       "      <td>4.0</td>\n",
       "      <td>17.530428</td>\n",
       "    </tr>\n",
       "    <tr>\n",
       "      <th>...</th>\n",
       "      <td>...</td>\n",
       "      <td>...</td>\n",
       "      <td>...</td>\n",
       "      <td>...</td>\n",
       "      <td>...</td>\n",
       "      <td>...</td>\n",
       "      <td>...</td>\n",
       "      <td>...</td>\n",
       "      <td>...</td>\n",
       "      <td>...</td>\n",
       "    </tr>\n",
       "    <tr>\n",
       "      <th>9371</th>\n",
       "      <td>46.363624</td>\n",
       "      <td>93.468191</td>\n",
       "      <td>3.244729</td>\n",
       "      <td>41.570913</td>\n",
       "      <td>4.275614</td>\n",
       "      <td>1.773486</td>\n",
       "      <td>2.0</td>\n",
       "      <td>4.0</td>\n",
       "      <td>4.0</td>\n",
       "      <td>1.773486</td>\n",
       "    </tr>\n",
       "    <tr>\n",
       "      <th>9382</th>\n",
       "      <td>142.424269</td>\n",
       "      <td>12.597716</td>\n",
       "      <td>3.867815</td>\n",
       "      <td>3.429163</td>\n",
       "      <td>3.049159</td>\n",
       "      <td>4.202704</td>\n",
       "      <td>2.0</td>\n",
       "      <td>4.0</td>\n",
       "      <td>4.0</td>\n",
       "      <td>4.202704</td>\n",
       "    </tr>\n",
       "    <tr>\n",
       "      <th>9629</th>\n",
       "      <td>204.303488</td>\n",
       "      <td>33.611418</td>\n",
       "      <td>3.400673</td>\n",
       "      <td>24.770703</td>\n",
       "      <td>21.003452</td>\n",
       "      <td>68.192586</td>\n",
       "      <td>2.0</td>\n",
       "      <td>4.0</td>\n",
       "      <td>4.0</td>\n",
       "      <td>68.192586</td>\n",
       "    </tr>\n",
       "    <tr>\n",
       "      <th>9658</th>\n",
       "      <td>263.489174</td>\n",
       "      <td>333.420829</td>\n",
       "      <td>3.451172</td>\n",
       "      <td>5.526032</td>\n",
       "      <td>134.094081</td>\n",
       "      <td>4.011761</td>\n",
       "      <td>2.0</td>\n",
       "      <td>4.0</td>\n",
       "      <td>4.0</td>\n",
       "      <td>4.011761</td>\n",
       "    </tr>\n",
       "    <tr>\n",
       "      <th>9727</th>\n",
       "      <td>254.093617</td>\n",
       "      <td>118.006138</td>\n",
       "      <td>3.916931</td>\n",
       "      <td>11.269929</td>\n",
       "      <td>35.765662</td>\n",
       "      <td>65.173200</td>\n",
       "      <td>2.0</td>\n",
       "      <td>4.0</td>\n",
       "      <td>4.0</td>\n",
       "      <td>65.173200</td>\n",
       "    </tr>\n",
       "  </tbody>\n",
       "</table>\n",
       "<p>135 rows × 10 columns</p>\n",
       "</div>"
      ],
      "text/plain": [
       "              VE          VF     muLVA         Kbd         Kfe         Kee  \\\n",
       "39    135.071601   70.740091  4.234870  282.019659   29.688299    2.759599   \n",
       "55    374.823369   12.668799  4.567963   24.354543    1.140196   13.466556   \n",
       "110   497.823241  422.268051  3.210618   10.342381    2.402371   16.299446   \n",
       "163   587.913234  137.350124  3.642415   18.163844    4.073152  179.649466   \n",
       "219   320.867342  141.142323  3.507428  111.395903   32.306640   17.530428   \n",
       "...          ...         ...       ...         ...         ...         ...   \n",
       "9371   46.363624   93.468191  3.244729   41.570913    4.275614    1.773486   \n",
       "9382  142.424269   12.597716  3.867815    3.429163    3.049159    4.202704   \n",
       "9629  204.303488   33.611418  3.400673   24.770703   21.003452   68.192586   \n",
       "9658  263.489174  333.420829  3.451172    5.526032  134.094081    4.011761   \n",
       "9727  254.093617  118.006138  3.916931   11.269929   35.765662   65.173200   \n",
       "\n",
       "      nbd  nfe  nee         Kee  \n",
       "39    2.0  4.0  4.0    2.759599  \n",
       "55    2.0  4.0  4.0   13.466556  \n",
       "110   2.0  4.0  4.0   16.299446  \n",
       "163   2.0  4.0  4.0  179.649466  \n",
       "219   2.0  4.0  4.0   17.530428  \n",
       "...   ...  ...  ...         ...  \n",
       "9371  2.0  4.0  4.0    1.773486  \n",
       "9382  2.0  4.0  4.0    4.202704  \n",
       "9629  2.0  4.0  4.0   68.192586  \n",
       "9658  2.0  4.0  4.0    4.011761  \n",
       "9727  2.0  4.0  4.0   65.173200  \n",
       "\n",
       "[135 rows x 10 columns]"
      ]
     },
     "execution_count": 26,
     "metadata": {},
     "output_type": "execute_result"
    }
   ],
   "source": [
    "\n",
    "# Specify name of circuit and variant investigated\n",
    "circuit_n='circuit14'\n",
    "variant='0nd'\n",
    "# Specifiy number of parameter sets in parameterset file to be loaded\n",
    "n_param_sets = 10000\n",
    "\n",
    "print(f'Circuit:{circuit_n}, Variant:{variant}')\n",
    "\n",
    "df_full= pkl.load( open(modellingpath + \"/3954/paper/input/balanced_parameterfiles/df_%s_variant%s_%rparametersets_balanced.pkl\"%(circuit_n,variant,n_param_sets), \"rb\"))\n",
    "df = df_full[['VE','VF','muLVA','Kbd','Kfe','Kee','nbd','nfe','nee','Kee']]\n",
    "df_balanced = df_full[df_full['balance'] == 'Balanced']\n",
    "df_balanced = df_balanced[['VE','VF','muLVA','Kbd','Kfe','Kee','nbd','nfe','nee','Kee']]\n",
    "\n",
    "df_balanced"
   ]
  },
  {
   "cell_type": "code",
   "execution_count": 13,
   "metadata": {},
   "outputs": [],
   "source": [
    "subcircuit = lambda x: subcircuit1_circuit14(x)\n",
    "\n",
    "# par_dict['VE'] = pars[0]"
   ]
  },
  {
   "attachments": {},
   "cell_type": "markdown",
   "metadata": {},
   "source": [
    "Step 2: Sample from prior\n"
   ]
  },
  {
   "cell_type": "code",
   "execution_count": 88,
   "metadata": {},
   "outputs": [
    {
     "name": "stdout",
     "output_type": "stream",
     "text": [
      "initial\n",
      "pardict1 {'VE': 320.5673279216859, 'VF': 164.22057398878025, 'muLVA': 3.5033759791093995, 'Kbd': 4.373349671816809, 'Kfe': 1.6267257216877773, 'Kee': 0.1, 'nbd': 2.0, 'nfe': 4.0, 'nee': 4.0}\n"
     ]
    },
    {
     "data": {
      "image/png": "[encoded data removed]",
      "text/plain": [
       "<Figure size 432x288 with 2 Axes>"
      ]
     },
     "metadata": {
      "needs_background": "light"
     },
     "output_type": "display_data"
    },
    {
     "name": "stderr",
     "output_type": "stream",
     "text": [
      "/Users/mo2016/Documents/modelling/lib/equations/class_subcircuit_eq.py:27: RuntimeWarning: invalid value encountered in double_scalars\n",
      "  inh = 1 / (1 + (X / (km+1e-08)) ** (n))\n"
     ]
    },
    {
     "name": "stdout",
     "output_type": "stream",
     "text": [
      "The maximum number of function evaluations is exceeded.\n",
      "Function evaluations 100, initial cost 1.1529e+13, final cost 1.1740e+08, first-order optimality 1.78e+08.\n",
      "final\n",
      "pardict_final {'VE': 320.5583804350228, 'VF': 164.1704931108404, 'muLVA': 3.5033759865596954, 'Kbd': 5.002632349438183, 'Kfe': 0.8766136054647431, 'Kee': 0.10000002395552825, 'nbd': 1.5797042519521338, 'nfe': 3.7720814080059353, 'nee': 4.000000004707074}\n"
     ]
    },
    {
     "data": {
      "image/png": "[encoded data removed]",
      "text/plain": [
       "<Figure size 432x288 with 2 Axes>"
      ]
     },
     "metadata": {
      "needs_background": "light"
     },
     "output_type": "display_data"
    }
   ],
   "source": [
    "from scipy.optimize import least_squares\n",
    "def residualDoseResponse(pars):\n",
    "    par_dict2_data = df_balanced.iloc[0].to_dict()\n",
    "    par_dict1 = {}\n",
    "    for count,key in enumerate(par_dict2_data.keys()):\n",
    "        par_dict1[key] = pars[count]\n",
    "\n",
    "    U_ss1= doseResponse(subcircuit(par_dict1), AHL_list)\n",
    "    data = np.array([rfpExp_list, gfpExp_list]).T\n",
    "    sem = np.array([semRed, semGreen])\n",
    "\n",
    "    # print([(np.square(U_ss1 - data)[:,x]/sem) for x in range(2)])\n",
    "    # print(sem)\n",
    "    relError = [np.mean(np.square(U_ss1 - data)[:,x]/sem) for x in range(2)]\n",
    "    # relError = np.mean(np.square(U_ss1 - data)[ :,1]/sem)\n",
    "    # error = [np.sum(np.square(U_ss1 - data)[:,x]) for x in range(2)]\n",
    "    # print(error)\n",
    "    # relError = np.divide(error,np.amax(data, keepdims=True, axis=0)[0])\n",
    "    # print(relError)\n",
    "    # print('-----------------')\n",
    "    # return error\n",
    "    return relError\n",
    "\n",
    "# residualDoseResponse(pars)\n",
    "\n",
    "\n",
    "# print('target')\n",
    "# plotDoseResponse2(AHL_list,gfpExp_list, rfpExp_list )\n",
    "A_list = np.logspace(-3,1, 100)\n",
    "\n",
    "print('initial')\n",
    "par_dict = df_balanced.iloc[7].to_dict()\n",
    "# par_dict['Kfe'] = 0.1\n",
    "# par_dict['Kbd'] = 0.9\n",
    "# par_dict['VF'] = 6\n",
    "# par_dict['VE'] = 120\n",
    "par_dict['Kee'] = 0.1\n",
    "print('pardict1', par_dict)\n",
    "U_ss= doseResponse(subcircuit(par_dict), A_list)\n",
    "plotDoseResponsevsData(AHL_list,A_list,rfpExp_list,gfpExp_list,semRed, semGreen,  U_ss[:,0] ,U_ss[:,1] )\n",
    "# plotDoseResponsevsData(AHL_list,A_list,gfpExp_list,gfpExp_list,semGreen, semGreen,  U_ss[:,1] ,U_ss[:,1] )\n",
    "\n",
    "\n",
    "pars = [x for x in par_dict.values()]\n",
    "r = least_squares(residualDoseResponse,pars, max_nfev=100 , verbose=1)\n",
    "x = r['x']\n",
    "new_par_dict = {}\n",
    "for count,key in enumerate(par_dict.keys()):\n",
    "    new_par_dict[key] = x[count]\n",
    "\n",
    "print('final')\n",
    "print('pardict_final', new_par_dict)\n",
    "U_ss= doseResponse(subcircuit(new_par_dict), A_list)\n",
    "plotDoseResponsevsData(AHL_list,A_list,rfpExp_list,gfpExp_list,semRed, semGreen,  U_ss[:,0] ,U_ss[:,1] )\n",
    "# plotDoseResponsevsData(AHL_list,A_list,gfpExp_list,gfpExp_list,semGreen, semGreen,  U_ss[:,1] ,U_ss[:,1] )\n"
   ]
  },
  {
   "cell_type": "code",
   "execution_count": null,
   "metadata": {},
   "outputs": [],
   "source": [
    "import pandas as pd\n",
    "r_df = pd.read_csv('r.csv')\n",
    "plt.plot(r_df['Iteration'],r_df['Cost'] , c = 'darkslategrey', label='Cost')\n",
    "plt.plot(r_df['Iteration'],r_df['Cost Reduction'],  c = 'lightseagreen',label='Cost Reduction')\n",
    "plt.yscale('log')\n",
    "plt.legend()\n"
   ]
  },
  {
   "attachments": {},
   "cell_type": "markdown",
   "metadata": {},
   "source": []
  }
 ],
 "metadata": {
  "kernelspec": {
   "display_name": "env1",
   "language": "python",
   "name": "python3"
  },
  "language_info": {
   "codemirror_mode": {
    "name": "ipython",
    "version": 3
   },
   "file_extension": ".py",
   "mimetype": "text/x-python",
   "name": "python",
   "nbconvert_exporter": "python",
   "pygments_lexer": "ipython3",
   "version": "3.8.5"
  },
  "orig_nbformat": 4,
  "vscode": {
   "interpreter": {
    "hash": "d35418776e92b8f88bb63c52115ca892af42f3e151db9c12328e54626c84f340"
   }
  }
 },
 "nbformat": 4,
 "nbformat_minor": 2
}
