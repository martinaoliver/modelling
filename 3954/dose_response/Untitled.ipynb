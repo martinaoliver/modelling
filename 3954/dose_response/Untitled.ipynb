{
 "cells": [
  {
   "cell_type": "code",
   "execution_count": 19,
   "metadata": {},
   "outputs": [],
   "source": [
    "#############################\n",
    "#IMPORTS#\n",
    "#############################\n",
    "import sys\n",
    "import os\n",
    "pwd = os.getcwd()\n",
    "root = pwd.rpartition(\"mo2016\")[0] + pwd.rpartition(\"mo2016\")[1] #/Volumes/mo2016/ or '/Users/mo2016/' or '/rds/general/mo2016/'\n",
    "\n",
    "if root == '/Users/mo2016':\n",
    "    modelling_ephemeral = '/Volumes/mo2016/ephemeral/Documents/modelling'\n",
    "    modelling_home = '/Volumes/mo2016/home/Documents/modelling'\n",
    "    modelling_local = root + '/Documents/modelling'\n",
    "    import matplotlib as mpl\n",
    "    mpl.use('tkagg')\n",
    "\n",
    "if root == '/Volumes/mo2016' or  root=='/rds/general': #'/rds/general' or root=='/Volumes':\n",
    "        modelling_ephemeral = root + '/ephemeral/Documents/modelling'\n",
    "        modelling_home = root  + '/home/Documents/modelling'\n",
    "        modelling_local = modelling_home\n",
    "\n",
    "modulepath = modelling_local + '/3954/modules'\n",
    "sys.path.append(modulepath)\n",
    "\n",
    "import sys\n",
    "import time\n",
    "import pickle\n",
    "\n",
    "from linear_stability_analysis import *"
   ]
  },
  {
   "cell_type": "markdown",
   "metadata": {},
   "source": [
    "#### Parameters definition"
   ]
  },
  {
   "cell_type": "code",
   "execution_count": 20,
   "metadata": {},
   "outputs": [],
   "source": [
    "circuit_n = 2 #ID of circuit we want to analyse\n",
    "#(parameter sets provided correspond to circuit2 which is the one currently being implemented experimentally)\n",
    "parID = 0 #takes the first parameter set of the dataframe... can choose any\n",
    "n_species=6 #number of molecular species in circuit_n (#Circuit2 has 6 molecular species)\n",
    "variant=0\n",
    "n_param_sets=40000\n",
    "#obtain a dictionary with some parameters to use in our analysis\n",
    "df0= pickle.load( open(modelling_home + '/3954/parameter_space_search/results/output_dataframes/lsa_df_circuit%r_variant%r_%rparametersets.pkl'%(circuit_n,variant,n_param_sets), \"rb\" ) )"
   ]
  },
  {
   "cell_type": "markdown",
   "metadata": {},
   "source": [
    "#### Linear Stability Analysis"
   ]
  },
  {
   "cell_type": "code",
   "execution_count": 22,
   "metadata": {},
   "outputs": [
    {
     "name": "stdout",
     "output_type": "stream",
     "text": [
      "([array([3.24421956e+00, 1.12108712e-01, 2.90271424e+01, 6.71306257e+01,\n",
      "       1.21861157e+02, 1.09407144e+01])], 1, ['turing I'], ['turing I'], [array([[-3.87296961e-01+0.j        , -6.32623241e-02-0.15683637j,\n",
      "        -6.32623241e-02+0.15683637j, -3.66225430e-02+0.j        ,\n",
      "        -3.66214697e-02+0.j        , -2.10613367e-02+0.j        ],\n",
      "       [-3.87713075e-01+0.j        , -6.35820389e-02-0.1567463j ,\n",
      "        -6.35820389e-02+0.1567463j , -3.66225430e-02+0.j        ,\n",
      "        -3.66214697e-02+0.j        , -2.09941229e-02+0.j        ],\n",
      "       [-3.88969552e-01+0.j        , -6.45366754e-02-0.15647275j,\n",
      "        -6.45366754e-02+0.15647275j, -3.66225430e-02+0.j        ,\n",
      "        -3.66214697e-02+0.j        , -2.07933638e-02+0.j        ],\n",
      "       ...,\n",
      "       [-2.46545066e+04+0.j        , -3.44503091e+01+0.j        ,\n",
      "        -4.11446931e-02+0.j        , -3.66225430e-02+0.j        ,\n",
      "        -3.66214672e-02+0.j        , -3.20642201e-02+0.j        ],\n",
      "       [-2.46643732e+04+0.j        , -3.44640037e+01+0.j        ,\n",
      "        -4.11437898e-02+0.j        , -3.66225430e-02+0.j        ,\n",
      "        -3.66214672e-02+0.j        , -3.20651229e-02+0.j        ],\n",
      "       [-2.46742418e+04+0.j        , -3.44777011e+01+0.j        ,\n",
      "        -4.11428868e-02+0.j        , -3.66225430e-02+0.j        ,\n",
      "        -3.66214672e-02+0.j        , -3.20660254e-02+0.j        ]])], [(0.01410994902811137+0j)])\n"
     ]
    }
   ],
   "source": [
    "df = df0.droplevel(level=1)\n",
    "turing_df = df.loc[df['system_class'] == 'turing I']\n",
    "par_dict = df.loc[504].to_dict()\n",
    "#Run analysis on 1M parameter sets\n",
    "output_df = detailed_turing_analysis_dict(par_dict, circuit_n,n_species,top_dispersion=5000,calculate_unstable=False)\n",
    "print(output_df)"
   ]
  },
  {
   "cell_type": "code",
   "execution_count": 23,
   "metadata": {},
   "outputs": [
    {
     "name": "stdout",
     "output_type": "stream",
     "text": [
      "([array([3.24421956e+00, 1.12108712e-01, 2.90271424e+01, 6.71306257e+01,\n",
      "       1.21861157e+02, 1.09407144e+01])], 1, ['turing I'], ['turing I'], [array([[-3.87296961e-01+0.j        , -6.32623241e-02-0.15683637j,\n",
      "        -6.32623241e-02+0.15683637j, -3.66225430e-02+0.j        ,\n",
      "        -3.66214697e-02+0.j        , -2.10613367e-02+0.j        ],\n",
      "       [-3.87713075e-01+0.j        , -6.35820389e-02-0.1567463j ,\n",
      "        -6.35820389e-02+0.1567463j , -3.66225430e-02+0.j        ,\n",
      "        -3.66214697e-02+0.j        , -2.09941229e-02+0.j        ],\n",
      "       [-3.88969552e-01+0.j        , -6.45366754e-02-0.15647275j,\n",
      "        -6.45366754e-02+0.15647275j, -3.66225430e-02+0.j        ,\n",
      "        -3.66214697e-02+0.j        , -2.07933638e-02+0.j        ],\n",
      "       ...,\n",
      "       [-2.46545066e+04+0.j        , -3.44503091e+01+0.j        ,\n",
      "        -4.11446931e-02+0.j        , -3.66225430e-02+0.j        ,\n",
      "        -3.66214672e-02+0.j        , -3.20642201e-02+0.j        ],\n",
      "       [-2.46643732e+04+0.j        , -3.44640037e+01+0.j        ,\n",
      "        -4.11437898e-02+0.j        , -3.66225430e-02+0.j        ,\n",
      "        -3.66214672e-02+0.j        , -3.20651229e-02+0.j        ],\n",
      "       [-2.46742418e+04+0.j        , -3.44777011e+01+0.j        ,\n",
      "        -4.11428868e-02+0.j        , -3.66225430e-02+0.j        ,\n",
      "        -3.66214672e-02+0.j        , -3.20660254e-02+0.j        ]])], [(0.01410994902811137+0j)])\n"
     ]
    }
   ],
   "source": [
    "print(output_df)"
   ]
  },
  {
   "cell_type": "code",
   "execution_count": null,
   "metadata": {},
   "outputs": [],
   "source": []
  },
  {
   "cell_type": "code",
   "execution_count": null,
   "metadata": {},
   "outputs": [],
   "source": []
  }
 ],
 "metadata": {
  "kernelspec": {
   "display_name": "env1",
   "language": "python",
   "name": "python3"
  },
  "language_info": {
   "codemirror_mode": {
    "name": "ipython",
    "version": 3
   },
   "file_extension": ".py",
   "mimetype": "text/x-python",
   "name": "python",
   "nbconvert_exporter": "python",
   "pygments_lexer": "ipython3",
   "version": "3.8.5 (v3.8.5:580fbb018f, Jul 20 2020, 12:11:27) \n[Clang 6.0 (clang-600.0.57)]"
  },
  "vscode": {
   "interpreter": {
    "hash": "d35418776e92b8f88bb63c52115ca892af42f3e151db9c12328e54626c84f340"
   }
  }
 },
 "nbformat": 4,
 "nbformat_minor": 4
}
