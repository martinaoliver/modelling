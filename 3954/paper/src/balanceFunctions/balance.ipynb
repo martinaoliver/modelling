{
 "cells": [
  {
   "cell_type": "code",
   "execution_count": 2,
   "metadata": {},
   "outputs": [],
   "source": [
    "#############\n",
    "###paths#####\n",
    "#############\n",
    "import sys\n",
    "import os\n",
    "\n",
    "pwd = os.getcwd()\n",
    "modellingpath = pwd.rpartition(\"modelling\")[0] + pwd.rpartition(\"modelling\")[1] \n",
    "sys.path.append(modellingpath + '/lib')\n",
    "#############\n",
    "import pickle as pkl\n",
    "import numpy as np\n",
    "from scipy.integrate import odeint\n",
    "import matplotlib.pyplot as plt\n",
    "from equations.class_subcircuit_eq import *\n",
    "from sklearn.metrics import mean_squared_error\n"
   ]
  },
  {
   "cell_type": "code",
   "execution_count": 3,
   "metadata": {},
   "outputs": [
    {
     "name": "stdout",
     "output_type": "stream",
     "text": [
      "Circuit:circuit14, Variant:0nd\n"
     ]
    }
   ],
   "source": [
    "\n",
    "# Specify name of circuit and variant investigated\n",
    "circuit_n='circuit14'\n",
    "variant='0nd'\n",
    "# Specifiy number of parameter sets in parameterset file to be loaded\n",
    "n_param_sets = 10000\n",
    "\n",
    "print(f'Circuit:{circuit_n}, Variant:{variant}')\n",
    "\n",
    "df_full= pkl.load( open(modellingpath + \"/3954/paper/input/lhs_parameterfiles/df_%s_variant%s_%rparametersets.pkl\"%(circuit_n,variant,n_param_sets), \"rb\"))\n"
   ]
  },
  {
   "cell_type": "code",
   "execution_count": 6,
   "metadata": {},
   "outputs": [],
   "source": [
    "def checkBalance(par_dict):\n",
    "    balanceDict = {}\n",
    "    for Km in Km_list:\n",
    "        # print(Km)\n",
    "        Vx =par_dict[KtoV[Km]]\n",
    "        Kxy = par_dict[Km]\n",
    "        if Kxy >= 1 and Kxy <= Vx:\n",
    "            balanceDict[Km] = 'Balanced'\n",
    "        elif Kxy > 0.1 and Kxy < Vx*10:\n",
    "            balanceDict[Km] ='Semi balanced'\n",
    "        elif Kxy <= 0.1 or Kxy >= Vx*10:\n",
    "            balanceDict[Km] ='Not balanced'\n",
    "        else:\n",
    "            print('ERROR!!!!!!!!!')\n",
    "\n",
    "    if 'Not balanced' in balanceDict.values():\n",
    "        return 'Not balanced'\n",
    "    elif 'Semi balanced'  in balanceDict.values():\n",
    "        return 'Semi balanced'\n",
    "    elif all(x == 'Balanced' for x in balanceDict.values()):\n",
    "        return 'Balanced'\n",
    "Km_list = ['Kda', 'Kab', 'Keb', 'Kbd', 'Kfe', 'Kee', 'Kce' ]\n",
    "KtoV = {'Kda': 'VD', 'Kab': 'VA', 'Keb': 'VE', 'Kbd': 'VB', 'Kfe': 'VF', 'Kee': 'VE', 'Kce': 'VC' }\n",
    "balanceList = []    \n",
    "for parID in df_full.index:\n",
    "    par_dict = df_full.loc[parID].to_dict()\n",
    "    balanceList.append(checkBalance(par_dict))\n",
    "df_full['balance'] = balanceList\n",
    "\n",
    "\n",
    "\n",
    "# print(df_full['balance'].value_counts())\n",
    "# df_full[df_full['balance'] == 'Balanced']\n",
    "pkl.dump(df_full, open(modellingpath + \"/3954/paper/input/balanced_parameterfiles/df_%s_variant%s_%rparametersets_balanced.pkl\"%(circuit_n,variant,n_param_sets), \"wb\"))\n"
   ]
  },
  {
   "cell_type": "code",
   "execution_count": 10,
   "metadata": {},
   "outputs": [
    {
     "name": "stdout",
     "output_type": "stream",
     "text": [
      "{'Dr': 46.60930717944175, 'VA': 10.953089222587646, 'VB': 654.5119808032799, 'VC': 16.169633380605624, 'VD': 11.374596562810686, 'VE': 398.7420774735962, 'VF': 28.61662316396383, 'Kda': 129.6067261066075, 'Kab': 1.9453457570290598, 'Keb': 0.8310867463880368, 'Kbd': 0.17232704248910666, 'Kfe': 370.9256925311573, 'Kee': 4.913465563648129, 'Kce': 155.28481368247904, 'muLVA': 3.3967554519845544, 'muASV': 1.0, 'nbd': 2.0, 'nab': 1.0, 'nda': 1.0, 'nfe': 4.0, 'nee': 4.0, 'neb': 4.0, 'nce': 1.0}\n"
     ]
    }
   ],
   "source": [
    "par_dict = df_full.iloc[0].to_dict()\n",
    "print(par_dict)"
   ]
  },
  {
   "cell_type": "code",
   "execution_count": 22,
   "metadata": {},
   "outputs": [
    {
     "name": "stdout",
     "output_type": "stream",
     "text": [
      "Not balanced\n"
     ]
    }
   ],
   "source": [
    "\n",
    "Km_list = ['Kda', 'Kab', 'Keb', 'Kbd', 'Kfe', 'Kee', 'Kce' ]\n",
    "KtoV = {'Kda': 'VD', 'Kab': 'VA', 'Keb': 'VE', 'Kbd': 'VB', 'Kfe': 'VF', 'Kee': 'VE', 'Kce': 'VC' }\n",
    "for Km in Km_list:\n",
    "   Vx =par_dict[KtoV[Km]]\n",
    "   par_dict[Km]=Vx\n",
    "print(checkBalance(par_dict))\n"
   ]
  },
  {
   "cell_type": "markdown",
   "metadata": {},
   "source": []
  }
 ],
 "metadata": {
  "kernelspec": {
   "display_name": "env1",
   "language": "python",
   "name": "python3"
  },
  "language_info": {
   "codemirror_mode": {
    "name": "ipython",
    "version": 3
   },
   "file_extension": ".py",
   "mimetype": "text/x-python",
   "name": "python",
   "nbconvert_exporter": "python",
   "pygments_lexer": "ipython3",
   "version": "3.8.5"
  },
  "orig_nbformat": 4,
  "vscode": {
   "interpreter": {
    "hash": "d35418776e92b8f88bb63c52115ca892af42f3e151db9c12328e54626c84f340"
   }
  }
 },
 "nbformat": 4,
 "nbformat_minor": 2
}
