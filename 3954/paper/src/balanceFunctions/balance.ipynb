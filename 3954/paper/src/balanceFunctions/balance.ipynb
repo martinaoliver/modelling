{
 "cells": [
  {
   "cell_type": "code",
   "execution_count": 1,
   "metadata": {},
   "outputs": [],
   "source": [
    "#############\n",
    "###paths#####\n",
    "#############\n",
    "import sys\n",
    "import os\n",
    "\n",
    "pwd = os.getcwd()\n",
    "modellingpath = pwd.rpartition(\"modelling\")[0] + pwd.rpartition(\"modelling\")[1] \n",
    "sys.path.append(modellingpath + '/lib')\n",
    "#############\n",
    "import pickle as pkl\n",
    "import numpy as np\n",
    "from scipy.integrate import odeint\n",
    "import matplotlib.pyplot as plt\n",
    "from equations.class_subcircuit_eq import *\n",
    "from sklearn.metrics import mean_squared_error\n",
    "from tqdm import tqdm"
   ]
  },
  {
   "cell_type": "code",
   "execution_count": 3,
   "metadata": {},
   "outputs": [
    {
     "name": "stdout",
     "output_type": "stream",
     "text": [
      "Circuit:circuit14, Variant:1nd\n"
     ]
    }
   ],
   "source": [
    "\n",
    "# Specify name of circuit and variant investigated\n",
    "circuit_n='circuit14'\n",
    "variant='1nd'\n",
    "# Specifiy number of parameter sets in parameterset file to be loaded\n",
    "n_param_sets = 5000\n",
    "\n",
    "print(f'Circuit:{circuit_n}, Variant:{variant}')\n",
    "\n",
    "df_full= pkl.load( open(modellingpath + \"/3954/paper/input/lhs_parameterfiles/df_%s_variant%s_%rparametersets.pkl\"%(circuit_n,variant,n_param_sets), \"rb\"))\n"
   ]
  },
  {
   "cell_type": "code",
   "execution_count": 23,
   "metadata": {},
   "outputs": [
    {
     "name": "stderr",
     "output_type": "stream",
     "text": [
      "100%|██████████| 5000/5000 [00:00<00:00, 13205.15it/s]"
     ]
    },
    {
     "name": "stdout",
     "output_type": "stream",
     "text": [
      "Semi balanced    3607\n",
      "Not balanced     1288\n",
      "Balanced          105\n",
      "Name: balance, dtype: int64\n"
     ]
    },
    {
     "name": "stderr",
     "output_type": "stream",
     "text": [
      "\n"
     ]
    }
   ],
   "source": [
    "def checkBalance(par_dict):\n",
    "    balanceDict = {}\n",
    "    for Km in Km_list:\n",
    "        # print(Km)\n",
    "        Vx =par_dict[KtoV[Km]]\n",
    "        Kxy = par_dict[Km]\n",
    "        if Kxy >= 1 and Kxy <= Vx:\n",
    "            # print(Km, 'Balanced')\n",
    "            balanceDict[Km] = 'Balanced'\n",
    "        elif Kxy > 0.1 and Kxy < Vx*10:\n",
    "            # print(Km, 'Semi balanced')\n",
    "            balanceDict[Km] ='Semi balanced'\n",
    "            # balanceDict[Km] = 'Balanced'\n",
    "\n",
    "        elif Kxy <= 0.1 or Kxy >= Vx*10:\n",
    "            # print(Km, 'Not balanced')\n",
    "            balanceDict[Km] ='Not balanced'\n",
    "            # balanceDict[Km] = 'Balanced'\n",
    "\n",
    "        else:\n",
    "            print('ERROR!!!!!!!!!')\n",
    "        \n",
    "    # print('--------------')\n",
    "\n",
    "    if 'Not balanced' in balanceDict.values():\n",
    "        return 'Not balanced'\n",
    "    elif 'Semi balanced'  in balanceDict.values():\n",
    "        return 'Semi balanced'\n",
    "    elif all(x == 'Balanced' for x in balanceDict.values()):\n",
    "        return 'Balanced'\n",
    "    \n",
    "#removed kee from balancing\n",
    "Km_list = ['Kda', 'Kab', 'Keb', 'Kbd', 'Kfe',  'Kce' ]\n",
    "KtoV = {'Kda': 'VD', 'Kab': 'VA', 'Keb': 'VE', 'Kbd': 'VB', 'Kfe': 'VF', 'Kce': 'VC' }\n",
    "balanceList = []    \n",
    "for parID in tqdm(df_full.index):\n",
    "    par_dict = df_full.loc[parID].to_dict()\n",
    "    balanceList.append(checkBalance(par_dict))\n",
    "# print(balanceList)\n",
    "df_full['balance'] = balanceList\n",
    "\n",
    "\n",
    "\n",
    "print(df_full['balance'].value_counts())\n",
    "# df_full[df_full['balance'] == 'Balanced']\n",
    "# pkl.dump(df_full, open(modellingpath + \"/3954/paper/input/balanced_parameterfiles/df_%s_variant%s_%rparametersets_balanced.pkl\"%(circuit_n,variant,n_param_sets), \"wb\"))\n"
   ]
  },
  {
   "cell_type": "code",
   "execution_count": 5,
   "metadata": {},
   "outputs": [
    {
     "data": {
      "text/plain": [
       "Not balanced    5000\n",
       "Name: balance, dtype: int64"
      ]
     },
     "execution_count": 5,
     "metadata": {},
     "output_type": "execute_result"
    }
   ],
   "source": [
    "df_full['balance'].value_counts()"
   ]
  },
  {
   "cell_type": "code",
   "execution_count": 22,
   "metadata": {},
   "outputs": [
    {
     "name": "stdout",
     "output_type": "stream",
     "text": [
      "Not balanced\n"
     ]
    }
   ],
   "source": [
    "\n",
    "Km_list = ['Kda', 'Kab', 'Keb', 'Kbd', 'Kfe', 'Kee', 'Kce' ]\n",
    "KtoV = {'Kda': 'VD', 'Kab': 'VA', 'Keb': 'VE', 'Kbd': 'VB', 'Kfe': 'VF', 'Kee': 'VE', 'Kce': 'VC' }\n",
    "for Km in Km_list:\n",
    "   Vx =par_dict[KtoV[Km]]\n",
    "   par_dict[Km]=Vx\n",
    "print(checkBalance(par_dict))\n"
   ]
  },
  {
   "cell_type": "markdown",
   "metadata": {},
   "source": []
  }
 ],
 "metadata": {
  "kernelspec": {
   "display_name": "env1",
   "language": "python",
   "name": "python3"
  },
  "language_info": {
   "codemirror_mode": {
    "name": "ipython",
    "version": 3
   },
   "file_extension": ".py",
   "mimetype": "text/x-python",
   "name": "python",
   "nbconvert_exporter": "python",
   "pygments_lexer": "ipython3",
   "version": "3.8.5"
  },
  "orig_nbformat": 4,
  "vscode": {
   "interpreter": {
    "hash": "d35418776e92b8f88bb63c52115ca892af42f3e151db9c12328e54626c84f340"
   }
  }
 },
 "nbformat": 4,
 "nbformat_minor": 2
}
