{
 "cells": [
  {
   "cell_type": "code",
   "execution_count": null,
   "metadata": {},
   "outputs": [],
   "source": [
    "#############\n",
    "###paths#####\n",
    "#############\n",
    "import sys\n",
    "import os\n",
    "\n",
    "from importlib_metadata import distribution\n",
    "pwd = os.getcwd()\n",
    "modellingpath = pwd.rpartition(\"modelling\")[0] + pwd.rpartition(\"modelling\")[1] \n",
    "sys.path.append(modellingpath + '/lib')\n",
    "#############\n",
    "\n",
    "import pickle\n",
    "import pandas as pd\n",
    "import matplotlib.pyplot as plt\n",
    "import numpy as np\n",
    "import seaborn as sns\n"
   ]
  },
  {
   "cell_type": "code",
   "execution_count": null,
   "metadata": {},
   "outputs": [],
   "source": [
    "# Specify name of circuit and variant investigated\n",
    "circuit_n='circuit14'\n",
    "variant='2nd'\n",
    "# Specifiy number of parameter sets in parameterset file to be loaded\n",
    "n_param_sets = 1000000\n",
    "\n",
    "print(f'Circuit:{circuit_n}, Variant:{variant}')\n",
    "# lhs_df = pickle.load( open(modellingpath + '/3954/paper/input/lhs_parameterfiles/df_%s_variant%s_%rparametersets.pkl'%(circuit_n,variant,100000), \"rb\"))\n",
    "# lhs_df = pickle.load( open(modellingpath + '/3954/paper/input/lhs_parameterfiles/df_circuit14_variant2nd_100000parametersets', 'rb'))\n",
    "\n",
    "balanced_lsa_df= pickle.load( open(modellingpath + '/3954/paper/out/analytical/lsa_dataframes/all_dataframes/lsa_df_%s_variant%s_%rparametersets_balanced.pkl'%(circuit_n,variant,n_param_sets), \"rb\"))\n",
    "print(balanced_lsa_df['system_class'].value_counts())\n",
    "\n",
    "variant='fitted2'\n",
    "n_param_sets = 1000000\n",
    "# fitDf = pickle.load( open(modellingpath + '/3954/paper/input/fitted_parameterfiles/df_%s_variant%s_%rparametersets.pkl'%(circuit_n,variant,n_param_sets), \"rb\"))\n",
    "\n",
    "fitDf = pickle.load( open(modellingpath + '/3954/paper/out/analytical/lsa_dataframes/all_dataframes/lsa_df_%s_variant%s_%sparametersets_balancedSemiBalanced.pkl'%(circuit_n,variant,n_param_sets), \"rb\"))\n",
    "print(fitDf['system_class'].value_counts())\n"
   ]
  },
  {
   "cell_type": "code",
   "execution_count": null,
   "metadata": {},
   "outputs": [],
   "source": [
    "instabilities = ['turing I', 'turing II', 'turing I hopf', 'turing I oscillatory', 'turing II hopf','hopf', 'turing semi-hopf']  \n",
    "instabilities_df = balanced_lsa_df.loc[balanced_lsa_df['system_class'].isin(instabilities)]\n",
    "\n",
    "turingStates = ['turing I','turing I oscillatory']  \n",
    "turing_df = balanced_lsa_df.loc[balanced_lsa_df['system_class'].isin(turingStates)]\n",
    "zeroSignChanges_df = balanced_lsa_df.loc[balanced_lsa_df['system_class'].isin(['Zero sign changes'])]\n",
    "turing_df       "
   ]
  },
  {
   "cell_type": "code",
   "execution_count": null,
   "metadata": {},
   "outputs": [],
   "source": [
    "pfitDict = {'Vc': 99.99999998437673,\n",
    "'Vd': 8.845204237579598,\n",
    "'Ve': 99.99999902098732,\n",
    "'Vf': 8.394996554940189,\n",
    "'Kvd': 0.9400832873750722,\n",
    "'Kda': 4.142114110177617,\n",
    "'Kce': 4.342277899710668,\n",
    "'Kfe': 0.4319218458202641}\n",
    "\n",
    "\n",
    "paramList = pfitDict.keys()\n",
    "\n",
    "#copy pandas df to new df\n",
    "# fitDf = lhs_df.copy()\n",
    "# for param in paramList:\n",
    "#     fitDf[param] = pfitDict[param]\n",
    "# fitDf\n",
    "# paramList = ['Vc', 'Vd', 'Vf', 'Kvd', 'Kda', 'Kfe','Kce']\n"
   ]
  },
  {
   "cell_type": "code",
   "execution_count": null,
   "metadata": {},
   "outputs": [],
   "source": []
  },
  {
   "cell_type": "code",
   "execution_count": null,
   "metadata": {},
   "outputs": [],
   "source": [
    "from scipy import stats\n",
    "def paramsHistogram(balancedDf,specificDf,fitDf,title,crop=2000):\n",
    "    sns.set(style=\"white\", palette=\"muted\", color_codes=False)\n",
    "\n",
    "    fig, axs = plt.subplots(nrows=3, ncols=3, figsize=(35,20))\n",
    "    axs = axs.flatten()\n",
    "    palette = sns.diverging_palette(10, 220, n=2)\n",
    "    # paramList=['Dr','VA','VB','VC','VD','VE','VF', 'Kda','Kab', 'Keb', 'Kbd', 'Kfe', 'Kee', 'Kce', 'muLVA']\n",
    "    df_concat = pd.concat([balancedDf,specificDf,fitDf])\n",
    "    # df_concat[(np.abs(stats.zscore(df_concat)) < 3).all(axis=1)]\n",
    "    # df_concat[np.abs(df_concat.Data-df_concat.Data.mean()) <= (3*df_concat.Data.std())]\n",
    "\n",
    "    for count, parameter in enumerate(paramList):\n",
    "    # for count, parameter in enumerate(lsa_df.columns[:24]):\n",
    "        q = df_concat[parameter].quantile(0.3)\n",
    "        df_concat[df_concat[parameter] < q]\n",
    "        LogMin, LogMax = np.log10(df_concat.iloc[:,count].min()),np.log10(df_concat.iloc[:,count].max())\n",
    "        newBins = np.logspace(LogMin/10, LogMax,100)\n",
    "        sns.distplot(balancedDf.iloc[:crop,count].values,bins=newBins, kde=False, color = 'darkcyan', ax = axs[count], label='Balanced')\n",
    "        sns.distplot(specificDf.iloc[:crop,count].values,bins=newBins, kde=False, color = 'red', ax = axs[count], label=title)\n",
    "        sns.distplot(fitDf.iloc[:crop,count].values,bins=newBins, kde=False, color = 'black', ax = axs[count], label='Fit')\n",
    "\n",
    "        axs[count].set_xscale('log')\n",
    "        axs[count].set_yticklabels(axs[count].get_yticks(), size = 20)\n",
    "        axs[count].set_xticklabels(axs[count].get_xticks(), size = 20)\n",
    "\n",
    "        axs[count].set_title(str(parameter),fontsize=40)\n",
    "    #     axs[count].set_xlim(0)\n",
    "        axs[0].legend()\n",
    "    # fig.legend()\n",
    "    fig.suptitle(title, fontsize=50)\n",
    "    fig.tight_layout()\n",
    "    fig.text(0.5,-0.03, \"Parameter Value (log-scale)\", ha=\"center\", va=\"center\",  fontsize=40)\n",
    "    fig.text(-0.03,0.5, \"Frequency\", ha=\"center\", va=\"center\", rotation=90 ,fontsize=40)\n",
    "    plt.show()\n",
    "\n",
    "\n",
    "balanced_lsa_df = balanced_lsa_df[paramList]\n",
    "instabilities_df = instabilities_df[paramList]\n",
    "turing_df = turing_df[paramList]\n",
    "fitDf = fitDf[paramList]\n",
    "\n",
    "paramsHistogram(balanced_lsa_df,instabilities_df,fitDf, 'Instabilities',crop=10)\n",
    "# paramsHistogram(lhs_df,balanced_lsa_df,instabilities_df,fitDf, 'Instabilities',crop=100)\n",
    "# paramsHistogram(lsa_df,turing_df, 'Turing',crop=200)\n",
    "paramsHistogram(balanced_lsa_df,turing_df,fitDf, 'Turing',crop=10)\n",
    "# paramsHistogram(lsa_df,zeroSignChanges_df, 'Diffusion independent stability',crop=2000)\n",
    "\n"
   ]
  },
  {
   "cell_type": "markdown",
   "metadata": {},
   "source": []
  },
  {
   "cell_type": "code",
   "execution_count": null,
   "metadata": {},
   "outputs": [],
   "source": [
    "import seaborn as sns\n",
    "import matplotlib.pyplot as plt\n",
    "\n",
    "\n",
    "import pandas as pd\n",
    "# del concatenated_df\n",
    "del df\n",
    "# def concatenate_dataframes(df1, df2, df3,crop=100):\n",
    "def concatenate_dataframes(df1, df2,crop=100):\n",
    "    # Create a new column in each data frame to specify the original source\n",
    "    df1['source'] =  'df1'\n",
    "    df2['source'] = 'df2'\n",
    "    # df3['a'] = \"blue\"\n",
    "    \n",
    "    # Concatenate the data frames vertically\n",
    "    # concatenated_df = pd.concat([df1.iloc[:crop], df2.iloc[:crop], df3.iloc[:crop]], ignore_index=True)\n",
    "    concatenated_df = pd.concat([df1.iloc[:crop], df2.iloc[:crop]], ignore_index=True)\n",
    "\n",
    "    return concatenated_df\n",
    "\n",
    "# concatenated_df = concatenate_dataframes(balanced_lsa_df, instabilities_df, turing_df, crop=5)\n",
    "df = concatenate_dataframes(balanced_lsa_df, instabilities_df, crop=5)\n",
    "# concatenated_df\n",
    "\n",
    "# Create the pairplot with hue and store the AxesSubplot object\n",
    "sns.pairplot(df, hue=\"source\")\n",
    "\n",
    "# # Apply logarithmic scale to the axes\n",
    "# plot.set(xscale=\"log\", yscale=\"log\")\n",
    "\n",
    "# # Display the plot\n",
    "plt.show()\n",
    "\n"
   ]
  },
  {
   "cell_type": "code",
   "execution_count": null,
   "metadata": {},
   "outputs": [],
   "source": [
    "df"
   ]
  },
  {
   "cell_type": "code",
   "execution_count": null,
   "metadata": {},
   "outputs": [],
   "source": []
  }
 ],
 "metadata": {
  "kernelspec": {
   "display_name": "Python 3",
   "language": "python",
   "name": "python3"
  },
  "language_info": {
   "codemirror_mode": {
    "name": "ipython",
    "version": 3
   },
   "file_extension": ".py",
   "mimetype": "text/x-python",
   "name": "python",
   "nbconvert_exporter": "python",
   "pygments_lexer": "ipython3",
   "version": "3.8.5"
  },
  "orig_nbformat": 4,
  "vscode": {
   "interpreter": {
    "hash": "916dbcbb3f70747c44a77c7bcd40155683ae19c65e1c03b4aa3499c5328201f1"
   }
  }
 },
 "nbformat": 4,
 "nbformat_minor": 2
}
