{
 "cells": [
  {
   "cell_type": "code",
   "execution_count": 74,
   "metadata": {},
   "outputs": [],
   "source": [
    "#############\n",
    "###paths#####\n",
    "#############\n",
    "import sys\n",
    "import os\n",
    "\n",
    "pwd = os.getcwd()\n",
    "modellingpath = pwd.rpartition(\"modelling\")[0] + pwd.rpartition(\"modelling\")[1] \n",
    "modellingephemeral = '/rds/general/ephemeral/user/mo2016/ephemeral/Documents/modelling'\n",
    "sys.path.append(modellingpath + '/lib')\n",
    "#############\n",
    "import numpy as np\n",
    "import pickle as pkl\n",
    "import matplotlib.pyplot as plt\n",
    "import seaborn as sns\n"
   ]
  },
  {
   "cell_type": "code",
   "execution_count": 62,
   "metadata": {},
   "outputs": [
    {
     "data": {
      "text/plain": [
       "array([[389.84872529, 281.33679725, 106.70254044, ...,   1.18936236,\n",
       "        123.89592471,   1.72054453],\n",
       "       [980.31775253,  80.78139434, 148.06892542, ...,   2.78607558,\n",
       "        627.30937219,  18.69904437],\n",
       "       [285.65550005, 131.49383227,  24.99698704, ...,   8.56802471,\n",
       "        102.21958887,   2.98098403],\n",
       "       ...,\n",
       "       [876.68531004, 508.93776461, 214.45373995, ...,  41.31523235,\n",
       "         57.55992599,   5.33134197],\n",
       "       [ 47.39241511,  47.65182349,  86.46724404, ...,   4.8666555 ,\n",
       "         39.88439868,  36.97755368],\n",
       "       [ 11.53257502,  44.12903935, 192.22265424, ...,   1.87499241,\n",
       "          4.72001854,   8.27786836]])"
      ]
     },
     "execution_count": 62,
     "metadata": {},
     "output_type": "execute_result"
    }
   ],
   "source": [
    "#fit \n",
    "pfitDict = {'Vc': 99.99999998437673,\n",
    " 'Vd': 8.845204237579598,\n",
    " 'Ve': 99.99999902098732,\n",
    " 'Vf': 8.394996554940189,\n",
    " 'Kvd': 0.9400832873750722,\n",
    " 'Kda': 4.142114110177617,\n",
    " 'Kce': 4.342277899710668,\n",
    " 'Kfe': 0.4319218458202641}\n",
    "pfit =np.array(list(pfitDict.values()),dtype=np.float64)\n",
    "\n",
    "#turing dist\n",
    "circuit_n=14;variant='2nd';n_species=6;nsamples=1000000\n",
    "folder = 'circuit14variant2ndBalancedTuring'\n",
    "with open(modellingpath + '/3954/paper/out/analytical/lsa_dataframes/turing_dataframes/turing_df_circuit%s_variant%s_%sparametersets_balanced.pkl'%(circuit_n,variant,nsamples), \"rb\" ) as f:\n",
    "   turingDf = pkl.load(f)\n",
    "\n",
    "pfitDict.keys()\n",
    "turingDf = turingDf[pfitDict.keys()]\n",
    "\n",
    "turingNp = turingDf.to_numpy(dtype=np.float64)\n",
    "turingNp"
   ]
  },
  {
   "attachments": {},
   "cell_type": "markdown",
   "metadata": {},
   "source": [
    "## Mahanohabis distance "
   ]
  },
  {
   "cell_type": "code",
   "execution_count": 75,
   "metadata": {},
   "outputs": [
    {
     "name": "stdout",
     "output_type": "stream",
     "text": [
      "[389.84872529 281.33679725 106.70254044  91.26050492  17.46997511\n",
      "   1.18936236 123.89592471   1.72054453]\n",
      "(8, 8)\n"
     ]
    },
    {
     "data": {
      "text/plain": [
       "<AxesSubplot: ylabel='Count'>"
      ]
     },
     "execution_count": 75,
     "metadata": {},
     "output_type": "execute_result"
    },
    {
     "data": {
      "image/png": "[encoded data removed]",
      "text/plain": [
       "<Figure size 640x480 with 1 Axes>"
      ]
     },
     "metadata": {},
     "output_type": "display_data"
    }
   ],
   "source": [
    "#calculate mahanohabis distance for each parameter set to fit\n",
    "from scipy.spatial.distance import mahalanobis\n",
    "print(turingNp[0])\n",
    "#calculate covariance matrix\n",
    "# cov = turingDf[pfitDict.keys()].cov()\n",
    "cov = np.cov(turingNp.T)\n",
    "print(cov.shape)\n",
    "mahalanobisTuring = []\n",
    "for n1 in range(len(turingDf)):\n",
    "    for n2 in range(len(turingDf)):\n",
    "        if n1!=n2:\n",
    "            mahalanobisTuring.append(mahalanobis(turingNp[n1], turingNp[n2], VI=cov))\n",
    "mahalanobisFit = []\n",
    "for n in range(len(turingDf)):\n",
    "    mahalanobisFit.append(mahalanobis(turingNp[n], pfit, VI=cov))\n",
    "\n",
    "sns.histplot(mahalanobisTuring)\n",
    "sns.histplot()\n",
    "#     mahalanobisTuring.append()\n",
    "# print(mahalanobis(turingNp[0], pfit, VI=cov))\n",
    "# print(mahalanobis(turingNp[1], pfit, VI=cov))\n",
    "# print(mahalanobis(pfit, pfit, VI=cov))\n",
    "# print(mahalanobis(turingNp[1], turingNp[2], VI=cov))\n"
   ]
  },
  {
   "cell_type": "code",
   "execution_count": 12,
   "metadata": {},
   "outputs": [
    {
     "data": {
      "text/plain": [
       "Index(['Vc', 'Vd', 'Ve', 'Vf', 'Kvd', 'Kda', 'Kce', 'Kfe'], dtype='object')"
      ]
     },
     "execution_count": 12,
     "metadata": {},
     "output_type": "execute_result"
    }
   ],
   "source": [
    "turingDf.columns"
   ]
  }
 ],
 "metadata": {
  "kernelspec": {
   "display_name": "env1",
   "language": "python",
   "name": "python3"
  },
  "language_info": {
   "codemirror_mode": {
    "name": "ipython",
    "version": 3
   },
   "file_extension": ".py",
   "mimetype": "text/x-python",
   "name": "python",
   "nbconvert_exporter": "python",
   "pygments_lexer": "ipython3",
   "version": "3.8.13"
  },
  "orig_nbformat": 4
 },
 "nbformat": 4,
 "nbformat_minor": 2
}
