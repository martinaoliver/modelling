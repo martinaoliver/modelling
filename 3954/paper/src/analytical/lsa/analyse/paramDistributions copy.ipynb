{
 "cells": [
  {
   "cell_type": "code",
   "execution_count": 1,
   "metadata": {},
   "outputs": [],
   "source": [
    "#############\n",
    "###paths#####\n",
    "#############\n",
    "import sys\n",
    "import os\n",
    "\n",
    "pwd = os.getcwd()\n",
    "modellingpath = pwd.rpartition(\"modelling\")[0] + pwd.rpartition(\"modelling\")[1] \n",
    "sys.path.append(modellingpath + '/lib')\n",
    "#############\n",
    "\n",
    "import pickle\n",
    "import pandas as pd\n",
    "import matplotlib.pyplot as plt\n",
    "import numpy as np\n",
    "import seaborn as sns\n"
   ]
  },
  {
   "cell_type": "code",
   "execution_count": 13,
   "metadata": {},
   "outputs": [
    {
     "name": "stdout",
     "output_type": "stream",
     "text": [
      "Circuit:circuit14, Variant:1nd\n",
      "simple stable           5191697\n",
      "complex unstable         167955\n",
      "hopf                       1358\n",
      "turing I oscillatory         89\n",
      "no steady state              17\n",
      "turing I                      3\n",
      "turing I hopf                 2\n",
      "Name: system_class, dtype: int64\n"
     ]
    }
   ],
   "source": [
    "# Specify name of circuit and variant investigated\n",
    "circuit_n='circuit14'\n",
    "variant='1nd'\n",
    "# Specifiy number of parameter sets in parameterset file to be loaded\n",
    "n_param_sets = 5000000\n",
    "\n",
    "print(f'Circuit:{circuit_n}, Variant:{variant}')\n",
    "\n",
    "lsa_df= pickle.load( open(modellingpath + '/3954/paper/out/analytical/lsa_dataframes/all_dataframes/lsa_df_%s_variant%s_%rparametersets_balanced.pkl'%(circuit_n,variant,n_param_sets), \"rb\"))\n",
    "print(lsa_df['system_class'].value_counts())\n"
   ]
  },
  {
   "cell_type": "code",
   "execution_count": 18,
   "metadata": {},
   "outputs": [
    {
     "name": "stdout",
     "output_type": "stream",
     "text": [
      "Columns match\n"
     ]
    }
   ],
   "source": [
    "df_confusion_preReindexing = pd.crosstab( lsa_df['balance'], lsa_df['system_class'], normalize='index')*100\n",
    "ind = ['Balanced','Semi balanced','Not balanced']\n",
    "cols = ['simple stable','simple unstable','no steady state','complex unstable','hopf', 'turing I hopf', 'turing I oscillatory', 'turing I']\n",
    "cols = ['simple stable','no steady state','complex unstable','hopf', 'turing I hopf', 'turing I oscillatory', 'turing I']\n",
    "df_confusion = df_confusion_preReindexing[cols]\n",
    "# ind = ['Balanced','Semi balanced','Not balanced']\n",
    "df_confusion = df_confusion_preReindexing.reindex(ind)\n",
    "if len(df_confusion_preReindexing.columns) == len(df_confusion.columns):\n",
    "    print('Columns match')\n",
    "else:\n",
    "    print('Columns dont match')"
   ]
  },
  {
   "cell_type": "code",
   "execution_count": 19,
   "metadata": {},
   "outputs": [
    {
     "name": "stdout",
     "output_type": "stream",
     "text": [
      "Numerical information\n"
     ]
    },
    {
     "data": {
      "image/png": "[encoded data removed]",
      "text/plain": [
       "<Figure size 432x288 with 2 Axes>"
      ]
     },
     "metadata": {
      "needs_background": "light"
     },
     "output_type": "display_data"
    }
   ],
   "source": [
    "\n",
    "# cf_matrix_marti2 = np.array([[0,1,0,1,1,1,1,1],[0,1,0,1,1,1,1,1],[0,1,0,1,1,1,1,1],[1,1,0,1,1,1,1,0]])\n",
    "ax = sns.heatmap(df_confusion, linewidths=4,annot=True, cmap='Blues',cbar=True)\n",
    "\n",
    "ax.set_ylabel('\\nNumerical solution')\n",
    "ax.set_xlabel('Dispersion relation\\n');\n",
    "# pattern_list = ['Temporal Oscillator', 'Non-Stationary heterogeneity','Homogeneous', 'Stationary spatial wave']\n",
    "\n",
    "## Ticket labels - List must be in alphabetical order\n",
    "# ax.xaxis.set_ticklabels(['Turing I','Turing I oscillatory','Turing II', 'Turing I Hopf', 'Hopf instability', 'Complex unstable', 'Simple unstable', 'simple stable'], rotation=90)\n",
    "# ax.yaxis.set_ticklabels(pattern_list, rotation=0)\n",
    "## Display the visualization of the Confusion Matrix.\n",
    "# plt.tight_layout()\n",
    "# plt.savefig('cf_marti')\n",
    "print('Numerical information')\n",
    "plt.show()\n",
    "\n"
   ]
  },
  {
   "cell_type": "code",
   "execution_count": 17,
   "metadata": {},
   "outputs": [
    {
     "name": "stdout",
     "output_type": "stream",
     "text": [
      "22      2    3.767555\n",
      "61      2     3.38203\n",
      "69      2     4.07284\n",
      "82      2     4.12832\n",
      "156     0    4.209076\n",
      "               ...   \n",
      "999898  2    4.232196\n",
      "999914  2    3.106017\n",
      "999969  2    3.358294\n",
      "999980  1    3.849816\n",
      "999988  2    4.157602\n",
      "Name: muLVA, Length: 33980, dtype: object\n"
     ]
    }
   ],
   "source": [
    "print(zeroSignChanges_df['muLVA'])"
   ]
  },
  {
   "cell_type": "code",
   "execution_count": 18,
   "metadata": {},
   "outputs": [],
   "source": [
    "\n",
    "def plotDist(parameterDictList,lhsDist_df):\n",
    "    nvar = len(parameterDictList)\n",
    "  \n",
    "    fig,axs = plt.subplots(nrows=1,ncols=nvar,figsize=(nvar*5,5))\n",
    "    for count,parameter in enumerate(parameterDictList):\n",
    "        name = parameter['name']\n",
    "        lhsDistColumn = lhsDist_df[name]\n",
    "        sns.histplot(lhsDistColumn, ax=axs[count], bins=100)\n",
    "        axs[count].set(ylabel ='',yticks=[],yticklabels=[])\n",
    "        axs[count].set_xlabel(name, fontsize=15)\n",
    "        # axs[count].set_xscale('log')\n",
    "    plt.show()"
   ]
  }
 ],
 "metadata": {
  "kernelspec": {
   "display_name": "env1",
   "language": "python",
   "name": "python3"
  },
  "language_info": {
   "codemirror_mode": {
    "name": "ipython",
    "version": 3
   },
   "file_extension": ".py",
   "mimetype": "text/x-python",
   "name": "python",
   "nbconvert_exporter": "python",
   "pygments_lexer": "ipython3",
   "version": "3.8.5"
  },
  "orig_nbformat": 4,
  "vscode": {
   "interpreter": {
    "hash": "eba2ca3eebf14a075b0bd4beb0803a359b7e8903a32f3fd8955f8b26355cf32f"
   }
  }
 },
 "nbformat": 4,
 "nbformat_minor": 2
}
