{
 "cells": [
  {
   "cell_type": "code",
   "execution_count": null,
   "metadata": {},
   "outputs": [],
   "source": [
    "import numpy as np\n",
    "from scipy.sparse import spdiags, eye\n",
    "from scipy import signal\n",
    "import matplotlib.pyplot as plt\n",
    "import scipy\n",
    "import timeit\n",
    "from scipy.linalg import solve, lu_factor, lu_solve\n",
    "\n",
    "\n"
   ]
  },
  {
   "cell_type": "markdown",
   "metadata": {},
   "source": [
    "###### Define spatial and temporal variables"
   ]
  },
  {
   "cell_type": "code",
   "execution_count": null,
   "metadata": {},
   "outputs": [],
   "source": [
    "diffusionrates=[0.1,10]\n",
    "n_species=2\n",
    "#space\n",
    "Lx=2;Ly=Lx #Diffusion constant; Domain length\n",
    "Jx = 100; Jy=Jx\n",
    "dx = float(Lx/(Jx-1)); dy = float(Ly/(Jy-1))\n",
    "ncells = Jx*Jy\n",
    "#time\n",
    "T = 200\n",
    "N = T*3\n",
    "\n",
    "dt = float(T/(N-1))\n",
    "\n",
    "\n",
    "# dts=[(dx*dy)/(2*D) for D in diffusionrates];dt = np.amin(dts) #borderline stability of FTCS scheme \n",
    "alphas=[dt*D/(dx*dy) for D in diffusionrates]\n",
    "dt"
   ]
  },
  {
   "cell_type": "markdown",
   "metadata": {},
   "source": [
    "###### Natural ordering: Boundary conditions"
   ]
  },
  {
   "cell_type": "code",
   "execution_count": null,
   "metadata": {},
   "outputs": [],
   "source": [
    "def no(coordinates,n=Jx):\n",
    "    i=coordinates[0]\n",
    "    j = coordinates[1]\n",
    "    k = i + (j)*n\n",
    "    return k\n",
    "\n",
    "top  = [(0,j) for j in range(Jx)]\n",
    "bottom  = [(Jx-1,j) for j in range(Jx)]\n",
    "left =  [(i,0) for i in range(Jy)]\n",
    "right  = [(i,Jy-1) for i in range(Jy)]\n",
    "top_no = [no(top_cell) for top_cell in top]\n",
    "bottom_no = [no(bottom_cell) for bottom_cell in bottom]\n",
    "left_no = [no(left_cell) for left_cell in left]\n",
    "right_no = [no(right_cell) for right_cell in right]\n",
    "\n",
    "interior_no = np.linspace(0,ncells-1,ncells)\n",
    "boundaries_no = top_no + bottom_no + left_no + right_no\n",
    "interior_no = [int(x) for x in interior_no if x not in boundaries_no]\n",
    "\n"
   ]
  },
  {
   "cell_type": "code",
   "execution_count": null,
   "metadata": {},
   "outputs": [],
   "source": [
    "ncells = Jx*Jy\n",
    "datas = [np.array([-alpha*np.ones(ncells),-alpha*np.ones(ncells), 2*(1+2*alpha)*np.ones(ncells), -alpha*np.ones(ncells),-alpha*np.ones(ncells)]) for alpha in alphas]\n",
    "diags = np.array([-Jx, -1, 0, 1, Jx])\n",
    "I = eye(ncells).toarray()\n",
    "A = [spdiags(data, diags,ncells,ncells).toarray() for data in datas]\n",
    "\n",
    "for n in range(n_species):\n",
    "    A[n][boundaries_no]  = [I[boundaries_no]]\n",
    "\n"
   ]
  },
  {
   "cell_type": "code",
   "execution_count": null,
   "metadata": {},
   "outputs": [],
   "source": [
    "ncells = Jx*Jy\n",
    "datas = [np.array([-alpha*np.ones(ncells),-alpha*np.ones(ncells), 2*(1+2*alpha)*np.ones(ncells), -alpha*np.ones(ncells),-alpha*np.ones(ncells)]) for alpha in alphas]\n",
    "diags = np.array([-Jx, -1, 0, 1, Jx])\n",
    "I = eye(ncells).toarray()\n",
    "A = [spdiags(data, diags,ncells,ncells).toarray() for data in datas]\n",
    "\n",
    "for n in range(n_species):\n",
    "    A[n][boundaries_no]  = [I[boundaries_no]]\n",
    "\n",
    "\n"
   ]
  },
  {
   "cell_type": "code",
   "execution_count": null,
   "metadata": {},
   "outputs": [],
   "source": [
    "# sigma=Lx/1; #stedv of the gaussian - sharp gaussian as initial condition\n",
    "# u = signal.gaussian(ncells,sigma)*100\n",
    "# u=u.transpose()\n",
    "# plt.plot(np.linspace(0,ncells,ncells),u)# xlabel('$x$','Interpreter','latex','FontSize',14);\n",
    "# plt.title('initial condition')\n",
    "u0 = [np.random.uniform(low=0.01 - 0.01, high=0.01 + 0.01, size=(ncells)) for n in range(n_species)]\n",
    "\n",
    "\n",
    "def plot_matrix(vector,Jx=Jx):\n",
    "    u_matrix = vector.reshape(Jx,Jx)\n",
    "    plt.figure()\n",
    "    plt.title('initial condition')\n",
    "    plt.imshow(u_matrix)\n",
    "    plt.colorbar()\n",
    "    plt.show()\n",
    "\n",
    "\n",
    "    \n",
    "    \n",
    "# u0 = [np.zeros(ncells)]*n_species\n",
    "# for n in range(n_species):\n",
    "#     center_no = no((int(Jx/2),int(Jx/2)))\n",
    "#     u0[n][center_no] = 100\n",
    "#     plt.figure()\n",
    "#     plt.plot(np.linspace(0,ncells,ncells),u0[n])# xlabel('$x$','Interpreter','latex','FontSize',14);\n",
    "#     plt.title('initial condition')   \n",
    "#     u0_matrix = u0[n].reshape(Jx,Jy)\n",
    "#     plt.imshow(u0_matrix)\n",
    "#     plt.ylim(0,Jy-1); plt.xlim(0,Jx-1)\n",
    "#     plt.colorbar()\n",
    "\n",
    "\n",
    "plot_matrix(u0[1],Jx)\n"
   ]
  },
  {
   "cell_type": "code",
   "execution_count": null,
   "metadata": {},
   "outputs": [],
   "source": []
  },
  {
   "cell_type": "code",
   "execution_count": null,
   "metadata": {},
   "outputs": [],
   "source": [
    "from scipy.linalg import lu_factor, lu_solve\n",
    "from tqdm import tqdm\n",
    "import plotly.express as px\n",
    "lu_results = [lu_factor(A[n]) for n in range(n_species)]\n",
    "\n",
    "# # print(np.shape(luA[0]),np.shape(piv[0]))\n",
    "# luA2, piv2 = lu_factor(A[0])\n",
    "# print(np.shape(luA),np.shape(piv))\n",
    "# print(piv1[0]==piv2)\n",
    "# print(luA1)\n",
    "# print()\n",
    "# print(luA2)\n",
    "start = timeit.timeit()\n",
    "b=[[0]*ncells]*n_species\n",
    "u = u0[:] #u0 wont change as u gets modified\n",
    "def turing(u):\n",
    "    f_a = 5*u[0] - 6*u[1] + 1\n",
    "    f_b = 6*u[0] - 7*u[1] + 1\n",
    "    \n",
    "    return f_a, f_b\n",
    "\n",
    "from random import randint\n",
    "colors = []\n",
    "n = 1000\n",
    "\n",
    "for i in range(n):\n",
    "    colors.append('#%06X' % randint(0, 0xFFFFFF))\n",
    "    \n",
    "for m in tqdm(range(N)):\n",
    "#     if m%100==0:\n",
    "#         plt.plot(np.linspace(0,ncells,ncells),u[0],label=m, color=colors[m])\n",
    "    \n",
    "    for n in range(n_species):\n",
    "        for k in interior_no:\n",
    "            b[n][k]=2*(1-2*alphas[n])*u[n][k] + alphas[n]*(u[n][k+1] + u[n][k-1] + u[n][k+Jx] + u[n][k-Jx]) #+ turing(u[n])[n]\n",
    "#     u = solve(A, b)\n",
    "#         print(np.shape(b))\n",
    "#         u[n] = scipy.linalg.lu_solve((luA[n],piv[n]),b[n])\n",
    "        u[n] = scipy.linalg.lu_solve((lu_results[n]),b[n])\n",
    "\n",
    "\n",
    "\n",
    "    u_matrix = u[0].reshape(Jx,Jx)\n",
    "#     print(u_matrix)\n",
    "end = timeit.timeit()\n",
    "# plt.legend()\n",
    "# plt.xlim(0,10)\n",
    "# plt.yscale('log')\n",
    "print(end - start)\n",
    "\n",
    "plot_matrix(u[0],Jx)\n",
    "plot_matrix(u0[0],Jx)"
   ]
  },
  {
   "cell_type": "code",
   "execution_count": null,
   "metadata": {},
   "outputs": [],
   "source": [
    "\n",
    "def plot_matrix(vector,Jx=Jx,title='u0'):\n",
    "    u_matrix = vector.reshape(Jx,Jx)\n",
    "    plt.figure()\n",
    "    plt.title(title)\n",
    "    plt.imshow(u_matrix)\n",
    "    plt.colorbar()\n",
    "    plt.show()\n",
    "\n",
    "plot_matrix(u[0],Jx,title='uf')\n",
    "plot_matrix(u0[0],Jx)"
   ]
  },
  {
   "cell_type": "code",
   "execution_count": null,
   "metadata": {},
   "outputs": [],
   "source": [
    "plot_matrix(u[1],Jx, title='uf')\n",
    "plot_matrix(u0[1],Jx)"
   ]
  },
  {
   "cell_type": "code",
   "execution_count": null,
   "metadata": {},
   "outputs": [],
   "source": []
  },
  {
   "cell_type": "code",
   "execution_count": null,
   "metadata": {},
   "outputs": [],
   "source": []
  },
  {
   "cell_type": "code",
   "execution_count": null,
   "metadata": {},
   "outputs": [],
   "source": []
  },
  {
   "cell_type": "code",
   "execution_count": null,
   "metadata": {},
   "outputs": [],
   "source": []
  },
  {
   "cell_type": "code",
   "execution_count": null,
   "metadata": {},
   "outputs": [],
   "source": []
  },
  {
   "cell_type": "code",
   "execution_count": null,
   "metadata": {},
   "outputs": [],
   "source": []
  },
  {
   "cell_type": "code",
   "execution_count": null,
   "metadata": {},
   "outputs": [],
   "source": []
  }
 ],
 "metadata": {
  "kernelspec": {
   "display_name": "Python 3",
   "language": "python",
   "name": "python3"
  },
  "language_info": {
   "codemirror_mode": {
    "name": "ipython",
    "version": 3
   },
   "file_extension": ".py",
   "mimetype": "text/x-python",
   "name": "python",
   "nbconvert_exporter": "python",
   "pygments_lexer": "ipython3",
   "version": "3.8.0"
  }
 },
 "nbformat": 4,
 "nbformat_minor": 4
}
