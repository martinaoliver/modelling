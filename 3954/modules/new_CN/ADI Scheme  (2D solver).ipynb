{
 "cells": [
  {
   "cell_type": "code",
   "execution_count": 11,
   "metadata": {},
   "outputs": [],
   "source": [
    "import numpy\n",
    "import matplotlib.pyplot as plt\n",
    "import numpy as np\n",
    "from scipy.sparse import spdiags, diags\n",
    "from tqdm import tqdm\n",
    "import copy\n",
    "# import copy\n",
    "# from scipy.sparse import linalg\n",
    "from scipy.linalg import solve_banded"
   ]
  },
  {
   "cell_type": "markdown",
   "metadata": {},
   "source": [
    "Spatial variables"
   ]
  },
  {
   "cell_type": "code",
   "execution_count": 12,
   "metadata": {},
   "outputs": [],
   "source": [
    "L_x=5; L_y=L_x\n",
    "J=L_x*1;I=J\n",
    "# D=[0.125,0.5] #Turing\n",
    "D=[1,40] #schnakenberg maini2012\n",
    "\n",
    "\n",
    "dx = float(L_x)/float(J-1); dy = float(L_y)/float(I-1)\n",
    "x_grid = numpy.array([j*dx for j in range(J)]); y_grid = numpy.array([i*dy for i in range(I)])\n"
   ]
  },
  {
   "cell_type": "markdown",
   "metadata": {},
   "source": [
    "Temporal variables"
   ]
  },
  {
   "cell_type": "code",
   "execution_count": 13,
   "metadata": {},
   "outputs": [],
   "source": [
    "T = 10\n",
    "N=T*10\n",
    "dt = float(T)/float(N-1)\n",
    "t_grid = numpy.array([n*dt for n in range(N)])"
   ]
  },
  {
   "cell_type": "markdown",
   "metadata": {},
   "source": [
    "Define initial conditions and cell matrix\n",
    "\n"
   ]
  },
  {
   "cell_type": "code",
   "execution_count": 14,
   "metadata": {},
   "outputs": [],
   "source": [
    "n_species=2\n",
    "U0 = []\n",
    "perturbation=0.001\n",
    "steadystates=[0.1]*n_species\n",
    "np.random.seed(1)\n",
    "\n",
    "# cell_matrix = np.zeros(shape=(I,J))\n",
    "# cell_matrix[int(I/2), int(J/2)] = 1\n",
    "for index in range(n_species):\n",
    "    U0.append(np.random.uniform(low=steadystates[index] - perturbation, high=steadystates[index] + perturbation, size=(I, J)))\n",
    "# U0 = U0*cell_matrix\n",
    "\n"
   ]
  },
  {
   "cell_type": "markdown",
   "metadata": {},
   "source": [
    "Define A tridiagonal matrix (left-hand side of Ax=b)"
   ]
  },
  {
   "cell_type": "code",
   "execution_count": 15,
   "metadata": {},
   "outputs": [
    {
     "data": {
      "text/plain": [
       "[0.03232323232323232, 1.292929292929293]"
      ]
     },
     "execution_count": 15,
     "metadata": {},
     "output_type": "execute_result"
    }
   ],
   "source": [
    "alpha = [D[n]*dt/(2.*dx*dx) for n in range(n_species)]\n",
    "\n",
    "def A(alphan):\n",
    "    bottomdiag = [-alphan for j in range(J-1)]\n",
    "    centraldiag = [1.+alphan]+[1.+2.*alphan for j in range(J-2)]+[1.+alphan]\n",
    "    topdiag = [-alphan for j in range(J-1)]\n",
    "    diagonals = [bottomdiag,centraldiag,topdiag]\n",
    "    A = diags(diagonals, [ -1, 0,1]).toarray()\n",
    "    return A\n",
    "\n",
    "def diagonal_form(a, upper = 1, lower= 1):\n",
    "    \"\"\"\n",
    "    a is a numpy square matrix\n",
    "    this function converts a square matrix to diagonal ordered form\n",
    "    returned matrix in ab shape which can be used directly for scipy.linalg.solve_banded\n",
    "    \"\"\"\n",
    "    n = a.shape[1]\n",
    "    assert(np.all(a.shape ==(n,n)))\n",
    "\n",
    "    ab = np.zeros((2*n-1, n))\n",
    "\n",
    "    for i in range(n):\n",
    "        ab[i,(n-1)-i:] = np.diagonal(a,(n-1)-i)\n",
    "\n",
    "    for i in range(n-1):\n",
    "        ab[(2*n-2)-i,:i+1] = np.diagonal(a,i-(n-1))\n",
    "\n",
    "    mid_row_inx = int(ab.shape[0]/2)\n",
    "    upper_rows = [mid_row_inx - i for i in range(1, upper+1)]\n",
    "    upper_rows.reverse()\n",
    "    upper_rows.append(mid_row_inx)\n",
    "    lower_rows = [mid_row_inx + i for i in range(1, lower+1)]\n",
    "    keep_rows = upper_rows+lower_rows\n",
    "    ab = ab[keep_rows,:]\n",
    "\n",
    "\n",
    "    return ab\n",
    "ab_list = [diagonal_form(A(alphan)) for alphan in alpha]\n",
    "alpha"
   ]
  },
  {
   "cell_type": "markdown",
   "metadata": {},
   "source": [
    "Define b vector  (right-hand side of Ax=b)"
   ]
  },
  {
   "cell_type": "code",
   "execution_count": 16,
   "metadata": {},
   "outputs": [],
   "source": [
    "def b(axis,ij,alphan,Un):\n",
    "    b_t_stencil = np.array( [0] + [(1-alphan)] + [alphan])\n",
    "    b_c_stencil = np.array( [alphan] + [(1-2*alphan)] + [alphan])\n",
    "    b_b_stencil = np.array( [alphan] + [(1-alphan)] + [0])\n",
    "\n",
    "    b = np.zeros(J)\n",
    "    if axis == 'y':\n",
    "        i = ij\n",
    "        if i > 0 and i < I-1:\n",
    "            for j in range(0,J):\n",
    "                ux_three = [Un[j,i-1], Un[j,i], Un[j,i+1]]\n",
    "                sub_b = np.sum(ux_three*b_c_stencil)\n",
    "                b[j] = sub_b\n",
    "\n",
    "\n",
    "        if i == 0:\n",
    "            for j in range(0,J):\n",
    "                ux_three = [0 , Un[j,i], Un[j,i+1]]\n",
    "                sub_b = np.sum(ux_three*b_t_stencil)\n",
    "                b[j] = sub_b\n",
    "\n",
    "        if i == I-1:\n",
    "            for j in range(0,J):\n",
    "                ux_three = [Un[j,i-1], Un[j,i] , 0]\n",
    "                sub_b = np.sum(ux_three*b_b_stencil)\n",
    "                b[j] = sub_b\n",
    "\n",
    "    if axis == 'x':\n",
    "        j = ij\n",
    "        if j > 0 and  j < J-1:\n",
    "            for i in range(0,I):\n",
    "                uy_three = [Un[j-1,i], Un[j,i], Un[j+1,i]]\n",
    "                sub_b = np.sum(uy_three*b_c_stencil)\n",
    "                b[i] = sub_b\n",
    "\n",
    "        if j == 0:\n",
    "            for i in range(0,I):\n",
    "                uy_three = [0, Un[j,i], Un[j+1,i]]\n",
    "                sub_b = np.sum(uy_three*b_t_stencil)\n",
    "                b[i] = sub_b\n",
    "\n",
    "        if j == J-1:\n",
    "            for i in range(0,I):\n",
    "                uy_three = [Un[j-1,i], Un[j,i], 0]\n",
    "                sub_b = np.sum(uy_three*b_b_stencil)\n",
    "                b[i] = sub_b\n",
    "\n",
    "    return b"
   ]
  },
  {
   "cell_type": "code",
   "execution_count": 17,
   "metadata": {},
   "outputs": [],
   "source": [
    "def turing(u):\n",
    "    f_a = 5*u[0] - 6*u[1] + 1\n",
    "    f_b = 6*u[0] - 7*u[1] + 1\n",
    "    f_a = 0.5*u[0] - u[1] \n",
    "    f_b = 0.53125*u[0] - u[1] \n",
    "    return f_a, f_b"
   ]
  },
  {
   "cell_type": "code",
   "execution_count": 18,
   "metadata": {},
   "outputs": [],
   "source": [
    "def schnakenberg(u,c=[0.1,1,0.9,1]): #schnakenberg maini2012\n",
    "    c1,cm1,c2,c3 = c\n",
    "    f_u0 = c1 - cm1*u[0] + c3*(u[0]**2)*u[1]\n",
    "    f_u1 = c2 - c3*(u[0]**2)*u[1]\n",
    "    return f_u0,f_u1\n",
    "    "
   ]
  },
  {
   "cell_type": "code",
   "execution_count": 19,
   "metadata": {},
   "outputs": [
    {
     "name": "stderr",
     "output_type": "stream",
     "text": [
      "100%|██████████| 100/100 [00:00<00:00, 535.44it/s]\n"
     ]
    },
    {
     "data": {
      "text/plain": [
       "<matplotlib.image.AxesImage at 0x7ffadea75550>"
      ]
     },
     "execution_count": 19,
     "metadata": {},
     "output_type": "execute_result"
    },
    {
     "data": {
      "image/png": "[encoded data removed]",
      "text/plain": [
       "<Figure size 432x288 with 1 Axes>"
      ]
     },
     "metadata": {
      "needs_background": "light"
     },
     "output_type": "display_data"
    }
   ],
   "source": [
    "U = copy.deepcopy(U0)\n",
    "U_record = []\n",
    "for species_index in range(n_species):\n",
    "    U_record.append(np.zeros([J, I, T])) #DO NOT SIMPLIFY TO U_record = [np.zeros([J, I, T])]*n_species\n",
    "\n",
    "\n",
    "unittime=0\n",
    "for ti in tqdm(range(N), disable = False):\n",
    "    #First step: solve in y direction from n -> n+1/2\n",
    "    U_half = copy.deepcopy(U)\n",
    "#     f0 = turing(U)\n",
    "    f0 = schnakenberg(U)\n",
    "\n",
    "    for i in range(I):\n",
    "        for n in range(n_species):\n",
    "            U_half[n][:,i] = solve_banded((1, 1), ab_list[n], b('y',i,alpha[n],U[n]) +  f0[n][:,i]*(dt/2)) #CN step in one dimension to get banded(tridiagonal) A matrix\n",
    "\n",
    "    #Second step: solve in x direction from n+1/2 -> n+1\n",
    "    U_new = copy.deepcopy(U_half)\n",
    "    f1 = schnakenberg(U_half)\n",
    "    for j in range(J):\n",
    "        for n in range(n_species):\n",
    "            U_new[n][j,:] = solve_banded((1, 1), ab_list[n], b('x',j,alpha[n],U_half[n]) + f1[n][j,:]*(dt/2))\n",
    "\n",
    "\n",
    "    hour = ti / (N / T)\n",
    "\n",
    "    if hour % 1 == 0:  #only record at unit time (hour)\n",
    "        #append results into top_array for records\n",
    "        for species_index in range(n_species):\n",
    "            U_record[species_index][:, :, int(hour)] = U_new[species_index] #issue in this line\n",
    "\n",
    "\n",
    "    U = copy.deepcopy(U_new)\n",
    "\n",
    "plt.imshow(U[0])\n"
   ]
  },
  {
   "cell_type": "code",
   "execution_count": 20,
   "metadata": {},
   "outputs": [],
   "source": [
    "import pickle as pkl\n",
    "pkl.dump( U, open( \"schnakenberg.pkl\", \"wb\" ) )\n"
   ]
  },
  {
   "cell_type": "code",
   "execution_count": 18,
   "metadata": {},
   "outputs": [
    {
     "data": {
      "image/png": "[encoded data removed]",
      "text/plain": [
       "<Figure size 432x288 with 2 Axes>"
      ]
     },
     "metadata": {
      "needs_background": "light"
     },
     "output_type": "display_data"
    }
   ],
   "source": [
    "from matplotlib import cm\n",
    "\n",
    "cmap = cm.Spectral\n",
    "plt.imshow(U[0], cmap=cmap)\n",
    "plt.colorbar()\n",
    "plt.savefig(\"schnakenberg.png\")"
   ]
  },
  {
   "cell_type": "code",
   "execution_count": null,
   "metadata": {},
   "outputs": [],
   "source": []
  }
 ],
 "metadata": {
  "kernelspec": {
   "display_name": "Python 3",
   "language": "python",
   "name": "python3"
  },
  "language_info": {
   "codemirror_mode": {
    "name": "ipython",
    "version": 3
   },
   "file_extension": ".py",
   "mimetype": "text/x-python",
   "name": "python",
   "nbconvert_exporter": "python",
   "pygments_lexer": "ipython3",
   "version": "3.8.0"
  }
 },
 "nbformat": 4,
 "nbformat_minor": 4
}
