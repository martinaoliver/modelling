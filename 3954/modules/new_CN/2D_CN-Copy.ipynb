{
 "cells": [
  {
   "cell_type": "code",
   "execution_count": 1,
   "metadata": {},
   "outputs": [],
   "source": [
    "import numpy as np\n",
    "from scipy.sparse import spdiags, eye\n",
    "from scipy import signal\n",
    "import matplotlib.pyplot as plt\n",
    "import scipy\n",
    "import timeit\n",
    "from scipy.linalg import solve, lu_factor, lu_solve\n",
    "\n",
    "\n"
   ]
  },
  {
   "cell_type": "markdown",
   "metadata": {},
   "source": [
    "###### Define spatial and temporal variables"
   ]
  },
  {
   "cell_type": "code",
   "execution_count": 2,
   "metadata": {},
   "outputs": [],
   "source": [
    "D=1\n",
    "\n",
    "#space\n",
    "Lx=1;Ly=1 #Diffusion constant; Domain length\n",
    "Jx = 10; Jy=Jx\n",
    "dx = float(Lx/(Jx-1)); dy = float(Ly/(Jy-1))\n",
    "ncells = Jx*Jy\n",
    "#time\n",
    "T = 100\n",
    "N = T*10\n",
    "dt = float(T/N-1)\n",
    "\n",
    "\n",
    "# dt=(dx*dy)/(2*D); #borderline stability of FTCS scheme \n",
    "alpha=dt*D/(dx*dy);\n",
    "\n",
    "\n",
    "nx=Jx"
   ]
  },
  {
   "cell_type": "markdown",
   "metadata": {},
   "source": [
    "###### Natural ordering: Boundary conditions"
   ]
  },
  {
   "cell_type": "code",
   "execution_count": 3,
   "metadata": {},
   "outputs": [],
   "source": [
    "def no(coordinates,n=Jx):\n",
    "    i=coordinates[0]\n",
    "    j = coordinates[1]\n",
    "    k = i + (j)*n\n",
    "    return k\n",
    "\n",
    "top  = [(0,j) for j in range(Jx)]\n",
    "bottom  = [(Jx-1,j) for j in range(Jx)]\n",
    "left =  [(i,0) for i in range(Jy)]\n",
    "right  = [(i,Jy-1) for i in range(Jy)]\n",
    "top_no = [no(top_cell) for top_cell in top]\n",
    "bottom_no = [no(bottom_cell) for bottom_cell in bottom]\n",
    "left_no = [no(left_cell) for left_cell in left]\n",
    "right_no = [no(right_cell) for right_cell in right]\n",
    "\n",
    "\n",
    "interior_no = np.linspace(0,ncells-1,ncells)\n",
    "boundaries_no = top_no + bottom_no + left_no + right_no\n",
    "interior_no = [int(x) for x in interior_no if x not in boundaries_no]\n",
    "\n",
    "        "
   ]
  },
  {
   "cell_type": "code",
   "execution_count": 4,
   "metadata": {},
   "outputs": [],
   "source": [
    "ncells = Jx*Jy\n",
    "# ncells = Jx\n",
    "\n",
    "data = np.array([-alpha*np.ones(ncells),-alpha*np.ones(ncells), 2*(1+2*alpha)*np.ones(ncells), -alpha*np.ones(ncells),-alpha*np.ones(ncells),])\n",
    "diags = np.array([-Jx, -1, 0, 1, Jx])\n",
    "I = eye(ncells).toarray()\n",
    "A = spdiags(data, diags,ncells,ncells).toarray()\n",
    "A[boundaries_no] = I[boundaries_no]\n"
   ]
  },
  {
   "cell_type": "code",
   "execution_count": 5,
   "metadata": {},
   "outputs": [
    {
     "data": {
      "text/plain": [
       "5"
      ]
     },
     "execution_count": 5,
     "metadata": {},
     "output_type": "execute_result"
    }
   ],
   "source": [
    "int(Jx/2)"
   ]
  },
  {
   "cell_type": "code",
   "execution_count": 6,
   "metadata": {},
   "outputs": [
    {
     "data": {
      "image/png": "[encoded data removed]",
      "text/plain": [
       "<Figure size 432x288 with 2 Axes>"
      ]
     },
     "metadata": {
      "needs_background": "light"
     },
     "output_type": "display_data"
    }
   ],
   "source": [
    "# sigma=Lx/1; #stedv of the gaussian - sharp gaussian as initial condition\n",
    "# u = signal.gaussian(ncells,sigma)*100\n",
    "# u=u.transpose()\n",
    "# plt.plot(np.linspace(0,ncells,ncells),u)# xlabel('$x$','Interpreter','latex','FontSize',14);\n",
    "# plt.title('initial condition')\n",
    "u = np.zeros(ncells)\n",
    "center_no = no((int(Jx/2),int(Jx/2)))\n",
    "u[center_no] = 100\n",
    "plt.plot(np.linspace(0,ncells,ncells),u)# xlabel('$x$','Interpreter','latex','FontSize',14);\n",
    "plt.title('initial condition')   \n",
    "u_matrix = u.reshape(Jx,Jx)\n",
    "plt.imshow(u_matrix)\n",
    "plt.colorbar()\n",
    "u0 = u"
   ]
  },
  {
   "cell_type": "code",
   "execution_count": 7,
   "metadata": {},
   "outputs": [
    {
     "name": "stderr",
     "output_type": "stream",
     "text": [
      "100%|██████████| 1000/1000 [00:01<00:00, 697.28it/s]\n"
     ]
    },
    {
     "name": "stdout",
     "output_type": "stream",
     "text": [
      "5.972999999936945e-06\n"
     ]
    },
    {
     "data": {
      "image/png": "[encoded data removed]",
      "text/plain": [
       "<Figure size 432x288 with 1 Axes>"
      ]
     },
     "metadata": {
      "needs_background": "light"
     },
     "output_type": "display_data"
    }
   ],
   "source": [
    "from scipy.linalg import lu_factor, lu_solve\n",
    "from tqdm import tqdm\n",
    "luA, piv = lu_factor(A)\n",
    "start = timeit.timeit()\n",
    "b=[0]*ncells\n",
    "def f(u):\n",
    "    return 1\n",
    "for m in tqdm(range(N)):\n",
    "    plt.plot(np.linspace(0,ncells,ncells),u,label=m)\n",
    "    for n in interior_no:\n",
    "        b[n] = 2*(1-2*alpha)*u[n] + alpha*(u[n+1] + u[n-1] + u[n+Jx] + u[n-Jx]) \n",
    "#     u = solve(A, b)\n",
    "    u = scipy.linalg.lu_solve((luA,piv),b)\n",
    "\n",
    "\n",
    "#     u_matrix = u.reshape(Jx,Jx)\n",
    "#     print(u_matrix)\n",
    "    u = scipy.linalg.lu_solve((luA,piv),b)\n",
    "end = timeit.timeit()\n",
    "# plt.legend()\n",
    "np.linspace(0,ncells,ncells)\n",
    "# plt.xlim(0,10)\n",
    "print(end - start)"
   ]
  },
  {
   "cell_type": "code",
   "execution_count": 8,
   "metadata": {},
   "outputs": [
    {
     "data": {
      "text/plain": [
       "<matplotlib.colorbar.Colorbar at 0x7fa2a94413d0>"
      ]
     },
     "execution_count": 8,
     "metadata": {},
     "output_type": "execute_result"
    },
    {
     "data": {
      "image/png": "[encoded data removed]",
      "text/plain": [
       "<Figure size 432x288 with 2 Axes>"
      ]
     },
     "metadata": {
      "needs_background": "light"
     },
     "output_type": "display_data"
    }
   ],
   "source": [
    "u0_matrix = u0.reshape(Jx,Jx)\n",
    "plt.imshow(u0_matrix)\n",
    "plt.colorbar()"
   ]
  },
  {
   "cell_type": "code",
   "execution_count": 9,
   "metadata": {},
   "outputs": [
    {
     "data": {
      "text/plain": [
       "<matplotlib.colorbar.Colorbar at 0x7fa2a9781250>"
      ]
     },
     "execution_count": 9,
     "metadata": {},
     "output_type": "execute_result"
    },
    {
     "data": {
      "image/png": "[encoded data removed]",
      "text/plain": [
       "<Figure size 432x288 with 2 Axes>"
      ]
     },
     "metadata": {
      "needs_background": "light"
     },
     "output_type": "display_data"
    }
   ],
   "source": [
    "u_matrix = u.reshape(Jx,Jx)\n",
    "plt.imshow(u_matrix)\n",
    "plt.colorbar()"
   ]
  },
  {
   "cell_type": "code",
   "execution_count": null,
   "metadata": {},
   "outputs": [],
   "source": []
  },
  {
   "cell_type": "code",
   "execution_count": null,
   "metadata": {},
   "outputs": [],
   "source": []
  },
  {
   "cell_type": "code",
   "execution_count": null,
   "metadata": {},
   "outputs": [],
   "source": []
  },
  {
   "cell_type": "code",
   "execution_count": null,
   "metadata": {},
   "outputs": [],
   "source": []
  },
  {
   "cell_type": "code",
   "execution_count": null,
   "metadata": {},
   "outputs": [],
   "source": []
  },
  {
   "cell_type": "code",
   "execution_count": null,
   "metadata": {},
   "outputs": [],
   "source": []
  },
  {
   "cell_type": "code",
   "execution_count": null,
   "metadata": {},
   "outputs": [],
   "source": []
  }
 ],
 "metadata": {
  "kernelspec": {
   "display_name": "Python 3",
   "language": "python",
   "name": "python3"
  },
  "language_info": {
   "codemirror_mode": {
    "name": "ipython",
    "version": 3
   },
   "file_extension": ".py",
   "mimetype": "text/x-python",
   "name": "python",
   "nbconvert_exporter": "python",
   "pygments_lexer": "ipython3",
   "version": "3.8.0"
  }
 },
 "nbformat": 4,
 "nbformat_minor": 4
}
