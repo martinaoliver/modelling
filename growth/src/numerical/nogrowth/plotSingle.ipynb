{
 "cells": [
  {
   "cell_type": "markdown",
   "metadata": {},
   "source": [
    "Imports"
   ]
  },
  {
   "cell_type": "markdown",
   "metadata": {},
   "source": [
    "Imports"
   ]
  },
  {
   "cell_type": "code",
   "execution_count": 1,
   "metadata": {},
   "outputs": [],
   "source": [
    "#############\n",
    "###paths#####\n",
    "#############\n",
    "import sys\n",
    "import os\n",
    "\n",
    "from importlib_metadata import distribution\n",
    "pwd = os.getcwd()\n",
    "modellingpath = pwd.rpartition(\"modelling\")[0] + pwd.rpartition(\"modelling\")[1] \n",
    "sys.path.append(modellingpath + '/lib')\n",
    "#############\n",
    "\n",
    "from numerical.cn_plot import plot1D, surfpattern\n",
    "from numerical.countPeaksAnalysisFunctions import countPeaks, varPeakDistFunction\n",
    "from numerical.generalFunctions import round_it\n",
    "\n",
    "from analytical.linear_stability_analysis import detailed_turing_analysis_dict\n",
    "from randomfunctions import plot_all_dispersion\n",
    "\n",
    "from scipy.signal import find_peaks\n",
    "import pickle\n",
    "import numpy as np\n",
    "import matplotlib.pyplot as plt\n",
    "from tqdm import tqdm\n",
    "\n"
   ]
  },
  {
   "cell_type": "markdown",
   "metadata": {},
   "source": [
    "Defining run parameters"
   ]
  },
  {
   "cell_type": "code",
   "execution_count": 2,
   "metadata": {},
   "outputs": [],
   "source": [
    "circuit_n='turinghill'\n",
    "variant= 0\n",
    "n_species=2\n",
    "mechanism='nogrowth'\n",
    "L=50; x_gridpoints=5; J=L*x_gridpoints;I=J \n",
    "T=5000; t_gridpoints = 30; N=T*t_gridpoints #Number of timepoints\n",
    "filename= lambda parID: '%s_variant%s_%s_ID%s_L%r_J%r_T%r_N%r'%(circuit_n,variant,mechanism,parID,L,J,T,N)\n",
    "n_param_sets=2000000\n",
    "lsa_df= pickle.load( open(modellingpath + '/growth/out/analytical/lsa_dataframes/lsa_df_%s_variant%r_%rparametersets.pkl'%(circuit_n,variant,n_param_sets), \"rb\"))\n",
    "single_lsa_df =  lsa_df.xs(0, level=1)\n",
    "\n"
   ]
  },
  {
   "cell_type": "code",
   "execution_count": 3,
   "metadata": {},
   "outputs": [
    {
     "name": "stdout",
     "output_type": "stream",
     "text": [
      "hopf                    61890\n",
      "turing I hopf            1047\n",
      "turing I oscillatory       29\n",
      "turing I                    2\n",
      "Name: system_class, dtype: int64\n",
      "\n",
      "turing I oscillatory    29\n",
      "Name: system_class, dtype: int64\n",
      "\n",
      "turing I hopf    1047\n",
      "Name: system_class, dtype: int64\n",
      "\n",
      "hopf    61890\n",
      "Name: system_class, dtype: int64\n"
     ]
    }
   ],
   "source": [
    "instability_df= pickle.load( open(modellingpath + '/growth/out/analytical/instability/instability_df_%s_variant%r_%rparametersets.pkl'%(circuit_n,variant,n_param_sets), \"rb\"))\n",
    "print(instability_df['system_class'].value_counts())\n",
    "print('')\n",
    "turing_osc_df = instability_df[instability_df['system_class']=='turing I oscillatory']\n",
    "print(turing_osc_df['system_class'].value_counts())\n",
    "print()\n",
    "turing_hopf_df = instability_df[instability_df['system_class']=='turing I hopf']\n",
    "print(turing_hopf_df['system_class'].value_counts())\n",
    "print()\n",
    "hopf_df = instability_df[instability_df['system_class']=='hopf']\n",
    "print(hopf_df['system_class'].value_counts())\n"
   ]
  },
  {
   "cell_type": "code",
   "execution_count": null,
   "metadata": {},
   "outputs": [],
   "source": [
    "filename(1)"
   ]
  },
  {
   "cell_type": "code",
   "execution_count": 4,
   "metadata": {},
   "outputs": [],
   "source": [
    "def parID_display(parID, L,J,T,round=False,crop=100,ss_n=0,single_lsa_df = single_lsa_df):\n",
    "    #data\n",
    "    U = pickle.load( open(modellingpath + '/growth/out/numerical/%s/%s/data/2Dfinal_%s.pkl'%(circuit_n,mechanism,filename(parID)), 'rb'))\n",
    "    #plot\n",
    "    plot1D(U,round=round)\n",
    "\n",
    "    plt.subplots(figsize=(10,4))\n",
    "\n",
    "    #dispersion\n",
    "    plt.subplot(121)\n",
    "    parID_dispersion(parID,crop,ss_n)\n",
    "    #convergence\n",
    "    plt.subplot(122)\n",
    "\n",
    "    parID_surfpattern(parID,L,J,T)\n",
    "    plt.tight_layout()\n",
    "    plt.show()\n",
    "def parID_surfpattern(parID,L,J,T,record_every_x_hours = 10):\n",
    "    #data \n",
    "    U_record = pickle.load( open(modellingpath + '/growth/out/numerical/%s/%s/data/2Drecord_%s.pkl'%(circuit_n,mechanism,filename(parID)), 'rb'))\n",
    "    \n",
    "    #grids\n",
    "    dx = float(L)/float(J-1)\n",
    "    x_grid = np.array([j*dx for j in range(J)])\n",
    "    reduced_t_grid = np.arange(0,T,record_every_x_hours) \n",
    "\n",
    "    #plot\n",
    "    surfpattern(U_record, [x_grid, reduced_t_grid], 'linear',  morphogen=1, rate=0, savefig=False,filename='',logResults=False,normalize=False)\n",
    "\n",
    "\n",
    "def parID_dispersion(parID,crop, ss_n):\n",
    "    #dispersion\n",
    "    par_dict = single_lsa_df.loc[parID].to_dict() #converts a dataframe row into a dictionary outputing a dictionary for a specific parameter set\n",
    "    out = detailed_turing_analysis_dict(par_dict, circuit_n, n_species)\n",
    "    plot_all_dispersion(out[-3][ss_n],2, crop=crop)\n"
   ]
  },
  {
   "cell_type": "markdown",
   "metadata": {},
   "source": [
    "Hopf"
   ]
  },
  {
   "cell_type": "code",
   "execution_count": null,
   "metadata": {},
   "outputs": [],
   "source": [
    "\n",
    "for parID in list(hopf_df.index)[:10]:\n",
    "    print(parID)\n",
    "    parID_display(parID,L,J,T, crop=150)\n",
    "    print('--------------------------------------')\n"
   ]
  },
  {
   "cell_type": "markdown",
   "metadata": {},
   "source": [
    "Turing I hopf"
   ]
  },
  {
   "cell_type": "code",
   "execution_count": 6,
   "metadata": {},
   "outputs": [
    {
     "name": "stdout",
     "output_type": "stream",
     "text": [
      "16493\n"
     ]
    },
    {
     "ename": "FileNotFoundError",
     "evalue": "[Errno 2] No such file or directory: '/rds/general/user/mo2016/home/Documents/modelling/growth/out/numerical/turinghill/nogrowth/data/2Dfinal_turinghill_variant0_nogrowth_ID16493_L50_J250_T5000_N150000.pkl'",
     "output_type": "error",
     "traceback": [
      "\u001b[0;31m---------------------------------------------------------------------------\u001b[0m",
      "\u001b[0;31mFileNotFoundError\u001b[0m                         Traceback (most recent call last)",
      "\u001b[0;32m<ipython-input-6-e9f42a8ca72f>\u001b[0m in \u001b[0;36m<module>\u001b[0;34m\u001b[0m\n\u001b[1;32m      1\u001b[0m \u001b[0;32mfor\u001b[0m \u001b[0mparID\u001b[0m \u001b[0;32min\u001b[0m \u001b[0mlist\u001b[0m\u001b[0;34m(\u001b[0m\u001b[0mturing_hopf_df\u001b[0m\u001b[0;34m.\u001b[0m\u001b[0mindex\u001b[0m\u001b[0;34m[\u001b[0m\u001b[0;36m10\u001b[0m\u001b[0;34m:\u001b[0m\u001b[0;36m12\u001b[0m\u001b[0;34m]\u001b[0m\u001b[0;34m)\u001b[0m\u001b[0;34m:\u001b[0m\u001b[0;34m\u001b[0m\u001b[0;34m\u001b[0m\u001b[0m\n\u001b[1;32m      2\u001b[0m     \u001b[0mprint\u001b[0m\u001b[0;34m(\u001b[0m\u001b[0mparID\u001b[0m\u001b[0;34m)\u001b[0m\u001b[0;34m\u001b[0m\u001b[0;34m\u001b[0m\u001b[0m\n\u001b[0;32m----> 3\u001b[0;31m     \u001b[0mparID_display\u001b[0m\u001b[0;34m(\u001b[0m\u001b[0mparID\u001b[0m\u001b[0;34m,\u001b[0m\u001b[0mL\u001b[0m\u001b[0;34m,\u001b[0m\u001b[0mJ\u001b[0m\u001b[0;34m,\u001b[0m\u001b[0mT\u001b[0m\u001b[0;34m,\u001b[0m \u001b[0mcrop\u001b[0m\u001b[0;34m=\u001b[0m\u001b[0;36m10\u001b[0m\u001b[0;34m)\u001b[0m\u001b[0;34m\u001b[0m\u001b[0;34m\u001b[0m\u001b[0m\n\u001b[0m\u001b[1;32m      4\u001b[0m     \u001b[0mprint\u001b[0m\u001b[0;34m(\u001b[0m\u001b[0;34m'--------------------------------------'\u001b[0m\u001b[0;34m)\u001b[0m\u001b[0;34m\u001b[0m\u001b[0;34m\u001b[0m\u001b[0m\n",
      "\u001b[0;32m<ipython-input-4-75d7e5f319ea>\u001b[0m in \u001b[0;36mparID_display\u001b[0;34m(parID, L, J, T, round, crop, ss_n, single_lsa_df)\u001b[0m\n\u001b[1;32m      1\u001b[0m \u001b[0;32mdef\u001b[0m \u001b[0mparID_display\u001b[0m\u001b[0;34m(\u001b[0m\u001b[0mparID\u001b[0m\u001b[0;34m,\u001b[0m \u001b[0mL\u001b[0m\u001b[0;34m,\u001b[0m\u001b[0mJ\u001b[0m\u001b[0;34m,\u001b[0m\u001b[0mT\u001b[0m\u001b[0;34m,\u001b[0m\u001b[0mround\u001b[0m\u001b[0;34m=\u001b[0m\u001b[0;32mFalse\u001b[0m\u001b[0;34m,\u001b[0m\u001b[0mcrop\u001b[0m\u001b[0;34m=\u001b[0m\u001b[0;36m100\u001b[0m\u001b[0;34m,\u001b[0m\u001b[0mss_n\u001b[0m\u001b[0;34m=\u001b[0m\u001b[0;36m0\u001b[0m\u001b[0;34m,\u001b[0m\u001b[0msingle_lsa_df\u001b[0m \u001b[0;34m=\u001b[0m \u001b[0msingle_lsa_df\u001b[0m\u001b[0;34m)\u001b[0m\u001b[0;34m:\u001b[0m\u001b[0;34m\u001b[0m\u001b[0;34m\u001b[0m\u001b[0m\n\u001b[1;32m      2\u001b[0m     \u001b[0;31m#data\u001b[0m\u001b[0;34m\u001b[0m\u001b[0;34m\u001b[0m\u001b[0;34m\u001b[0m\u001b[0m\n\u001b[0;32m----> 3\u001b[0;31m     \u001b[0mU\u001b[0m \u001b[0;34m=\u001b[0m \u001b[0mpickle\u001b[0m\u001b[0;34m.\u001b[0m\u001b[0mload\u001b[0m\u001b[0;34m(\u001b[0m \u001b[0mopen\u001b[0m\u001b[0;34m(\u001b[0m\u001b[0mmodellingpath\u001b[0m \u001b[0;34m+\u001b[0m \u001b[0;34m'/growth/out/numerical/%s/%s/data/2Dfinal_%s.pkl'\u001b[0m\u001b[0;34m%\u001b[0m\u001b[0;34m(\u001b[0m\u001b[0mcircuit_n\u001b[0m\u001b[0;34m,\u001b[0m\u001b[0mmechanism\u001b[0m\u001b[0;34m,\u001b[0m\u001b[0mfilename\u001b[0m\u001b[0;34m(\u001b[0m\u001b[0mparID\u001b[0m\u001b[0;34m)\u001b[0m\u001b[0;34m)\u001b[0m\u001b[0;34m,\u001b[0m \u001b[0;34m'rb'\u001b[0m\u001b[0;34m)\u001b[0m\u001b[0;34m)\u001b[0m\u001b[0;34m\u001b[0m\u001b[0;34m\u001b[0m\u001b[0m\n\u001b[0m\u001b[1;32m      4\u001b[0m     \u001b[0;31m#plot\u001b[0m\u001b[0;34m\u001b[0m\u001b[0;34m\u001b[0m\u001b[0;34m\u001b[0m\u001b[0m\n\u001b[1;32m      5\u001b[0m     \u001b[0mplot1D\u001b[0m\u001b[0;34m(\u001b[0m\u001b[0mU\u001b[0m\u001b[0;34m,\u001b[0m\u001b[0mround\u001b[0m\u001b[0;34m=\u001b[0m\u001b[0mround\u001b[0m\u001b[0;34m)\u001b[0m\u001b[0;34m\u001b[0m\u001b[0;34m\u001b[0m\u001b[0m\n",
      "\u001b[0;31mFileNotFoundError\u001b[0m: [Errno 2] No such file or directory: '/rds/general/user/mo2016/home/Documents/modelling/growth/out/numerical/turinghill/nogrowth/data/2Dfinal_turinghill_variant0_nogrowth_ID16493_L50_J250_T5000_N150000.pkl'"
     ]
    }
   ],
   "source": [
    "\n",
    "for parID in list(turing_hopf_df.index[10:12]):\n",
    "    print(parID)\n",
    "    parID_display(parID,L,J,T, crop=10)\n",
    "    print('--------------------------------------')"
   ]
  },
  {
   "cell_type": "code",
   "execution_count": null,
   "metadata": {},
   "outputs": [],
   "source": [
    "parID_display(193560,L,J,T, crop=20)\n"
   ]
  },
  {
   "cell_type": "markdown",
   "metadata": {},
   "source": [
    "Turing I"
   ]
  },
  {
   "cell_type": "code",
   "execution_count": null,
   "metadata": {},
   "outputs": [],
   "source": [
    "\n",
    "for parID in list(turing_osc_df.index):\n",
    "    print(parID)\n",
    "    parID_display(parID,L,J,T, crop=25)\n",
    "    print('--------------------------------------')"
   ]
  },
  {
   "cell_type": "code",
   "execution_count": null,
   "metadata": {},
   "outputs": [],
   "source": [
    "lsa_df.loc[118941]"
   ]
  },
  {
   "cell_type": "markdown",
   "metadata": {},
   "source": [
    "Hopf"
   ]
  },
  {
   "cell_type": "code",
   "execution_count": null,
   "metadata": {},
   "outputs": [],
   "source": [
    "parID_display(10524,L,J,T, crop=50)"
   ]
  },
  {
   "cell_type": "code",
   "execution_count": null,
   "metadata": {},
   "outputs": [],
   "source": [
    "\n",
    "parID_display(3676, crop=20)"
   ]
  },
  {
   "cell_type": "markdown",
   "metadata": {},
   "source": [
    "Stable"
   ]
  },
  {
   "cell_type": "code",
   "execution_count": null,
   "metadata": {},
   "outputs": [],
   "source": [
    "simple_real_df = "
   ]
  },
  {
   "cell_type": "code",
   "execution_count": null,
   "metadata": {},
   "outputs": [],
   "source": [
    "stable_patterns_df = psEntropy_df.loc[(psEntropy_df['system_class'] == 'simple stable') & (psEntropy_df['psEntropy'] < 5.517) & (psEntropy_df['psEntropy'] != 0) & (psEntropy_df['complex_dispersion'] == False)]\n",
    "# stable_patterns_df = psEntropy_df.loc[(psEntropy_df['system_class'] == 'simple stable') & (psEntropy_df['psEntropy'] < 5.517) & (psEntropy_df['psEntropy'] != 0)]\n",
    "# print(len(stable_patterns_df.index[10:20]))\n",
    "# for parID in stable_patterns_df.index:\n",
    "#     print(parID)\n",
    "#     parID_display(parID,L,J,T, crop=150)\n",
    "#     print('--------------------------------------')\n",
    "stable_patterns_df\n",
    "lsa_df.loc[840]"
   ]
  },
  {
   "cell_type": "code",
   "execution_count": null,
   "metadata": {},
   "outputs": [],
   "source": [
    "parID_display(840,L,J,T, crop=150)"
   ]
  },
  {
   "cell_type": "code",
   "execution_count": null,
   "metadata": {},
   "outputs": [],
   "source": [
    "parID_display(591,L,J,T, crop=10)\n",
    "U = pickle.load( open(modellingpath + '/growth/out/numerical/%s/%s/data/2Dfinal_%s.pkl'%(circuit_n,mechanism,filename(591)), 'rb'))\n",
    "U = [[round_it(Uxx,3) for Uxx in Ux] for Ux in U]\n",
    "plt.plot(U[1])"
   ]
  },
  {
   "cell_type": "code",
   "execution_count": null,
   "metadata": {},
   "outputs": [],
   "source": [
    "\n",
    "parID_display(16261, crop=5)\n"
   ]
  },
  {
   "cell_type": "code",
   "execution_count": null,
   "metadata": {},
   "outputs": [],
   "source": [
    "\n",
    "parID_display(323,crop=30)\n"
   ]
  },
  {
   "cell_type": "code",
   "execution_count": null,
   "metadata": {},
   "outputs": [],
   "source": [
    "parID_display(18689)\n"
   ]
  },
  {
   "cell_type": "code",
   "execution_count": null,
   "metadata": {},
   "outputs": [],
   "source": [
    "\n",
    "parID_display(3580)\n"
   ]
  },
  {
   "cell_type": "code",
   "execution_count": null,
   "metadata": {},
   "outputs": [],
   "source": [
    "\n",
    "parID_display( 28817,crop=200)\n"
   ]
  },
  {
   "cell_type": "code",
   "execution_count": null,
   "metadata": {},
   "outputs": [],
   "source": [
    "\n",
    "parID = 9387\n",
    "parID_display(parID,L,J,T)"
   ]
  },
  {
   "cell_type": "code",
   "execution_count": null,
   "metadata": {},
   "outputs": [],
   "source": [
    "\n",
    "\n",
    "parID = 4162\n",
    "parID_display(parID)"
   ]
  },
  {
   "cell_type": "code",
   "execution_count": null,
   "metadata": {},
   "outputs": [],
   "source": [
    "\n",
    "\n",
    "parID = 2\n",
    "parID_display(parID)"
   ]
  },
  {
   "cell_type": "code",
   "execution_count": null,
   "metadata": {},
   "outputs": [],
   "source": [
    "\n",
    "\n",
    "parID = 3\n",
    "parID_display(parID)"
   ]
  },
  {
   "cell_type": "code",
   "execution_count": null,
   "metadata": {},
   "outputs": [],
   "source": [
    "\n",
    "\n",
    "parID = 99895\n",
    "parID_display(parID)"
   ]
  },
  {
   "cell_type": "code",
   "execution_count": null,
   "metadata": {},
   "outputs": [],
   "source": [
    "parID = 12464\n",
    "parID_display(parID)"
   ]
  },
  {
   "cell_type": "code",
   "execution_count": null,
   "metadata": {},
   "outputs": [],
   "source": [
    "parID = 44027\n",
    "parID_display(parID,L,J,T, crop=100)"
   ]
  }
 ],
 "metadata": {
  "kernelspec": {
   "display_name": "Python 3.8.5 ('env1')",
   "language": "python",
   "name": "python3"
  },
  "language_info": {
   "codemirror_mode": {
    "name": "ipython",
    "version": 3
   },
   "file_extension": ".py",
   "mimetype": "text/x-python",
   "name": "python",
   "nbconvert_exporter": "python",
   "pygments_lexer": "ipython3",
   "version": "3.8.5"
  },
  "orig_nbformat": 4,
  "vscode": {
   "interpreter": {
    "hash": "eba2ca3eebf14a075b0bd4beb0803a359b7e8903a32f3fd8955f8b26355cf32f"
   }
  }
 },
 "nbformat": 4,
 "nbformat_minor": 2
}
