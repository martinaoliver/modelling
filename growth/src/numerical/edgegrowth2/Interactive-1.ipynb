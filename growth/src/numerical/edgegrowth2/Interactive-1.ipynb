{
 "cells": [
  {
   "cell_type": "markdown",
   "metadata": {
    "isInteractiveWindowMessageCell": true
   },
   "source": [
    "Connected to env1 (Python 3.8.5)"
   ]
  },
  {
   "cell_type": "code",
   "execution_count": 1,
   "metadata": {},
   "outputs": [],
   "source": [
    "#####\n",
    "###paths#####\n",
    "#############\n",
    "import sys\n",
    "import os\n",
    "\n",
    "pwd = os.getcwd()\n",
    "modellingpath = pwd.rpartition(\"modelling\")[0] + pwd.rpartition(\"modelling\")[1] \n",
    "modellingephemeral = '/rds/general/ephemeral/user/mo2016/ephemeral/Documents/modelling'\n",
    "sys.path.append(modellingpath + '/lib')\n",
    "#############\n",
    "\n",
    "from numerical.cn_plot import plot1D, surfpattern\n",
    "# from numerical.fourierAnalysisFunctions import psEntropyFunction, plotFourier\n",
    "from numerical.generalFunctions import round_it\n",
    "from analytical.linear_stability_analysis import detailed_turing_analysis_dict\n",
    "from randomfunctions import plot_all_dispersion, plot_highest_dispersion\n",
    "from pattern_classification.pattern_1D_nogrowth_classification_noRegularity import patternClassification_nogrowth_noRegularity, countPeaks\n",
    "from pattern_classification.pattern_analysis_functions import *\n",
    "from database.databaseFunctions import *\n",
    "import pickle\n",
    "import numpy as np\n",
    "import matplotlib.pyplot as plt\n",
    "from tqdm import tqdm"
   ]
  },
  {
   "cell_type": "code",
   "execution_count": 2,
   "metadata": {},
   "outputs": [
    {
     "name": "stdout",
     "output_type": "stream",
     "text": [
      "circuitturinghill_variant0_bc1_nogrowth_rate0.0125_IDx_L25_J500_T2000_N400000 filename\n"
     ]
    }
   ],
   "source": [
    "L=25; dx =0.05; J = int(L/dx)\n",
    "T =2000; dt = 0.005; N = int(T/dt)\n",
    "\n",
    "# L=50; dx =0.1; J = int(L/dx)\n",
    "# T =5000; dt = 0.02; N = int(T/dt)\n",
    "\n",
    "x_grid = np.array([j*dx for j in range(J)])\n",
    "\n",
    "boundaryCoeff=1;rate=L/T\n",
    "suggesteddt = float(dx*dx*2)\n",
    "mechanism = 'nogrowth'\n",
    "simulation_param_dict = {'L':L, 'dx':dx, 'J':J, 'T':T, 'dt':dt, 'N':N, \n",
    "            'boundaryCoeff':boundaryCoeff, \n",
    "            'mechanism':mechanism, 'growth_rate': rate}\n",
    "\n",
    "parID = 'x'\n",
    "circuit_n='turinghill'\n",
    "variant= 0\n",
    "n_samples=2000000\n",
    "folder = f'{circuit_n}_variant{variant}'\n",
    "filename= lambda parID: 'circuit%s_variant%s_bc%s_%s_rate%s_ID%s_L%r_J%r_T%r_N%r'%(circuit_n,variant,boundaryCoeff, mechanism,rate,parID,L,J,T,N)\n",
    "print(filename(parID), 'filename')"
   ]
  },
  {
   "cell_type": "code",
   "execution_count": 3,
   "metadata": {},
   "outputs": [],
   "source": [
    "data_path = modellingephemeral + f'/growth/out/numerical/{mechanism}/simulation/{folder}'\n",
    "\n",
    "# parID_list = pickle.load( open(data_path + '/parID_list_%s.pkl'%(filename('x')), \"rb\" ) )"
   ]
  },
  {
   "cell_type": "code",
   "execution_count": 4,
   "metadata": {},
   "outputs": [],
   "source": [
    "query = f'''select mp.\"parID\", so.\"ssID\"  from simulation_output so\n",
    "inner join model_param mp on so.model_param_id = mp.model_param_id\n",
    "inner join analytical_output ao on (ao.model_param_id,ao.\"ssID\") = (so.model_param_id, so.\"ssID\")\n",
    "\n",
    "-- where ao.system_class not in ('turing I', 'turing II', 'turing I hopf', 'turing I oscillatory', 'turing II hopf', 'turing semi-hopf')\n",
    "-- where ao.system_class in ('hopf')\n",
    "and mp.variant='{variant}'\n",
    "and so.simulation_param_uuid='a3913ecd-bfe0-4fd6-b8ef-bde9895b1841'\n",
    "and mp.n_samples={n_samples}'''\n",
    "parIDssID = general_query(query)"
   ]
  },
  {
   "cell_type": "code",
   "execution_count": 5,
   "metadata": {},
   "outputs": [
    {
     "name": "stderr",
     "output_type": "stream",
     "text": [
      "  0%|          | 0/2 [00:00<?, ?it/s]"
     ]
    },
    {
     "name": "stdout",
     "output_type": "stream",
     "text": [
      "Homogeneous True True\n"
     ]
    },
    {
     "name": "stderr",
     "output_type": "stream",
     "text": [
      " 50%|█████     | 1/2 [00:00<00:00,  1.34it/s]"
     ]
    },
    {
     "name": "stdout",
     "output_type": "stream",
     "text": [
      "simulation_param_uuid:('132323a4-3f93-4287-aca9-d18e84848e37',)\n",
      "model_param_id:89_circuit:turinghill_variant:0_samples:2000000\n"
     ]
    },
    {
     "name": "stderr",
     "output_type": "stream",
     "text": [
      "\n"
     ]
    },
    {
     "ename": "FileNotFoundError",
     "evalue": "[Errno 2] No such file or directory: '/rds/general/ephemeral/user/mo2016/ephemeral/Documents/modelling/growth/out/numerical/nogrowth/simulation/turinghill_variant0/2Dfinal_circuitturinghill_variant0_bc1_nogrowth_rate0.0125_ID12.0_L25_J500_T2000_N400000.pkl'",
     "output_type": "error",
     "traceback": [
      "\u001b[0;31m---------------------------------------------------------------------------\u001b[0m",
      "\u001b[0;31mFileNotFoundError\u001b[0m                         Traceback (most recent call last)",
      "\u001b[0;32m~/Documents/modelling/growth/src/patternAnalysis/nogrowth_patternClassification_to_sql.py\u001b[0m in \u001b[0;36m<module>\u001b[0;34m\u001b[0m\n\u001b[1;32m      5\u001b[0m    \u001b[0mparIDdotssID\u001b[0m \u001b[0;34m=\u001b[0m\u001b[0;34mf'{parID}.{ssID}'\u001b[0m\u001b[0;34m\u001b[0m\u001b[0;34m\u001b[0m\u001b[0m\n\u001b[1;32m      6\u001b[0m    \u001b[0;31m#load simulations\u001b[0m\u001b[0;34m\u001b[0m\u001b[0;34m\u001b[0m\u001b[0;34m\u001b[0m\u001b[0m\n\u001b[0;32m----> 7\u001b[0;31m    \u001b[0mU_final\u001b[0m \u001b[0;34m=\u001b[0m \u001b[0mpickle\u001b[0m\u001b[0;34m.\u001b[0m\u001b[0mload\u001b[0m\u001b[0;34m(\u001b[0m \u001b[0mopen\u001b[0m\u001b[0;34m(\u001b[0m\u001b[0mdata_path\u001b[0m \u001b[0;34m+\u001b[0m \u001b[0;34m'/2Dfinal_%s.pkl'\u001b[0m\u001b[0;34m%\u001b[0m\u001b[0;34m(\u001b[0m\u001b[0mfilename\u001b[0m\u001b[0;34m(\u001b[0m\u001b[0mparIDdotssID\u001b[0m\u001b[0;34m)\u001b[0m\u001b[0;34m)\u001b[0m\u001b[0;34m,\u001b[0m \u001b[0;34m'rb'\u001b[0m\u001b[0;34m)\u001b[0m\u001b[0;34m)\u001b[0m\u001b[0;34m\u001b[0m\u001b[0;34m\u001b[0m\u001b[0m\n\u001b[0m\u001b[1;32m      8\u001b[0m    \u001b[0mU_final\u001b[0m \u001b[0;34m=\u001b[0m \u001b[0mnp\u001b[0m\u001b[0;34m.\u001b[0m\u001b[0mround\u001b[0m\u001b[0;34m(\u001b[0m\u001b[0mU_final\u001b[0m\u001b[0;34m,\u001b[0m\u001b[0mdecimals\u001b[0m\u001b[0;34m=\u001b[0m\u001b[0;36m4\u001b[0m\u001b[0;34m)\u001b[0m\u001b[0;34m\u001b[0m\u001b[0;34m\u001b[0m\u001b[0m\n\u001b[1;32m      9\u001b[0m    \u001b[0mU_record\u001b[0m \u001b[0;34m=\u001b[0m \u001b[0mpickle\u001b[0m\u001b[0;34m.\u001b[0m\u001b[0mload\u001b[0m\u001b[0;34m(\u001b[0m \u001b[0mopen\u001b[0m\u001b[0;34m(\u001b[0m\u001b[0mdata_path\u001b[0m \u001b[0;34m+\u001b[0m \u001b[0;34m'/2Drecord_%s.pkl'\u001b[0m\u001b[0;34m%\u001b[0m\u001b[0;34m(\u001b[0m\u001b[0mfilename\u001b[0m\u001b[0;34m(\u001b[0m\u001b[0mparIDdotssID\u001b[0m\u001b[0;34m)\u001b[0m\u001b[0;34m)\u001b[0m\u001b[0;34m,\u001b[0m \u001b[0;34m'rb'\u001b[0m\u001b[0;34m)\u001b[0m\u001b[0;34m)\u001b[0m\u001b[0;34m\u001b[0m\u001b[0;34m\u001b[0m\u001b[0m\n",
      "\u001b[0;31mFileNotFoundError\u001b[0m: [Errno 2] No such file or directory: '/rds/general/ephemeral/user/mo2016/ephemeral/Documents/modelling/growth/out/numerical/nogrowth/simulation/turinghill_variant0/2Dfinal_circuitturinghill_variant0_bc1_nogrowth_rate0.0125_ID12.0_L25_J500_T2000_N400000.pkl'"
     ]
    }
   ],
   "source": [
    "for parID,ssID in tqdm(parIDssID[0][:2]):\n",
    "    #model param dict\n",
    "    model_param_dict = {'parID':parID, 'circuit_n':circuit_n,'variant':variant, 'n_samples':n_samples}\n",
    "    parIDdotssID =f'{parID}.{ssID}'\n",
    "    #load simulations\n",
    "    U_final = pickle.load( open(data_path + '/2Dfinal_%s.pkl'%(filename(parIDdotssID)), 'rb'))\n",
    "    U_final = np.round(U_final,decimals=4)\n",
    "    U_record = pickle.load( open(data_path + '/2Drecord_%s.pkl'%(filename(parIDdotssID)), 'rb'))\n",
    "    peaks = countPeaks(U_final, showPlot1D=False)\n",
    "\n",
    "#show simulations\n",
    "    plot=False\n",
    "    if plot==True:\n",
    "        plot1D(U_final, plotPeaks=True, peaks=peaks)\n",
    "        plt.show()\n",
    "        surfpattern(U_record,L,dx,J,T, 'linear',  morphogen=0, rate=0, savefig=False,filename='',logResults=False,normalize=False)\n",
    "        plt.show()\n",
    "\n",
    "    #classify simulations\n",
    "    pattern_class, converged, flat = patternClassification_nogrowth_noRegularity(U_final, U_record)\n",
    "    print( pattern_class, converged, flat)\n",
    "\n",
    "    # insert classification into psql \n",
    "    insert_patternClassOutput_to_sql(simulation_param_dict,model_param_dict,ssID,pattern_class, 'pattern_class_nogrowth',allow_update=True)\n",
    "\n",
    "    # numerical_wavelength = find_wavelenght(U_final, x_grid,showplot1D=False)\n",
    "    # print('wvl', numerical_wavelength)\n",
    "\n",
    "    # convergence_time = find_convergence(U_record)\n",
    "    # print('time', convergence_time)\n",
    "\n",
    "    # insert_wavelength_convergence_to_sql(simulation_param_dict,model_param_dict,ssID, numerical_wavelength, convergence_time)"
   ]
  },
  {
   "cell_type": "code",
   "execution_count": 6,
   "metadata": {},
   "outputs": [
    {
     "name": "stderr",
     "output_type": "stream",
     "text": [
      "  0%|          | 0/1 [00:00<?, ?it/s]"
     ]
    },
    {
     "name": "stdout",
     "output_type": "stream",
     "text": [
      "Homogeneous True True\n"
     ]
    },
    {
     "name": "stderr",
     "output_type": "stream",
     "text": [
      "100%|██████████| 1/1 [00:00<00:00,  1.69it/s]"
     ]
    },
    {
     "name": "stdout",
     "output_type": "stream",
     "text": [
      "simulation_param_uuid:('132323a4-3f93-4287-aca9-d18e84848e37',)\n",
      "model_param_id:89_circuit:turinghill_variant:0_samples:2000000\n"
     ]
    },
    {
     "name": "stderr",
     "output_type": "stream",
     "text": [
      "\n"
     ]
    }
   ],
   "source": [
    "for parID,ssID in tqdm(parIDssID[0][:1]):\n",
    "    #model param dict\n",
    "    model_param_dict = {'parID':parID, 'circuit_n':circuit_n,'variant':variant, 'n_samples':n_samples}\n",
    "    parIDdotssID =f'{parID}.{ssID}'\n",
    "    #load simulations\n",
    "    U_final = pickle.load( open(data_path + '/2Dfinal_%s.pkl'%(filename(parIDdotssID)), 'rb'))\n",
    "    U_final = np.round(U_final,decimals=4)\n",
    "    U_record = pickle.load( open(data_path + '/2Drecord_%s.pkl'%(filename(parIDdotssID)), 'rb'))\n",
    "    peaks = countPeaks(U_final, showPlot1D=False)\n",
    "\n",
    "#show simulations\n",
    "    plot=False\n",
    "    if plot==True:\n",
    "        plot1D(U_final, plotPeaks=True, peaks=peaks)\n",
    "        plt.show()\n",
    "        surfpattern(U_record,L,dx,J,T, 'linear',  morphogen=0, rate=0, savefig=False,filename='',logResults=False,normalize=False)\n",
    "        plt.show()\n",
    "\n",
    "    #classify simulations\n",
    "    pattern_class, converged, flat = patternClassification_nogrowth_noRegularity(U_final, U_record)\n",
    "    print( pattern_class, converged, flat)\n",
    "\n",
    "    # insert classification into psql \n",
    "    insert_patternClassOutput_to_sql(simulation_param_dict,model_param_dict,ssID,pattern_class, 'pattern_class_nogrowth',allow_update=True)\n",
    "\n",
    "    # numerical_wavelength = find_wavelenght(U_final, x_grid,showplot1D=False)\n",
    "    # print('wvl', numerical_wavelength)\n",
    "\n",
    "    # convergence_time = find_convergence(U_record)\n",
    "    # print('time', convergence_time)\n",
    "\n",
    "    # insert_wavelength_convergence_to_sql(simulation_param_dict,model_param_dict,ssID, numerical_wavelength, convergence_time)"
   ]
  },
  {
   "cell_type": "code",
   "execution_count": 7,
   "metadata": {},
   "outputs": [
    {
     "name": "stderr",
     "output_type": "stream",
     "text": [
      "  0%|          | 0/1 [00:00<?, ?it/s]"
     ]
    },
    {
     "name": "stdout",
     "output_type": "stream",
     "text": [
      "Homogeneous True True\n"
     ]
    },
    {
     "name": "stderr",
     "output_type": "stream",
     "text": [
      "100%|██████████| 1/1 [00:00<00:00,  1.66it/s]"
     ]
    },
    {
     "name": "stdout",
     "output_type": "stream",
     "text": [
      "simulation_param_uuid:('132323a4-3f93-4287-aca9-d18e84848e37',)\n",
      "model_param_id:59_circuit:turinghill_variant:0_samples:2000000\n"
     ]
    },
    {
     "name": "stderr",
     "output_type": "stream",
     "text": [
      "\n"
     ]
    }
   ],
   "source": [
    "for parID,ssID in tqdm(parIDssID[0][2:3]):\n",
    "    #model param dict\n",
    "    model_param_dict = {'parID':parID, 'circuit_n':circuit_n,'variant':variant, 'n_samples':n_samples}\n",
    "    parIDdotssID =f'{parID}.{ssID}'\n",
    "    #load simulations\n",
    "    U_final = pickle.load( open(data_path + '/2Dfinal_%s.pkl'%(filename(parIDdotssID)), 'rb'))\n",
    "    U_final = np.round(U_final,decimals=4)\n",
    "    U_record = pickle.load( open(data_path + '/2Drecord_%s.pkl'%(filename(parIDdotssID)), 'rb'))\n",
    "    peaks = countPeaks(U_final, showPlot1D=False)\n",
    "\n",
    "#show simulations\n",
    "    plot=False\n",
    "    if plot==True:\n",
    "        plot1D(U_final, plotPeaks=True, peaks=peaks)\n",
    "        plt.show()\n",
    "        surfpattern(U_record,L,dx,J,T, 'linear',  morphogen=0, rate=0, savefig=False,filename='',logResults=False,normalize=False)\n",
    "        plt.show()\n",
    "\n",
    "    #classify simulations\n",
    "    pattern_class, converged, flat = patternClassification_nogrowth_noRegularity(U_final, U_record)\n",
    "    print( pattern_class, converged, flat)\n",
    "\n",
    "    # insert classification into psql \n",
    "    insert_patternClassOutput_to_sql(simulation_param_dict,model_param_dict,ssID,pattern_class, 'pattern_class_nogrowth',allow_update=True)\n",
    "\n",
    "    # numerical_wavelength = find_wavelenght(U_final, x_grid,showplot1D=False)\n",
    "    # print('wvl', numerical_wavelength)\n",
    "\n",
    "    # convergence_time = find_convergence(U_record)\n",
    "    # print('time', convergence_time)\n",
    "\n",
    "    # insert_wavelength_convergence_to_sql(simulation_param_dict,model_param_dict,ssID, numerical_wavelength, convergence_time)"
   ]
  },
  {
   "cell_type": "code",
   "execution_count": 8,
   "metadata": {},
   "outputs": [
    {
     "name": "stderr",
     "output_type": "stream",
     "text": [
      "  0%|          | 0/1 [00:00<?, ?it/s]\n"
     ]
    },
    {
     "ename": "FileNotFoundError",
     "evalue": "[Errno 2] No such file or directory: '/rds/general/ephemeral/user/mo2016/ephemeral/Documents/modelling/growth/out/numerical/nogrowth/simulation/turinghill_variant0/2Dfinal_circuitturinghill_variant0_bc1_nogrowth_rate0.0125_ID13.0_L25_J500_T2000_N400000.pkl'",
     "output_type": "error",
     "traceback": [
      "\u001b[0;31m---------------------------------------------------------------------------\u001b[0m",
      "\u001b[0;31mFileNotFoundError\u001b[0m                         Traceback (most recent call last)",
      "\u001b[0;32m~/Documents/modelling/growth/src/patternAnalysis/nogrowth_patternClassification_to_sql.py\u001b[0m in \u001b[0;36m<module>\u001b[0;34m\u001b[0m\n\u001b[1;32m      5\u001b[0m    \u001b[0mparIDdotssID\u001b[0m \u001b[0;34m=\u001b[0m\u001b[0;34mf'{parID}.{ssID}'\u001b[0m\u001b[0;34m\u001b[0m\u001b[0;34m\u001b[0m\u001b[0m\n\u001b[1;32m      6\u001b[0m    \u001b[0;31m#load simulations\u001b[0m\u001b[0;34m\u001b[0m\u001b[0;34m\u001b[0m\u001b[0;34m\u001b[0m\u001b[0m\n\u001b[0;32m----> 7\u001b[0;31m    \u001b[0mU_final\u001b[0m \u001b[0;34m=\u001b[0m \u001b[0mpickle\u001b[0m\u001b[0;34m.\u001b[0m\u001b[0mload\u001b[0m\u001b[0;34m(\u001b[0m \u001b[0mopen\u001b[0m\u001b[0;34m(\u001b[0m\u001b[0mdata_path\u001b[0m \u001b[0;34m+\u001b[0m \u001b[0;34m'/2Dfinal_%s.pkl'\u001b[0m\u001b[0;34m%\u001b[0m\u001b[0;34m(\u001b[0m\u001b[0mfilename\u001b[0m\u001b[0;34m(\u001b[0m\u001b[0mparIDdotssID\u001b[0m\u001b[0;34m)\u001b[0m\u001b[0;34m)\u001b[0m\u001b[0;34m,\u001b[0m \u001b[0;34m'rb'\u001b[0m\u001b[0;34m)\u001b[0m\u001b[0;34m)\u001b[0m\u001b[0;34m\u001b[0m\u001b[0;34m\u001b[0m\u001b[0m\n\u001b[0m\u001b[1;32m      8\u001b[0m    \u001b[0mU_final\u001b[0m \u001b[0;34m=\u001b[0m \u001b[0mnp\u001b[0m\u001b[0;34m.\u001b[0m\u001b[0mround\u001b[0m\u001b[0;34m(\u001b[0m\u001b[0mU_final\u001b[0m\u001b[0;34m,\u001b[0m\u001b[0mdecimals\u001b[0m\u001b[0;34m=\u001b[0m\u001b[0;36m4\u001b[0m\u001b[0;34m)\u001b[0m\u001b[0;34m\u001b[0m\u001b[0;34m\u001b[0m\u001b[0m\n\u001b[1;32m      9\u001b[0m    \u001b[0mU_record\u001b[0m \u001b[0;34m=\u001b[0m \u001b[0mpickle\u001b[0m\u001b[0;34m.\u001b[0m\u001b[0mload\u001b[0m\u001b[0;34m(\u001b[0m \u001b[0mopen\u001b[0m\u001b[0;34m(\u001b[0m\u001b[0mdata_path\u001b[0m \u001b[0;34m+\u001b[0m \u001b[0;34m'/2Drecord_%s.pkl'\u001b[0m\u001b[0;34m%\u001b[0m\u001b[0;34m(\u001b[0m\u001b[0mfilename\u001b[0m\u001b[0;34m(\u001b[0m\u001b[0mparIDdotssID\u001b[0m\u001b[0;34m)\u001b[0m\u001b[0;34m)\u001b[0m\u001b[0;34m,\u001b[0m \u001b[0;34m'rb'\u001b[0m\u001b[0;34m)\u001b[0m\u001b[0;34m)\u001b[0m\u001b[0;34m\u001b[0m\u001b[0;34m\u001b[0m\u001b[0m\n",
      "\u001b[0;31mFileNotFoundError\u001b[0m: [Errno 2] No such file or directory: '/rds/general/ephemeral/user/mo2016/ephemeral/Documents/modelling/growth/out/numerical/nogrowth/simulation/turinghill_variant0/2Dfinal_circuitturinghill_variant0_bc1_nogrowth_rate0.0125_ID13.0_L25_J500_T2000_N400000.pkl'"
     ]
    }
   ],
   "source": [
    "for parID,ssID in tqdm(parIDssID[0][3:4]):\n",
    "    #model param dict\n",
    "    model_param_dict = {'parID':parID, 'circuit_n':circuit_n,'variant':variant, 'n_samples':n_samples}\n",
    "    parIDdotssID =f'{parID}.{ssID}'\n",
    "    #load simulations\n",
    "    U_final = pickle.load( open(data_path + '/2Dfinal_%s.pkl'%(filename(parIDdotssID)), 'rb'))\n",
    "    U_final = np.round(U_final,decimals=4)\n",
    "    U_record = pickle.load( open(data_path + '/2Drecord_%s.pkl'%(filename(parIDdotssID)), 'rb'))\n",
    "    peaks = countPeaks(U_final, showPlot1D=False)\n",
    "\n",
    "#show simulations\n",
    "    plot=False\n",
    "    if plot==True:\n",
    "        plot1D(U_final, plotPeaks=True, peaks=peaks)\n",
    "        plt.show()\n",
    "        surfpattern(U_record,L,dx,J,T, 'linear',  morphogen=0, rate=0, savefig=False,filename='',logResults=False,normalize=False)\n",
    "        plt.show()\n",
    "\n",
    "    #classify simulations\n",
    "    pattern_class, converged, flat = patternClassification_nogrowth_noRegularity(U_final, U_record)\n",
    "    print( pattern_class, converged, flat)\n",
    "\n",
    "    # insert classification into psql \n",
    "    insert_patternClassOutput_to_sql(simulation_param_dict,model_param_dict,ssID,pattern_class, 'pattern_class_nogrowth',allow_update=True)\n",
    "\n",
    "    # numerical_wavelength = find_wavelenght(U_final, x_grid,showplot1D=False)\n",
    "    # print('wvl', numerical_wavelength)\n",
    "\n",
    "    # convergence_time = find_convergence(U_record)\n",
    "    # print('time', convergence_time)\n",
    "\n",
    "    # insert_wavelength_convergence_to_sql(simulation_param_dict,model_param_dict,ssID, numerical_wavelength, convergence_time)"
   ]
  },
  {
   "cell_type": "code",
   "execution_count": 9,
   "metadata": {},
   "outputs": [
    {
     "name": "stderr",
     "output_type": "stream",
     "text": [
      "  0%|          | 0/2 [00:00<?, ?it/s]"
     ]
    },
    {
     "name": "stdout",
     "output_type": "stream",
     "text": [
      "Homogeneous True True\n"
     ]
    },
    {
     "name": "stderr",
     "output_type": "stream",
     "text": [
      " 50%|█████     | 1/2 [00:01<00:01,  1.66s/it]"
     ]
    },
    {
     "name": "stdout",
     "output_type": "stream",
     "text": [
      "simulation_param_uuid:('132323a4-3f93-4287-aca9-d18e84848e37',)\n",
      "model_param_id:89_circuit:turinghill_variant:0_samples:2000000\n"
     ]
    },
    {
     "name": "stderr",
     "output_type": "stream",
     "text": [
      "\n"
     ]
    },
    {
     "ename": "FileNotFoundError",
     "evalue": "[Errno 2] No such file or directory: '/rds/general/ephemeral/user/mo2016/ephemeral/Documents/modelling/growth/out/numerical/nogrowth/simulation/turinghill_variant0/2Dfinal_circuitturinghill_variant0_bc1_nogrowth_rate0.0125_ID12.0_L25_J500_T2000_N400000.pkl'",
     "output_type": "error",
     "traceback": [
      "\u001b[0;31m---------------------------------------------------------------------------\u001b[0m",
      "\u001b[0;31mFileNotFoundError\u001b[0m                         Traceback (most recent call last)",
      "\u001b[0;32m~/Documents/modelling/growth/src/patternAnalysis/nogrowth_patternClassification_to_sql.py\u001b[0m in \u001b[0;36m<module>\u001b[0;34m\u001b[0m\n\u001b[1;32m      5\u001b[0m    \u001b[0mparIDdotssID\u001b[0m \u001b[0;34m=\u001b[0m\u001b[0;34mf'{parID}.{ssID}'\u001b[0m\u001b[0;34m\u001b[0m\u001b[0;34m\u001b[0m\u001b[0m\n\u001b[1;32m      6\u001b[0m    \u001b[0;31m#load simulations\u001b[0m\u001b[0;34m\u001b[0m\u001b[0;34m\u001b[0m\u001b[0;34m\u001b[0m\u001b[0m\n\u001b[0;32m----> 7\u001b[0;31m    \u001b[0mU_final\u001b[0m \u001b[0;34m=\u001b[0m \u001b[0mpickle\u001b[0m\u001b[0;34m.\u001b[0m\u001b[0mload\u001b[0m\u001b[0;34m(\u001b[0m \u001b[0mopen\u001b[0m\u001b[0;34m(\u001b[0m\u001b[0mdata_path\u001b[0m \u001b[0;34m+\u001b[0m \u001b[0;34m'/2Dfinal_%s.pkl'\u001b[0m\u001b[0;34m%\u001b[0m\u001b[0;34m(\u001b[0m\u001b[0mfilename\u001b[0m\u001b[0;34m(\u001b[0m\u001b[0mparIDdotssID\u001b[0m\u001b[0;34m)\u001b[0m\u001b[0;34m)\u001b[0m\u001b[0;34m,\u001b[0m \u001b[0;34m'rb'\u001b[0m\u001b[0;34m)\u001b[0m\u001b[0;34m)\u001b[0m\u001b[0;34m\u001b[0m\u001b[0;34m\u001b[0m\u001b[0m\n\u001b[0m\u001b[1;32m      8\u001b[0m    \u001b[0mU_final\u001b[0m \u001b[0;34m=\u001b[0m \u001b[0mnp\u001b[0m\u001b[0;34m.\u001b[0m\u001b[0mround\u001b[0m\u001b[0;34m(\u001b[0m\u001b[0mU_final\u001b[0m\u001b[0;34m,\u001b[0m\u001b[0mdecimals\u001b[0m\u001b[0;34m=\u001b[0m\u001b[0;36m4\u001b[0m\u001b[0;34m)\u001b[0m\u001b[0;34m\u001b[0m\u001b[0;34m\u001b[0m\u001b[0m\n\u001b[1;32m      9\u001b[0m    \u001b[0mU_record\u001b[0m \u001b[0;34m=\u001b[0m \u001b[0mpickle\u001b[0m\u001b[0;34m.\u001b[0m\u001b[0mload\u001b[0m\u001b[0;34m(\u001b[0m \u001b[0mopen\u001b[0m\u001b[0;34m(\u001b[0m\u001b[0mdata_path\u001b[0m \u001b[0;34m+\u001b[0m \u001b[0;34m'/2Drecord_%s.pkl'\u001b[0m\u001b[0;34m%\u001b[0m\u001b[0;34m(\u001b[0m\u001b[0mfilename\u001b[0m\u001b[0;34m(\u001b[0m\u001b[0mparIDdotssID\u001b[0m\u001b[0;34m)\u001b[0m\u001b[0;34m)\u001b[0m\u001b[0;34m,\u001b[0m \u001b[0;34m'rb'\u001b[0m\u001b[0;34m)\u001b[0m\u001b[0;34m)\u001b[0m\u001b[0;34m\u001b[0m\u001b[0;34m\u001b[0m\u001b[0m\n",
      "\u001b[0;31mFileNotFoundError\u001b[0m: [Errno 2] No such file or directory: '/rds/general/ephemeral/user/mo2016/ephemeral/Documents/modelling/growth/out/numerical/nogrowth/simulation/turinghill_variant0/2Dfinal_circuitturinghill_variant0_bc1_nogrowth_rate0.0125_ID12.0_L25_J500_T2000_N400000.pkl'"
     ]
    }
   ],
   "source": [
    "for parID,ssID in tqdm(parIDssID[0][:2]):\n",
    "    #model param dict\n",
    "    model_param_dict = {'parID':parID, 'circuit_n':circuit_n,'variant':variant, 'n_samples':n_samples}\n",
    "    parIDdotssID =f'{parID}.{ssID}'\n",
    "    #load simulations\n",
    "    U_final = pickle.load( open(data_path + '/2Dfinal_%s.pkl'%(filename(parIDdotssID)), 'rb'))\n",
    "    U_final = np.round(U_final,decimals=4)\n",
    "    U_record = pickle.load( open(data_path + '/2Drecord_%s.pkl'%(filename(parIDdotssID)), 'rb'))\n",
    "    peaks = countPeaks(U_final, showPlot1D=False)\n",
    "\n",
    "#show simulations\n",
    "    plot=False\n",
    "    if plot==True:\n",
    "        plot1D(U_final, plotPeaks=True, peaks=peaks)\n",
    "        plt.show()\n",
    "        surfpattern(U_record,L,dx,J,T, 'linear',  morphogen=0, rate=0, savefig=False,filename='',logResults=False,normalize=False)\n",
    "        plt.show()\n",
    "\n",
    "    #classify simulations\n",
    "    pattern_class, converged, flat = patternClassification_nogrowth_noRegularity(U_final, U_record)\n",
    "    print( pattern_class, converged, flat)\n",
    "\n",
    "    # insert classification into psql \n",
    "    insert_patternClassOutput_to_sql(simulation_param_dict,model_param_dict,ssID,pattern_class, 'pattern_class_nogrowth',allow_update=True)\n",
    "\n",
    "    # numerical_wavelength = find_wavelenght(U_final, x_grid,showplot1D=False)\n",
    "    # print('wvl', numerical_wavelength)\n",
    "\n",
    "    # convergence_time = find_convergence(U_record)\n",
    "    # print('time', convergence_time)\n",
    "\n",
    "    # insert_wavelength_convergence_to_sql(simulation_param_dict,model_param_dict,ssID, numerical_wavelength, convergence_time)"
   ]
  }
 ],
 "metadata": {
  "kernelspec": {
   "display_name": "env1",
   "language": "python",
   "name": "python3"
  },
  "language_info": {
   "name": "python",
   "version": "3.8.5"
  }
 },
 "nbformat": 4,
 "nbformat_minor": 2
}
