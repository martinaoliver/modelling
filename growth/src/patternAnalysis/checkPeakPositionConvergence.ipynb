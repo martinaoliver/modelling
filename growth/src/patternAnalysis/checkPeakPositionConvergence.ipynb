{
 "cells": [
  {
   "cell_type": "markdown",
   "metadata": {},
   "source": [
    "Define paths"
   ]
  },
  {
   "cell_type": "code",
   "execution_count": 2,
   "metadata": {},
   "outputs": [],
   "source": [
    "#############\n",
    "###paths#####\n",
    "#############\n",
    "import sys\n",
    "import os\n",
    "\n",
    "from importlib_metadata import distribution\n",
    "pwd = os.getcwd()\n",
    "modellingpath = pwd.rpartition(\"modelling\")[0] + pwd.rpartition(\"modelling\")[1] \n",
    "sys.path.append(modellingpath + '/lib')\n",
    "#############\n",
    "\n",
    "from numerical.cn_plot import plot1D, surfpattern\n",
    "# from numerical.countPeaksAnalysisFunctions import countPeaks\n",
    "# from numerical.fourierAnalysisFunctions import entropyFunction\n",
    "import pickle\n",
    "import numpy as np\n",
    "import matplotlib.pyplot as plt\n",
    "from scipy.signal import find_peaks\n",
    "\n",
    "\n",
    "\n",
    "\n",
    "import matplotlib.pyplot as plt\n",
    "import numpy as np\n",
    "from matplotlib import cm\n",
    "cmap = cm.Spectral_r\n",
    "from sklearn import preprocessing"
   ]
  },
  {
   "cell_type": "markdown",
   "metadata": {},
   "source": [
    "Define variables and upload data for figures"
   ]
  },
  {
   "cell_type": "code",
   "execution_count": 4,
   "metadata": {},
   "outputs": [],
   "source": [
    "circuit_n='turinghill'\n",
    "variant= 0\n",
    "n_species=2\n",
    "mechanism='nogrowth'\n",
    "# parID=41018#[41018,30997]\n",
    "# parID=41018#[41018,30997]\n",
    "L=50; x_gridpoints=5; J=L*x_gridpoints;I=J \n",
    "T=500; t_gridpoints = 25; N=T*t_gridpoints #Number of timepoints\n",
    "# filename='%s_variant%s_%s_ID%r_L%r_J%r_T%r_N%r'%(circuit_n,variant,mechanism,parID,L,J,T,N)\n",
    "filename = lambda parID: '%s_variant%s_%s_ID%r_L%r_J%r_T%r_N%r'%(circuit_n,variant,mechanism,parID,L,J,T,N)\n",
    "# U = pickle.load( open(modelingpath + '/growth/out/numerical/%s/%s/data/2Dfinal_%s.pkl'%(circuit_n,mechanism,filename), 'rb'))\n"
   ]
  },
  {
   "cell_type": "markdown",
   "metadata": {},
   "source": [
    "Plot solution U with peaks"
   ]
  },
  {
   "cell_type": "code",
   "execution_count": null,
   "metadata": {},
   "outputs": [],
   "source": [
    "def countPeaks(U, showplot1D=True):\n",
    "    peaks = [0,0]\n",
    "    peaks[0], _ = find_peaks(U[0], prominence=0.1)\n",
    "    peaks[1], _ = find_peaks(U[1], prominence=0.1)\n",
    "    print(peaks)\n",
    "    plot1D(U,peaks=peaks)\n",
    "    \n",
    "    return peaks\n",
    "    \n"
   ]
  },
  {
   "cell_type": "code",
   "execution_count": 8,
   "metadata": {},
   "outputs": [],
   "source": [
    "\n",
    "\n",
    "\n",
    "def varPeakDist(U, showplot1D=True,printVar=True):\n",
    "    peaks = countPeaks(U, showplot1D=showplot1D)\n",
    "    #calculate distance between peaks\n",
    "    peak0 = peaks[0]\n",
    "    #calculate distance between peaks in peak0\n",
    "    var=[0,0]\n",
    "    for count,peak in enumerate(peaks):\n",
    "        if len(peak)>1:\n",
    "            peak_dist = [np.linalg.norm(peak[i]-peak[i+1]) for i in range(len(peak)-1)]\n",
    "            peak_dist = peak_dist/np.sum(peak_dist)\n",
    "            var[count] = np.var(peak_dist)\n",
    "        else:\n",
    "            var[count] = 1\n",
    "    if printVar==True:\n",
    "        print(var)\n",
    "\n",
    "    return var"
   ]
  },
  {
   "cell_type": "code",
   "execution_count": 40,
   "metadata": {},
   "outputs": [
    {
     "name": "stdout",
     "output_type": "stream",
     "text": [
      "constant number of peaks\n",
      "constant position peaks\n"
     ]
    }
   ],
   "source": [
    "parID=41018\n",
    "U_final = pickle.load( open(modellingpath + '/growth/out/numerical/%s/%s/data/2Dfinal_%s.pkl'%(circuit_n,mechanism,filename(parID)), 'rb'))\n",
    "U_record = pickle.load( open(modellingpath + '/growth/out/numerical/%s/%s/data/2Drecord_%s.pkl'%(circuit_n,mechanism,filename(parID)), 'rb'))\n",
    "n_peaks=[]\n",
    "position_peaks = []\n",
    "for count,UX_snapshot in enumerate(U_record[0][-20:]):\n",
    "    peaks, _ = find_peaks(UX_snapshot, prominence=0.1)\n",
    "    n_peaks.append(len(peaks))\n",
    "    position_peaks.append(peaks)\n",
    "\n",
    "if all(x==n_peaks[0] for x in n_peaks):\n",
    "    print('constant number of peaks')\n",
    "\n",
    "if np.all([x==position_peaks[0] for x in position_peaks]):\n",
    "    print('constant position peaks')\n"
   ]
  },
  {
   "cell_type": "code",
   "execution_count": 25,
   "metadata": {},
   "outputs": [
    {
     "ename": "TypeError",
     "evalue": "surfpattern() got an unexpected keyword argument 'L'",
     "output_type": "error",
     "traceback": [
      "\u001b[0;31m---------------------------------------------------------------------------\u001b[0m",
      "\u001b[0;31mTypeError\u001b[0m                                 Traceback (most recent call last)",
      "\u001b[0;32m<ipython-input-25-c94d6ae7069b>\u001b[0m in \u001b[0;36m<module>\u001b[0;34m\u001b[0m\n\u001b[1;32m      4\u001b[0m \u001b[0mreduced_t_grid\u001b[0m \u001b[0;34m=\u001b[0m \u001b[0mnp\u001b[0m\u001b[0;34m.\u001b[0m\u001b[0marange\u001b[0m\u001b[0;34m(\u001b[0m\u001b[0;36m0\u001b[0m\u001b[0;34m,\u001b[0m\u001b[0mT\u001b[0m\u001b[0;34m,\u001b[0m\u001b[0;36m10\u001b[0m\u001b[0;34m)\u001b[0m\u001b[0;34m\u001b[0m\u001b[0;34m\u001b[0m\u001b[0m\n\u001b[1;32m      5\u001b[0m \u001b[0;34m\u001b[0m\u001b[0m\n\u001b[0;32m----> 6\u001b[0;31m \u001b[0msurfpattern\u001b[0m\u001b[0;34m(\u001b[0m\u001b[0mU_record\u001b[0m\u001b[0;34m,\u001b[0m \u001b[0mgrids\u001b[0m\u001b[0;34m=\u001b[0m\u001b[0;34m[\u001b[0m\u001b[0mx_grid\u001b[0m\u001b[0;34m,\u001b[0m\u001b[0mreduced_t_grid\u001b[0m\u001b[0;34m]\u001b[0m\u001b[0;34m,\u001b[0m \u001b[0mgrowth\u001b[0m\u001b[0;34m=\u001b[0m\u001b[0;34m'linear'\u001b[0m\u001b[0;34m,\u001b[0m\u001b[0mmorphogen\u001b[0m\u001b[0;34m=\u001b[0m\u001b[0;36m1\u001b[0m\u001b[0;34m,\u001b[0m \u001b[0mrate\u001b[0m\u001b[0;34m=\u001b[0m\u001b[0;36m0\u001b[0m\u001b[0;34m,\u001b[0m \u001b[0msavefig\u001b[0m\u001b[0;34m=\u001b[0m\u001b[0;32mFalse\u001b[0m\u001b[0;34m,\u001b[0m\u001b[0mfilename\u001b[0m\u001b[0;34m=\u001b[0m\u001b[0;34m''\u001b[0m\u001b[0;34m,\u001b[0m\u001b[0mlogResults\u001b[0m\u001b[0;34m=\u001b[0m\u001b[0;32mFalse\u001b[0m\u001b[0;34m,\u001b[0m\u001b[0mnormalize\u001b[0m\u001b[0;34m=\u001b[0m\u001b[0;32mFalse\u001b[0m\u001b[0;34m,\u001b[0m\u001b[0mL\u001b[0m\u001b[0;34m=\u001b[0m\u001b[0mL\u001b[0m\u001b[0;34m,\u001b[0m\u001b[0mJ\u001b[0m\u001b[0;34m=\u001b[0m\u001b[0mJ\u001b[0m\u001b[0;34m,\u001b[0m\u001b[0mT\u001b[0m\u001b[0;34m=\u001b[0m\u001b[0mT\u001b[0m\u001b[0;34m,\u001b[0m\u001b[0mrecord_every_x_hours\u001b[0m\u001b[0;34m=\u001b[0m\u001b[0;36m10\u001b[0m\u001b[0;34m)\u001b[0m\u001b[0;34m\u001b[0m\u001b[0;34m\u001b[0m\u001b[0m\n\u001b[0m\u001b[1;32m      7\u001b[0m \u001b[0;34m\u001b[0m\u001b[0m\n",
      "\u001b[0;31mTypeError\u001b[0m: surfpattern() got an unexpected keyword argument 'L'"
     ]
    }
   ],
   "source": [
    "dx = float(L)/float(J-1)\n",
    "\n",
    "x_grid = np.array([j*dx for j in range(J)])\n",
    "reduced_t_grid = np.arange(0,T,10) \n",
    "\n",
    "surfpattern(U_record, grids=[x_grid,reduced_t_grid], growth='linear',morphogen=1, rate=0, savefig=False,filename='',logResults=False,normalize=False,L=L,J=J,T=T,record_every_x_hours=10)\n",
    "\n"
   ]
  },
  {
   "cell_type": "code",
   "execution_count": 9,
   "metadata": {},
   "outputs": [
    {
     "name": "stdout",
     "output_type": "stream",
     "text": [
      "[array([], dtype=int64), array([], dtype=int64)]\n",
      "morphogen = both\n",
      "show\n"
     ]
    },
    {
     "data": {
      "image/png": "[encoded data removed]",
      "text/plain": [
       "<Figure size 432x288 with 2 Axes>"
      ]
     },
     "metadata": {
      "needs_background": "light"
     },
     "output_type": "display_data"
    },
    {
     "name": "stdout",
     "output_type": "stream",
     "text": [
      "[1, 1]\n"
     ]
    }
   ],
   "source": [
    "\n",
    "parID=1\n",
    "U = pickle.load( open(modellingpath + '/growth/out/numerical/%s/%s/data/2Dfinal_%s.pkl'%(circuit_n,mechanism,filename(parID)), 'rb'))\n",
    "# entropy = entropyPeakDist(U,plotHist=False)\n",
    "var=varPeakDist(U)\n"
   ]
  },
  {
   "cell_type": "code",
   "execution_count": null,
   "metadata": {},
   "outputs": [],
   "source": []
  },
  {
   "cell_type": "code",
   "execution_count": 8,
   "metadata": {},
   "outputs": [
    {
     "data": {
      "image/png": "[encoded data removed]",
      "text/plain": [
       "<Figure size 432x288 with 1 Axes>"
      ]
     },
     "metadata": {
      "needs_background": "light"
     },
     "output_type": "display_data"
    },
    {
     "name": "stdout",
     "output_type": "stream",
     "text": [
      "[1, 1]\n"
     ]
    }
   ],
   "source": [
    "parID=30997\n",
    "U = pickle.load( open(modellingpath + '/growth/out/numerical/%s/%s/data/2Dfinal_%s.pkl'%(circuit_n,mechanism,filename(parID)), 'rb'))\n",
    "var=varPeakDist(U)\n"
   ]
  },
  {
   "cell_type": "code",
   "execution_count": 9,
   "metadata": {},
   "outputs": [
    {
     "data": {
      "image/png": "[encoded data removed]",
      "text/plain": [
       "<Figure size 432x288 with 1 Axes>"
      ]
     },
     "metadata": {
      "needs_background": "light"
     },
     "output_type": "display_data"
    },
    {
     "name": "stdout",
     "output_type": "stream",
     "text": [
      "[1, 1]\n"
     ]
    }
   ],
   "source": [
    "parID=1\n",
    "U = pickle.load( open(modellingpath + '/growth/out/numerical/%s/%s/data/2Dfinal_%s.pkl'%(circuit_n,mechanism,filename(parID)), 'rb'))\n",
    "var=varPeakDist(U)\n"
   ]
  }
 ],
 "metadata": {
  "kernelspec": {
   "display_name": "Python 3.8.5 ('env1')",
   "language": "python",
   "name": "python3"
  },
  "language_info": {
   "codemirror_mode": {
    "name": "ipython",
    "version": 3
   },
   "file_extension": ".py",
   "mimetype": "text/x-python",
   "name": "python",
   "nbconvert_exporter": "python",
   "pygments_lexer": "ipython3",
   "version": "3.8.5"
  },
  "orig_nbformat": 4,
  "vscode": {
   "interpreter": {
    "hash": "eba2ca3eebf14a075b0bd4beb0803a359b7e8903a32f3fd8955f8b26355cf32f"
   }
  }
 },
 "nbformat": 4,
 "nbformat_minor": 2
}
