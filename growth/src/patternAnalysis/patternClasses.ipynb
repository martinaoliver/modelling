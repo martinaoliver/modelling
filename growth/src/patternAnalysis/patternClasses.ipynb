{
 "cells": [
  {
   "cell_type": "markdown",
   "metadata": {},
   "source": [
    "Imports"
   ]
  },
  {
   "cell_type": "code",
   "execution_count": 1,
   "metadata": {},
   "outputs": [],
   "source": [
    "#############\n",
    "###paths#####\n",
    "#############\n",
    "import sys\n",
    "import os\n",
    "\n",
    "from importlib_metadata import distribution\n",
    "pwd = os.getcwd()\n",
    "modellingpath = pwd.rpartition(\"modelling\")[0] + pwd.rpartition(\"modelling\")[1] \n",
    "modellingephemeral = '/rds/general/ephemeral/user/mo2016/ephemeral/Documents/modelling'\n",
    "\n",
    "sys.path.append(modellingpath + '/lib')\n",
    "#############\n",
    "\n",
    "from numerical.cn_plot import plot1D, surfpattern\n",
    "from numerical.countPeaksAnalysisFunctions import countPeaks, varPeakDistFunction\n",
    "from numerical.generalFunctions import round_it\n",
    "from numerical.fourierAnalysisFunctions import psEntropyFunction, plotFourier\n",
    "\n",
    "\n",
    "from analytical.linear_stability_analysis import detailed_turing_analysis_dict\n",
    "from randomfunctions import plot_all_dispersion, plot_highest_dispersion\n",
    "\n",
    "from scipy.signal import find_peaks\n",
    "import pickle\n",
    "import numpy as np\n",
    "import matplotlib.pyplot as plt\n",
    "from tqdm import tqdm\n",
    "\n"
   ]
  },
  {
   "cell_type": "markdown",
   "metadata": {},
   "source": [
    "System definitions"
   ]
  },
  {
   "cell_type": "code",
   "execution_count": 2,
   "metadata": {},
   "outputs": [],
   "source": [
    "circuit_n='turinghill'\n",
    "variant= 0\n",
    "n_species=2\n",
    "mechanism='nogrowth'\n",
    "L=50; dx =1; J = int(L/dx)\n",
    "T =500; dt = 0.005; N = int(T/dt)\n",
    "boundaryCoeff=2;rate=0.1\n",
    "\n",
    "filename= lambda mechanism, parID: 'circuit%s_variant%s_bc%s_%s_rate%s_ID%s_L%r_J%r_T%r_N%r'%(circuit_n,variant,boundaryCoeff, mechanism,rate,parID,L,J,T,N)\n",
    "n_param_sets=2000000\n",
    "lsa_df= pickle.load( open(modellingpath + '/growth/out/analytical/lsa_dataframes/lsa_df_%s_variant%r_%rparametersets.pkl'%(circuit_n,variant,n_param_sets), \"rb\"))\n",
    "# single_lsa_df =  lsa_df.xs(0, level=1)\n",
    "# parID_list = pickle.load(open( modellingpath + '/growth/out/numerical/%s/%s/data/parID_list_%s.pkl'%(circuit_n,mechanism,filename('x')), \"rb\" ) )\n",
    "# parID_list = [int(parID) for parID in parID_list]\n",
    "# instability_df= pickle.load( open(modellingpath + '/growth/out/analytical/instability/instability_df_%s_variant%r_%rparametersets.pkl'%(circuit_n,variant,n_param_sets), \"rb\"))\n",
    "# singleSsInstability_df = instability_df.loc[instability_df['ss_n']==1]\n",
    "# singleSsInstability_df\n",
    "pattern_df = pickle.load(open( modellingpath + '/growth/out/patternAnalysis/%s/%s/pattern/pattern_df_%s.pkl'%(circuit_n,mechanism,filename(mechanism,'x')), 'rb'))\n"
   ]
  },
  {
   "cell_type": "markdown",
   "metadata": {},
   "source": [
    "Functions"
   ]
  },
  {
   "cell_type": "code",
   "execution_count": 3,
   "metadata": {},
   "outputs": [],
   "source": [
    "def parID_display(parIDss, L,J,T,round=False,crop=100,ss_n=0,df = pattern_df):\n",
    "    #data\n",
    "    U_final = pickle.load( open(modellingpath + '/growth/out/numerical/%s/%s/simulation/2Dfinal_%s.pkl'%(circuit_n,mechanism,filename(mechanism,parIDss)), 'rb'))\n",
    "    plot1D(U_final,round=round)\n",
    "\n",
    "    plt.subplots(figsize=(10,4))\n",
    "\n",
    "    #dispersion\n",
    "    plt.subplot(121)\n",
    "    parID_dispersion(parIDss,crop)\n",
    "    #convergence\n",
    "    plt.subplot(122)\n",
    "\n",
    "    parID_surfpattern(parIDss,L,J,T)\n",
    "    plt.tight_layout()\n",
    "    plt.show()\n",
    "def parID_surfpattern(parIDss,L,J,T,record_every_x_hours = 10):\n",
    "    #data \n",
    "    U_record = pickle.load( open(modellingephemeral + '/growth/out/numerical/%s/%s/simulation/2Drecord_%s.pkl'%(circuit_n,mechanism,filename(mechanism,parIDss)), 'rb'))    \n",
    "    #grids\n",
    "    dx = float(L)/float(J-1)\n",
    "    x_grid = np.array([j*dx for j in range(J)])\n",
    "    reduced_t_grid = np.arange(0,T,record_every_x_hours) \n",
    "\n",
    "    #plot\n",
    "    surfpattern(U_record, [x_grid, reduced_t_grid], 'linear',  morphogen=1, rate=0, savefig=False,filename='',logResults=False,normalize=False)\n",
    "\n",
    "\n",
    "def parID_dispersion(parIDss,crop, df = pattern_df):\n",
    "    #dispersion\n",
    "    parID,ss = [int(x) for x in parIDss.split('.')]\n",
    "\n",
    "    par_dict = df.loc[(parID,ss)].to_dict() #converts a dataframe row into a dictionary outputing a dictionary for a specific parameter set\n",
    "    out = detailed_turing_analysis_dict(par_dict, circuit_n, n_species)\n",
    "    plot_highest_dispersion(out[-3][ss-1],crop=crop)\n"
   ]
  },
  {
   "cell_type": "markdown",
   "metadata": {},
   "source": [
    "Value counts and df definitions"
   ]
  },
  {
   "cell_type": "code",
   "execution_count": 4,
   "metadata": {},
   "outputs": [
    {
     "name": "stdout",
     "output_type": "stream",
     "text": [
      "\n",
      " simple stable           2338152\n",
      "simple unstable          166960\n",
      "complex unstable          95381\n",
      "hopf                      61890\n",
      "turing I hopf              1047\n",
      "turing I oscillatory         29\n",
      "no steady state              10\n",
      "turing I                      2\n",
      "Name: system_class, dtype: int64\n",
      "\n",
      " Homogeneous                     79933\n",
      "Non-Stationary heterogeneity    49178\n",
      "Temporal Oscillator             43339\n",
      "Stationary spatial wave          5726\n",
      "Name: pattern, dtype: int64\n"
     ]
    }
   ],
   "source": [
    "print('\\n',pattern_df['system_class'].value_counts())\n",
    "print('\\n',pattern_df['pattern'].value_counts())\n"
   ]
  },
  {
   "cell_type": "code",
   "execution_count": 9,
   "metadata": {},
   "outputs": [
    {
     "data": {
      "text/html": [
       "<div>\n",
       "<style scoped>\n",
       "    .dataframe tbody tr th:only-of-type {\n",
       "        vertical-align: middle;\n",
       "    }\n",
       "\n",
       "    .dataframe tbody tr th {\n",
       "        vertical-align: top;\n",
       "    }\n",
       "\n",
       "    .dataframe thead th {\n",
       "        text-align: right;\n",
       "    }\n",
       "</style>\n",
       "<table border=\"1\" class=\"dataframe\">\n",
       "  <thead>\n",
       "    <tr style=\"text-align: right;\">\n",
       "      <th></th>\n",
       "      <th>ba</th>\n",
       "      <th>bb</th>\n",
       "      <th>Va</th>\n",
       "      <th>Vb</th>\n",
       "      <th>kaa</th>\n",
       "      <th>kba</th>\n",
       "      <th>kab</th>\n",
       "      <th>kbb</th>\n",
       "      <th>mua</th>\n",
       "      <th>mub</th>\n",
       "      <th>d_B</th>\n",
       "      <th>d_A</th>\n",
       "      <th>n</th>\n",
       "      <th>ss_n</th>\n",
       "      <th>ss_list</th>\n",
       "      <th>ss_class</th>\n",
       "      <th>system_class</th>\n",
       "      <th>maxeig</th>\n",
       "      <th>complex_dispersion</th>\n",
       "      <th>pattern</th>\n",
       "    </tr>\n",
       "  </thead>\n",
       "  <tbody>\n",
       "    <tr>\n",
       "      <th>0</th>\n",
       "      <td>0.01</td>\n",
       "      <td>0.01</td>\n",
       "      <td>11.59167</td>\n",
       "      <td>29.264505</td>\n",
       "      <td>0.245661</td>\n",
       "      <td>0.201507</td>\n",
       "      <td>0.445943</td>\n",
       "      <td>132.168508</td>\n",
       "      <td>12.565971</td>\n",
       "      <td>19.345495</td>\n",
       "      <td>0.121964</td>\n",
       "      <td>1.0</td>\n",
       "      <td>2.0</td>\n",
       "      <td>3.0</td>\n",
       "      <td>[0.0008057215913616723, 0.0005218537668570272]</td>\n",
       "      <td>stable point</td>\n",
       "      <td>simple stable</td>\n",
       "      <td>-12.256460+0.000000j</td>\n",
       "      <td>False</td>\n",
       "      <td>Homogeneous</td>\n",
       "    </tr>\n",
       "    <tr>\n",
       "      <th>1</th>\n",
       "      <td>0.01</td>\n",
       "      <td>0.01</td>\n",
       "      <td>11.59167</td>\n",
       "      <td>29.264505</td>\n",
       "      <td>0.245661</td>\n",
       "      <td>0.201507</td>\n",
       "      <td>0.445943</td>\n",
       "      <td>132.168508</td>\n",
       "      <td>12.565971</td>\n",
       "      <td>19.345495</td>\n",
       "      <td>0.121964</td>\n",
       "      <td>1.0</td>\n",
       "      <td>2.0</td>\n",
       "      <td>3.0</td>\n",
       "      <td>[0.15901736026926516, 0.17116751164067429]</td>\n",
       "      <td>stable spiral</td>\n",
       "      <td>simple stable</td>\n",
       "      <td>-7.144555+14.484990j</td>\n",
       "      <td>True</td>\n",
       "      <td>Homogeneous</td>\n",
       "    </tr>\n",
       "    <tr>\n",
       "      <th>2</th>\n",
       "      <td>0.01</td>\n",
       "      <td>0.01</td>\n",
       "      <td>11.59167</td>\n",
       "      <td>29.264505</td>\n",
       "      <td>0.245661</td>\n",
       "      <td>0.201507</td>\n",
       "      <td>0.445943</td>\n",
       "      <td>132.168508</td>\n",
       "      <td>12.565971</td>\n",
       "      <td>19.345495</td>\n",
       "      <td>0.121964</td>\n",
       "      <td>1.0</td>\n",
       "      <td>2.0</td>\n",
       "      <td>3.0</td>\n",
       "      <td>[0.07328995812593224, 0.040301590825694955]</td>\n",
       "      <td>unstable point</td>\n",
       "      <td>complex unstable</td>\n",
       "      <td>9.007178+0.000000j</td>\n",
       "      <td>True</td>\n",
       "      <td>Stationary spatial wave</td>\n",
       "    </tr>\n",
       "  </tbody>\n",
       "</table>\n",
       "</div>"
      ],
      "text/plain": [
       "     ba    bb        Va         Vb       kaa       kba       kab         kbb  \\\n",
       "0  0.01  0.01  11.59167  29.264505  0.245661  0.201507  0.445943  132.168508   \n",
       "1  0.01  0.01  11.59167  29.264505  0.245661  0.201507  0.445943  132.168508   \n",
       "2  0.01  0.01  11.59167  29.264505  0.245661  0.201507  0.445943  132.168508   \n",
       "\n",
       "         mua        mub       d_B  d_A    n  ss_n  \\\n",
       "0  12.565971  19.345495  0.121964  1.0  2.0   3.0   \n",
       "1  12.565971  19.345495  0.121964  1.0  2.0   3.0   \n",
       "2  12.565971  19.345495  0.121964  1.0  2.0   3.0   \n",
       "\n",
       "                                          ss_list        ss_class  \\\n",
       "0  [0.0008057215913616723, 0.0005218537668570272]    stable point   \n",
       "1      [0.15901736026926516, 0.17116751164067429]   stable spiral   \n",
       "2     [0.07328995812593224, 0.040301590825694955]  unstable point   \n",
       "\n",
       "       system_class               maxeig complex_dispersion  \\\n",
       "0     simple stable -12.256460+0.000000j              False   \n",
       "1     simple stable -7.144555+14.484990j               True   \n",
       "2  complex unstable   9.007178+0.000000j               True   \n",
       "\n",
       "                   pattern  \n",
       "0              Homogeneous  \n",
       "1              Homogeneous  \n",
       "2  Stationary spatial wave  "
      ]
     },
     "execution_count": 9,
     "metadata": {},
     "output_type": "execute_result"
    }
   ],
   "source": [
    "pattern_df.loc[1482]"
   ]
  },
  {
   "cell_type": "markdown",
   "metadata": {},
   "source": [
    "## Stationary spatial wave"
   ]
  },
  {
   "cell_type": "code",
   "execution_count": 6,
   "metadata": {},
   "outputs": [
    {
     "name": "stdout",
     "output_type": "stream",
     "text": [
      "simple stable           5382\n",
      "simple unstable          114\n",
      "hopf                     104\n",
      "complex unstable          83\n",
      "turing I hopf             39\n",
      "turing I oscillatory       3\n",
      "turing I                   1\n",
      "Name: system_class, dtype: int64\n"
     ]
    }
   ],
   "source": [
    "df1 = pattern_df.loc[(pattern_df['pattern']=='Stationary spatial wave') ]\n",
    "print(df1['system_class'].value_counts())\n"
   ]
  },
  {
   "cell_type": "code",
   "execution_count": null,
   "metadata": {},
   "outputs": [],
   "source": [
    "for parIDindex in df1.index[:100]:\n",
    "    \n",
    "    \n",
    "    par_dict = df1.loc[parIDindex].to_dict() #converts a dataframe row into a dictionary outputing a dictionary for a specific parameter set\n",
    "    print(par_dict['system_class'])\n",
    "    print(par_dict['ss_n'])    \n",
    "    # print(par_dict['pattern'])\n",
    "\n",
    "    # print(par_dict['d_A'],par_dict['d_B'])\n",
    "\n",
    "    # #load records \n",
    "    parIDss = f'{parIDindex[0]}.{parIDindex[1]}'\n",
    "    print(parIDss)\n",
    "    U_final = pickle.load( open(modellingpath + '/growth/out/numerical/%s/%s/simulation/2Dfinal_%s.pkl'%(circuit_n,mechanism,filename(mechanism,parIDss)), 'rb'))\n",
    "    U_record = pickle.load( open(modellingephemeral + '/growth/out/numerical/%s/%s/simulation/2Drecord_%s.pkl'%(circuit_n,mechanism,filename(mechanism,parIDss)), 'rb'))    \n",
    "\n",
    "    # U_final = pickle.load( open(modellingpath + '/growth/out/numerical/%s/%s/simulation/2Dfinal_%s.pkl'%(circuit_n,mechanism,filename(mechanism,parIDss)), 'rb'))\n",
    "    # U_record = pickle.load( open(modellingephemeral + '/growth/out/numerical/%s/%s/simulation/2Drecord_%s.pkl'%(circuit_n,mechanism,filename(mechanism,parIDss)), 'rb'))\n",
    "\n",
    "\n",
    "\n",
    "    parID_display(parIDss,L,J,T, crop=100)\n",
    "\n",
    "    #check if flat with diff function\n",
    "    diffUfinal = np.round(np.diff(U_final),decimals=3)\n",
    "    if np.all(diffUfinal==0)==True:\n",
    "        flat=True\n",
    "    else:\n",
    "        flat=False\n",
    "\n",
    "    #check if convergence with diff function\n",
    "    diffUrecord = np.round(np.diff(U_record[1][-10:], axis=0),decimals=6)\n",
    "    \n",
    "    if np.all(diffUrecord==0) ==True:\n",
    "        converged=True\n",
    "    else:\n",
    "        converged=False\n",
    "\n",
    "\n",
    "    if flat==True and converged==True:\n",
    "        pattern='Homogeneous'\n",
    "    if flat==True and converged==False:\n",
    "        pattern='Temporal Oscillator'\n",
    "    if flat==False and converged==True:\n",
    "        # pattern = 'Stationary periodic wave'\n",
    "        pattern = 'Stationary spatial wave'\n",
    "    if flat==False and converged==False:\n",
    "        pattern = 'Non-Stationary heterogeneity'"
   ]
  },
  {
   "cell_type": "code",
   "execution_count": 12,
   "metadata": {},
   "outputs": [
    {
     "name": "stdout",
     "output_type": "stream",
     "text": [
      "simple stable\n",
      "1.0\n",
      "25.0\n"
     ]
    },
    {
     "data": {
      "image/png": "[encoded data removed]",
      "text/plain": [
       "<Figure size 432x288 with 2 Axes>"
      ]
     },
     "metadata": {
      "needs_background": "light"
     },
     "output_type": "display_data"
    },
    {
     "name": "stderr",
     "output_type": "stream",
     "text": [
      "<ipython-input-3-274884f1c816>:9: MatplotlibDeprecationWarning: Auto-removal of overlapping axes is deprecated since 3.6 and will be removed two minor releases later; explicitly call ax.remove() as needed.\n",
      "  plt.subplot(121)\n"
     ]
    },
    {
     "data": {
      "image/png": "[encoded data removed]",
      "text/plain": [
       "<Figure size 720x288 with 3 Axes>"
      ]
     },
     "metadata": {
      "needs_background": "light"
     },
     "output_type": "display_data"
    },
    {
     "name": "stdout",
     "output_type": "stream",
     "text": [
      "[[1.20929912e-03 2.41402323e-03 3.60961416e-03 4.79154263e-03\n",
      "  5.95532382e-03 7.09653248e-03 8.21081804e-03 9.29391912e-03\n",
      "  1.03416773e-02 1.13500541e-02 1.23151432e-02 1.32331855e-02\n",
      "  1.41005826e-02 1.49139116e-02 1.56699378e-02 1.63656274e-02\n",
      "  1.69981624e-02 1.75649509e-02 1.80636392e-02 1.84921233e-02\n",
      "  1.88485588e-02 1.91313705e-02 1.93392633e-02 1.94712274e-02\n",
      "  1.95265468e-02 1.95048046e-02 1.94058873e-02 1.92299908e-02\n",
      "  1.89776200e-02 1.86495906e-02 1.82470294e-02 1.77713718e-02\n",
      "  1.72243586e-02 1.66080308e-02 1.59247256e-02 1.51770663e-02\n",
      "  1.43679541e-02 1.35005571e-02 1.25782984e-02 1.16048426e-02\n",
      "  1.05840809e-02 9.52011498e-03 8.41723957e-03 7.27992390e-03\n",
      "  6.11279284e-03 4.92060606e-03 3.70823631e-03 2.48064812e-03\n",
      "  1.24287622e-03]\n",
      " [6.25277607e-13 1.22213351e-12 2.18847163e-12 2.07478479e-12\n",
      "  3.02691205e-12 4.46220838e-12 4.74642547e-12 4.74642547e-12\n",
      "  5.41433565e-12 5.13011855e-12 6.08224582e-12 6.30961949e-12\n",
      "  7.38964445e-12 7.58859642e-12 7.58859642e-12 8.02913291e-12\n",
      "  9.20863386e-12 9.29389898e-12 8.42703685e-12 9.19442300e-12\n",
      "  9.56390522e-12 9.72022463e-12 1.00470743e-11 9.93338745e-12\n",
      "  1.13828946e-11 1.24202870e-11 1.31308298e-11 1.42392764e-11\n",
      "  1.32729383e-11 1.12123644e-11 9.26547727e-12 9.02389274e-12\n",
      "  8.75388650e-12 8.44124770e-12 8.07176548e-12 7.68807240e-12\n",
      "  7.31859018e-12 6.84963197e-12 6.39488462e-12 5.68434189e-12\n",
      "  5.57065505e-12 4.84590146e-12 4.27746727e-12 3.69482223e-12\n",
      "  3.09796633e-12 2.50111043e-12 2.25952590e-12 1.09423581e-12\n",
      "  2.75690581e-12]]\n",
      "simple stable\n",
      "1.0\n",
      "26.0\n"
     ]
    },
    {
     "data": {
      "image/png": "[encoded data removed]",
      "text/plain": [
       "<Figure size 432x288 with 2 Axes>"
      ]
     },
     "metadata": {
      "needs_background": "light"
     },
     "output_type": "display_data"
    },
    {
     "data": {
      "image/png": "[encoded data removed]",
      "text/plain": [
       "<Figure size 720x288 with 3 Axes>"
      ]
     },
     "metadata": {
      "needs_background": "light"
     },
     "output_type": "display_data"
    },
    {
     "name": "stdout",
     "output_type": "stream",
     "text": [
      "[[7.40050808e-04 1.47730214e-03 2.20896440e-03 2.93226576e-03\n",
      "  3.64446174e-03 4.34284434e-03 5.02475123e-03 5.68757427e-03\n",
      "  6.32876928e-03 6.94586447e-03 7.53646935e-03 8.09828344e-03\n",
      "  8.62910481e-03 9.12683847e-03 9.58950477e-03 1.00152478e-02\n",
      "  1.04023426e-02 1.07492030e-02 1.10543881e-02 1.13166106e-02\n",
      "  1.15347419e-02 1.17078182e-02 1.18350466e-02 1.19158086e-02\n",
      "  1.19496664e-02 1.19363649e-02 1.18758348e-02 1.17681956e-02\n",
      "  1.16137558e-02 1.14130150e-02 1.11666627e-02 1.08755770e-02\n",
      "  1.05408235e-02 1.01636516e-02 9.74549060e-03 9.28794634e-03\n",
      "  8.79279423e-03 8.26197299e-03 7.69757752e-03 7.10185042e-03\n",
      "  6.47717302e-03 5.82605541e-03 5.15112611e-03 4.45512009e-03\n",
      "  3.74086721e-03 3.01128075e-03 2.26934274e-03 1.51809126e-03\n",
      "  7.60607498e-04]\n",
      " [6.11066753e-13 1.21458399e-12 1.83097981e-12 2.43227660e-12\n",
      "  3.02247116e-12 3.60111940e-12 4.16688906e-12 4.71489514e-12\n",
      "  5.24602584e-12 5.75450798e-12 6.24877927e-12 6.71596112e-12\n",
      "  7.15694171e-12 7.56772423e-12 7.94697641e-12 8.30313596e-12\n",
      "  8.62687699e-12 8.91065000e-12 9.16200449e-12 9.38538136e-12\n",
      "  9.55946433e-12 9.70912239e-12 9.80859838e-12 9.88276128e-12\n",
      "  9.90274529e-12 9.89963667e-12 9.84190507e-12 9.75441949e-12\n",
      "  9.63273905e-12 9.46043244e-12 9.25881594e-12 9.01856367e-12\n",
      "  8.73612294e-12 8.42481640e-12 8.07487410e-12 7.70405961e-12\n",
      "  7.29016847e-12 6.84963197e-12 6.37889741e-12 5.88951110e-12\n",
      "  5.36948264e-12 4.83124651e-12 4.26636504e-12 3.69082542e-12\n",
      "  3.10462767e-12 2.49267273e-12 1.88737914e-12 1.25943700e-12\n",
      "  6.31494856e-13]]\n",
      "Stationary spatial wave ConvergedTrue flatFalse\n"
     ]
    }
   ],
   "source": [
    "for parIDindex in df1.index[:2]:\n",
    "    \n",
    "    \n",
    "    par_dict = df1.loc[parIDindex].to_dict() #converts a dataframe row into a dictionary outputing a dictionary for a specific parameter set\n",
    "    print(par_dict['system_class'])\n",
    "    print(par_dict['ss_n'])    \n",
    "    # print(par_dict['pattern'])\n",
    "\n",
    "    # print(par_dict['d_A'],par_dict['d_B'])\n",
    "\n",
    "    # #load records \n",
    "    parIDss = f'{parIDindex[0]}.{parIDindex[1]}'\n",
    "    print(parIDss)\n",
    "    U_final = pickle.load( open(modellingpath + '/growth/out/numerical/%s/%s/simulation/2Dfinal_%s.pkl'%(circuit_n,mechanism,filename(mechanism,parIDss)), 'rb'))\n",
    "    U_record = pickle.load( open(modellingephemeral + '/growth/out/numerical/%s/%s/simulation/2Drecord_%s.pkl'%(circuit_n,mechanism,filename(mechanism,parIDss)), 'rb'))    \n",
    "\n",
    "    # U_final = pickle.load( open(modellingpath + '/growth/out/numerical/%s/%s/simulation/2Dfinal_%s.pkl'%(circuit_n,mechanism,filename(mechanism,parIDss)), 'rb'))\n",
    "    # U_record = pickle.load( open(modellingephemeral + '/growth/out/numerical/%s/%s/simulation/2Drecord_%s.pkl'%(circuit_n,mechanism,filename(mechanism,parIDss)), 'rb'))\n",
    "\n",
    "\n",
    "\n",
    "    parID_display(parIDss,L,J,T, crop=100)\n",
    "    print(np.round(np.diff(U_final),decimals=3))\n",
    "    #check if flat with diff function\n",
    "    diffUfinal = np.round(np.diff(U_final),decimals=3)\n",
    "    if np.all(diffUfinal==0)==True:\n",
    "        flat=True\n",
    "    else:\n",
    "        flat=False\n",
    "\n",
    "    #check if convergence with diff function\n",
    "    diffUrecord = np.round(np.diff(U_record[1][-10:], axis=0),decimals=6)\n",
    "    \n",
    "    if np.all(diffUrecord==0) ==True:\n",
    "        converged=True\n",
    "    else:\n",
    "        converged=False\n",
    "\n",
    "\n",
    "    if flat==True and converged==True:\n",
    "        pattern='Homogeneous'\n",
    "    if flat==True and converged==False:\n",
    "        pattern='Temporal Oscillator'\n",
    "    if flat==False and converged==True:\n",
    "        # pattern = 'Stationary periodic wave'\n",
    "        pattern = 'Stationary spatial wave'\n",
    "    if flat==False and converged==False:\n",
    "        pattern = 'Non-Stationary heterogeneity'\n",
    "\n",
    "print(pattern, f'Converged{converged}', f'flat{flat}')"
   ]
  },
  {
   "cell_type": "markdown",
   "metadata": {},
   "source": [
    "## Turing I Hopf"
   ]
  },
  {
   "cell_type": "code",
   "execution_count": null,
   "metadata": {},
   "outputs": [],
   "source": [
    "df1 = pattern_df.loc[(pattern_df['system_class']=='turing I hopf') &  (pattern_df['pattern']=='Non-Stationary heterogeneity')]\n",
    "print(pattern_df.loc[pattern_df['system_class']=='turing I hopf']['pattern'].value_counts())\n"
   ]
  },
  {
   "cell_type": "code",
   "execution_count": null,
   "metadata": {},
   "outputs": [],
   "source": []
  },
  {
   "cell_type": "code",
   "execution_count": null,
   "metadata": {},
   "outputs": [],
   "source": [
    "for parID in df1.index:\n",
    "    if pattern_df.loc[parID]['ss_n']==1:\n",
    "        print(parID)\n",
    "        # print(pattern_df.loc[parID])\n",
    "        # print(pattern_df.loc[parID]['ss_n'])\n",
    "        #load records \n",
    "        U_final = pickle.load( open(modellingpath + '/growth/out/numerical/%s/%s/data/2Dfinal_%s.pkl'%(circuit_n,mechanism,filename(parID)), 'rb'))\n",
    "        U_record = pickle.load( open(modellingpath + '/growth/out/numerical/%s/%s/data/2Drecord_%s.pkl'%(circuit_n,mechanism,filename(parID)), 'rb'))\n",
    "\n",
    "\n",
    "        parID_display(parID,L,J,T, crop=100)\n",
    "\n",
    "        #check if flat with diff function\n",
    "        diffUfinal = np.round(np.diff(U_final),decimals=3)\n",
    "        if np.all(diffUfinal==0)==True:\n",
    "            flat=True\n",
    "        else:\n",
    "            flat=False\n",
    "\n",
    "        #check if convergence with diff function\n",
    "        diffUrecord = np.round(np.diff(U_record[1][-10:], axis=0),decimals=6)\n",
    "        \n",
    "        if np.all(diffUrecord==0) ==True:\n",
    "            converged=True\n",
    "        else:\n",
    "            converged=False\n",
    "        time_vector = [U_record[0][x][10] for x in range(len(U_record[0]))]\n",
    "        # autocorr(np.array(time_vector))\n",
    "        print(f'flat: {flat}, converged: {converged}')\n",
    "        print('\\n')\n"
   ]
  },
  {
   "cell_type": "markdown",
   "metadata": {},
   "source": [
    "## Hopf "
   ]
  },
  {
   "cell_type": "code",
   "execution_count": null,
   "metadata": {},
   "outputs": [],
   "source": [
    "df1 = pattern_df.loc[(pattern_df['system_class']=='hopf') &  (pattern_df['pattern']=='Non-Stationary heterogeneity')]\n",
    "print(pattern_df.loc[pattern_df['system_class']=='hopf']['pattern'].value_counts())\n"
   ]
  },
  {
   "cell_type": "code",
   "execution_count": null,
   "metadata": {},
   "outputs": [],
   "source": [
    "for parID in df1.index[:30]:\n",
    "    if pattern_df.loc[parID]['ss_n']==1:\n",
    "        print(parID)\n",
    "        # print(pattern_df.loc[parID])\n",
    "        # print(pattern_df.loc[parID]['ss_n'])\n",
    "        #load records \n",
    "        U_final = pickle.load( open(modellingpath + '/growth/out/numerical/%s/%s/data/2Dfinal_%s.pkl'%(circuit_n,mechanism,filename(parID)), 'rb'))\n",
    "        U_record = pickle.load( open(modellingpath + '/growth/out/numerical/%s/%s/data/2Drecord_%s.pkl'%(circuit_n,mechanism,filename(parID)), 'rb'))\n",
    "\n",
    "\n",
    "        parID_display(parID,L,J,T, crop=400)\n",
    "\n",
    "        #check if flat with diff function\n",
    "        diffUfinal = np.round(np.diff(U_final),decimals=3)\n",
    "        if np.all(diffUfinal==0)==True:\n",
    "            flat=True\n",
    "        else:\n",
    "            flat=False\n",
    "\n",
    "        #check if convergence with diff function\n",
    "        diffUrecord = np.round(np.diff(U_record[1][-10:], axis=0),decimals=6)\n",
    "        \n",
    "        if np.all(diffUrecord==0) ==True:\n",
    "            converged=True\n",
    "        else:\n",
    "            converged=False\n",
    "        time_vector = [U_record[0][x][10] for x in range(len(U_record[0]))]\n",
    "        # autocorr(np.array(time_vector))\n",
    "        print(f'flat: {flat}, converged: {converged}')\n",
    "        print('\\n')\n"
   ]
  },
  {
   "cell_type": "code",
   "execution_count": null,
   "metadata": {},
   "outputs": [],
   "source": [
    "\n",
    "for parID in parID_list[20:30]:\n",
    "    print(parID)\n",
    "    #load records \n",
    "    U_final = pickle.load( open(modellingpath + '/growth/out/numerical/%s/%s/data/2Dfinal_%s.pkl'%(circuit_n,mechanism,filename(parID)), 'rb'))\n",
    "    U_record = pickle.load( open(modellingpath + '/growth/out/numerical/%s/%s/data/2Drecord_%s.pkl'%(circuit_n,mechanism,filename(parID)), 'rb'))\n",
    "\n",
    "\n",
    "    # parID_display(parID,L,J,T, crop=100)\n",
    "\n",
    "    #check if flat with diff function\n",
    "    diffUfinal = np.round(np.diff(U_final),decimals=3)\n",
    "    if np.all(diffUfinal==0)==True:\n",
    "        flat=True\n",
    "    else:\n",
    "        flat=False\n",
    "\n",
    "    #check if convergence with diff function\n",
    "    diffUrecord = np.round(np.diff(U_record[1][-10:], axis=0),decimals=3)\n",
    "    if np.all(diffUrecord==0) ==True:\n",
    "        converged=True\n",
    "    else:\n",
    "        converged=False\n"
   ]
  },
  {
   "cell_type": "code",
   "execution_count": null,
   "metadata": {},
   "outputs": [],
   "source": [
    "parID_display(8648,L,J,T, crop=3)"
   ]
  },
  {
   "cell_type": "code",
   "execution_count": null,
   "metadata": {},
   "outputs": [],
   "source": [
    "def autocorr(x):\n",
    "    n = x.size\n",
    "    norm = (x - np.mean(x))\n",
    "    result = np.correlate(norm, norm, mode='same')\n",
    "    acorr = result[n//2 + 1:] / (x.var() * np.arange(n-1, n//2, -1))\n",
    "    lag = np.abs(acorr).argmax() + 1\n",
    "    r = acorr[lag-1]        \n",
    "    if np.abs(r) > 0.5:\n",
    "      print('Appears to be autocorrelated with r = {}, lag = {}'. format(r, lag))\n",
    "    else: \n",
    "      print('Appears to be not autocorrelated')\n",
    "    return r, lag"
   ]
  },
  {
   "cell_type": "code",
   "execution_count": null,
   "metadata": {},
   "outputs": [],
   "source": [
    "parID=2932\n",
    "U_record = pickle.load( open(modellingpath + '/growth/out/numerical/%s/%s/data/2Drecord_%s.pkl'%(circuit_n,mechanism,filename(parID)), 'rb'))\n",
    "time_vector = [U_record[0][x][10] for x in range(len(U_record[0]))]\n",
    "autocorr(np.array(time_vector))\n",
    "parID_display(parID,L,J,T, crop=20)\n"
   ]
  },
  {
   "cell_type": "code",
   "execution_count": null,
   "metadata": {},
   "outputs": [],
   "source": [
    "parID=2886\n",
    "U_record = pickle.load( open(modellingpath + '/growth/out/numerical/%s/%s/data/2Drecord_%s.pkl'%(circuit_n,mechanism,filename(parID)), 'rb'))\n",
    "time_vector = [U_record[0][x][10] for x in range(len(U_record[0]))]\n",
    "autocorr(np.array(time_vector))\n",
    "parID_display(parID,L,J,T, crop=20)\n"
   ]
  },
  {
   "cell_type": "code",
   "execution_count": null,
   "metadata": {},
   "outputs": [],
   "source": [
    "parID=193560\n",
    "U_record = pickle.load( open(modellingpath + '/growth/out/numerical/%s/%s/data/2Drecord_%s.pkl'%(circuit_n,mechanism,filename(parID)), 'rb'))\n",
    "time_vector = [U_record[0][x][10] for x in range(len(U_record[0]))]\n",
    "autocorr(np.array(time_vector))\n",
    "parID_display(parID,L,J,T, crop=20)\n"
   ]
  },
  {
   "cell_type": "code",
   "execution_count": null,
   "metadata": {},
   "outputs": [],
   "source": [
    "parID=12019\n",
    "print(parID)\n",
    "print(pattern_df.loc[parID]['ss_n'])\n",
    "#load records \n",
    "U_final = pickle.load( open(modellingpath + '/growth/out/numerical/%s/%s/data/2Dfinal_%s.pkl'%(circuit_n,mechanism,filename(parID)), 'rb'))\n",
    "U_record = pickle.load( open(modellingpath + '/growth/out/numerical/%s/%s/data/2Drecord_%s.pkl'%(circuit_n,mechanism,filename(parID)), 'rb'))\n",
    "\n",
    "\n",
    "parID_display(parID,L,J,T, crop=100)\n",
    "\n",
    "#check if flat with diff function\n",
    "diffUfinal = np.round(np.diff(U_final),decimals=3)\n",
    "if np.all(diffUfinal==0)==True:\n",
    "    flat=True\n",
    "else:\n",
    "    flat=False\n",
    "\n",
    "#check if convergence with diff function\n",
    "diffUrecord = np.round(np.diff(U_record[1][-50:], axis=0),decimals=6)\n",
    "print(diffUrecord)\n",
    "if np.all(diffUrecord==0) ==True:\n",
    "    converged=True\n",
    "else:\n",
    "    converged=False\n",
    "time_vector = [U_record[0][x][10] for x in range(len(U_record[0]))]\n",
    "plt.plot(time_vector)\n",
    "autocorr(np.array(time_vector))\n",
    "print(f'flat: {flat}, converged: {converged}')\n",
    "print('\\n')"
   ]
  }
 ],
 "metadata": {
  "kernelspec": {
   "display_name": "Python 3.8.5 ('env1')",
   "language": "python",
   "name": "python3"
  },
  "language_info": {
   "codemirror_mode": {
    "name": "ipython",
    "version": 3
   },
   "file_extension": ".py",
   "mimetype": "text/x-python",
   "name": "python",
   "nbconvert_exporter": "python",
   "pygments_lexer": "ipython3",
   "version": "3.8.5"
  },
  "orig_nbformat": 4,
  "vscode": {
   "interpreter": {
    "hash": "eba2ca3eebf14a075b0bd4beb0803a359b7e8903a32f3fd8955f8b26355cf32f"
   }
  }
 },
 "nbformat": 4,
 "nbformat_minor": 2
}
