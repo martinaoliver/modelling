{
 "cells": [
  {
   "cell_type": "code",
   "execution_count": null,
   "metadata": {},
   "outputs": [],
   "source": [
    "###paths#####\n",
    "#############\n",
    "import sys\n",
    "import os\n",
    "\n",
    "pwd = os.getcwd()\n",
    "modellingpath = pwd.rpartition(\"modelling\")[0] + pwd.rpartition(\"modelling\")[1] \n",
    "sys.path.append(modellingpath + '/lib')\n",
    "#############\n",
    "# \n",
    "import seaborn as sns\n",
    "import matplotlib.pyplot as plt\n",
    "import numpy as np\n",
    "import pickle\n"
   ]
  },
  {
   "cell_type": "code",
   "execution_count": null,
   "metadata": {},
   "outputs": [],
   "source": [
    "\n",
    "cf_matrix_scholes = np.array([[1,0],[0,1]])\n",
    "ax = sns.heatmap(cf_matrix_scholes, annot=False, cmap='Blues',cbar=False)\n",
    "\n",
    "ax.set_xlabel('\\nNumerical solution')\n",
    "ax.set_ylabel('Dispersion relation\\n');\n",
    "\n",
    "## Ticket labels - List must be in alphabetical order\n",
    "ax.yaxis.set_ticklabels(['Turing I','Else'])\n",
    "ax.xaxis.set_ticklabels(['Pattern','No Pattern'])\n",
    "\n",
    "## Display the visualization of the Confusion Matrix.\n",
    "plt.tight_layout()\n",
    "plt.savefig('cf_scholes')\n",
    "print('Dispersion relation information')\n",
    "plt.show()\n"
   ]
  },
  {
   "cell_type": "code",
   "execution_count": null,
   "metadata": {},
   "outputs": [],
   "source": [
    "\n",
    "\n",
    "cf_matrix_marti = np.array([[1,0,0,0,0],[0,0,0,0,1],[1,0,1,0,0],[0,1,1,0,0],[0,0,0,1,0],[0,0,0,0,1]])\n",
    "ax = sns.heatmap(cf_matrix_marti, annot=True, cmap='Blues',cbar=False)\n",
    "\n",
    "ax.set_xlabel('\\nNumerical solution')\n",
    "ax.set_ylabel('Dispersion relation\\n');\n",
    "\n",
    "## Ticket labels - List must be in alphabetical order\n",
    "ax.yaxis.set_ticklabels(['Turing I','Turing II', 'Turing I Hopf', 'Hopf instability', 'Complex with no instability', 'Real with no instability'], rotation=0)\n",
    "ax.xaxis.set_ticklabels(['Stationary spatial wave','Oscillatory spatial wave', 'Temportal oscillations', 'Chaotic inhomogeneities', 'Homogeneous'], rotation=90)\n",
    "## Display the visualization of the Confusion Matrix.\n",
    "plt.tight_layout()\n",
    "# plt.savefig('cf_marti')\n",
    "print('Numerical information')\n",
    "plt.show()\n",
    "\n",
    "\n"
   ]
  },
  {
   "cell_type": "code",
   "execution_count": null,
   "metadata": {},
   "outputs": [],
   "source": [
    "circuit_n='turinghill'\n",
    "variant= 0\n",
    "n_species=2\n",
    "mechanism='nogrowth'\n",
    "L=50; dx =1; J = int(L/dx)\n",
    "T =3000; dt = 0.05; N = int(T/dt)\n",
    "boundaryCoeff=2;rate=0.01\n",
    "filename= lambda mechanism, parID: 'circuit%s_variant%s_bc%s_%s_rate%s_ID%s_L%r_J%r_T%r_N%r'%(circuit_n,variant,boundaryCoeff, mechanism,rate,parID,L,J,T,N)\n",
    "n_param_sets=2000000\n",
    "pattern_df = pickle.load(open( modellingpath + '/growth/out/patternAnalysis/%s/%s/pattern/pattern_df_%s.pkl'%(circuit_n,mechanism,filename(mechanism,'x')), 'rb'))\n"
   ]
  },
  {
   "cell_type": "code",
   "execution_count": null,
   "metadata": {},
   "outputs": [],
   "source": []
  },
  {
   "cell_type": "code",
   "execution_count": null,
   "metadata": {},
   "outputs": [],
   "source": [
    "pattern_df['pattern'].value_counts(normalize=True)\n",
    "# pattern_df['pattern'].unique()"
   ]
  },
  {
   "cell_type": "code",
   "execution_count": null,
   "metadata": {},
   "outputs": [],
   "source": [
    "pattern_list = ['Temporal Oscillator', 'Non-Stationary heterogeneity','Homogeneous', 'Stationary spatial wave']\n",
    "# for pattern in lsa_df['pattern'].unique() :\n",
    "for pattern in pattern_list :\n",
    "    print(pattern)\n",
    "    print(pattern_df[pattern_df['pattern']==pattern]['system_class'].value_counts())\n",
    "    print('-------------------------------------------')\n"
   ]
  }
 ],
 "metadata": {
  "kernelspec": {
   "display_name": "Python 3.8.0 64-bit",
   "language": "python",
   "name": "python3"
  },
  "language_info": {
   "codemirror_mode": {
    "name": "ipython",
    "version": 3
   },
   "file_extension": ".py",
   "mimetype": "text/x-python",
   "name": "python",
   "nbconvert_exporter": "python",
   "pygments_lexer": "ipython3",
   "version": "3.8.0"
  },
  "orig_nbformat": 4,
  "vscode": {
   "interpreter": {
    "hash": "949777d72b0d2535278d3dc13498b2535136f6dfe0678499012e853ee9abcab1"
   }
  }
 },
 "nbformat": 4,
 "nbformat_minor": 2
}
