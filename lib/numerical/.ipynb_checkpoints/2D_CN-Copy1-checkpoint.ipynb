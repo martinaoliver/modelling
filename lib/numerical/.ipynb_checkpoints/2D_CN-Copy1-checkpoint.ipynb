{
 "cells": [
  {
   "cell_type": "code",
   "execution_count": 1,
   "metadata": {},
   "outputs": [],
   "source": [
    "import numpy as np\n",
    "from scipy.sparse import spdiags, eye\n",
    "from scipy import signal\n",
    "import matplotlib.pyplot as plt\n",
    "import scipy\n",
    "import timeit\n",
    "from scipy.linalg import solve, lu_factor, lu_solve\n",
    "\n",
    "\n"
   ]
  },
  {
   "cell_type": "markdown",
   "metadata": {},
   "source": [
    "###### Define spatial and temporal variables"
   ]
  },
  {
   "cell_type": "code",
   "execution_count": 18,
   "metadata": {},
   "outputs": [],
   "source": [
    "D=1\n",
    "\n",
    "#space\n",
    "Lx=1;Ly=1 #Diffusion constant; Domain length\n",
    "Jx = 10; Jy=Jx\n",
    "dx = float(Lx/Jx-1); dy = float(Ly/Jy-1)\n",
    "\n",
    "#time\n",
    "T = 10\n",
    "N = 1000\n",
    "dt = float(T/N-1)\n",
    "\n",
    "\n",
    "dt=(dx*dy)/(2*D); #borderline stability of FTCS scheme \n",
    "alpha=dt*D/(dx*dy);\n",
    "\n",
    "\n",
    "\n",
    "nx=Jx"
   ]
  },
  {
   "cell_type": "markdown",
   "metadata": {},
   "source": [
    "###### Natural ordering: Boundary conditions"
   ]
  },
  {
   "cell_type": "code",
   "execution_count": 19,
   "metadata": {},
   "outputs": [
    {
     "name": "stdout",
     "output_type": "stream",
     "text": [
      "[(9, 0), (9, 1), (9, 2), (9, 3), (9, 4), (9, 5), (9, 6), (9, 7), (9, 8), (9, 9)] [9, 19, 29, 39, 49, 59, 69, 79, 89, 99]\n",
      "[(0, 0), (0, 1), (0, 2), (0, 3), (0, 4), (0, 5), (0, 6), (0, 7), (0, 8), (0, 9)] [0, 10, 20, 30, 40, 50, 60, 70, 80, 90]\n",
      "[(0, 0), (1, 0), (2, 0), (3, 0), (4, 0), (5, 0), (6, 0), (7, 0), (8, 0), (9, 0)] [0, 1, 2, 3, 4, 5, 6, 7, 8, 9]\n",
      "[(0, 9), (1, 9), (2, 9), (3, 9), (4, 9), (5, 9), (6, 9), (7, 9), (8, 9), (9, 9)] [90, 91, 92, 93, 94, 95, 96, 97, 98, 99]\n"
     ]
    }
   ],
   "source": [
    "def no(coordinates,n=Jx):\n",
    "    i=coordinates[0]\n",
    "    j = coordinates[1]\n",
    "    k = i + (j)*n\n",
    "    return k\n",
    "\n",
    "top  = [(0,j) for j in range(Jx)]\n",
    "bottom  = [(Jx-1,j) for j in range(Jx)]\n",
    "left =  [(i,0) for i in range(Jy)]\n",
    "right  = [(i,Jy-1) for i in range(Jy)]\n",
    "top_no = [no(top_cell) for top_cell in top]\n",
    "bottom_no = [no(bottom_cell) for bottom_cell in bottom]\n",
    "left_no = [no(left_cell) for left_cell in left]\n",
    "right_no = [no(right_cell) for right_cell in right]\n",
    "\n",
    "print(bottom, bottom_no)\n",
    "print(top, top_no)\n",
    "print(left, left_no)\n",
    "print(right, right_no)\n",
    "\n"
   ]
  },
  {
   "cell_type": "code",
   "execution_count": 20,
   "metadata": {},
   "outputs": [
    {
     "data": {
      "text/plain": [
       "array([[1., 0., 0., 0., 0., 0., 0., 0., 0., 0.],\n",
       "       [1., 2., 1., 0., 0., 0., 0., 0., 0., 0.],\n",
       "       [0., 1., 2., 1., 0., 0., 0., 0., 0., 0.],\n",
       "       [0., 0., 1., 2., 1., 0., 0., 0., 0., 0.],\n",
       "       [0., 0., 0., 1., 2., 1., 0., 0., 0., 0.],\n",
       "       [0., 0., 0., 0., 1., 2., 1., 0., 0., 0.],\n",
       "       [0., 0., 0., 0., 0., 1., 2., 1., 0., 0.],\n",
       "       [0., 0., 0., 0., 0., 0., 1., 2., 1., 0.],\n",
       "       [0., 0., 0., 0., 0., 0., 0., 1., 2., 1.],\n",
       "       [0., 0., 0., 0., 0., 0., 0., 0., 0., 1.]])"
      ]
     },
     "execution_count": 20,
     "metadata": {},
     "output_type": "execute_result"
    }
   ],
   "source": [
    "ncells = Jx*Jy\n",
    "ncells = Jx\n",
    "\n",
    "data = np.array([np.ones(ncells), 2*np.ones(ncells), np.ones(ncells)])\n",
    "diags = np.array([-1, 0, 1])\n",
    "I = eye(ncells).toarray()\n",
    "A = spdiags(data, diags,nx,nx).toarray()\n",
    "A[[0,nx-1],:] = I[[0,nx-1],:]\n",
    "A"
   ]
  },
  {
   "cell_type": "code",
   "execution_count": 21,
   "metadata": {},
   "outputs": [
    {
     "data": {
      "text/plain": [
       "array([4.00652974e-03, 2.18749112e-01, 4.39369336e+00, 3.24652467e+01,\n",
       "       8.82496903e+01, 8.82496903e+01, 3.24652467e+01, 4.39369336e+00,\n",
       "       2.18749112e-01, 4.00652974e-03])"
      ]
     },
     "execution_count": 21,
     "metadata": {},
     "output_type": "execute_result"
    },
    {
     "data": {
      "image/png": "[encoded data removed]",
      "text/plain": [
       "<Figure size 432x288 with 1 Axes>"
      ]
     },
     "metadata": {
      "needs_background": "light"
     },
     "output_type": "display_data"
    }
   ],
   "source": [
    "sigma=Lx/1; #stedv of the gaussian - sharp gaussian as initial condition\n",
    "u = signal.gaussian(nx,sigma)*100\n",
    "u=u.transpose()\n",
    "plt.plot(np.linspace(0,nx,nx),u)# xlabel('$x$','Interpreter','latex','FontSize',14);\n",
    "plt.title('initial condition')\n",
    "plt.xlim(0,10)\n",
    "u1=u\n",
    "u"
   ]
  },
  {
   "cell_type": "code",
   "execution_count": 22,
   "metadata": {},
   "outputs": [
    {
     "name": "stdout",
     "output_type": "stream",
     "text": [
      "[[1. 0. 0. 0. 0. 0. 0. 0. 0. 0.]\n",
      " [1. 2. 1. 0. 0. 0. 0. 0. 0. 0.]\n",
      " [0. 1. 2. 1. 0. 0. 0. 0. 0. 0.]\n",
      " [0. 0. 1. 2. 1. 0. 0. 0. 0. 0.]\n",
      " [0. 0. 0. 1. 2. 1. 0. 0. 0. 0.]\n",
      " [0. 0. 0. 0. 1. 2. 1. 0. 0. 0.]\n",
      " [0. 0. 0. 0. 0. 1. 2. 1. 0. 0.]\n",
      " [0. 0. 0. 0. 0. 0. 1. 2. 1. 0.]\n",
      " [0. 0. 0. 0. 0. 0. 0. 1. 2. 1.]\n",
      " [0. 0. 0. 0. 0. 0. 0. 0. 0. 1.]] [  0.           2.41759906  20.73569129  78.78693855 148.60715876\n",
      " 148.60715876  78.78693855  20.73569129   2.41759906   0.        ] [4.00652974e-03 2.18749112e-01 4.39369336e+00 3.24652467e+01\n",
      " 8.82496903e+01 8.82496903e+01 3.24652467e+01 4.39369336e+00\n",
      " 2.18749112e-01 4.00652974e-03]\n",
      "0.5\n"
     ]
    }
   ],
   "source": [
    "b = np.array([0]+[[alpha*u[n-1] + 2*(1-alpha)*u[n] + alpha*u[n+1]][0] for n in range (1,Jx-1)]+[0])\n",
    "print(A, b,u)\n",
    "print(alpha)"
   ]
  },
  {
   "cell_type": "code",
   "execution_count": 23,
   "metadata": {},
   "outputs": [
    {
     "name": "stdout",
     "output_type": "stream",
     "text": [
      "-0.0029990820000023177\n"
     ]
    },
    {
     "data": {
      "image/png": "[encoded data removed]",
      "text/plain": [
       "<Figure size 432x288 with 1 Axes>"
      ]
     },
     "metadata": {
      "needs_background": "light"
     },
     "output_type": "display_data"
    }
   ],
   "source": [
    "from scipy.linalg import lu_factor, lu_solve\n",
    "\n",
    "luA, piv = lu_factor(A)\n",
    "start = timeit.timeit()\n",
    "for m in range(N):\n",
    "    plt.plot(np.linspace(0,nx,nx),u,label=m)\n",
    "    b = np.array([0]+[[alpha*u[n-1] + 2*(1-alpha)*u[n] + alpha*u[n+1]][0] for n in range (1,Jx-1)]+[0])\n",
    "\n",
    "    u = solve(A, b)\n",
    "#     u = scipy.linalg.lu_solve((luA,piv),b)\n",
    "end = timeit.timeit()\n",
    "# plt.legend()\n",
    "np.linspace(0,nx,nx)\n",
    "plt.xlim(0,10)\n",
    "print(end - start)"
   ]
  },
  {
   "cell_type": "code",
   "execution_count": 44,
   "metadata": {},
   "outputs": [
    {
     "ename": "NameError",
     "evalue": "name 'b' is not defined",
     "output_type": "error",
     "traceback": [
      "\u001b[0;31m---------------------------------------------------------------------------\u001b[0m",
      "\u001b[0;31mNameError\u001b[0m                                 Traceback (most recent call last)",
      "\u001b[0;32m<ipython-input-44-dd9c081cc3b0>\u001b[0m in \u001b[0;36m<module>\u001b[0;34m\u001b[0m\n\u001b[0;32m----> 1\u001b[0;31m \u001b[0mprint\u001b[0m\u001b[0;34m(\u001b[0m\u001b[0mnp\u001b[0m\u001b[0;34m.\u001b[0m\u001b[0mshape\u001b[0m\u001b[0;34m(\u001b[0m\u001b[0mu\u001b[0m\u001b[0;34m)\u001b[0m\u001b[0;34m,\u001b[0m\u001b[0mnp\u001b[0m\u001b[0;34m.\u001b[0m\u001b[0mshape\u001b[0m\u001b[0;34m(\u001b[0m\u001b[0mA\u001b[0m\u001b[0;34m)\u001b[0m\u001b[0;34m,\u001b[0m\u001b[0mnp\u001b[0m\u001b[0;34m.\u001b[0m\u001b[0mshape\u001b[0m\u001b[0;34m(\u001b[0m\u001b[0mb\u001b[0m\u001b[0;34m)\u001b[0m\u001b[0;34m)\u001b[0m\u001b[0;34m\u001b[0m\u001b[0;34m\u001b[0m\u001b[0m\n\u001b[0m",
      "\u001b[0;31mNameError\u001b[0m: name 'b' is not defined"
     ]
    }
   ],
   "source": [
    "print(np.shape(u),np.shape(A),np.shape(b))"
   ]
  },
  {
   "cell_type": "code",
   "execution_count": 45,
   "metadata": {},
   "outputs": [
    {
     "data": {
      "text/plain": [
       "array([  0.        ,   2.0413799 ,  18.46551342,  76.15421398,\n",
       "       153.90668089, 153.90668089,  76.15421398,  18.46551342,\n",
       "         2.0413799 ,   0.        ])"
      ]
     },
     "execution_count": 45,
     "metadata": {},
     "output_type": "execute_result"
    }
   ],
   "source": [
    "b = np.array([0]+[[alpha*u[n-1] + 2*(1-alpha)*u[n] + alpha*u[n+1]][0] for n in range (1,9)]+[0])\n",
    "\n",
    "b"
   ]
  },
  {
   "cell_type": "code",
   "execution_count": 87,
   "metadata": {},
   "outputs": [
    {
     "data": {
      "text/plain": [
       "array([4.00652974e-03, 2.18749112e-01, 4.39369336e+00, 3.24652467e+01,\n",
       "       8.82496903e+01, 8.82496903e+01, 3.24652467e+01, 4.39369336e+00,\n",
       "       2.18749112e-01, 4.00652974e-03])"
      ]
     },
     "execution_count": 87,
     "metadata": {},
     "output_type": "execute_result"
    }
   ],
   "source": [
    "u1"
   ]
  },
  {
   "cell_type": "code",
   "execution_count": null,
   "metadata": {},
   "outputs": [],
   "source": []
  }
 ],
 "metadata": {
  "kernelspec": {
   "display_name": "Python 3",
   "language": "python",
   "name": "python3"
  },
  "language_info": {
   "codemirror_mode": {
    "name": "ipython",
    "version": 3
   },
   "file_extension": ".py",
   "mimetype": "text/x-python",
   "name": "python",
   "nbconvert_exporter": "python",
   "pygments_lexer": "ipython3",
   "version": "3.8.0"
  }
 },
 "nbformat": 4,
 "nbformat_minor": 4
}
