{
 "cells": [
  {
   "cell_type": "markdown",
   "metadata": {
    "isInteractiveWindowMessageCell": true
   },
   "source": [
    "Connected to env1 (Python 3.8.5)"
   ]
  },
  {
   "cell_type": "code",
   "execution_count": 1,
   "metadata": {},
   "outputs": [
    {
     "name": "stdout",
     "output_type": "stream",
     "text": [
      "INSERT INTO simulation_param (\"L\", \"dx\", \"J\", \"T\", \"dt\", \"N\", \"boundaryCoeff\", \"mechanism\", \"growth_rate\") VALUES ('50', '0.05', '1000', '10', '0.1', '100', '2', 'edgegrowth2', '5.0') ;\n",
      "Data inserted successfully!\n"
     ]
    }
   ],
   "source": [
    "import sys\n",
    "import os\n",
    "\n",
    "pwd = os.getcwd()\n",
    "modellingpath = pwd.rpartition(\"modelling\")[0] + pwd.rpartition(\"modelling\")[1] \n",
    "sys.path.append(modellingpath + '/lib')\n",
    "\n",
    "from database.databaseFunctions import *\n",
    "import pickle\n",
    "#############\n",
    "#############\n",
    "###paths#####\n",
    "#############\n",
    "import sys\n",
    "import os\n",
    "import pickle\n",
    "\n",
    "\n",
    "\n",
    "\n",
    "L=50; dx =0.1; J = int(L/dx)\n",
    "T =2000; dt = 0.02; N = int(T/dt)\n",
    "T =10; dt = 0.1; N = int(T/dt)\n",
    "\n",
    "\n",
    "\n",
    "\n",
    "#solver parameters\n",
    "L=50; dx =0.05; J = int(L/dx)\n",
    "T =2000; dt = 0.005; N = int(T/dt)\n",
    "T =10; dt = 0.1; N = int(T/dt)\n",
    "\n",
    "\n",
    "\n",
    "boundaryCoeff=2;rate=L/T\n",
    "suggesteddt = float(dx*dx*2)\n",
    "mechanism = 'edgegrowth2'\n",
    "simulation_param_dict = {'L':L, 'dx':dx, 'J':J, 'T':T, 'dt':dt, 'N':N, \n",
    "            'boundaryCoeff':boundaryCoeff, \n",
    "            'mechanism':mechanism, 'growth_rate': rate}\n",
    "\n",
    "\n",
    "\n",
    "        \n",
    "insert_simulationParam_to_sql(simulation_param_dict)"
   ]
  },
  {
   "cell_type": "code",
   "execution_count": 2,
   "metadata": {},
   "outputs": [
    {
     "name": "stdout",
     "output_type": "stream",
     "text": [
      "INSERT INTO simulation_param (\"L\", \"dx\", \"J\", \"T\", \"dt\", \"N\", \"boundaryCoeff\", \"mechanism\", \"growth_rate\") VALUES ('50', '0.05', '1000', '10', '0.1', '100', '2', 'edgegrowth2', '5.0') ;\n",
      "Error while inserting data: duplicate key value violates unique constraint \"uq_simulation_param_growthproject\"\n",
      "DETAIL:  Key (\"L\", \"T\", \"J\", \"N\", dx, dt, \"boundaryCoeff\", mechanism, growth_rate)=(50, 10, 1000, 100, 0.05, 0.1, 2, edgegrowth2, 5.0) already exists.\n",
      "\n"
     ]
    }
   ],
   "source": [
    "import sys\n",
    "import os\n",
    "pwd = os.getcwd()\n",
    "modellingpath = pwd.rpartition(\"modelling\")[0] + pwd.rpartition(\"modelling\")[1] \n",
    "sys.path.append(modellingpath + '/lib')\n",
    "from database.databaseFunctions import *\n",
    "import pickle\n",
    "#############\n",
    "#############\n",
    "###paths#####\n",
    "#############\n",
    "\n",
    "import sys\n",
    "import os\n",
    "import pickle\n",
    "L=50; dx =0.1; J = int(L/dx)\n",
    "T =2000; dt = 0.02; N = int(T/dt)\n",
    "T =10; dt = 0.1; N = int(T/dt)\n",
    "#solver parameters\n",
    "\n",
    "L=50; dx =0.05; J = int(L/dx)\n",
    "T =2000; dt = 0.005; N = int(T/dt)\n",
    "T =10; dt = 0.1; N = int(T/dt)\n",
    "boundaryCoeff=2;rate=L/T\n",
    "suggesteddt = float(dx*dx*2)\n",
    "mechanism = 'edgegrowth2'\n",
    "simulation_param_dict = {'L':L, 'dx':dx, 'J':J, 'T':T, 'dt':dt, 'N':N, \n",
    "            'boundaryCoeff':boundaryCoeff, \n",
    "            'mechanism':mechanism, 'growth_rate': rate}\n",
    "\n",
    "insert_simulationParam_to_sql(simulation_param_dict)"
   ]
  },
  {
   "cell_type": "code",
   "execution_count": 3,
   "metadata": {},
   "outputs": [
    {
     "name": "stdout",
     "output_type": "stream",
     "text": [
      "INSERT INTO simulation_param (\"L\", \"dx\", \"J\", \"T\", \"dt\", \"N\", \"boundaryCoeff\", \"mechanism\", \"growth_rate\") VALUES ('50', '0.05', '1000', '10', '0.1', '100', '2', 'openboundary', '5.0') ;\n",
      "Data inserted successfully!\n"
     ]
    }
   ],
   "source": [
    "import sys\n",
    "import os\n",
    "pwd = os.getcwd()\n",
    "modellingpath = pwd.rpartition(\"modelling\")[0] + pwd.rpartition(\"modelling\")[1] \n",
    "sys.path.append(modellingpath + '/lib')\n",
    "from database.databaseFunctions import *\n",
    "import pickle\n",
    "#############\n",
    "#############\n",
    "###paths#####\n",
    "#############\n",
    "\n",
    "import sys\n",
    "import os\n",
    "import pickle\n",
    "L=50; dx =0.1; J = int(L/dx)\n",
    "T =2000; dt = 0.02; N = int(T/dt)\n",
    "T =10; dt = 0.1; N = int(T/dt)\n",
    "#solver parameters\n",
    "\n",
    "L=50; dx =0.05; J = int(L/dx)\n",
    "T =2000; dt = 0.005; N = int(T/dt)\n",
    "T =10; dt = 0.1; N = int(T/dt)\n",
    "boundaryCoeff=2;rate=L/T\n",
    "suggesteddt = float(dx*dx*2)\n",
    "mechanism = 'openboundary'\n",
    "simulation_param_dict = {'L':L, 'dx':dx, 'J':J, 'T':T, 'dt':dt, 'N':N, \n",
    "            'boundaryCoeff':boundaryCoeff, \n",
    "            'mechanism':mechanism, 'growth_rate': rate}\n",
    "\n",
    "insert_simulationParam_to_sql(simulation_param_dict)"
   ]
  },
  {
   "cell_type": "markdown",
   "metadata": {
    "isInteractiveWindowMessageCell": true
   },
   "source": [
    "Connected to env1 (Python 3.8.5)"
   ]
  },
  {
   "cell_type": "code",
   "execution_count": 1,
   "metadata": {},
   "outputs": [
    {
     "name": "stdout",
     "output_type": "stream",
     "text": [
      "INSERT INTO simulation_param (\"L\", \"dx\", \"J\", \"T\", \"dt\", \"N\", \"boundaryCoeff\", \"mechanism\", \"growth_rate\") VALUES ('25', '0.05', '500', '10', '0.1', '100', '2', 'openboundary', '2.5') ;\n",
      "Data inserted successfully!\n"
     ]
    }
   ],
   "source": [
    "import sys\n",
    "import os\n",
    "pwd = os.getcwd()\n",
    "modellingpath = pwd.rpartition(\"modelling\")[0] + pwd.rpartition(\"modelling\")[1] \n",
    "sys.path.append(modellingpath + '/lib')\n",
    "from database.databaseFunctions import *\n",
    "import pickle\n",
    "#############\n",
    "#############\n",
    "###paths#####\n",
    "#############\n",
    "\n",
    "import sys\n",
    "import os\n",
    "import pickle\n",
    "L=50; dx =0.1; J = int(L/dx)\n",
    "T =2000; dt = 0.02; N = int(T/dt)\n",
    "T =10; dt = 0.1; N = int(T/dt)\n",
    "#solver parameters\n",
    "\n",
    "L=25; dx =0.05; J = int(L/dx)\n",
    "T =2000; dt = 0.005; N = int(T/dt)\n",
    "T =10; dt = 0.1; N = int(T/dt)\n",
    "boundaryCoeff=2;rate=L/T\n",
    "suggesteddt = float(dx*dx*2)\n",
    "mechanism = 'openboundary'\n",
    "simulation_param_dict = {'L':L, 'dx':dx, 'J':J, 'T':T, 'dt':dt, 'N':N, \n",
    "            'boundaryCoeff':boundaryCoeff, \n",
    "            'mechanism':mechanism, 'growth_rate': rate}\n",
    "\n",
    "insert_simulationParam_to_sql(simulation_param_dict)"
   ]
  },
  {
   "cell_type": "code",
   "execution_count": 2,
   "metadata": {},
   "outputs": [
    {
     "name": "stdout",
     "output_type": "stream",
     "text": [
      "INSERT INTO simulation_param (\"L\", \"dx\", \"J\", \"T\", \"dt\", \"N\", \"boundaryCoeff\", \"mechanism\", \"growth_rate\") VALUES ('25', '0.05', '500', '2000', '0.005', '400000', '2', 'openboundary', '0.0125') ;\n",
      "Data inserted successfully!\n"
     ]
    }
   ],
   "source": [
    "import sys\n",
    "import os\n",
    "pwd = os.getcwd()\n",
    "modellingpath = pwd.rpartition(\"modelling\")[0] + pwd.rpartition(\"modelling\")[1] \n",
    "sys.path.append(modellingpath + '/lib')\n",
    "from database.databaseFunctions import *\n",
    "import pickle\n",
    "#############\n",
    "#############\n",
    "###paths#####\n",
    "#############\n",
    "\n",
    "import sys\n",
    "import os\n",
    "import pickle\n",
    "L=50; dx =0.1; J = int(L/dx)\n",
    "T =2000; dt = 0.02; N = int(T/dt)\n",
    "T =10; dt = 0.1; N = int(T/dt)\n",
    "#solver parameters\n",
    "\n",
    "L=25; dx =0.05; J = int(L/dx)\n",
    "T =2000; dt = 0.005; N = int(T/dt)\n",
    "# T =10; dt = 0.1; N = int(T/dt)\n",
    "\n",
    "boundaryCoeff=2;rate=L/T\n",
    "suggesteddt = float(dx*dx*2)\n",
    "mechanism = 'openboundary'\n",
    "simulation_param_dict = {'L':L, 'dx':dx, 'J':J, 'T':T, 'dt':dt, 'N':N, \n",
    "            'boundaryCoeff':boundaryCoeff, \n",
    "            'mechanism':mechanism, 'growth_rate': rate}\n",
    "\n",
    "insert_simulationParam_to_sql(simulation_param_dict)"
   ]
  },
  {
   "cell_type": "code",
   "execution_count": 3,
   "metadata": {},
   "outputs": [
    {
     "name": "stdout",
     "output_type": "stream",
     "text": [
      "INSERT INTO simulation_param (\"L\", \"dx\", \"J\", \"T\", \"dt\", \"N\", \"boundaryCoeff\", \"mechanism\", \"growth_rate\") VALUES ('25', '0.05', '500', '2000', '0.005', '400000', '2', 'edgegrowth2', '0.0125') ;\n",
      "Data inserted successfully!\n"
     ]
    }
   ],
   "source": [
    "import sys\n",
    "import os\n",
    "pwd = os.getcwd()\n",
    "modellingpath = pwd.rpartition(\"modelling\")[0] + pwd.rpartition(\"modelling\")[1] \n",
    "sys.path.append(modellingpath + '/lib')\n",
    "from database.databaseFunctions import *\n",
    "import pickle\n",
    "#############\n",
    "#############\n",
    "###paths#####\n",
    "#############\n",
    "\n",
    "import sys\n",
    "import os\n",
    "import pickle\n",
    "L=50; dx =0.1; J = int(L/dx)\n",
    "T =2000; dt = 0.02; N = int(T/dt)\n",
    "T =10; dt = 0.1; N = int(T/dt)\n",
    "#solver parameters\n",
    "\n",
    "L=25; dx =0.05; J = int(L/dx)\n",
    "T =2000; dt = 0.005; N = int(T/dt)\n",
    "# T =10; dt = 0.1; N = int(T/dt)\n",
    "\n",
    "boundaryCoeff=2;rate=L/T\n",
    "suggesteddt = float(dx*dx*2)\n",
    "mechanism = 'edgegrowth2'\n",
    "simulation_param_dict = {'L':L, 'dx':dx, 'J':J, 'T':T, 'dt':dt, 'N':N, \n",
    "            'boundaryCoeff':boundaryCoeff, \n",
    "            'mechanism':mechanism, 'growth_rate': rate}\n",
    "\n",
    "insert_simulationParam_to_sql(simulation_param_dict)"
   ]
  },
  {
   "cell_type": "code",
   "execution_count": 4,
   "metadata": {},
   "outputs": [
    {
     "name": "stdout",
     "output_type": "stream",
     "text": [
      "INSERT INTO simulation_param (\"L\", \"dx\", \"J\", \"T\", \"dt\", \"N\", \"boundaryCoeff\", \"mechanism\", \"growth_rate\") VALUES ('25', '0.05', '500', '10', '0.1', '100', '2', 'edgegrowth2', '2.5') ;\n",
      "Data inserted successfully!\n"
     ]
    }
   ],
   "source": [
    "import sys\n",
    "import os\n",
    "pwd = os.getcwd()\n",
    "modellingpath = pwd.rpartition(\"modelling\")[0] + pwd.rpartition(\"modelling\")[1] \n",
    "sys.path.append(modellingpath + '/lib')\n",
    "from database.databaseFunctions import *\n",
    "import pickle\n",
    "#############\n",
    "#############\n",
    "###paths#####\n",
    "#############\n",
    "\n",
    "import sys\n",
    "import os\n",
    "import pickle\n",
    "L=50; dx =0.1; J = int(L/dx)\n",
    "T =2000; dt = 0.02; N = int(T/dt)\n",
    "T =10; dt = 0.1; N = int(T/dt)\n",
    "#solver parameters\n",
    "\n",
    "L=25; dx =0.05; J = int(L/dx)\n",
    "T =2000; dt = 0.005; N = int(T/dt)\n",
    "T =10; dt = 0.1; N = int(T/dt)\n",
    "boundaryCoeff=2;rate=L/T\n",
    "suggesteddt = float(dx*dx*2)\n",
    "mechanism = 'edgegrowth2'\n",
    "simulation_param_dict = {'L':L, 'dx':dx, 'J':J, 'T':T, 'dt':dt, 'N':N, \n",
    "            'boundaryCoeff':boundaryCoeff, \n",
    "            'mechanism':mechanism, 'growth_rate': rate}\n",
    "\n",
    "insert_simulationParam_to_sql(simulation_param_dict)"
   ]
  },
  {
   "cell_type": "code",
   "execution_count": 5,
   "metadata": {},
   "outputs": [
    {
     "name": "stdout",
     "output_type": "stream",
     "text": [
      "INSERT INTO simulation_param (\"L\", \"dx\", \"J\", \"T\", \"dt\", \"N\", \"boundaryCoeff\", \"mechanism\", \"growth_rate\") VALUES ('25', '0.05', '500', '10', '0.1', '100', '2', 'nogrowth', '2.5') ;\n",
      "Data inserted successfully!\n"
     ]
    }
   ],
   "source": [
    "import sys\n",
    "import os\n",
    "pwd = os.getcwd()\n",
    "modellingpath = pwd.rpartition(\"modelling\")[0] + pwd.rpartition(\"modelling\")[1] \n",
    "sys.path.append(modellingpath + '/lib')\n",
    "from database.databaseFunctions import *\n",
    "import pickle\n",
    "#############\n",
    "#############\n",
    "###paths#####\n",
    "#############\n",
    "\n",
    "import sys\n",
    "import os\n",
    "import pickle\n",
    "L=50; dx =0.1; J = int(L/dx)\n",
    "T =2000; dt = 0.02; N = int(T/dt)\n",
    "T =10; dt = 0.1; N = int(T/dt)\n",
    "#solver parameters\n",
    "\n",
    "L=25; dx =0.05; J = int(L/dx)\n",
    "T =2000; dt = 0.005; N = int(T/dt)\n",
    "T =10; dt = 0.1; N = int(T/dt)\n",
    "boundaryCoeff=2;rate=L/T\n",
    "suggesteddt = float(dx*dx*2)\n",
    "mechanism = 'nogrowth'\n",
    "simulation_param_dict = {'L':L, 'dx':dx, 'J':J, 'T':T, 'dt':dt, 'N':N, \n",
    "            'boundaryCoeff':boundaryCoeff, \n",
    "            'mechanism':mechanism, 'growth_rate': rate}\n",
    "\n",
    "insert_simulationParam_to_sql(simulation_param_dict)"
   ]
  },
  {
   "cell_type": "code",
   "execution_count": 6,
   "metadata": {},
   "outputs": [
    {
     "name": "stdout",
     "output_type": "stream",
     "text": [
      "INSERT INTO simulation_param (\"L\", \"dx\", \"J\", \"T\", \"dt\", \"N\", \"boundaryCoeff\", \"mechanism\", \"growth_rate\") VALUES ('25', '0.05', '500', '2000', '0.005', '400000', '2', 'nogrowth', '0.0125') ;\n",
      "Data inserted successfully!\n"
     ]
    }
   ],
   "source": [
    "import sys\n",
    "import os\n",
    "pwd = os.getcwd()\n",
    "modellingpath = pwd.rpartition(\"modelling\")[0] + pwd.rpartition(\"modelling\")[1] \n",
    "sys.path.append(modellingpath + '/lib')\n",
    "from database.databaseFunctions import *\n",
    "import pickle\n",
    "#############\n",
    "#############\n",
    "###paths#####\n",
    "#############\n",
    "\n",
    "import sys\n",
    "import os\n",
    "import pickle\n",
    "L=50; dx =0.1; J = int(L/dx)\n",
    "T =2000; dt = 0.02; N = int(T/dt)\n",
    "T =10; dt = 0.1; N = int(T/dt)\n",
    "#solver parameters\n",
    "\n",
    "L=25; dx =0.05; J = int(L/dx)\n",
    "T =2000; dt = 0.005; N = int(T/dt)\n",
    "# T =10; dt = 0.1; N = int(T/dt)\n",
    "\n",
    "boundaryCoeff=2;rate=L/T\n",
    "suggesteddt = float(dx*dx*2)\n",
    "mechanism = 'nogrowth'\n",
    "simulation_param_dict = {'L':L, 'dx':dx, 'J':J, 'T':T, 'dt':dt, 'N':N, \n",
    "            'boundaryCoeff':boundaryCoeff, \n",
    "            'mechanism':mechanism, 'growth_rate': rate}\n",
    "\n",
    "insert_simulationParam_to_sql(simulation_param_dict)"
   ]
  },
  {
   "cell_type": "markdown",
   "metadata": {
    "isInteractiveWindowMessageCell": true
   },
   "source": [
    "Connected to env1 (Python 3.8.5)"
   ]
  },
  {
   "cell_type": "code",
   "execution_count": 1,
   "metadata": {},
   "outputs": [
    {
     "name": "stdout",
     "output_type": "stream",
     "text": [
      "INSERT INTO simulation_param (\"L\", \"dx\", \"J\", \"T\", \"dt\", \"N\", \"boundaryCoeff\", \"mechanism\", \"growth_rate\") VALUES ('25', '0.05', '500', '2000', '0.005', '400000', '1', 'nogrowth', '0.0125') ;\n",
      "Data inserted successfully!\n"
     ]
    }
   ],
   "source": [
    "import sys\n",
    "import os\n",
    "pwd = os.getcwd()\n",
    "modellingpath = pwd.rpartition(\"modelling\")[0] + pwd.rpartition(\"modelling\")[1] \n",
    "sys.path.append(modellingpath + '/lib')\n",
    "from database.databaseFunctions import *\n",
    "import pickle\n",
    "#############\n",
    "#############\n",
    "###paths#####\n",
    "#############\n",
    "\n",
    "import sys\n",
    "import os\n",
    "import pickle\n",
    "L=50; dx =0.1; J = int(L/dx)\n",
    "T =2000; dt = 0.02; N = int(T/dt)\n",
    "T =10; dt = 0.1; N = int(T/dt)\n",
    "#solver parameters\n",
    "\n",
    "L=25; dx =0.05; J = int(L/dx)\n",
    "T =2000; dt = 0.005; N = int(T/dt)\n",
    "# T =10; dt = 0.1; N = int(T/dt)\n",
    "\n",
    "boundaryCoeff=1;rate=L/T\n",
    "suggesteddt = float(dx*dx*2)\n",
    "mechanism = 'nogrowth'\n",
    "simulation_param_dict = {'L':L, 'dx':dx, 'J':J, 'T':T, 'dt':dt, 'N':N, \n",
    "            'boundaryCoeff':boundaryCoeff, \n",
    "            'mechanism':mechanism, 'growth_rate': rate}\n",
    "\n",
    "insert_simulationParam_to_sql(simulation_param_dict)"
   ]
  },
  {
   "cell_type": "code",
   "execution_count": 2,
   "metadata": {},
   "outputs": [
    {
     "name": "stdout",
     "output_type": "stream",
     "text": [
      "INSERT INTO simulation_param (\"L\", \"dx\", \"J\", \"T\", \"dt\", \"N\", \"boundaryCoeff\", \"mechanism\", \"growth_rate\") VALUES ('25', '0.05', '500', '2000', '0.005', '400000', '1', 'nogrowth', '0.0125') ;\n",
      "Error while inserting data: duplicate key value violates unique constraint \"uq_simulation_param_growthproject\"\n",
      "DETAIL:  Key (\"L\", \"T\", \"J\", \"N\", dx, dt, \"boundaryCoeff\", mechanism, growth_rate)=(25, 2000, 500, 400000, 0.05, 0.005, 1, nogrowth, 0.0125) already exists.\n",
      "\n"
     ]
    }
   ],
   "source": [
    "import sys\n",
    "import os\n",
    "pwd = os.getcwd()\n",
    "modellingpath = pwd.rpartition(\"modelling\")[0] + pwd.rpartition(\"modelling\")[1] \n",
    "sys.path.append(modellingpath + '/lib')\n",
    "from database.databaseFunctions import *\n",
    "import pickle\n",
    "#############\n",
    "#############\n",
    "###paths#####\n",
    "#############\n",
    "\n",
    "import sys\n",
    "import os\n",
    "import pickle\n",
    "L=50; dx =0.1; J = int(L/dx)\n",
    "T =2000; dt = 0.02; N = int(T/dt)\n",
    "T =10; dt = 0.1; N = int(T/dt)\n",
    "#solver parameters\n",
    "\n",
    "L=25; dx =0.05; J = int(L/dx)\n",
    "T =2000; dt = 0.005; N = int(T/dt)\n",
    "# T =10; dt = 0.1; N = int(T/dt)\n",
    "\n",
    "boundaryCoeff=1;rate=L/T\n",
    "suggesteddt = float(dx*dx*2)\n",
    "mechanism = 'nogrowth'\n",
    "simulation_param_dict = {'L':L, 'dx':dx, 'J':J, 'T':T, 'dt':dt, 'N':N, \n",
    "            'boundaryCoeff':boundaryCoeff, \n",
    "            'mechanism':mechanism, 'growth_rate': rate}\n",
    "\n",
    "insert_simulationParam_to_sql(simulation_param_dict)"
   ]
  },
  {
   "cell_type": "code",
   "execution_count": 3,
   "metadata": {},
   "outputs": [
    {
     "name": "stdout",
     "output_type": "stream",
     "text": [
      "INSERT INTO simulation_param (\"L\", \"dx\", \"J\", \"T\", \"dt\", \"N\", \"boundaryCoeff\", \"mechanism\", \"growth_rate\") VALUES ('25', '0.05', '500', '10', '0.1', '100', '1', 'nogrowth', '2.5') ;\n",
      "Data inserted successfully!\n"
     ]
    }
   ],
   "source": [
    "import sys\n",
    "import os\n",
    "pwd = os.getcwd()\n",
    "modellingpath = pwd.rpartition(\"modelling\")[0] + pwd.rpartition(\"modelling\")[1] \n",
    "sys.path.append(modellingpath + '/lib')\n",
    "from database.databaseFunctions import *\n",
    "import pickle\n",
    "#############\n",
    "#############\n",
    "###paths#####\n",
    "#############\n",
    "\n",
    "import sys\n",
    "import os\n",
    "import pickle\n",
    "L=50; dx =0.1; J = int(L/dx)\n",
    "T =2000; dt = 0.02; N = int(T/dt)\n",
    "T =10; dt = 0.1; N = int(T/dt)\n",
    "#solver parameters\n",
    "\n",
    "L=25; dx =0.05; J = int(L/dx)\n",
    "T =2000; dt = 0.005; N = int(T/dt)\n",
    "T =10; dt = 0.1; N = int(T/dt)\n",
    "boundaryCoeff=1;rate=L/T\n",
    "suggesteddt = float(dx*dx*2)\n",
    "mechanism = 'nogrowth'\n",
    "simulation_param_dict = {'L':L, 'dx':dx, 'J':J, 'T':T, 'dt':dt, 'N':N, \n",
    "            'boundaryCoeff':boundaryCoeff, \n",
    "            'mechanism':mechanism, 'growth_rate': rate}\n",
    "\n",
    "insert_simulationParam_to_sql(simulation_param_dict)"
   ]
  },
  {
   "cell_type": "code",
   "execution_count": 4,
   "metadata": {},
   "outputs": [
    {
     "name": "stdout",
     "output_type": "stream",
     "text": [
      "INSERT INTO simulation_param (\"L\", \"dx\", \"J\", \"T\", \"dt\", \"N\", \"boundaryCoeff\", \"mechanism\", \"growth_rate\") VALUES ('25', '0.05', '500', '10', '0.1', '100', '2', 'openboundary', '2.5') ;\n",
      "Error while inserting data: duplicate key value violates unique constraint \"uq_simulation_param_growthproject\"\n",
      "DETAIL:  Key (\"L\", \"T\", \"J\", \"N\", dx, dt, \"boundaryCoeff\", mechanism, growth_rate)=(25, 10, 500, 100, 0.05, 0.1, 2, openboundary, 2.5) already exists.\n",
      "\n"
     ]
    }
   ],
   "source": [
    "import sys\n",
    "import os\n",
    "pwd = os.getcwd()\n",
    "modellingpath = pwd.rpartition(\"modelling\")[0] + pwd.rpartition(\"modelling\")[1] \n",
    "sys.path.append(modellingpath + '/lib')\n",
    "from database.databaseFunctions import *\n",
    "import pickle\n",
    "#############\n",
    "#############\n",
    "###paths#####\n",
    "#############\n",
    "\n",
    "import sys\n",
    "import os\n",
    "import pickle\n",
    "L=50; dx =0.1; J = int(L/dx)\n",
    "T =2000; dt = 0.02; N = int(T/dt)\n",
    "T =10; dt = 0.1; N = int(T/dt)\n",
    "#solver parameters\n",
    "\n",
    "L=25; dx =0.05; J = int(L/dx)\n",
    "T =2000; dt = 0.005; N = int(T/dt)\n",
    "T =10; dt = 0.1; N = int(T/dt)\n",
    "boundaryCoeff=2;rate=L/T\n",
    "suggesteddt = float(dx*dx*2)\n",
    "mechanism = 'openboundary'\n",
    "simulation_param_dict = {'L':L, 'dx':dx, 'J':J, 'T':T, 'dt':dt, 'N':N, \n",
    "            'boundaryCoeff':boundaryCoeff, \n",
    "            'mechanism':mechanism, 'growth_rate': rate}\n",
    "\n",
    "insert_simulationParam_to_sql(simulation_param_dict)"
   ]
  },
  {
   "cell_type": "code",
   "execution_count": 5,
   "metadata": {},
   "outputs": [
    {
     "name": "stdout",
     "output_type": "stream",
     "text": [
      "INSERT INTO simulation_param (\"L\", \"dx\", \"J\", \"T\", \"dt\", \"N\", \"boundaryCoeff\", \"mechanism\", \"growth_rate\") VALUES ('25', '0.05', '500', '2000', '0.005', '400000', '2', 'openboundary', '0.0125') ;\n",
      "Error while inserting data: duplicate key value violates unique constraint \"uq_simulation_param_growthproject\"\n",
      "DETAIL:  Key (\"L\", \"T\", \"J\", \"N\", dx, dt, \"boundaryCoeff\", mechanism, growth_rate)=(25, 2000, 500, 400000, 0.05, 0.005, 2, openboundary, 0.0125) already exists.\n",
      "\n"
     ]
    }
   ],
   "source": [
    "import sys\n",
    "import os\n",
    "pwd = os.getcwd()\n",
    "modellingpath = pwd.rpartition(\"modelling\")[0] + pwd.rpartition(\"modelling\")[1] \n",
    "sys.path.append(modellingpath + '/lib')\n",
    "from database.databaseFunctions import *\n",
    "import pickle\n",
    "#############\n",
    "#############\n",
    "###paths#####\n",
    "#############\n",
    "\n",
    "import sys\n",
    "import os\n",
    "import pickle\n",
    "L=50; dx =0.1; J = int(L/dx)\n",
    "T =2000; dt = 0.02; N = int(T/dt)\n",
    "T =10; dt = 0.1; N = int(T/dt)\n",
    "#solver parameters\n",
    "\n",
    "L=25; dx =0.05; J = int(L/dx)\n",
    "T =2000; dt = 0.005; N = int(T/dt)\n",
    "# T =10; dt = 0.1; N = int(T/dt)\n",
    "\n",
    "boundaryCoeff=2;rate=L/T\n",
    "suggesteddt = float(dx*dx*2)\n",
    "mechanism = 'openboundary'\n",
    "simulation_param_dict = {'L':L, 'dx':dx, 'J':J, 'T':T, 'dt':dt, 'N':N, \n",
    "            'boundaryCoeff':boundaryCoeff, \n",
    "            'mechanism':mechanism, 'growth_rate': rate}\n",
    "\n",
    "insert_simulationParam_to_sql(simulation_param_dict)"
   ]
  },
  {
   "cell_type": "code",
   "execution_count": 6,
   "metadata": {},
   "outputs": [
    {
     "name": "stdout",
     "output_type": "stream",
     "text": [
      "INSERT INTO simulation_param (\"L\", \"dx\", \"J\", \"T\", \"dt\", \"N\", \"boundaryCoeff\", \"mechanism\", \"growth_rate\") VALUES ('25', '0.05', '500', '2000', '0.005', '400000', '2', 'edgegrowth2', '0.0125') ;\n",
      "Error while inserting data: duplicate key value violates unique constraint \"uq_simulation_param_growthproject\"\n",
      "DETAIL:  Key (\"L\", \"T\", \"J\", \"N\", dx, dt, \"boundaryCoeff\", mechanism, growth_rate)=(25, 2000, 500, 400000, 0.05, 0.005, 2, edgegrowth2, 0.0125) already exists.\n",
      "\n"
     ]
    }
   ],
   "source": [
    "import sys\n",
    "import os\n",
    "pwd = os.getcwd()\n",
    "modellingpath = pwd.rpartition(\"modelling\")[0] + pwd.rpartition(\"modelling\")[1] \n",
    "sys.path.append(modellingpath + '/lib')\n",
    "from database.databaseFunctions import *\n",
    "import pickle\n",
    "#############\n",
    "#############\n",
    "###paths#####\n",
    "#############\n",
    "\n",
    "import sys\n",
    "import os\n",
    "import pickle\n",
    "L=50; dx =0.1; J = int(L/dx)\n",
    "T =2000; dt = 0.02; N = int(T/dt)\n",
    "T =10; dt = 0.1; N = int(T/dt)\n",
    "#solver parameters\n",
    "\n",
    "L=25; dx =0.05; J = int(L/dx)\n",
    "T =2000; dt = 0.005; N = int(T/dt)\n",
    "# T =10; dt = 0.1; N = int(T/dt)\n",
    "\n",
    "boundaryCoeff=2;rate=L/T\n",
    "suggesteddt = float(dx*dx*2)\n",
    "mechanism = 'edgegrowth2'\n",
    "simulation_param_dict = {'L':L, 'dx':dx, 'J':J, 'T':T, 'dt':dt, 'N':N, \n",
    "            'boundaryCoeff':boundaryCoeff, \n",
    "            'mechanism':mechanism, 'growth_rate': rate}\n",
    "\n",
    "insert_simulationParam_to_sql(simulation_param_dict)"
   ]
  },
  {
   "cell_type": "code",
   "execution_count": 7,
   "metadata": {},
   "outputs": [
    {
     "name": "stdout",
     "output_type": "stream",
     "text": [
      "INSERT INTO simulation_param (\"L\", \"dx\", \"J\", \"T\", \"dt\", \"N\", \"boundaryCoeff\", \"mechanism\", \"growth_rate\") VALUES ('25', '0.05', '500', '10', '0.1', '100', '2', 'edgegrowth2', '2.5') ;\n",
      "Error while inserting data: duplicate key value violates unique constraint \"uq_simulation_param_growthproject\"\n",
      "DETAIL:  Key (\"L\", \"T\", \"J\", \"N\", dx, dt, \"boundaryCoeff\", mechanism, growth_rate)=(25, 10, 500, 100, 0.05, 0.1, 2, edgegrowth2, 2.5) already exists.\n",
      "\n"
     ]
    }
   ],
   "source": [
    "import sys\n",
    "import os\n",
    "pwd = os.getcwd()\n",
    "modellingpath = pwd.rpartition(\"modelling\")[0] + pwd.rpartition(\"modelling\")[1] \n",
    "sys.path.append(modellingpath + '/lib')\n",
    "from database.databaseFunctions import *\n",
    "import pickle\n",
    "#############\n",
    "#############\n",
    "###paths#####\n",
    "#############\n",
    "\n",
    "import sys\n",
    "import os\n",
    "import pickle\n",
    "L=50; dx =0.1; J = int(L/dx)\n",
    "T =2000; dt = 0.02; N = int(T/dt)\n",
    "T =10; dt = 0.1; N = int(T/dt)\n",
    "#solver parameters\n",
    "\n",
    "L=25; dx =0.05; J = int(L/dx)\n",
    "T =2000; dt = 0.005; N = int(T/dt)\n",
    "T =10; dt = 0.1; N = int(T/dt)\n",
    "boundaryCoeff=2;rate=L/T\n",
    "suggesteddt = float(dx*dx*2)\n",
    "mechanism = 'edgegrowth2'\n",
    "simulation_param_dict = {'L':L, 'dx':dx, 'J':J, 'T':T, 'dt':dt, 'N':N, \n",
    "            'boundaryCoeff':boundaryCoeff, \n",
    "            'mechanism':mechanism, 'growth_rate': rate}\n",
    "\n",
    "insert_simulationParam_to_sql(simulation_param_dict)"
   ]
  },
  {
   "cell_type": "code",
   "execution_count": 8,
   "metadata": {},
   "outputs": [],
   "source": [
    "import sys\n",
    "import os\n",
    "pwd = os.getcwd()\n",
    "modellingpath = pwd.rpartition(\"modelling\")[0] + pwd.rpartition(\"modelling\")[1] \n",
    "sys.path.append(modellingpath + '/lib')\n",
    "from database.databaseFunctions import *\n",
    "import pickle\n",
    "#############\n",
    "#############\n",
    "###paths#####\n",
    "#############\n",
    "\n",
    "import sys\n",
    "import os\n",
    "import pickle\n",
    "import psycopg2\n",
    "import matplotlib.pyplot as plt\n",
    "\n",
    "from numerical.cn_plot import plot1D, surfpattern"
   ]
  },
  {
   "cell_type": "code",
   "execution_count": 9,
   "metadata": {},
   "outputs": [
    {
     "ename": "NameError",
     "evalue": "name 'query_simulationOutput_from_sql' is not defined",
     "output_type": "error",
     "traceback": [
      "\u001b[0;31m---------------------------------------------------------------------------\u001b[0m",
      "\u001b[0;31mNameError\u001b[0m                                 Traceback (most recent call last)",
      "\u001b[0;32m~/Documents/modelling/growth/src/database_scripts/insert_simulation_param.py\u001b[0m in \u001b[0;36m<module>\u001b[0;34m\u001b[0m\n\u001b[1;32m     21\u001b[0m \u001b[0mmodel_param_dict\u001b[0m \u001b[0;34m=\u001b[0m \u001b[0;34m{\u001b[0m\u001b[0;34m'parID'\u001b[0m\u001b[0;34m:\u001b[0m\u001b[0mparID\u001b[0m\u001b[0;34m,\u001b[0m \u001b[0;34m'circuit_n'\u001b[0m\u001b[0;34m:\u001b[0m\u001b[0mcircuit_n\u001b[0m\u001b[0;34m,\u001b[0m\u001b[0;34m'variant'\u001b[0m\u001b[0;34m:\u001b[0m\u001b[0mvariant\u001b[0m\u001b[0;34m,\u001b[0m \u001b[0;34m'n_samples'\u001b[0m\u001b[0;34m:\u001b[0m\u001b[0mn_samples\u001b[0m\u001b[0;34m}\u001b[0m\u001b[0;34m\u001b[0m\u001b[0;34m\u001b[0m\u001b[0m\n\u001b[1;32m     22\u001b[0m \u001b[0;34m\u001b[0m\u001b[0m\n\u001b[0;32m---> 23\u001b[0;31m \u001b[0msimulationOutput\u001b[0m \u001b[0;34m=\u001b[0m \u001b[0mquery_simulationOutput_from_sql\u001b[0m\u001b[0;34m(\u001b[0m\u001b[0msimulation_param_dict\u001b[0m\u001b[0;34m,\u001b[0m\u001b[0mmodel_param_dict\u001b[0m\u001b[0;34m,\u001b[0m\u001b[0;34m'U_final_1D'\u001b[0m\u001b[0;34m,\u001b[0m \u001b[0mssID\u001b[0m\u001b[0;34m=\u001b[0m\u001b[0;36m0\u001b[0m\u001b[0;34m)\u001b[0m\u001b[0;34m\u001b[0m\u001b[0;34m\u001b[0m\u001b[0m\n\u001b[0m\u001b[1;32m     24\u001b[0m \u001b[0;34m\u001b[0m\u001b[0m\n\u001b[1;32m     25\u001b[0m \u001b[0;34m\u001b[0m\u001b[0m\n",
      "\u001b[0;31mNameError\u001b[0m: name 'query_simulationOutput_from_sql' is not defined"
     ]
    }
   ],
   "source": [
    "L=50; dx =0.1; J = int(L/dx)\n",
    "T =2000; dt = 0.02; N = int(T/dt)\n",
    "boundaryCoeff=1;rate=L/T\n",
    "suggesteddt = float(dx*dx*2)\n",
    "growth = 'edgegrowth2'\n",
    "simulation_param_dict = {'L':L, 'dx':dx, 'J':J, 'T':T, 'dt':dt, 'N':N, \n",
    "            'boundaryCoeff':boundaryCoeff, \n",
    "            'mechanism':growth, 'growth_rate': rate}\n",
    "\n",
    "parID = 2951771\n",
    "circuit_n='turinghill'\n",
    "variant= '11'\n",
    "n_samples=1000000\n",
    "ssID = 0\n",
    "folder = f'{circuit_n}_variant{variant}'\n",
    "model_param_dict = {'parID':parID, 'circuit_n':circuit_n,'variant':variant, 'n_samples':n_samples}\n",
    "\n",
    "simulationOutput = query_simulationOutput_from_sql(simulation_param_dict,model_param_dict,'U_final_1D', ssID=0)\n",
    "\n",
    "\n",
    "\n",
    "plot1D(simulationOutput, savefig=False,filename='')"
   ]
  },
  {
   "cell_type": "code",
   "execution_count": 10,
   "metadata": {},
   "outputs": [],
   "source": [
    "import sys\n",
    "import os\n",
    "pwd = os.getcwd()\n",
    "modellingpath = pwd.rpartition(\"modelling\")[0] + pwd.rpartition(\"modelling\")[1] \n",
    "sys.path.append(modellingpath + '/lib')\n",
    "from database.databaseFunctions import *\n",
    "import pickle\n",
    "#############\n",
    "#############\n",
    "###paths#####\n",
    "#############\n",
    "\n",
    "import sys\n",
    "import os\n",
    "import pickle\n",
    "import psycopg2\n",
    "import matplotlib.pyplot as plt\n",
    "\n",
    "from numerical.cn_plot import plot1D, surfpattern\n",
    "from database.databaseFunctions import *"
   ]
  },
  {
   "cell_type": "code",
   "execution_count": 11,
   "metadata": {},
   "outputs": [
    {
     "ename": "NameError",
     "evalue": "name 'query_simulationOutput_from_sql' is not defined",
     "output_type": "error",
     "traceback": [
      "\u001b[0;31m---------------------------------------------------------------------------\u001b[0m",
      "\u001b[0;31mNameError\u001b[0m                                 Traceback (most recent call last)",
      "\u001b[0;32m~/Documents/modelling/growth/src/database_scripts/insert_simulation_param.py\u001b[0m in \u001b[0;36m<module>\u001b[0;34m\u001b[0m\n\u001b[1;32m     21\u001b[0m \u001b[0mmodel_param_dict\u001b[0m \u001b[0;34m=\u001b[0m \u001b[0;34m{\u001b[0m\u001b[0;34m'parID'\u001b[0m\u001b[0;34m:\u001b[0m\u001b[0mparID\u001b[0m\u001b[0;34m,\u001b[0m \u001b[0;34m'circuit_n'\u001b[0m\u001b[0;34m:\u001b[0m\u001b[0mcircuit_n\u001b[0m\u001b[0;34m,\u001b[0m\u001b[0;34m'variant'\u001b[0m\u001b[0;34m:\u001b[0m\u001b[0mvariant\u001b[0m\u001b[0;34m,\u001b[0m \u001b[0;34m'n_samples'\u001b[0m\u001b[0;34m:\u001b[0m\u001b[0mn_samples\u001b[0m\u001b[0;34m}\u001b[0m\u001b[0;34m\u001b[0m\u001b[0;34m\u001b[0m\u001b[0m\n\u001b[1;32m     22\u001b[0m \u001b[0;34m\u001b[0m\u001b[0m\n\u001b[0;32m---> 23\u001b[0;31m \u001b[0msimulationOutput\u001b[0m \u001b[0;34m=\u001b[0m \u001b[0mquery_simulationOutput_from_sql\u001b[0m\u001b[0;34m(\u001b[0m\u001b[0msimulation_param_dict\u001b[0m\u001b[0;34m,\u001b[0m\u001b[0mmodel_param_dict\u001b[0m\u001b[0;34m,\u001b[0m\u001b[0;34m'U_final_1D'\u001b[0m\u001b[0;34m,\u001b[0m \u001b[0mssID\u001b[0m\u001b[0;34m=\u001b[0m\u001b[0;36m0\u001b[0m\u001b[0;34m)\u001b[0m\u001b[0;34m\u001b[0m\u001b[0;34m\u001b[0m\u001b[0m\n\u001b[0m\u001b[1;32m     24\u001b[0m \u001b[0;34m\u001b[0m\u001b[0m\n\u001b[1;32m     25\u001b[0m \u001b[0;34m\u001b[0m\u001b[0m\n",
      "\u001b[0;31mNameError\u001b[0m: name 'query_simulationOutput_from_sql' is not defined"
     ]
    }
   ],
   "source": [
    "L=50; dx =0.1; J = int(L/dx)\n",
    "T =2000; dt = 0.02; N = int(T/dt)\n",
    "boundaryCoeff=1;rate=L/T\n",
    "suggesteddt = float(dx*dx*2)\n",
    "growth = 'edgegrowth2'\n",
    "simulation_param_dict = {'L':L, 'dx':dx, 'J':J, 'T':T, 'dt':dt, 'N':N, \n",
    "            'boundaryCoeff':boundaryCoeff, \n",
    "            'mechanism':growth, 'growth_rate': rate}\n",
    "\n",
    "parID = 2951771\n",
    "circuit_n='turinghill'\n",
    "variant= '11'\n",
    "n_samples=1000000\n",
    "ssID = 0\n",
    "folder = f'{circuit_n}_variant{variant}'\n",
    "model_param_dict = {'parID':parID, 'circuit_n':circuit_n,'variant':variant, 'n_samples':n_samples}\n",
    "\n",
    "simulationOutput = query_simulationOutput_from_sql(simulation_param_dict,model_param_dict,'U_final_1D', ssID=0)\n",
    "\n",
    "\n",
    "\n",
    "plot1D(simulationOutput, savefig=False,filename='')"
   ]
  },
  {
   "cell_type": "code",
   "execution_count": 12,
   "metadata": {},
   "outputs": [],
   "source": [
    "import sys\n",
    "import os\n",
    "pwd = os.getcwd()\n",
    "modellingpath = pwd.rpartition(\"modelling\")[0] + pwd.rpartition(\"modelling\")[1] \n",
    "sys.path.append(modellingpath + '/lib')\n",
    "from database.databaseFunctions import *\n",
    "import pickle\n",
    "#############\n",
    "#############\n",
    "###paths#####\n",
    "#############\n",
    "\n",
    "import sys\n",
    "import os\n",
    "import pickle\n",
    "import psycopg2\n",
    "import matplotlib.pyplot as plt\n",
    "\n",
    "from numerical.cn_plot import plot1D, surfpattern\n",
    "from database.databaseFunctions import *"
   ]
  },
  {
   "cell_type": "code",
   "execution_count": 13,
   "metadata": {},
   "outputs": [
    {
     "ename": "NameError",
     "evalue": "name 'query_simulationOutput_from_sql' is not defined",
     "output_type": "error",
     "traceback": [
      "\u001b[0;31m---------------------------------------------------------------------------\u001b[0m",
      "\u001b[0;31mNameError\u001b[0m                                 Traceback (most recent call last)",
      "\u001b[0;32m~/Documents/modelling/growth/src/database_scripts/insert_simulation_param.py\u001b[0m in \u001b[0;36m<module>\u001b[0;34m\u001b[0m\n\u001b[1;32m     21\u001b[0m \u001b[0mmodel_param_dict\u001b[0m \u001b[0;34m=\u001b[0m \u001b[0;34m{\u001b[0m\u001b[0;34m'parID'\u001b[0m\u001b[0;34m:\u001b[0m\u001b[0mparID\u001b[0m\u001b[0;34m,\u001b[0m \u001b[0;34m'circuit_n'\u001b[0m\u001b[0;34m:\u001b[0m\u001b[0mcircuit_n\u001b[0m\u001b[0;34m,\u001b[0m\u001b[0;34m'variant'\u001b[0m\u001b[0;34m:\u001b[0m\u001b[0mvariant\u001b[0m\u001b[0;34m,\u001b[0m \u001b[0;34m'n_samples'\u001b[0m\u001b[0;34m:\u001b[0m\u001b[0mn_samples\u001b[0m\u001b[0;34m}\u001b[0m\u001b[0;34m\u001b[0m\u001b[0;34m\u001b[0m\u001b[0m\n\u001b[1;32m     22\u001b[0m \u001b[0;34m\u001b[0m\u001b[0m\n\u001b[0;32m---> 23\u001b[0;31m \u001b[0msimulationOutput\u001b[0m \u001b[0;34m=\u001b[0m \u001b[0mquery_simulationOutput_from_sql\u001b[0m\u001b[0;34m(\u001b[0m\u001b[0msimulation_param_dict\u001b[0m\u001b[0;34m,\u001b[0m\u001b[0mmodel_param_dict\u001b[0m\u001b[0;34m,\u001b[0m\u001b[0;34m'U_final_1D'\u001b[0m\u001b[0;34m,\u001b[0m \u001b[0mssID\u001b[0m\u001b[0;34m=\u001b[0m\u001b[0;36m0\u001b[0m\u001b[0;34m)\u001b[0m\u001b[0;34m\u001b[0m\u001b[0;34m\u001b[0m\u001b[0m\n\u001b[0m\u001b[1;32m     24\u001b[0m \u001b[0;34m\u001b[0m\u001b[0m\n\u001b[1;32m     25\u001b[0m \u001b[0;34m\u001b[0m\u001b[0m\n",
      "\u001b[0;31mNameError\u001b[0m: name 'query_simulationOutput_from_sql' is not defined"
     ]
    }
   ],
   "source": [
    "L=50; dx =0.1; J = int(L/dx)\n",
    "T =2000; dt = 0.02; N = int(T/dt)\n",
    "boundaryCoeff=1;rate=L/T\n",
    "suggesteddt = float(dx*dx*2)\n",
    "growth = 'edgegrowth2'\n",
    "simulation_param_dict = {'L':L, 'dx':dx, 'J':J, 'T':T, 'dt':dt, 'N':N, \n",
    "            'boundaryCoeff':boundaryCoeff, \n",
    "            'mechanism':growth, 'growth_rate': rate}\n",
    "\n",
    "parID = 2951771\n",
    "circuit_n='turinghill'\n",
    "variant= '11'\n",
    "n_samples=1000000\n",
    "ssID = 0\n",
    "folder = f'{circuit_n}_variant{variant}'\n",
    "model_param_dict = {'parID':parID, 'circuit_n':circuit_n,'variant':variant, 'n_samples':n_samples}\n",
    "\n",
    "simulationOutput = query_simulationOutput_from_sql(simulation_param_dict,model_param_dict,'U_final_1D', ssID=0)\n",
    "\n",
    "\n",
    "\n",
    "plot1D(simulationOutput, savefig=False,filename='')"
   ]
  },
  {
   "cell_type": "code",
   "execution_count": 14,
   "metadata": {},
   "outputs": [],
   "source": [
    "import sys\n",
    "import os\n",
    "pwd = os.getcwd()\n",
    "modellingpath = pwd.rpartition(\"modelling\")[0] + pwd.rpartition(\"modelling\")[1] \n",
    "sys.path.append(modellingpath + '/lib')\n",
    "from database.databaseFunctions import *\n",
    "import pickle\n",
    "#############\n",
    "#############\n",
    "###paths#####\n",
    "#############\n",
    "\n",
    "import sys\n",
    "import os\n",
    "import pickle\n",
    "import psycopg2\n",
    "import matplotlib.pyplot as plt\n",
    "\n",
    "from numerical.cn_plot import plot1D, surfpattern"
   ]
  },
  {
   "cell_type": "code",
   "execution_count": 15,
   "metadata": {},
   "outputs": [
    {
     "name": "stdout",
     "output_type": "stream",
     "text": [
      "dict_keys(['L', 'dx', 'J', 'T', 'dt', 'N', 'boundaryCoeff', 'mechanism', 'growth_rate']) dict_values([50, 0.1, 500, 2000, 0.02, 100000, 1, 'nogrowth', 0.025])\n"
     ]
    },
    {
     "ename": "TypeError",
     "evalue": "query_simulationOutput_multiple_from_sql() got an unexpected keyword argument 'fetch'",
     "output_type": "error",
     "traceback": [
      "\u001b[0;31m---------------------------------------------------------------------------\u001b[0m",
      "\u001b[0;31mTypeError\u001b[0m                                 Traceback (most recent call last)",
      "\u001b[0;32m~/Documents/modelling/growth/src/database_scripts/insert_simulation_param.py\u001b[0m in \u001b[0;36m<module>\u001b[0;34m\u001b[0m\n\u001b[1;32m     24\u001b[0m \u001b[0;34m\u001b[0m\u001b[0m\n\u001b[1;32m     25\u001b[0m \u001b[0;31m# U_final_1D = query_simulationOutput_multiple_from_sql(simulation_param_dict,model_param_dict,'U_final_1D', ssID=0,fetch=2)\u001b[0m\u001b[0;34m\u001b[0m\u001b[0;34m\u001b[0m\u001b[0;34m\u001b[0m\u001b[0m\n\u001b[0;32m---> 26\u001b[0;31m \u001b[0mU_final_1D\u001b[0m \u001b[0;34m=\u001b[0m \u001b[0mquery_simulationOutput_multiple_from_sql\u001b[0m\u001b[0;34m(\u001b[0m\u001b[0msimulation_param_dict\u001b[0m\u001b[0;34m,\u001b[0m\u001b[0mmodel_param_dict\u001b[0m\u001b[0;34m,\u001b[0m\u001b[0;34m'U_record_1D'\u001b[0m\u001b[0;34m,\u001b[0m \u001b[0mssID\u001b[0m\u001b[0;34m=\u001b[0m\u001b[0;36m0\u001b[0m\u001b[0;34m,\u001b[0m\u001b[0mfetch\u001b[0m\u001b[0;34m=\u001b[0m\u001b[0;36m2\u001b[0m\u001b[0;34m)\u001b[0m\u001b[0;34m\u001b[0m\u001b[0;34m\u001b[0m\u001b[0m\n\u001b[0m",
      "\u001b[0;31mTypeError\u001b[0m: query_simulationOutput_multiple_from_sql() got an unexpected keyword argument 'fetch'"
     ]
    }
   ],
   "source": [
    "L=50; dx =0.1; J = int(L/dx)\n",
    "T =2000; dt = 0.02; N = int(T/dt)\n",
    "boundaryCoeff=1;rate=L/T\n",
    "suggesteddt = float(dx*dx*2)\n",
    "mechanism = 'nogrowth'\n",
    "simulation_param_dict = {'L':L, 'dx':dx, 'J':J, 'T':T, 'dt':dt, 'N':N, \n",
    "            'boundaryCoeff':boundaryCoeff, \n",
    "            'mechanism':mechanism, 'growth_rate': rate}\n",
    "print(simulation_param_dict.keys(), simulation_param_dict.values())\n",
    "parID = 2951771\n",
    "circuit_n='turinghill'\n",
    "variant= '11'\n",
    "n_samples=1000000\n",
    "ssID = 0\n",
    "folder = f'{circuit_n}_variant{variant}'\n",
    "model_param_dict = {'parID':parID, 'circuit_n':circuit_n,'variant':variant, 'n_samples':n_samples}\n",
    "\n",
    "\n",
    "\n",
    "# U_final_1D = query_simulationOutput_multiple_from_sql(simulation_param_dict,model_param_dict,'U_final_1D', ssID=0,fetch=2)\n",
    "U_final_1D = query_simulationOutput_multiple_from_sql(simulation_param_dict,model_param_dict,'U_record_1D', ssID=0,fetch=2)"
   ]
  },
  {
   "cell_type": "code",
   "execution_count": 16,
   "metadata": {},
   "outputs": [
    {
     "name": "stdout",
     "output_type": "stream",
     "text": [
      "dict_keys(['L', 'dx', 'J', 'T', 'dt', 'N', 'boundaryCoeff', 'mechanism', 'growth_rate']) dict_values([50, 0.1, 500, 2000, 0.02, 100000, 1, 'nogrowth', 0.025])\n",
      "simulation_param_uuid:('f557b922-67b0-4d93-aad1-4a6c362240c9',)\n"
     ]
    }
   ],
   "source": [
    "L=50; dx =0.1; J = int(L/dx)\n",
    "T =2000; dt = 0.02; N = int(T/dt)\n",
    "boundaryCoeff=1;rate=L/T\n",
    "suggesteddt = float(dx*dx*2)\n",
    "mechanism = 'nogrowth'\n",
    "simulation_param_dict = {'L':L, 'dx':dx, 'J':J, 'T':T, 'dt':dt, 'N':N, \n",
    "            'boundaryCoeff':boundaryCoeff, \n",
    "            'mechanism':mechanism, 'growth_rate': rate}\n",
    "print(simulation_param_dict.keys(), simulation_param_dict.values())\n",
    "parID = 2951771\n",
    "circuit_n='turinghill'\n",
    "variant= '11'\n",
    "n_samples=1000000\n",
    "ssID = 0\n",
    "folder = f'{circuit_n}_variant{variant}'\n",
    "model_param_dict = {'parID':parID, 'circuit_n':circuit_n,'variant':variant, 'n_samples':n_samples}\n",
    "\n",
    "\n",
    "\n",
    "# U_final_1D = query_simulationOutput_multiple_from_sql(simulation_param_dict,model_param_dict,'U_final_1D', ssID=0,fetch=2)\n",
    "U_final_1D = query_simulationOutput_multiple_from_sql(simulation_param_dict,model_param_dict,'U_record_1D', ssID=0)"
   ]
  },
  {
   "cell_type": "code",
   "execution_count": 17,
   "metadata": {},
   "outputs": [
    {
     "ename": "NameError",
     "evalue": "name 'simulationOutput' is not defined",
     "output_type": "error",
     "traceback": [
      "\u001b[0;31m---------------------------------------------------------------------------\u001b[0m",
      "\u001b[0;31mNameError\u001b[0m                                 Traceback (most recent call last)",
      "\u001b[0;32m~/Documents/modelling/growth/src/database_scripts/insert_simulation_param.py\u001b[0m in \u001b[0;36m<module>\u001b[0;34m\u001b[0m\n\u001b[0;32m----> 1\u001b[0;31m \u001b[0mplot1D\u001b[0m\u001b[0;34m(\u001b[0m\u001b[0msimulationOutput\u001b[0m\u001b[0;34m,\u001b[0m \u001b[0msavefig\u001b[0m\u001b[0;34m=\u001b[0m\u001b[0;32mFalse\u001b[0m\u001b[0;34m,\u001b[0m\u001b[0mfilename\u001b[0m\u001b[0;34m=\u001b[0m\u001b[0;34m''\u001b[0m\u001b[0;34m)\u001b[0m\u001b[0;34m\u001b[0m\u001b[0;34m\u001b[0m\u001b[0m\n\u001b[0m",
      "\u001b[0;31mNameError\u001b[0m: name 'simulationOutput' is not defined"
     ]
    }
   ],
   "source": [
    "plot1D(simulationOutput, savefig=False,filename='')\n"
   ]
  },
  {
   "cell_type": "code",
   "execution_count": 18,
   "metadata": {},
   "outputs": [
    {
     "ename": "NameError",
     "evalue": "name 'query_simulationOutput_from_sql' is not defined",
     "output_type": "error",
     "traceback": [
      "\u001b[0;31m---------------------------------------------------------------------------\u001b[0m",
      "\u001b[0;31mNameError\u001b[0m                                 Traceback (most recent call last)",
      "\u001b[0;32m~/Documents/modelling/growth/src/database_scripts/insert_simulation_param.py\u001b[0m in \u001b[0;36m<module>\u001b[0;34m\u001b[0m\n\u001b[0;32m----> 1\u001b[0;31m \u001b[0msimulationOutput\u001b[0m \u001b[0;34m=\u001b[0m \u001b[0mquery_simulationOutput_from_sql\u001b[0m\u001b[0;34m(\u001b[0m\u001b[0msimulation_param_dict\u001b[0m\u001b[0;34m,\u001b[0m\u001b[0mmodel_param_dict\u001b[0m\u001b[0;34m,\u001b[0m\u001b[0;34m'U_final_1D'\u001b[0m\u001b[0;34m,\u001b[0m \u001b[0mssID\u001b[0m\u001b[0;34m=\u001b[0m\u001b[0;36m0\u001b[0m\u001b[0;34m)\u001b[0m\u001b[0;34m\u001b[0m\u001b[0;34m\u001b[0m\u001b[0m\n\u001b[0m",
      "\u001b[0;31mNameError\u001b[0m: name 'query_simulationOutput_from_sql' is not defined"
     ]
    }
   ],
   "source": [
    "simulationOutput = query_simulationOutput_from_sql(simulation_param_dict,model_param_dict,'U_final_1D', ssID=0)\n"
   ]
  },
  {
   "cell_type": "code",
   "execution_count": 19,
   "metadata": {},
   "outputs": [
    {
     "ename": "NameError",
     "evalue": "name 'query_simulationOutput_from_sql' is not defined",
     "output_type": "error",
     "traceback": [
      "\u001b[0;31m---------------------------------------------------------------------------\u001b[0m",
      "\u001b[0;31mNameError\u001b[0m                                 Traceback (most recent call last)",
      "\u001b[0;32m~/Documents/modelling/growth/src/database_scripts/insert_simulation_param.py\u001b[0m in \u001b[0;36m<module>\u001b[0;34m\u001b[0m\n\u001b[1;32m     36\u001b[0m \u001b[0mfolder\u001b[0m \u001b[0;34m=\u001b[0m \u001b[0;34mf'{circuit_n}_variant{variant}'\u001b[0m\u001b[0;34m\u001b[0m\u001b[0;34m\u001b[0m\u001b[0m\n\u001b[1;32m     37\u001b[0m \u001b[0mmodel_param_dict\u001b[0m \u001b[0;34m=\u001b[0m \u001b[0;34m{\u001b[0m\u001b[0;34m'parID'\u001b[0m\u001b[0;34m:\u001b[0m\u001b[0mparID\u001b[0m\u001b[0;34m,\u001b[0m \u001b[0;34m'circuit_n'\u001b[0m\u001b[0;34m:\u001b[0m\u001b[0mcircuit_n\u001b[0m\u001b[0;34m,\u001b[0m\u001b[0;34m'variant'\u001b[0m\u001b[0;34m:\u001b[0m\u001b[0mvariant\u001b[0m\u001b[0;34m,\u001b[0m \u001b[0;34m'n_samples'\u001b[0m\u001b[0;34m:\u001b[0m\u001b[0mn_samples\u001b[0m\u001b[0;34m}\u001b[0m\u001b[0;34m\u001b[0m\u001b[0;34m\u001b[0m\u001b[0m\n\u001b[0;32m---> 38\u001b[0;31m \u001b[0msimulationOutput\u001b[0m \u001b[0;34m=\u001b[0m \u001b[0mquery_simulationOutput_from_sql\u001b[0m\u001b[0;34m(\u001b[0m\u001b[0msimulation_param_dict\u001b[0m\u001b[0;34m,\u001b[0m\u001b[0mmodel_param_dict\u001b[0m\u001b[0;34m,\u001b[0m\u001b[0;34m'U_final_1D'\u001b[0m\u001b[0;34m,\u001b[0m \u001b[0mssID\u001b[0m\u001b[0;34m=\u001b[0m\u001b[0;36m0\u001b[0m\u001b[0;34m)\u001b[0m\u001b[0;34m\u001b[0m\u001b[0;34m\u001b[0m\u001b[0m\n\u001b[0m\u001b[1;32m     39\u001b[0m \u001b[0mplot1D\u001b[0m\u001b[0;34m(\u001b[0m\u001b[0msimulationOutput\u001b[0m\u001b[0;34m,\u001b[0m \u001b[0msavefig\u001b[0m\u001b[0;34m=\u001b[0m\u001b[0;32mFalse\u001b[0m\u001b[0;34m,\u001b[0m\u001b[0mfilename\u001b[0m\u001b[0;34m=\u001b[0m\u001b[0;34m''\u001b[0m\u001b[0;34m)\u001b[0m\u001b[0;34m\u001b[0m\u001b[0;34m\u001b[0m\u001b[0m\n\u001b[1;32m     40\u001b[0m \u001b[0;31m# %%\u001b[0m\u001b[0;34m\u001b[0m\u001b[0;34m\u001b[0m\u001b[0;34m\u001b[0m\u001b[0m\n",
      "\u001b[0;31mNameError\u001b[0m: name 'query_simulationOutput_from_sql' is not defined"
     ]
    }
   ],
   "source": [
    "import sys\n",
    "import os\n",
    "pwd = os.getcwd()\n",
    "modellingpath = pwd.rpartition(\"modelling\")[0] + pwd.rpartition(\"modelling\")[1] \n",
    "sys.path.append(modellingpath + '/lib')\n",
    "from database.databaseFunctions import *\n",
    "import pickle\n",
    "#############\n",
    "#############\n",
    "###paths#####\n",
    "#############\n",
    "\n",
    "import sys\n",
    "import os\n",
    "import pickle\n",
    "import psycopg2\n",
    "import matplotlib.pyplot as plt\n",
    "from numerical.cn_plot import plot1D, surfpattern\n",
    "from database.databaseFunctions import *\n",
    "#%%\n",
    "\n",
    "L=50; dx =0.1; J = int(L/dx)\n",
    "T =2000; dt = 0.02; N = int(T/dt)\n",
    "boundaryCoeff=1;rate=L/T\n",
    "suggesteddt = float(dx*dx*2)\n",
    "growth = 'edgegrowth2'\n",
    "simulation_param_dict = {'L':L, 'dx':dx, 'J':J, 'T':T, 'dt':dt, 'N':N, \n",
    "            'boundaryCoeff':boundaryCoeff, \n",
    "            'mechanism':growth, 'growth_rate': rate}\n",
    "\n",
    "parID = 2951771\n",
    "circuit_n='turinghill'\n",
    "variant= '11'\n",
    "n_samples=1000000\n",
    "ssID = 0\n",
    "folder = f'{circuit_n}_variant{variant}'\n",
    "model_param_dict = {'parID':parID, 'circuit_n':circuit_n,'variant':variant, 'n_samples':n_samples}\n",
    "simulationOutput = query_simulationOutput_from_sql(simulation_param_dict,model_param_dict,'U_final_1D', ssID=0)\n",
    "plot1D(simulationOutput, savefig=False,filename='')\n",
    "# %%"
   ]
  },
  {
   "cell_type": "code",
   "execution_count": 20,
   "metadata": {},
   "outputs": [
    {
     "ename": "NameError",
     "evalue": "name 'simulationOutput' is not defined",
     "output_type": "error",
     "traceback": [
      "\u001b[0;31m---------------------------------------------------------------------------\u001b[0m",
      "\u001b[0;31mNameError\u001b[0m                                 Traceback (most recent call last)",
      "\u001b[0;32m~/Documents/modelling/growth/src/database_scripts/insert_simulation_param.py\u001b[0m in \u001b[0;36m<module>\u001b[0;34m\u001b[0m\n\u001b[0;32m----> 1\u001b[0;31m \u001b[0mplot1D\u001b[0m\u001b[0;34m(\u001b[0m\u001b[0msimulationOutput\u001b[0m\u001b[0;34m,\u001b[0m \u001b[0msavefig\u001b[0m\u001b[0;34m=\u001b[0m\u001b[0;32mFalse\u001b[0m\u001b[0;34m,\u001b[0m\u001b[0mfilename\u001b[0m\u001b[0;34m=\u001b[0m\u001b[0;34m''\u001b[0m\u001b[0;34m)\u001b[0m\u001b[0;34m\u001b[0m\u001b[0;34m\u001b[0m\u001b[0m\n\u001b[0m",
      "\u001b[0;31mNameError\u001b[0m: name 'simulationOutput' is not defined"
     ]
    }
   ],
   "source": [
    "plot1D(simulationOutput, savefig=False,filename='')\n"
   ]
  },
  {
   "cell_type": "code",
   "execution_count": 21,
   "metadata": {},
   "outputs": [
    {
     "ename": "TypeError",
     "evalue": "'psycopg2.extensions.cursor' object is not subscriptable",
     "output_type": "error",
     "traceback": [
      "\u001b[0;31m---------------------------------------------------------------------------\u001b[0m",
      "\u001b[0;31mTypeError\u001b[0m                                 Traceback (most recent call last)",
      "\u001b[0;32m~/Documents/modelling/growth/src/database_scripts/insert_simulation_param.py\u001b[0m in \u001b[0;36m<module>\u001b[0;34m\u001b[0m\n\u001b[0;32m----> 1\u001b[0;31m \u001b[0mplot1D\u001b[0m\u001b[0;34m(\u001b[0m\u001b[0mU_final_1D\u001b[0m\u001b[0;34m,\u001b[0m \u001b[0msavefig\u001b[0m\u001b[0;34m=\u001b[0m\u001b[0;32mFalse\u001b[0m\u001b[0;34m,\u001b[0m\u001b[0mfilename\u001b[0m\u001b[0;34m=\u001b[0m\u001b[0;34m''\u001b[0m\u001b[0;34m)\u001b[0m\u001b[0;34m\u001b[0m\u001b[0;34m\u001b[0m\u001b[0m\n\u001b[0m",
      "\u001b[0;32m~/Documents/modelling/lib/numerical/cn_plot.py\u001b[0m in \u001b[0;36mplot1D\u001b[0;34m(U, morphogen, savefig, filename, savefigpath, pad, round, plotPeaks, peaks)\u001b[0m\n\u001b[1;32m     17\u001b[0m     \u001b[0;32mif\u001b[0m \u001b[0mmorphogen\u001b[0m \u001b[0;34m==\u001b[0m \u001b[0;34m'both'\u001b[0m\u001b[0;34m:\u001b[0m\u001b[0;34m\u001b[0m\u001b[0;34m\u001b[0m\u001b[0m\n\u001b[1;32m     18\u001b[0m         \u001b[0mfig\u001b[0m\u001b[0;34m,\u001b[0m\u001b[0max\u001b[0m \u001b[0;34m=\u001b[0m \u001b[0mplt\u001b[0m\u001b[0;34m.\u001b[0m\u001b[0msubplots\u001b[0m\u001b[0;34m(\u001b[0m\u001b[0;34m)\u001b[0m\u001b[0;34m\u001b[0m\u001b[0;34m\u001b[0m\u001b[0m\n\u001b[0;32m---> 19\u001b[0;31m         \u001b[0max\u001b[0m\u001b[0;34m.\u001b[0m\u001b[0mplot\u001b[0m\u001b[0;34m(\u001b[0m\u001b[0mU\u001b[0m\u001b[0;34m[\u001b[0m\u001b[0;36m0\u001b[0m\u001b[0;34m]\u001b[0m\u001b[0;34m,\u001b[0m \u001b[0mlabel\u001b[0m\u001b[0;34m=\u001b[0m\u001b[0;34m'U'\u001b[0m\u001b[0;34m,\u001b[0m \u001b[0mcolor\u001b[0m\u001b[0;34m=\u001b[0m\u001b[0;34m'blue'\u001b[0m\u001b[0;34m)\u001b[0m\u001b[0;34m\u001b[0m\u001b[0;34m\u001b[0m\u001b[0m\n\u001b[0m\u001b[1;32m     20\u001b[0m         \u001b[0max\u001b[0m\u001b[0;34m.\u001b[0m\u001b[0mset_ylim\u001b[0m\u001b[0;34m(\u001b[0m\u001b[0mnp\u001b[0m\u001b[0;34m.\u001b[0m\u001b[0mamin\u001b[0m\u001b[0;34m(\u001b[0m\u001b[0mU\u001b[0m\u001b[0;34m[\u001b[0m\u001b[0;36m0\u001b[0m\u001b[0;34m]\u001b[0m\u001b[0;34m)\u001b[0m\u001b[0;34m-\u001b[0m\u001b[0mpad\u001b[0m\u001b[0;34m,\u001b[0m \u001b[0mnp\u001b[0m\u001b[0;34m.\u001b[0m\u001b[0mamax\u001b[0m\u001b[0;34m(\u001b[0m\u001b[0mU\u001b[0m\u001b[0;34m[\u001b[0m\u001b[0;36m0\u001b[0m\u001b[0;34m]\u001b[0m\u001b[0;34m)\u001b[0m\u001b[0;34m+\u001b[0m\u001b[0mpad\u001b[0m\u001b[0;34m)\u001b[0m\u001b[0;34m\u001b[0m\u001b[0;34m\u001b[0m\u001b[0m\n\u001b[1;32m     21\u001b[0m         \u001b[0max\u001b[0m\u001b[0;34m.\u001b[0m\u001b[0mlegend\u001b[0m\u001b[0;34m(\u001b[0m\u001b[0mloc\u001b[0m\u001b[0;34m=\u001b[0m\u001b[0;36m2\u001b[0m\u001b[0;34m)\u001b[0m \u001b[0;31m#upper left\u001b[0m\u001b[0;34m\u001b[0m\u001b[0;34m\u001b[0m\u001b[0m\n",
      "\u001b[0;31mTypeError\u001b[0m: 'psycopg2.extensions.cursor' object is not subscriptable"
     ]
    },
    {
     "data": {
      "image/png": "[encoded data removed]",
      "text/plain": [
       "<Figure size 432x288 with 1 Axes>"
      ]
     },
     "metadata": {
      "needs_background": "light"
     },
     "output_type": "display_data"
    }
   ],
   "source": [
    "plot1D(U_final_1D, savefig=False,filename='')\n"
   ]
  },
  {
   "cell_type": "code",
   "execution_count": 22,
   "metadata": {},
   "outputs": [
    {
     "data": {
      "text/plain": [
       "<cursor object at 0x1513d73139a0; closed: 0>"
      ]
     },
     "execution_count": 22,
     "metadata": {},
     "output_type": "execute_result"
    }
   ],
   "source": [
    "U_final_1D"
   ]
  },
  {
   "cell_type": "code",
   "execution_count": null,
   "metadata": {},
   "outputs": [],
   "source": [
    "U_final_1D.fetchall()"
   ]
  }
 ],
 "metadata": {
  "kernelspec": {
   "display_name": "env1",
   "language": "python",
   "name": "python3"
  },
  "language_info": {
   "codemirror_mode": {
    "name": "ipython",
    "version": 3
   },
   "file_extension": ".py",
   "mimetype": "text/x-python",
   "name": "python",
   "nbconvert_exporter": "python",
   "pygments_lexer": "ipython3",
   "version": "3.8.5"
  }
 },
 "nbformat": 4,
 "nbformat_minor": 2
}
